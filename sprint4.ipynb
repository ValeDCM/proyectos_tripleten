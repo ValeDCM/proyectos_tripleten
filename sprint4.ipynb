{
 "cells": [
  {
   "cell_type": "markdown",
   "id": "9a2efc5f",
   "metadata": {},
   "source": [
    "# Hola &#x1F600;,\n",
    "\n",
    "Soy **Hesus Garcia** – **\"Soy el único Hesus que conoces (y probablemente conocerás) 🌟\"** – Sí, como \"Jesús\", pero con una H que me hace único. Puede sonar raro, pero créeme, ¡no lo olvidarás! Como tu revisor en Triple-Ten, estoy aquí para guiarte y ayudarte a mejorar tu código. Si algo necesita un ajuste, no hay de qué preocuparse; ¡aquí estoy para hacer que tu trabajo brille con todo su potencial! ✨\n",
    "\n",
    "Cada vez que encuentre un detalle importante en tu código, te lo señalaré para que puedas corregirlo y así te prepares para un ambiente de trabajo real, donde el líder de tu equipo actuaría de manera similar. Si en algún momento no logras solucionar el problema, te daré más detalles para ayudarte en nuestra próxima oportunidad de revisión.\n",
    "\n",
    "Es importante que cuando encuentres un comentario, **no los muevas, no los modifiques, ni los borres**.\n",
    "\n",
    "---\n",
    "\n",
    "### Formato de Comentarios\n",
    "\n",
    "Revisaré cuidadosamente cada implementación en tu notebook para asegurar que cumpla con los requisitos y te daré comentarios de acuerdo al siguiente formato:\n",
    "\n",
    "\n",
    "<div class=\"alert alert-block alert-success\">\n",
    "<b>Comentario del revisor</b> <a class=\"tocSkip\"></a><br>\n",
    "    \n",
    "<b>Éxito</b> - ¡Excelente trabajo! Esta parte está bien implementada y contribuye significativamente al análisis de datos o al proyecto. Continúa aplicando estas buenas prácticas en futuras secciones.\n",
    "    \n",
    "</div>\n",
    "\n",
    "<div class=\"alert alert-block alert-warning\">\n",
    "<b>Comentario del revisor</b> <a class=\"tocSkip\"></a><br>\n",
    "    \n",
    "<b>Atención</b> ⚠️ - Este código está correcto, pero se puede optimizar. Considera implementar mejoras para que sea más eficiente y fácil de leer. Esto fortalecerá la calidad de tu proyecto.\n",
    "    \n",
    "</div>\n",
    "\n",
    "<div class=\"alert alert-block alert-danger\">\n",
    "<b>Comentario del revisor</b> <a class=\"tocSkip\"></a><br>\n",
    "    \n",
    "<b>A resolver</b> ❗ - Aquí hay un problema o error en el código que es necesario corregir para aprobar esta sección. Por favor, revisa y corrige este punto, ya que es fundamental para la validez del análisis y la precisión de los resultados.\n",
    "    \n",
    "</div>\n",
    "\n",
    "---\n",
    "\n",
    "Al final de cada revisión, recibirás un **Comentario General del Revisor** que incluirá:\n",
    "\n",
    "- **Aspectos positivos:** Un resumen de los puntos fuertes de tu proyecto.\n",
    "- **Áreas de mejora:** Sugerencias sobre aspectos donde puedes mejorar.\n",
    "- **Temas adicionales para investigar:** Ideas de temas opcionales que puedes explorar por tu cuenta para desarrollar aún más tus habilidades.\n",
    "\n",
    "Estos temas adicionales no son obligatorios en esta etapa, pero pueden serte útiles para profundizar en el futuro.\n",
    "\n",
    "---\n",
    "\n",
    "\n",
    "Esta estructura en viñetas facilita la lectura y comprensión de cada parte del comentario final.\n",
    "\n",
    "También puedes responderme de la siguiente manera si tienes alguna duda o quieres aclarar algo específico:\n",
    "\n",
    "\n",
    "<div class=\"alert alert-block alert-info\">\n",
    "<b>Respuesta del estudiante</b> <a class=\"tocSkip\"></a>\n",
    "    \n",
    "Aquí puedes escribir tu respuesta o pregunta sobre el comentario.\n",
    "    \n",
    "</div>\n",
    "\n",
    "\n",
    "**¡Empecemos!** &#x1F680;\n"
   ]
  },
  {
   "cell_type": "markdown",
   "id": "3Xg_RQfnafXz",
   "metadata": {
    "id": "3Xg_RQfnafXz"
   },
   "source": [
    "# ¡Llena ese carrito!"
   ]
  },
  {
   "cell_type": "markdown",
   "id": "mhIvmmkW414q",
   "metadata": {
    "id": "mhIvmmkW414q"
   },
   "source": [
    "# Introducción\n",
    "\n",
    "Instacart es una plataforma de entregas de comestibles donde la clientela puede registrar un pedido y hacer que se lo entreguen, similar a Uber Eats y Door Dash.\n",
    "El conjunto de datos que te hemos proporcionado tiene modificaciones del original. Redujimos el tamaño del conjunto para que tus cálculos se hicieran más rápido e introdujimos valores ausentes y duplicados. Tuvimos cuidado de conservar las distribuciones de los datos originales cuando hicimos los cambios.\n",
    "\n",
    "Debes completar tres pasos. Para cada uno de ellos, escribe una breve introducción que refleje con claridad cómo pretendes resolver cada paso, y escribe párrafos explicatorios que justifiquen tus decisiones al tiempo que avanzas en tu solución.  También escribe una conclusión que resuma tus hallazgos y elecciones.\n"
   ]
  },
  {
   "cell_type": "markdown",
   "id": "3MbyzpOQZ5Or",
   "metadata": {
    "id": "3MbyzpOQZ5Or"
   },
   "source": [
    "## Diccionario de datos\n",
    "\n",
    "Hay cinco tablas en el conjunto de datos, y tendrás que usarlas todas para hacer el preprocesamiento de datos y el análisis exploratorio de datos. A continuación se muestra un diccionario de datos que enumera las columnas de cada tabla y describe los datos que contienen.\n",
    "\n",
    "- `instacart_orders.csv`: cada fila corresponde a un pedido en la aplicación Instacart.\n",
    "    - `'order_id'`: número de ID que identifica de manera única cada pedido.\n",
    "    - `'user_id'`: número de ID que identifica de manera única la cuenta de cada cliente.\n",
    "    - `'order_number'`: el número de veces que este cliente ha hecho un pedido.\n",
    "    - `'order_dow'`: día de la semana en que se hizo el pedido (0 si es domingo).\n",
    "    - `'order_hour_of_day'`: hora del día en que se hizo el pedido.\n",
    "    - `'days_since_prior_order'`: número de días transcurridos desde que este cliente hizo su pedido anterior.\n",
    "- `products.csv`: cada fila corresponde a un producto único que pueden comprar los clientes.\n",
    "    - `'product_id'`: número ID que identifica de manera única cada producto.\n",
    "    - `'product_name'`: nombre del producto.\n",
    "    - `'aisle_id'`: número ID que identifica de manera única cada categoría de pasillo de víveres.\n",
    "    - `'department_id'`: número ID que identifica de manera única cada departamento de víveres.\n",
    "- `order_products.csv`: cada fila corresponde a un artículo pedido en un pedido.\n",
    "    - `'order_id'`: número de ID que identifica de manera única cada pedido.\n",
    "    - `'product_id'`: número ID que identifica de manera única cada producto.\n",
    "    - `'add_to_cart_order'`: el orden secuencial en el que se añadió cada artículo en el carrito.\n",
    "    - `'reordered'`: 0 si el cliente nunca ha pedido este producto antes, 1 si lo ha pedido.\n",
    "- `aisles.csv`\n",
    "    - `'aisle_id'`: número ID que identifica de manera única cada categoría de pasillo de víveres.\n",
    "    - `'aisle'`: nombre del pasillo.\n",
    "- `departments.csv`\n",
    "    - `'department_id'`: número ID que identifica de manera única cada departamento de víveres.\n",
    "    - `'department'`: nombre del departamento."
   ]
  },
  {
   "cell_type": "markdown",
   "id": "n3Ha_cNSZ8lK",
   "metadata": {
    "id": "n3Ha_cNSZ8lK"
   },
   "source": [
    "# Paso 1. Descripción de los datos\n",
    "\n",
    "Lee los archivos de datos (`/datasets/instacart_orders.csv`, `/datasets/products.csv`, `/datasets/aisles.csv`, `/datasets/departments.csv` y `/datasets/order_products.csv`) con `pd.read_csv()` usando los parámetros adecuados para leer los datos correctamente. Verifica la información para cada DataFrame creado.\n"
   ]
  },
  {
   "cell_type": "markdown",
   "id": "OmlQPLlyaAfR",
   "metadata": {
    "id": "OmlQPLlyaAfR"
   },
   "source": [
    "## Plan de solución\n",
    "\n",
    "Escribe aquí tu plan de solución para el Paso 1. Descripción de los datos. El objetivo es leer y comprender la estructura de los archivos de datos proporcionados."
   ]
  },
  {
   "cell_type": "code",
   "execution_count": 213,
   "id": "fbf1adab",
   "metadata": {
    "id": "fbf1adab"
   },
   "outputs": [],
   "source": [
    "import pandas as pd\n",
    "# importar librerías"
   ]
  },
  {
   "cell_type": "code",
   "execution_count": 214,
   "id": "ad36396d",
   "metadata": {
    "id": "ad36396d"
   },
   "outputs": [],
   "source": [
    "df_orders = pd.read_csv('/datasets/instacart_orders.csv', sep=';')\n",
    "df_products = pd.read_csv('/datasets/products.csv', sep=';')\n",
    "df_aisles = pd.read_csv('/datasets/aisles.csv', sep=';')\n",
    "df_departments = pd.read_csv('/datasets/departments.csv', sep=';')\n",
    "df_order_products = pd.read_csv('/datasets/order_products.csv', sep=';')\n",
    "\n",
    "\n",
    "# leer conjuntos de datos en los DataFrames"
   ]
  },
  {
   "cell_type": "code",
   "execution_count": 215,
   "id": "ad6a1efa",
   "metadata": {
    "id": "ad6a1efa"
   },
   "outputs": [
    {
     "name": "stdout",
     "output_type": "stream",
     "text": [
      "<class 'pandas.core.frame.DataFrame'>\n",
      "RangeIndex: 478967 entries, 0 to 478966\n",
      "Data columns (total 6 columns):\n",
      " #   Column                  Non-Null Count   Dtype  \n",
      "---  ------                  --------------   -----  \n",
      " 0   order_id                478967 non-null  int64  \n",
      " 1   user_id                 478967 non-null  int64  \n",
      " 2   order_number            478967 non-null  int64  \n",
      " 3   order_dow               478967 non-null  int64  \n",
      " 4   order_hour_of_day       478967 non-null  int64  \n",
      " 5   days_since_prior_order  450148 non-null  float64\n",
      "dtypes: float64(1), int64(5)\n",
      "memory usage: 21.9 MB\n"
     ]
    }
   ],
   "source": [
    "\n",
    "df_orders = pd.read_csv('/datasets/instacart_orders.csv', sep=';')\n",
    "df_orders.info()\n",
    "\n",
    "# mostrar información del DataFrame"
   ]
  },
  {
   "cell_type": "code",
   "execution_count": 216,
   "id": "5130e05e",
   "metadata": {
    "id": "5130e05e"
   },
   "outputs": [
    {
     "name": "stdout",
     "output_type": "stream",
     "text": [
      "<class 'pandas.core.frame.DataFrame'>\n",
      "RangeIndex: 49694 entries, 0 to 49693\n",
      "Data columns (total 4 columns):\n",
      " #   Column         Non-Null Count  Dtype \n",
      "---  ------         --------------  ----- \n",
      " 0   product_id     49694 non-null  int64 \n",
      " 1   product_name   48436 non-null  object\n",
      " 2   aisle_id       49694 non-null  int64 \n",
      " 3   department_id  49694 non-null  int64 \n",
      "dtypes: int64(3), object(1)\n",
      "memory usage: 1.5+ MB\n"
     ]
    }
   ],
   "source": [
    "\n",
    "df_products = pd.read_csv('/datasets/products.csv', sep=';')\n",
    "df_products.info()\n",
    "# mostrar información del DataFrame"
   ]
  },
  {
   "cell_type": "code",
   "execution_count": 217,
   "id": "d8370c05",
   "metadata": {
    "id": "d8370c05"
   },
   "outputs": [
    {
     "name": "stdout",
     "output_type": "stream",
     "text": [
      "<class 'pandas.core.frame.DataFrame'>\n",
      "RangeIndex: 134 entries, 0 to 133\n",
      "Data columns (total 2 columns):\n",
      " #   Column    Non-Null Count  Dtype \n",
      "---  ------    --------------  ----- \n",
      " 0   aisle_id  134 non-null    int64 \n",
      " 1   aisle     134 non-null    object\n",
      "dtypes: int64(1), object(1)\n",
      "memory usage: 2.2+ KB\n"
     ]
    }
   ],
   "source": [
    "\n",
    "df_aisles = pd.read_csv('/datasets/aisles.csv', sep=';')\n",
    "df_aisles.info()\n",
    "\n",
    "# mostrar información del DataFrame"
   ]
  },
  {
   "cell_type": "code",
   "execution_count": 218,
   "id": "59e2090f",
   "metadata": {
    "id": "59e2090f"
   },
   "outputs": [
    {
     "name": "stdout",
     "output_type": "stream",
     "text": [
      "<class 'pandas.core.frame.DataFrame'>\n",
      "RangeIndex: 21 entries, 0 to 20\n",
      "Data columns (total 2 columns):\n",
      " #   Column         Non-Null Count  Dtype \n",
      "---  ------         --------------  ----- \n",
      " 0   department_id  21 non-null     int64 \n",
      " 1   department     21 non-null     object\n",
      "dtypes: int64(1), object(1)\n",
      "memory usage: 464.0+ bytes\n"
     ]
    }
   ],
   "source": [
    "\n",
    "df_departments = pd.read_csv('/datasets/departments.csv', sep=';')\n",
    "df_departments.info()\n",
    "# mostrar información del DataFrame"
   ]
  },
  {
   "cell_type": "code",
   "execution_count": 219,
   "id": "6fc81694",
   "metadata": {
    "id": "6fc81694"
   },
   "outputs": [
    {
     "name": "stdout",
     "output_type": "stream",
     "text": [
      "<class 'pandas.core.frame.DataFrame'>\n",
      "RangeIndex: 4545007 entries, 0 to 4545006\n",
      "Data columns (total 4 columns):\n",
      " #   Column             Non-Null Count    Dtype  \n",
      "---  ------             --------------    -----  \n",
      " 0   order_id           4545007 non-null  int64  \n",
      " 1   product_id         4545007 non-null  int64  \n",
      " 2   add_to_cart_order  4544171 non-null  float64\n",
      " 3   reordered          4545007 non-null  int64  \n",
      "dtypes: float64(1), int64(3)\n",
      "memory usage: 138.7 MB\n"
     ]
    }
   ],
   "source": [
    "\n",
    "df_order_products = pd.read_csv('/datasets/order_products.csv', sep=';')\n",
    "df_order_products.info(show_counts=True)\n",
    "# mostrar información del DataFrame"
   ]
  },
  {
   "cell_type": "markdown",
   "id": "t75BD19oaR5f",
   "metadata": {
    "id": "t75BD19oaR5f"
   },
   "source": [
    "## Conclusiones\n",
    "\n",
    "Escribe aquí tus conclusiones intermedias sobre el Paso 1. Los archivos han sido cargados correctamente. No hay valores nulos en algunas tablas como aisles, departments y products. Sin embargo, en instacart_orders y order_products podria haber valores nulos que necesitan revision. Las relaciones entre las tablas parecen estar bien definidas, ya que las claves primarias y foraneas estan presentes y con los tipos de datos adecuados. Algunas columnas requieren validaciones adicionales, como order_hour_of_day y days_since_prior_order, para confirmar que los valores son consistentes. Es necesario verificar la existencia de valores duplicados en orders, products y order_products, ya que podrian afectar el analisis posterior.\n"
   ]
  },
  {
   "cell_type": "markdown",
   "id": "eeb7f1a2",
   "metadata": {},
   "source": [
    "<div class=\"alert alert-block alert-success\">  \n",
    "<b>Comentario del revisor</b> <a class=\"tocSkip\"></a><br>  \n",
    "<b>Éxito</b> - ¡Excelente trabajo! La estructura de tu análisis es clara y bien organizada, lo que facilita la interpretación de los resultados. Continúa aplicando este enfoque en futuras secciones.  \n",
    "</div>"
   ]
  },
  {
   "cell_type": "markdown",
   "id": "8RJHqxVmaVsF",
   "metadata": {
    "id": "8RJHqxVmaVsF"
   },
   "source": [
    "# Paso 2. Preprocesamiento de los datos\n",
    "\n",
    "Preprocesa los datos de la siguiente manera:\n",
    "\n",
    "- Verifica y corrige los tipos de datos (por ejemplo, asegúrate de que las columnas de ID sean números enteros).\n",
    "- Identifica y completa los valores ausentes.\n",
    "- Identifica y elimina los valores duplicados.\n",
    "\n",
    "Asegúrate de explicar qué tipos de valores ausentes y duplicados encontraste, cómo los completaste o eliminaste y por qué usaste esos métodos. ¿Por qué crees que estos valores ausentes y duplicados pueden haber estado presentes en el conjunto de datos?"
   ]
  },
  {
   "cell_type": "markdown",
   "id": "p6poABZQaZYb",
   "metadata": {
    "id": "p6poABZQaZYb"
   },
   "source": [
    "## Plan de solución\n",
    "\n",
    "Escribe aquí tu plan para el Paso 2. Preprocesamiento de los datos.\n",
    "El objetivo de este paso es limpiar y preparar los datos para su posterior analisis. Verificacion y correccion de tipos de datos. Identificacion y tratamiento de valores ausentes.Identificacion y eliminacion de valores duplicados. Explicacion de las deciciones tomadas.\n",
    "\n",
    "\n"
   ]
  },
  {
   "cell_type": "markdown",
   "id": "07357848-dc64-4156-9cc3-01ff4365226d",
   "metadata": {
    "id": "07357848-dc64-4156-9cc3-01ff4365226d"
   },
   "source": [
    "## Encuentra y elimina los valores duplicados (y describe cómo tomaste tus decisiones)."
   ]
  },
  {
   "cell_type": "markdown",
   "id": "f179f0a9",
   "metadata": {
    "id": "f179f0a9"
   },
   "source": [
    "### `orders` data frame"
   ]
  },
  {
   "cell_type": "code",
   "execution_count": 220,
   "id": "b99297a5-405a-463d-8535-9adc3da4ad74",
   "metadata": {
    "id": "b99297a5-405a-463d-8535-9adc3da4ad74",
    "scrolled": true
   },
   "outputs": [
    {
     "name": "stdout",
     "output_type": "stream",
     "text": [
      "        order_id  user_id  order_number  order_dow  order_hour_of_day  \\\n",
      "30371    1918001   188546            14          3                  2   \n",
      "99462     794638    50898            24          3                  2   \n",
      "119251    408114    68324             4          3                  2   \n",
      "142258   2845099    31189            11          3                  2   \n",
      "145574    794638    50898            24          3                  2   \n",
      "164581   1112182   202304            84          3                  2   \n",
      "200059   1782114   106752             1          3                  2   \n",
      "204042   2125197    14050            48          3                  2   \n",
      "215294   2160484   107525            16          3                  2   \n",
      "223105   2160484   107525            16          3                  2   \n",
      "230807   1918001   188546            14          3                  2   \n",
      "242618   1021560    53767             3          3                  2   \n",
      "250626    467134    63189            21          3                  2   \n",
      "257934   1919531   191501            32          3                  2   \n",
      "259636   2282673    86751            49          3                  2   \n",
      "266232   1782114   106752             1          3                  2   \n",
      "273805   1112182   202304            84          3                  2   \n",
      "284038   2845099    31189            11          3                  2   \n",
      "311713   1021560    53767             3          3                  2   \n",
      "314427   1286742   183220            48          3                  2   \n",
      "321100    408114    68324             4          3                  2   \n",
      "323900   1919531   191501            32          3                  2   \n",
      "324868   2232988    82565             1          3                  2   \n",
      "345917   2232988    82565             1          3                  2   \n",
      "354993    391768    57671            19          3                  2   \n",
      "371905    391768    57671            19          3                  2   \n",
      "394347    467134    63189            21          3                  2   \n",
      "411408   1286742   183220            48          3                  2   \n",
      "415163   2282673    86751            49          3                  2   \n",
      "441599   2125197    14050            48          3                  2   \n",
      "\n",
      "        days_since_prior_order  \n",
      "30371                     16.0  \n",
      "99462                      2.0  \n",
      "119251                    18.0  \n",
      "142258                     7.0  \n",
      "145574                     2.0  \n",
      "164581                     6.0  \n",
      "200059                     NaN  \n",
      "204042                     3.0  \n",
      "215294                    30.0  \n",
      "223105                    30.0  \n",
      "230807                    16.0  \n",
      "242618                     9.0  \n",
      "250626                     2.0  \n",
      "257934                     7.0  \n",
      "259636                     2.0  \n",
      "266232                     NaN  \n",
      "273805                     6.0  \n",
      "284038                     7.0  \n",
      "311713                     9.0  \n",
      "314427                     4.0  \n",
      "321100                    18.0  \n",
      "323900                     7.0  \n",
      "324868                     NaN  \n",
      "345917                     NaN  \n",
      "354993                    10.0  \n",
      "371905                    10.0  \n",
      "394347                     2.0  \n",
      "411408                     4.0  \n",
      "415163                     2.0  \n",
      "441599                     3.0  \n"
     ]
    }
   ],
   "source": [
    "duplicate_orders = df_orders[df_orders.duplicated(keep=False)]\n",
    "print(duplicate_orders)\n",
    "# Revisa si hay pedidos duplicados\n"
   ]
  },
  {
   "cell_type": "markdown",
   "id": "PEkwUX_gvt5A",
   "metadata": {
    "id": "PEkwUX_gvt5A"
   },
   "source": [
    "¿Tienes líneas duplicadas? Si sí, ¿qué tienen en común? Si, hay lineas duplicadas que comparten valores identicos. order_id, user_id, order_number, order_dow y order_hour_of_day."
   ]
  },
  {
   "cell_type": "code",
   "execution_count": 221,
   "id": "0d44de5d",
   "metadata": {
    "id": "0d44de5d"
   },
   "outputs": [
    {
     "name": "stdout",
     "output_type": "stream",
     "text": [
      "        order_id  user_id  order_number  order_dow  order_hour_of_day  \\\n",
      "4838     2766110   162084            41          3                  2   \n",
      "5156     2190225   138285            18          3                  2   \n",
      "15506     553049    58599            13          3                  2   \n",
      "18420     382357   120200            19          3                  2   \n",
      "24691     690242    77357             2          3                  2   \n",
      "...          ...      ...           ...        ...                ...   \n",
      "457013   3384021    14881             6          3                  2   \n",
      "458816    910166   164782            18          3                  2   \n",
      "459635   1680532   106435             6          3                  2   \n",
      "468324    222962    54979            59          3                  2   \n",
      "477526   2592344    46860            38          3                  2   \n",
      "\n",
      "        days_since_prior_order  \n",
      "4838                      16.0  \n",
      "5156                      11.0  \n",
      "15506                      7.0  \n",
      "18420                     11.0  \n",
      "24691                      9.0  \n",
      "...                        ...  \n",
      "457013                    30.0  \n",
      "458816                     4.0  \n",
      "459635                    21.0  \n",
      "468324                     3.0  \n",
      "477526                     3.0  \n",
      "\n",
      "[121 rows x 6 columns]\n"
     ]
    }
   ],
   "source": [
    "# Basándote en tus hallazgos,\n",
    "\n",
    "pedidos_mirecoles_2am = df_orders[(df_orders['order_dow'] == 3) & (df_orders['order_hour_of_day'] == 2)]\n",
    "print(pedidos_mirecoles_2am)\n",
    "\n",
    "# Verifica todos los pedidos que se hicieron el miércoles a las 2:00 a.m.\n"
   ]
  },
  {
   "cell_type": "markdown",
   "id": "vu2OWyoqwOx5",
   "metadata": {
    "id": "vu2OWyoqwOx5"
   },
   "source": [
    "¿Qué sugiere este resultado? El resultado indica que hubieron 121 pedidos realizados un Miercoles a las 2AM. Tengo que visualizar tendencias, analizar usuarios especificos y comparar con otros horarios."
   ]
  },
  {
   "cell_type": "code",
   "execution_count": 222,
   "id": "480563c7",
   "metadata": {
    "id": "480563c7"
   },
   "outputs": [
    {
     "name": "stdout",
     "output_type": "stream",
     "text": [
      "        order_id  user_id  order_number  order_dow  order_hour_of_day  \\\n",
      "0        1515936   183418            11          6                 13   \n",
      "1        1690866   163593             5          5                 12   \n",
      "2        1454967    39980             4          5                 19   \n",
      "3        1768857    82516            56          0                 20   \n",
      "4        3007858   196724             2          4                 12   \n",
      "...          ...      ...           ...        ...                ...   \n",
      "478962   3210681     5617             5          1                 14   \n",
      "478963   3270802   112087             2          3                 13   \n",
      "478964    885349    82944            16          2                 11   \n",
      "478965    216274     4391             3          3                  8   \n",
      "478966   2071924     1730            18          1                 14   \n",
      "\n",
      "        days_since_prior_order  \n",
      "0                         30.0  \n",
      "1                          9.0  \n",
      "2                          2.0  \n",
      "3                         10.0  \n",
      "4                         17.0  \n",
      "...                        ...  \n",
      "478962                     7.0  \n",
      "478963                     6.0  \n",
      "478964                     6.0  \n",
      "478965                     8.0  \n",
      "478966                    15.0  \n",
      "\n",
      "[478952 rows x 6 columns]\n"
     ]
    }
   ],
   "source": [
    "df_orders_cleaned = df_orders.drop_duplicates(keep='first')\n",
    "print(df_orders_cleaned)\n",
    "#Elimina los pedidos duplicados\n",
    "\n",
    "\n"
   ]
  },
  {
   "cell_type": "code",
   "execution_count": 223,
   "id": "0b2396a2",
   "metadata": {
    "id": "0b2396a2"
   },
   "outputs": [
    {
     "name": "stdout",
     "output_type": "stream",
     "text": [
      "Empty DataFrame\n",
      "Columns: [order_id, user_id, order_number, order_dow, order_hour_of_day, days_since_prior_order]\n",
      "Index: []\n"
     ]
    }
   ],
   "source": [
    "duplicate_orders_cleaned = df_orders_cleaned[df_orders_cleaned.duplicated(keep=False)]\n",
    "print(duplicate_orders_cleaned)\n",
    "#Vuelve a verificar si hay filas duplicadas"
   ]
  },
  {
   "cell_type": "code",
   "execution_count": 224,
   "id": "f6113ef1",
   "metadata": {
    "id": "f6113ef1"
   },
   "outputs": [
    {
     "name": "stdout",
     "output_type": "stream",
     "text": [
      "Empty DataFrame\n",
      "Columns: [order_id, user_id, order_number, order_dow, order_hour_of_day, days_since_prior_order]\n",
      "Index: []\n"
     ]
    }
   ],
   "source": [
    "duplicate_order_id = df_orders_cleaned[df_orders_cleaned.duplicated(subset=[\"order_id\"], keep=False)]\n",
    "print(duplicate_order_id)\n",
    "# Vuelve a verificar únicamente si hay IDs duplicados de pedidos\n"
   ]
  },
  {
   "cell_type": "markdown",
   "id": "5e8905ae",
   "metadata": {
    "id": "5e8905ae"
   },
   "source": [
    "Describe brevemente tus hallazgos y lo que hiciste con ellos. detecte los pedidos duplicados. Identifique los pedidos realizados los miercoles a las 2 AM, encontre 121 registros. Elimine duplicados para eliminar filas repetidas. Verifique la limieza. Confimre los datos limpios."
   ]
  },
  {
   "cell_type": "markdown",
   "id": "45e6bc46",
   "metadata": {
    "id": "45e6bc46"
   },
   "source": [
    "### `products` data frame"
   ]
  },
  {
   "cell_type": "code",
   "execution_count": 225,
   "id": "5f526b5b-8175-46fa-a0fd-441767d50e64",
   "metadata": {
    "id": "5f526b5b-8175-46fa-a0fd-441767d50e64"
   },
   "outputs": [
    {
     "name": "stdout",
     "output_type": "stream",
     "text": [
      "Empty DataFrame\n",
      "Columns: [product_id, product_name, aisle_id, department_id]\n",
      "Index: []\n"
     ]
    }
   ],
   "source": [
    "duplicate_products = df_products[df_products.duplicated(keep=False)]\n",
    "print(duplicate_products)\n",
    "\n",
    "\n",
    "# Verifica si hay filas totalmente duplicadas\n"
   ]
  },
  {
   "cell_type": "code",
   "execution_count": 226,
   "id": "88daa4f4",
   "metadata": {
    "id": "88daa4f4"
   },
   "outputs": [
    {
     "name": "stdout",
     "output_type": "stream",
     "text": [
      "       product_id                                       product_name  \\\n",
      "0               1                         Chocolate Sandwich Cookies   \n",
      "1               2                                   All-Seasons Salt   \n",
      "2               3               Robust Golden Unsweetened Oolong Tea   \n",
      "3               4  Smart Ones Classic Favorites Mini Rigatoni Wit...   \n",
      "4               5                          Green Chile Anytime Sauce   \n",
      "...           ...                                                ...   \n",
      "49689       49690                      HIGH PERFORMANCE ENERGY DRINK   \n",
      "49690       49691                      ORIGINAL PANCAKE & WAFFLE MIX   \n",
      "49691       49692    ORGANIC INSTANT OATMEAL LIGHT MAPLE BROWN SUGAR   \n",
      "49692       49693                             SPRING WATER BODY WASH   \n",
      "49693       49694                            BURRITO- STEAK & CHEESE   \n",
      "\n",
      "       aisle_id  department_id  \n",
      "0            61             19  \n",
      "1           104             13  \n",
      "2            94              7  \n",
      "3            38              1  \n",
      "4             5             13  \n",
      "...         ...            ...  \n",
      "49689        64              7  \n",
      "49690       130             14  \n",
      "49691       130             14  \n",
      "49692       127             11  \n",
      "49693        38              1  \n",
      "\n",
      "[49694 rows x 4 columns]\n"
     ]
    }
   ],
   "source": [
    "duplicates_department_id = df_products[df_products.duplicated(subset=['department_id'], keep=False)]\n",
    "print(duplicates_department_id)\n",
    "\n",
    "# Revisa únicamente si hay ID de departamentos duplicados\n"
   ]
  },
  {
   "cell_type": "code",
   "execution_count": 227,
   "id": "c773f0bf",
   "metadata": {
    "id": "c773f0bf"
   },
   "outputs": [
    {
     "name": "stdout",
     "output_type": "stream",
     "text": [
      "       product_id                                     product_name  aisle_id  \\\n",
      "37             38                                              NaN       100   \n",
      "41             42                                  BIOTIN 1000 MCG        47   \n",
      "71             72                                              NaN       100   \n",
      "109           110                                              NaN       100   \n",
      "185           186       FRESH SCENT DISHWASHER DETERGENT WITH DAWN        74   \n",
      "...           ...                                              ...       ...   \n",
      "49689       49690                    HIGH PERFORMANCE ENERGY DRINK        64   \n",
      "49690       49691                    ORIGINAL PANCAKE & WAFFLE MIX       130   \n",
      "49691       49692  ORGANIC INSTANT OATMEAL LIGHT MAPLE BROWN SUGAR       130   \n",
      "49692       49693                           SPRING WATER BODY WASH       127   \n",
      "49693       49694                          BURRITO- STEAK & CHEESE        38   \n",
      "\n",
      "       department_id  \n",
      "37                21  \n",
      "41                11  \n",
      "71                21  \n",
      "109               21  \n",
      "185               17  \n",
      "...              ...  \n",
      "49689              7  \n",
      "49690             14  \n",
      "49691             14  \n",
      "49692             11  \n",
      "49693              1  \n",
      "\n",
      "[1465 rows x 4 columns]\n"
     ]
    }
   ],
   "source": [
    "df_products['product_name'] = df_products['product_name'].str.upper()\n",
    "duplicates_p_n = df_products[df_products.duplicated(subset=['product_name'], keep=False)]\n",
    "print(duplicates_p_n)\n",
    "\n",
    "# Revisa únicamente si hay nombres duplicados de productos (convierte los nombres a letras mayúsculas para compararlos mejor)\n"
   ]
  },
  {
   "cell_type": "code",
   "execution_count": 228,
   "id": "01efd02e",
   "metadata": {
    "id": "01efd02e"
   },
   "outputs": [
    {
     "name": "stdout",
     "output_type": "stream",
     "text": [
      "       product_id product_name  aisle_id  department_id\n",
      "37             38          NaN       100             21\n",
      "71             72          NaN       100             21\n",
      "109           110          NaN       100             21\n",
      "296           297          NaN       100             21\n",
      "416           417          NaN       100             21\n",
      "...           ...          ...       ...            ...\n",
      "49552       49553          NaN       100             21\n",
      "49574       49575          NaN       100             21\n",
      "49640       49641          NaN       100             21\n",
      "49663       49664          NaN       100             21\n",
      "49668       49669          NaN       100             21\n",
      "\n",
      "[1258 rows x 4 columns]\n"
     ]
    }
   ],
   "source": [
    "df_nan_products = df_products[df_products['product_name'].isna()]\n",
    "print(df_nan_products)\n",
    "\n",
    "#Revisa si hay nombres duplicados de productos no faltantes"
   ]
  },
  {
   "cell_type": "markdown",
   "id": "9da8d293",
   "metadata": {
    "id": "9da8d293"
   },
   "source": [
    "Describe brevemente tus hallazgos y lo que hiciste con ellos. Verifique duplicados en toda la tabla y no encontre filas totalmente duplicadas. Verifique duplicados en department_id. Identifique productos con el mismo product_id, product_name, aisle_id, pero en diferentes department_id. PSugiere que hay productos asignados a mas de un departamento. Busque nombres duplicados en productos. Halle varias instancias de productos con el mismo nombre , pero con identificadores distintos, lo que podria indicar productos repetidos. Detecte valores faltantes en product_name."
   ]
  },
  {
   "cell_type": "markdown",
   "id": "60f30db1",
   "metadata": {
    "id": "60f30db1"
   },
   "source": [
    "### `departments` data frame"
   ]
  },
  {
   "cell_type": "code",
   "execution_count": 229,
   "id": "fb410ad4-0fbf-4b80-bb09-23fdea79afe3",
   "metadata": {
    "id": "fb410ad4-0fbf-4b80-bb09-23fdea79afe3"
   },
   "outputs": [
    {
     "name": "stdout",
     "output_type": "stream",
     "text": [
      "Empty DataFrame\n",
      "Columns: [department_id, department]\n",
      "Index: []\n"
     ]
    }
   ],
   "source": [
    "duplicate_dep = df_departments[df_departments.duplicated(keep=False)]\n",
    "print(duplicate_dep)\n",
    "# Revisa si hay filas totalmente duplicadas"
   ]
  },
  {
   "cell_type": "code",
   "execution_count": 230,
   "id": "332b12bb",
   "metadata": {
    "id": "332b12bb"
   },
   "outputs": [
    {
     "name": "stdout",
     "output_type": "stream",
     "text": [
      "Empty DataFrame\n",
      "Columns: [department_id, department]\n",
      "Index: []\n"
     ]
    }
   ],
   "source": [
    "duplicate_id = df_departments[df_departments.duplicated(subset=['department_id'], keep=False)]\n",
    "print(duplicate_id)# Revisa únicamente si hay IDs duplicadas de productos"
   ]
  },
  {
   "cell_type": "markdown",
   "id": "bd30d78e",
   "metadata": {
    "id": "bd30d78e"
   },
   "source": [
    "Describe brevemente tus hallazgos y lo que hiciste con ellos. No encontre filas duplicadas. No encontre valores repetidos en la columna department_id. No tuve que eliminar ni modificar datos."
   ]
  },
  {
   "cell_type": "markdown",
   "id": "889349c1",
   "metadata": {
    "id": "889349c1"
   },
   "source": [
    "### `aisles` data frame"
   ]
  },
  {
   "cell_type": "code",
   "execution_count": 231,
   "id": "9da89fb9-4679-40f5-ad0d-c34df753a3f8",
   "metadata": {
    "id": "9da89fb9-4679-40f5-ad0d-c34df753a3f8"
   },
   "outputs": [
    {
     "name": "stdout",
     "output_type": "stream",
     "text": [
      "Empty DataFrame\n",
      "Columns: [aisle_id, aisle]\n",
      "Index: []\n"
     ]
    }
   ],
   "source": [
    "\n",
    "duplicate_aisles = df_aisles[df_aisles.duplicated(keep=False)]\n",
    "print(duplicate_aisles)\n",
    "# Revisa si hay filas totalmente duplicadas"
   ]
  },
  {
   "cell_type": "code",
   "execution_count": 232,
   "id": "da7c2822",
   "metadata": {
    "id": "da7c2822"
   },
   "outputs": [
    {
     "name": "stdout",
     "output_type": "stream",
     "text": [
      "Empty DataFrame\n",
      "Columns: [aisle_id, aisle]\n",
      "Index: []\n"
     ]
    }
   ],
   "source": [
    "duplicate_aisle_id = df_aisles[df_aisles.duplicated(subset=['aisle_id'], keep=False)]\n",
    "print(duplicate_aisle_id)\n",
    "# Revisa únicamente si hay IDs duplicadas de pasillos"
   ]
  },
  {
   "cell_type": "markdown",
   "id": "ac63826f",
   "metadata": {
    "id": "ac63826f"
   },
   "source": [
    "Describe brevemente tus hallazgos y lo que hiciste con ellos. No encontre filas duplicadas. No encontre valores repetidos en la columna aisle_id. No tuve que eliminar ni modificar datos."
   ]
  },
  {
   "cell_type": "markdown",
   "id": "274cd06a",
   "metadata": {
    "id": "274cd06a"
   },
   "source": [
    "### `order_products` data frame"
   ]
  },
  {
   "cell_type": "code",
   "execution_count": 233,
   "id": "52326689-84a8-4b8f-a881-7c68780f62c9",
   "metadata": {
    "id": "52326689-84a8-4b8f-a881-7c68780f62c9"
   },
   "outputs": [
    {
     "name": "stdout",
     "output_type": "stream",
     "text": [
      "Empty DataFrame\n",
      "Columns: [order_id, product_id, add_to_cart_order, reordered]\n",
      "Index: []\n"
     ]
    }
   ],
   "source": [
    "duplicate_order_products = df_order_products[df_order_products.duplicated(keep=False)]\n",
    "print(duplicate_order_products)\n",
    "# Revisa si hay filas totalmente duplicadas"
   ]
  },
  {
   "cell_type": "code",
   "execution_count": 234,
   "id": "7b861391",
   "metadata": {
    "id": "7b861391"
   },
   "outputs": [
    {
     "name": "stdout",
     "output_type": "stream",
     "text": [
      "Empty DataFrame\n",
      "Columns: [order_id, product_id, add_to_cart_order, reordered]\n",
      "Index: []\n"
     ]
    }
   ],
   "source": [
    "duplicate_partial = df_order_products[df_order_products.duplicated(subset=['order_id', 'product_id'], keep=False)]\n",
    "print(duplicate_partial)\n",
    "# Vuelve a verificar si hay cualquier otro duplicado engañoso\n"
   ]
  },
  {
   "cell_type": "markdown",
   "id": "0b890492",
   "metadata": {
    "id": "0b890492"
   },
   "source": [
    "Describe brevemente tus hallazgos y lo que hiciste con ellos. No encontre filas duplicadas. No encontre valores repetidos en la columnas order_id y product_id. No tuve que eliminar ni modificar datos."
   ]
  },
  {
   "cell_type": "markdown",
   "id": "5569a292",
   "metadata": {},
   "source": [
    "<div class=\"alert alert-block alert-success\">  \n",
    "<b>Comentario del revisor</b> <a class=\"tocSkip\"></a><br>  \n",
    "<b>Éxito</b> - Buen trabajo en la identificación y tratamiento de valores duplicados y ausentes. Has aplicado una serie de verificaciones detalladas y explicado tus hallazgos de manera clara. Seguir este enfoque estructurado es clave para garantizar la calidad de los datos en el análisis posterior.  \n",
    "</div>"
   ]
  },
  {
   "cell_type": "markdown",
   "id": "1e46de76",
   "metadata": {
    "id": "1e46de76"
   },
   "source": [
    "## Encuentra y elimina los valores ausentes\n",
    "\n",
    "Al trabajar con valores duplicados, pudimos observar que también nos falta investigar valores ausentes:\n",
    "\n",
    "* La columna `'product_name'` de la tabla products.\n",
    "* La columna `'days_since_prior_order'` de la tabla orders.\n",
    "* La columna `'add_to_cart_order'` de la tabla order_productos."
   ]
  },
  {
   "cell_type": "markdown",
   "id": "c0aebd78",
   "metadata": {
    "id": "c0aebd78"
   },
   "source": [
    "### `products` data frame"
   ]
  },
  {
   "cell_type": "code",
   "execution_count": 235,
   "id": "fe4a8b0f",
   "metadata": {
    "id": "fe4a8b0f"
   },
   "outputs": [
    {
     "name": "stdout",
     "output_type": "stream",
     "text": [
      "       product_id product_name  aisle_id  department_id\n",
      "37             38          NaN       100             21\n",
      "71             72          NaN       100             21\n",
      "109           110          NaN       100             21\n",
      "296           297          NaN       100             21\n",
      "416           417          NaN       100             21\n",
      "...           ...          ...       ...            ...\n",
      "49552       49553          NaN       100             21\n",
      "49574       49575          NaN       100             21\n",
      "49640       49641          NaN       100             21\n",
      "49663       49664          NaN       100             21\n",
      "49668       49669          NaN       100             21\n",
      "\n",
      "[1258 rows x 4 columns]\n"
     ]
    }
   ],
   "source": [
    "df_missing = df_products[df_products['product_name'].isna()]\n",
    "print(df_missing)\n",
    "# Encuentra los valores ausentes en la columna 'product_name'"
   ]
  },
  {
   "cell_type": "markdown",
   "id": "-A6x1AbJhjkp",
   "metadata": {
    "id": "-A6x1AbJhjkp"
   },
   "source": [
    "Describe brevemente cuáles son tus hallazgos. Valores ausentes en product_name tiene 1,258 valores nulos(NaN). La falta de valores en product_name podria afectar analisis como categorizacion de productos especificos."
   ]
  },
  {
   "cell_type": "code",
   "execution_count": 236,
   "id": "e96167bc",
   "metadata": {
    "id": "e96167bc"
   },
   "outputs": [
    {
     "name": "stdout",
     "output_type": "stream",
     "text": [
      "True\n"
     ]
    }
   ],
   "source": [
    "missing_in_aisle_100 = df_missing['aisle_id'].nunique() == 1 and df_missing['aisle_id'].iloc[0] == 100\n",
    "print(missing_in_aisle_100)"
   ]
  },
  {
   "cell_type": "markdown",
   "id": "WRpIfXRphpSL",
   "metadata": {
    "id": "WRpIfXRphpSL"
   },
   "source": [
    "Describe brevemente cuáles son tus hallazgos. Todos los valores nullos estan en el pasillo 100."
   ]
  },
  {
   "cell_type": "code",
   "execution_count": 237,
   "id": "8fd0a541",
   "metadata": {
    "id": "8fd0a541"
   },
   "outputs": [
    {
     "name": "stdout",
     "output_type": "stream",
     "text": [
      "True\n"
     ]
    }
   ],
   "source": [
    "# ¿Todos los nombres de productos ausentes están relacionados con el departamento con ID 21?\n",
    "missing_in_dept_21 = df_missing['department_id'].nunique() == 1 and df_missing['department_id'].iloc[0] == 21\n",
    "print(missing_in_dept_21)"
   ]
  },
  {
   "cell_type": "markdown",
   "id": "qDpdYn1Fht_I",
   "metadata": {
    "id": "qDpdYn1Fht_I"
   },
   "source": [
    "Describe brevemente cuáles son tus hallazgos. Todos los productos con product_name ausente pertenecen al departamento con ID 21. "
   ]
  },
  {
   "cell_type": "code",
   "execution_count": 238,
   "id": "325c3464",
   "metadata": {
    "id": "325c3464",
    "scrolled": true
   },
   "outputs": [
    {
     "name": "stdout",
     "output_type": "stream",
     "text": [
      "       product_id product_name  aisle_id  department_id\n",
      "37             38          NaN       100             21\n",
      "71             72          NaN       100             21\n",
      "109           110          NaN       100             21\n",
      "296           297          NaN       100             21\n",
      "416           417          NaN       100             21\n",
      "...           ...          ...       ...            ...\n",
      "49552       49553          NaN       100             21\n",
      "49574       49575          NaN       100             21\n",
      "49640       49641          NaN       100             21\n",
      "49663       49664          NaN       100             21\n",
      "49668       49669          NaN       100             21\n",
      "\n",
      "[1258 rows x 4 columns]\n"
     ]
    }
   ],
   "source": [
    "df_filtered = df_products[(df_products['aisle_id'] == 100) & (df_products['department_id'] == 21)]\n",
    "print(df_filtered)\n",
    "# Usa las tablas department y aisle para revisar los datos del pasillo con ID 100 y el departamento con ID 21.\n"
   ]
  },
  {
   "cell_type": "markdown",
   "id": "nqhSTUPhhvEJ",
   "metadata": {
    "id": "nqhSTUPhhvEJ"
   },
   "source": [
    "Describe brevemente cuáles son tus hallazgos. se identifican 1258 productos sin nombre en el dataset. Todos los productos sin nombre pertenecen al pasillo con ID 100 y al departamento con ID 21. "
   ]
  },
  {
   "cell_type": "code",
   "execution_count": 239,
   "id": "6b295120",
   "metadata": {
    "id": "6b295120"
   },
   "outputs": [
    {
     "name": "stdout",
     "output_type": "stream",
     "text": [
      "1258\n"
     ]
    }
   ],
   "source": [
    "df_products['product_name'] = df_products['product_name'].fillna('Unknown')\n",
    "print(df_products['product_name'].value_counts()['Unknown'])\n",
    "\n",
    "# Completa los nombres de productos ausentes con 'Unknown'\n"
   ]
  },
  {
   "cell_type": "markdown",
   "id": "fc70e5ad",
   "metadata": {
    "id": "fc70e5ad"
   },
   "source": [
    "Describe brevemente tus hallazgos y lo que hiciste con ellos. complete los valores ausentes en la columna product_name, asignandoles \"unknown\". Verifique el cambio."
   ]
  },
  {
   "cell_type": "markdown",
   "id": "7eb45c86",
   "metadata": {
    "id": "7eb45c86"
   },
   "source": [
    "### `orders` data frame"
   ]
  },
  {
   "cell_type": "code",
   "execution_count": 240,
   "id": "93e41d96",
   "metadata": {
    "id": "93e41d96"
   },
   "outputs": [
    {
     "name": "stdout",
     "output_type": "stream",
     "text": [
      "        order_id  user_id  order_number  order_dow  order_hour_of_day  \\\n",
      "28        133707   182261             1          3                 10   \n",
      "96        787445    25685             1          6                 18   \n",
      "100       294410   111449             1          0                 19   \n",
      "103      2869915   123958             1          4                 16   \n",
      "104      2521921    42286             1          3                 18   \n",
      "...          ...      ...           ...        ...                ...   \n",
      "478895   2589657   205028             1          0                 16   \n",
      "478896   2222353   141211             1          2                 13   \n",
      "478922   2272807   204154             1          1                 15   \n",
      "478926   2499542    68810             1          4                 19   \n",
      "478945   1387033    22496             1          5                 14   \n",
      "\n",
      "        days_since_prior_order  \n",
      "28                         NaN  \n",
      "96                         NaN  \n",
      "100                        NaN  \n",
      "103                        NaN  \n",
      "104                        NaN  \n",
      "...                        ...  \n",
      "478895                     NaN  \n",
      "478896                     NaN  \n",
      "478922                     NaN  \n",
      "478926                     NaN  \n",
      "478945                     NaN  \n",
      "\n",
      "[28819 rows x 6 columns]\n"
     ]
    }
   ],
   "source": [
    "df_missing_orders = df_orders[df_orders['days_since_prior_order'].isna()]\n",
    "print(df_missing_orders)\n",
    "\n",
    "# Encuentra los valores ausentes"
   ]
  },
  {
   "cell_type": "code",
   "execution_count": 241,
   "id": "166e5a86",
   "metadata": {
    "id": "166e5a86"
   },
   "outputs": [
    {
     "name": "stdout",
     "output_type": "stream",
     "text": [
      "Empty DataFrame\n",
      "Columns: [order_id, user_id, order_number, order_dow, order_hour_of_day, days_since_prior_order]\n",
      "Index: []\n"
     ]
    }
   ],
   "source": [
    "df_missing_not_first = df_orders[(df_orders['days_since_prior_order'].isna()) & (df_orders['order_number'] > 1)]\n",
    "print(df_missing_not_first)\n",
    "# ¿Hay algún valor ausente que no sea el primer pedido del cliente?\n"
   ]
  },
  {
   "cell_type": "markdown",
   "id": "4e23d089",
   "metadata": {
    "id": "4e23d089"
   },
   "source": [
    "Describe brevemente tus hallazgos y lo que hiciste con ellos. Identifique la unica columna con valores ausentes en days_since_prior_order, con 28,819 valores nulos. Analize si estos valores nulos ocurrian exclusivamente en el primer pedido de cada cliente. Confirme que todos los valores nulos pertenecen unicamente al primer pedido del cliente. "
   ]
  },
  {
   "cell_type": "markdown",
   "id": "69dc9ca4",
   "metadata": {
    "id": "69dc9ca4"
   },
   "source": [
    "### `order_products` data frame"
   ]
  },
  {
   "cell_type": "code",
   "execution_count": 242,
   "id": "b8240253",
   "metadata": {
    "id": "b8240253"
   },
   "outputs": [
    {
     "name": "stdout",
     "output_type": "stream",
     "text": [
      "         order_id  product_id  add_to_cart_order  reordered\n",
      "737       2449164        5068                NaN          0\n",
      "9926      1968313       43867                NaN          0\n",
      "14394     2926893       11688                NaN          0\n",
      "16418     1717990        4142                NaN          0\n",
      "30114     1959075       42828                NaN          1\n",
      "...           ...         ...                ...        ...\n",
      "4505662   1800005        7411                NaN          0\n",
      "4511400   1633337         260                NaN          0\n",
      "4517562    404157        9517                NaN          0\n",
      "4534112   1673227       17835                NaN          0\n",
      "4535739   1832957       17949                NaN          1\n",
      "\n",
      "[836 rows x 4 columns]\n"
     ]
    }
   ],
   "source": [
    "df_missing_order_products = df_order_products[df_order_products['add_to_cart_order'].isna()]\n",
    "print(df_missing_order_products)\n",
    "# Encuentra los valores ausentes"
   ]
  },
  {
   "cell_type": "code",
   "execution_count": 243,
   "id": "9a78e5ee",
   "metadata": {
    "id": "9a78e5ee"
   },
   "outputs": [
    {
     "name": "stdout",
     "output_type": "stream",
     "text": [
      "Valor minimo: 1.0\n",
      "Valor maximo: 64.0\n"
     ]
    }
   ],
   "source": [
    "# ¿Cuáles son los valores mínimos y máximos en esta columna?\n",
    "min_value = df_order_products['add_to_cart_order'].min(skipna=True)\n",
    "max_value = df_order_products['add_to_cart_order'].max(skipna=True)\n",
    "print(f\"Valor minimo: {min_value}\")\n",
    "print(f\"Valor maximo: {max_value}\") "
   ]
  },
  {
   "cell_type": "markdown",
   "id": "-Z2Ja215jW78",
   "metadata": {
    "id": "-Z2Ja215jW78"
   },
   "source": [
    "Describe brevemente cuáles son tus hallazgos. Encontre 836 valores nulos. El rango de valores en la columna add_to_cart_order tiene valores que van desde1.0 hasta 64.0"
   ]
  },
  {
   "cell_type": "code",
   "execution_count": 244,
   "id": "ab9d0c2b",
   "metadata": {
    "id": "ab9d0c2b"
   },
   "outputs": [
    {
     "name": "stdout",
     "output_type": "stream",
     "text": [
      "[2449164 1968313 2926893 1717990 1959075  844733   61355  936852  264710\n",
      " 1564093  129627  293169 2849370 1386261 3308010  903110 2136777 3347453\n",
      " 1888628  165801 2094761 1038146 2997021  813364 2256933  171934 2409109\n",
      " 1730767 1169835  733526  404157 3125735  747668 1800005 1961723  871281\n",
      "  388234 1648217 1477139  102236 1021563 1832957 2721963  678116 1220886\n",
      " 1673227 2999801 1633337 2470674 2625444 1677118 2479011 3383594 1183255\n",
      " 1713430 2652650 1598369 1916118  854647 1302315  888470  180546 2621907\n",
      " 1308785 2729254    9310 2170451 2979697 1625713 1529171]\n"
     ]
    }
   ],
   "source": [
    "missing_order_ids = df_order_products[df_order_products['add_to_cart_order'].isna()]['order_id'].unique()\n",
    "print(missing_order_ids)# Guarda todas las IDs de pedidos que tengan un valor ausente en 'add_to_cart_order'\n"
   ]
  },
  {
   "cell_type": "code",
   "execution_count": 245,
   "id": "54c31695",
   "metadata": {
    "id": "54c31695"
   },
   "outputs": [
    {
     "name": "stdout",
     "output_type": "stream",
     "text": [
      "¿Todos los pedidos con valores ausentes tienen más de 64 productos?: False\n",
      "Pedidos con datos ausentes:\n",
      "    order_id  num_missing_products\n",
      "0       9310                     1\n",
      "1      61355                    63\n",
      "2     102236                    31\n",
      "3     129627                     5\n",
      "4     165801                     6\n",
      "..       ...                   ...\n",
      "65   2999801                     6\n",
      "66   3125735                    22\n",
      "67   3308010                    51\n",
      "68   3347453                     7\n",
      "69   3383594                     5\n",
      "\n",
      "[70 rows x 2 columns]\n",
      "El pedido con menor cantidad de productos tiene: 1 productos\n"
     ]
    }
   ],
   "source": [
    "missing_orders = df_order_products[df_order_products['add_to_cart_order'].isna()]\n",
    "order_counts = missing_orders.groupby('order_id').size()\n",
    "all_above_64 = (order_counts > 64).all()\n",
    "print(f\"¿Todos los pedidos con valores ausentes tienen más de 64 productos?: {all_above_64}\")\n",
    "df_missing_orders_grouped = missing_orders.groupby('order_id').size().reset_index(name='num_missing_products')\n",
    "print(\"Pedidos con datos ausentes:\")\n",
    "print(df_missing_orders_grouped)\n",
    "order_product_counts = df_order_products.groupby('order_id')['product_id'].count()\n",
    "min_product_count = order_product_counts.min()\n",
    "\n",
    "print(f\"El pedido con menor cantidad de productos tiene: {min_product_count} productos\")\n",
    "\n",
    "# ¿Todos los pedidos con valores ausentes tienen más de 64 productos?\n",
    "# Agrupa todos los pedidos con datos ausentes por su ID de pedido.\n",
    "# Cuenta el número de 'product_id' en cada pedido y revisa el valor mínimo del conteo.\n"
   ]
  },
  {
   "cell_type": "markdown",
   "id": "p9V6pddtjglj",
   "metadata": {
    "id": "p9V6pddtjglj"
   },
   "source": [
    "Describe brevemente cuáles son tus hallazgos. Confirme que hay pedidos con menos de 64 productos y valores faltantes en add_to_cart_order. "
   ]
  },
  {
   "cell_type": "code",
   "execution_count": 248,
   "id": "7a987d08",
   "metadata": {
    "id": "7a987d08"
   },
   "outputs": [
    {
     "name": "stdout",
     "output_type": "stream",
     "text": [
      "<class 'pandas.core.frame.DataFrame'>\n",
      "RangeIndex: 4545007 entries, 0 to 4545006\n",
      "Data columns (total 4 columns):\n",
      " #   Column             Dtype\n",
      "---  ------             -----\n",
      " 0   order_id           int64\n",
      " 1   product_id         int64\n",
      " 2   add_to_cart_order  int64\n",
      " 3   reordered          int64\n",
      "dtypes: int64(4)\n",
      "memory usage: 138.7 MB\n",
      "None\n"
     ]
    }
   ],
   "source": [
    "df_order_products['add_to_cart_order'] = df_order_products['add_to_cart_order'].fillna(999).astype(int)\n",
    "print(df_order_products.info())# Remplaza los valores ausentes en la columna 'add_to_cart? con 999 y convierte la columna al tipo entero.\n"
   ]
  },
  {
   "cell_type": "markdown",
   "id": "fea4bcc7",
   "metadata": {
    "id": "fea4bcc7"
   },
   "source": [
    "Describe brevemente tus hallazgos y lo que hiciste con ellos. Reemplaze los valores ausentes con 999, converti la columna a tipo entero y lo verifique."
   ]
  },
  {
   "cell_type": "markdown",
   "id": "379c74e2",
   "metadata": {},
   "source": [
    "<div class=\"alert alert-block alert-success\">  \n",
    "<b>Comentario del revisor</b> <a class=\"tocSkip\"></a><br>  \n",
    "<b>Éxito</b> - Muy bien abordado el tratamiento de valores ausentes. Identificaste patrones en los datos faltantes y aplicaste estrategias razonables para manejarlos. La documentación de tus hallazgos es clara y refuerza la comprensión del proceso de limpieza.  \n",
    "</div>"
   ]
  },
  {
   "cell_type": "markdown",
   "id": "RnplPFY1gSrb",
   "metadata": {
    "id": "RnplPFY1gSrb"
   },
   "source": [
    "## Conclusiones\n",
    "\n",
    "Escribe aquí tus conclusiones intermedias sobre el Paso 2. Preprocesamiento de los datos El preprocesamiento de datos es una fase crucial para garantizar la calidad del análisis posterior. La limpieza de datos mediante la corrección de tipos, el tratamiento de valores ausentes y la eliminación de duplicados contribuye a mejorar la fiabilidad y precisión del modelo que se utilizará en etapas futuras.\n"
   ]
  },
  {
   "cell_type": "markdown",
   "id": "UjrOIwTcz3ri",
   "metadata": {
    "id": "UjrOIwTcz3ri"
   },
   "source": [
    "# Paso 3. Análisis de los datos\n",
    "\n",
    "Una vez los datos estén procesados y listos, haz el siguiente análisis:"
   ]
  },
  {
   "cell_type": "markdown",
   "id": "turkish-kidney",
   "metadata": {
    "id": "turkish-kidney"
   },
   "source": [
    "# [A] Fácil (deben completarse todos para aprobar)\n",
    "\n",
    "1. Verifica que los valores en las columnas `'order_hour_of_day'` y `'order_dow'` en la tabla orders sean razonables (es decir, `'order_hour_of_day'` oscile entre 0 y 23 y `'order_dow'` oscile entre 0 y 6).\n",
    "2. Crea un gráfico que muestre el número de personas que hacen pedidos dependiendo de la hora del día.\n",
    "3. Crea un gráfico que muestre qué día de la semana la gente hace sus compras.\n",
    "4. Crea un gráfico que muestre el tiempo que la gente espera hasta hacer su siguiente pedido, y comenta sobre los valores mínimos y máximos."
   ]
  },
  {
   "cell_type": "markdown",
   "id": "short-capability",
   "metadata": {
    "id": "short-capability"
   },
   "source": [
    "### [A1] Verifica que los valores sean sensibles"
   ]
  },
  {
   "cell_type": "code",
   "execution_count": 251,
   "id": "growing-fruit",
   "metadata": {
    "id": "growing-fruit"
   },
   "outputs": [
    {
     "name": "stdout",
     "output_type": "stream",
     "text": [
      "Mínimo y máximo de 'order_hour_of_day': 0 - 23\n"
     ]
    }
   ],
   "source": [
    "print(\"Mínimo y máximo de 'order_hour_of_day':\", df_orders['order_hour_of_day'].min(), \"-\", df_orders['order_hour_of_day'].max())\n"
   ]
  },
  {
   "cell_type": "code",
   "execution_count": 252,
   "id": "accessory-malaysia",
   "metadata": {
    "id": "accessory-malaysia"
   },
   "outputs": [
    {
     "name": "stdout",
     "output_type": "stream",
     "text": [
      "Mínimo y máximo de 'order_dow': 0 - 6\n"
     ]
    }
   ],
   "source": [
    "print(\"Mínimo y máximo de 'order_dow':\", df_orders['order_dow'].min(), \"-\", df_orders['order_dow'].max())"
   ]
  },
  {
   "cell_type": "markdown",
   "id": "hmR2GNQ6lCsX",
   "metadata": {
    "id": "hmR2GNQ6lCsX"
   },
   "source": [
    "Escribe aquí tus conclusiones. Los valores estan dentro de los rangos esperados."
   ]
  },
  {
   "cell_type": "markdown",
   "id": "a6743a70",
   "metadata": {
    "id": "a6743a70"
   },
   "source": [
    "### [A2] Para cada hora del día, ¿cuántas personas hacen órdenes?"
   ]
  },
  {
   "cell_type": "code",
   "execution_count": 255,
   "id": "a36cca27",
   "metadata": {
    "id": "a36cca27"
   },
   "outputs": [
    {
     "data": {
      "image/png": "[encoded data removed]",
      "text/plain": [
       "<Figure size 1000x500 with 1 Axes>"
      ]
     },
     "metadata": {},
     "output_type": "display_data"
    }
   ],
   "source": [
    "import matplotlib.pyplot as plt\n",
    "\n",
    "# Contar el número de pedidos por hora del día\n",
    "orders_by_hour = df_orders['order_hour_of_day'].value_counts().sort_index()\n",
    "\n",
    "# Crear gráfico de barras\n",
    "plt.figure(figsize=(10, 5))\n",
    "plt.bar(orders_by_hour.index, orders_by_hour.values, alpha=0.7)\n",
    "plt.xlabel(\"Hora del día\")\n",
    "plt.ylabel(\"Número de pedidos\")\n",
    "plt.title(\"Número de pedidos por hora del día\")\n",
    "plt.xticks(range(0, 24))  # Mostrar todas las horas en el eje X\n",
    "plt.grid(axis=\"y\", linestyle=\"--\", alpha=0.7)\n",
    "\n",
    "# Mostrar gráfico\n",
    "plt.show()"
   ]
  },
  {
   "cell_type": "markdown",
   "id": "11270eed",
   "metadata": {
    "id": "11270eed"
   },
   "source": [
    "Escribe aquí tus conclusiones.En resumen, la demanda sigue un claro patrón diario con mayor actividad durante las horas del mediodía."
   ]
  },
  {
   "cell_type": "markdown",
   "id": "documented-command",
   "metadata": {
    "id": "documented-command"
   },
   "source": [
    "### [A3] ¿Qué día de la semana compran víveres las personas?"
   ]
  },
  {
   "cell_type": "code",
   "execution_count": 256,
   "id": "chief-digit",
   "metadata": {
    "id": "chief-digit"
   },
   "outputs": [
    {
     "data": {
      "image/png": "[encoded data removed]",
      "text/plain": [
       "<Figure size 800x500 with 1 Axes>"
      ]
     },
     "metadata": {},
     "output_type": "display_data"
    }
   ],
   "source": [
    "orders_by_dow = df_orders['order_dow'].value_counts().sort_index()\n",
    "\n",
    "# Crear gráfico de barras\n",
    "plt.figure(figsize=(8, 5))\n",
    "plt.bar(orders_by_dow.index, orders_by_dow.values, alpha=0.7)\n",
    "plt.xlabel(\"Día de la semana (0=Domingo, 6=Sábado)\")\n",
    "plt.ylabel(\"Número de pedidos\")\n",
    "plt.title(\"Número de pedidos por día de la semana\")\n",
    "plt.xticks(range(0, 7), [\"Dom\", \"Lun\", \"Mar\", \"Mié\", \"Jue\", \"Vie\", \"Sáb\"])  # Etiquetas de los días\n",
    "plt.grid(axis=\"y\", linestyle=\"--\", alpha=0.7)\n",
    "\n",
    "# Mostrar gráfico\n",
    "plt.show()"
   ]
  },
  {
   "cell_type": "markdown",
   "id": "dominant-lightning",
   "metadata": {
    "id": "dominant-lightning"
   },
   "source": [
    "Escribe aquí tus conclusiones.El gráfico claramente muestra que la actividad comercial es más intensa en los extremos de la semana (domingo-lunes y sábado), mientras que disminuye durante los días intermedios. "
   ]
  },
  {
   "cell_type": "markdown",
   "id": "cutting-concert",
   "metadata": {
    "id": "cutting-concert"
   },
   "source": [
    "### [A4] ¿Cuánto tiempo esperan las personas hasta hacer otro pedido? Comenta sobre los valores mínimos y máximos."
   ]
  },
  {
   "cell_type": "code",
   "execution_count": 258,
   "id": "c231f523",
   "metadata": {
    "id": "c231f523"
   },
   "outputs": [
    {
     "data": {
      "image/png": "[encoded data removed]",
      "text/plain": [
       "<Figure size 1000x600 with 1 Axes>"
      ]
     },
     "metadata": {},
     "output_type": "display_data"
    }
   ],
   "source": [
    "import pandas as pd\n",
    "import matplotlib.pyplot as plt\n",
    "# Leer el dataset\n",
    "df_orders = pd.read_csv('/datasets/instacart_orders.csv', sep=';')\n",
    "# Limpiar valores nulos\n",
    "df_tiempo_espera = df_orders['days_since_prior_order'].dropna()\n",
    "# Calcular mínimo y máximo\n",
    "min_dias = df_tiempo_espera.min()\n",
    "max_dias = df_tiempo_espera.max()\n",
    "# Crear histograma\n",
    "plt.figure(figsize=(10, 6))\n",
    "plt.hist(df_tiempo_espera, bins=30, edgecolor='black')\n",
    "# Añadir títulos y etiquetas\n",
    "plt.title('Distribución del Tiempo entre Pedidos')\n",
    "plt.xlabel('Días desde el pedido anterior')\n",
    "plt.ylabel('Número de Pedidos')\n",
    "# Añadir líneas y comentarios para valores mínimos y máximos\n",
    "plt.axvline(min_dias, color='green', linestyle='--', linewidth=1.5, label=f'Mínimo: {min_dias:.0f} días')\n",
    "plt.axvline(max_dias, color='red', linestyle='--', linewidth=1.5, label=f'Máximo: {max_dias:.0f} días')\n",
    "# Añadir leyenda\n",
    "plt.legend()\n",
    "# Mostrar gráfico\n",
    "plt.grid(axis='y', alpha=0.75)\n",
    "plt.show()"
   ]
  },
  {
   "cell_type": "markdown",
   "id": "discrete-vertex",
   "metadata": {
    "id": "discrete-vertex"
   },
   "source": [
    "Escribe aquí tus conclusiones. La mayoría de los clientes prefieren comprar semanalmente, con un grupo significativo comprando mensualmente"
   ]
  },
  {
   "cell_type": "markdown",
   "id": "f34cc648",
   "metadata": {},
   "source": [
    "<div class=\"alert alert-block alert-success\">  \n",
    "<b>Comentario del revisor</b> <a class=\"tocSkip\"></a><br>  \n",
    "<b>Éxito</b> - Muy buen trabajo en esta sección. La verificación de los datos y la visualización de patrones en los pedidos están bien estructuradas y proporcionan información valiosa sobre los hábitos de compra. La interpretación de los resultados es clara y respalda bien los hallazgos.  \n",
    "</div>"
   ]
  },
  {
   "cell_type": "markdown",
   "id": "tight-staff",
   "metadata": {
    "id": "tight-staff"
   },
   "source": [
    "# [B] Intermedio (deben completarse todos para aprobar)\n",
    "\n",
    "1. ¿Existe alguna diferencia entre las distribuciones `'order_hour_of_day'` de los miércoles y los sábados? Traza gráficos de barra de `'order_hour_of_day'` para ambos días en la misma figura y describe las diferencias que observes.\n",
    "2. Grafica la distribución para el número de órdenes que hacen los clientes (es decir, cuántos clientes hicieron solo 1 pedido, cuántos hicieron 2, cuántos 3, y así sucesivamente...).\n",
    "3. ¿Cuáles son los 20 principales productos que se piden con más frecuencia (muestra su identificación y nombre)?"
   ]
  },
  {
   "cell_type": "markdown",
   "id": "packed-classic",
   "metadata": {
    "id": "packed-classic"
   },
   "source": [
    "### [B1] Diferencia entre miércoles y sábados para  `'order_hour_of_day'`. Traza gráficos de barra para los dos días y describe las diferencias que veas."
   ]
  },
  {
   "cell_type": "code",
   "execution_count": 261,
   "id": "d89b8403",
   "metadata": {
    "id": "d89b8403"
   },
   "outputs": [
    {
     "data": {
      "text/plain": [
       "<Figure size 1000x500 with 0 Axes>"
      ]
     },
     "metadata": {},
     "output_type": "display_data"
    },
    {
     "data": {
      "image/png": "[encoded data removed]",
      "text/plain": [
       "<Figure size 640x480 with 1 Axes>"
      ]
     },
     "metadata": {},
     "output_type": "display_data"
    }
   ],
   "source": [
    "import matplotlib.pyplot as plt\n",
    "\n",
    "# Filtrar los datos solo para Miércoles (3) y Sábado (6)\n",
    "orders_filtered = df_orders[df_orders['order_dow'].isin([3, 6])]\n",
    "\n",
    "# Contar los pedidos por hora del día, separados por día\n",
    "orders_by_hour = orders_filtered.groupby(['order_hour_of_day', 'order_dow']).size().unstack()\n",
    "\n",
    "# Crear gráfico de barras\n",
    "plt.figure(figsize=(10, 5))\n",
    "orders_by_hour.plot(kind='bar', alpha=0.7)\n",
    "\n",
    "# Etiquetas y título\n",
    "plt.xlabel(\"Hora del día\")\n",
    "plt.ylabel(\"Número de pedidos\")\n",
    "plt.title(\"Número de pedidos por hora del día (Miércoles y Sábados)\")\n",
    "plt.legend([\"Miércoles\", \"Sábado\"])\n",
    "plt.grid(axis=\"y\", linestyle=\"--\", alpha=0.7)\n",
    "\n",
    "# Mostrar gráfico\n",
    "plt.show()"
   ]
  },
  {
   "cell_type": "code",
   "execution_count": null,
   "id": "94e54e8a",
   "metadata": {
    "id": "94e54e8a"
   },
   "outputs": [],
   "source": []
  },
  {
   "cell_type": "code",
   "execution_count": null,
   "id": "797c90a8",
   "metadata": {
    "id": "797c90a8"
   },
   "outputs": [],
   "source": []
  },
  {
   "cell_type": "code",
   "execution_count": null,
   "id": "35bcea30",
   "metadata": {
    "id": "35bcea30"
   },
   "outputs": [],
   "source": []
  },
  {
   "cell_type": "markdown",
   "id": "charitable-congo",
   "metadata": {
    "id": "charitable-congo"
   },
   "source": [
    "Escribe aquí tus conclusiones. Los miércoles reflejan una rutina laboral, con un pico fuerte de pedidos en la mañana y una disminución más rápida en la noche. Los sábados tienen un comportamiento más extendido, con pedidos que se distribuyen de manera más uniforme a lo largo del día y con una caída menos abrupta en la noche.\n",
    "Esto sugiere que las personas hacen compras más temprano los días laborables, mientras que los sábados los pedidos son más tardíos y distribuidos durante todo el día."
   ]
  },
  {
   "cell_type": "markdown",
   "id": "e3891143",
   "metadata": {
    "id": "e3891143"
   },
   "source": [
    "### [B2] ¿Cuál es la distribución para el número de pedidos por cliente?"
   ]
  },
  {
   "cell_type": "code",
   "execution_count": 262,
   "id": "d8c26c23",
   "metadata": {
    "id": "d8c26c23"
   },
   "outputs": [
    {
     "data": {
      "image/png": "[encoded data removed]",
      "text/plain": [
       "<Figure size 1000x500 with 1 Axes>"
      ]
     },
     "metadata": {},
     "output_type": "display_data"
    }
   ],
   "source": [
    "import matplotlib.pyplot as plt\n",
    "\n",
    "# Contar cuántos pedidos ha hecho cada cliente\n",
    "orders_per_customer = df_orders['user_id'].value_counts()\n",
    "\n",
    "# Contar cuántos clientes tienen X número de pedidos\n",
    "orders_distribution = orders_per_customer.value_counts().sort_index()\n",
    "\n",
    "# Crear gráfico de barras\n",
    "plt.figure(figsize=(10, 5))\n",
    "plt.bar(orders_distribution.index, orders_distribution.values, alpha=0.7)\n",
    "\n",
    "# Etiquetas y título\n",
    "plt.xlabel(\"Número de pedidos realizados\")\n",
    "plt.ylabel(\"Número de clientes\")\n",
    "plt.title(\"Distribución de pedidos por cliente\")\n",
    "plt.grid(axis=\"y\", linestyle=\"--\", alpha=0.7)\n",
    "\n",
    "# Mostrar gráfico\n",
    "plt.show()"
   ]
  },
  {
   "cell_type": "code",
   "execution_count": 264,
   "id": "00e69a66",
   "metadata": {
    "id": "00e69a66"
   },
   "outputs": [],
   "source": [
    "\n"
   ]
  },
  {
   "cell_type": "markdown",
   "id": "d2eff7d5",
   "metadata": {
    "id": "d2eff7d5"
   },
   "source": [
    "Escribe aquí tus conclusiones. La mayoría de los clientes hacen pocos pedidos: El pico más alto está en 1 pedido, lo que indica que hay muchos usuarios que compraron una sola vez y no volvieron. A medida que el número de pedidos aumenta, la cantidad de clientes disminuye drásticamente."
   ]
  },
  {
   "cell_type": "markdown",
   "id": "54a0319c",
   "metadata": {
    "id": "54a0319c"
   },
   "source": [
    "### [B3] ¿Cuáles son los 20 productos más populares (muestra su ID y nombre)?"
   ]
  },
  {
   "cell_type": "code",
   "execution_count": 269,
   "id": "exterior-arizona",
   "metadata": {
    "id": "exterior-arizona",
    "scrolled": true
   },
   "outputs": [
    {
     "name": "stdout",
     "output_type": "stream",
     "text": [
      "    product_id  order_count              product_name  aisle_id  department_id\n",
      "0        24852        66050                    BANANA        24              4\n",
      "1        13176        53297    BAG OF ORGANIC BANANAS        24              4\n",
      "2        21137        37039      ORGANIC STRAWBERRIES        24              4\n",
      "3        21903        33971      ORGANIC BABY SPINACH       123              4\n",
      "4        47209        29773      ORGANIC HASS AVOCADO        24              4\n",
      "5        47766        24689           ORGANIC AVOCADO        24              4\n",
      "6        47626        21495               LARGE LEMON        24              4\n",
      "7        16797        20018              STRAWBERRIES        24              4\n",
      "8        26209        19690                     LIMES        24              4\n",
      "9        27845        19600        ORGANIC WHOLE MILK        84             16\n",
      "10       27966        19197       ORGANIC RASPBERRIES       123              4\n",
      "11       22935        15898      ORGANIC YELLOW ONION        83              4\n",
      "12       24964        15292            ORGANIC GARLIC        83              4\n",
      "13       45007        14584          ORGANIC ZUCCHINI        83              4\n",
      "14       39275        13879       ORGANIC BLUEBERRIES       123              4\n",
      "15       49683        13675            CUCUMBER KIRBY        83              4\n",
      "16       28204        12544        ORGANIC FUJI APPLE        24              4\n",
      "17        5876        12232             ORGANIC LEMON        24              4\n",
      "18        8277        11993  APPLE HONEYCRISP ORGANIC        24              4\n",
      "19       40706        11781    ORGANIC GRAPE TOMATOES       123              4\n"
     ]
    }
   ],
   "source": [
    "top_products = df_order_products['product_id'].value_counts().head(20).reset_index()\n",
    "top_products.columns = ['product_id', 'order_count']\n",
    "top_products = top_products.head(20)\n",
    "top_products = top_products.merge(df_products, on='product_id', how='left')\n",
    "print(top_products)"
   ]
  },
  {
   "cell_type": "markdown",
   "id": "08e540ed",
   "metadata": {
    "id": "universal-facial"
   },
   "source": [
    "<div class=\"alert alert-block alert-success\">  \n",
    "<b>Comentario del revisor</b> <a class=\"tocSkip\"></a><br>  \n",
    "<b>Éxito</b> - Muy bien analizadas las tendencias en los pedidos por día y por cliente. Los gráficos y explicaciones muestran un buen entendimiento del comportamiento del consumidor, y la identificación de los productos más populares proporciona información valiosa. Sigue aplicando este enfoque detallado en el análisis.  \n",
    "</div>"
   ]
  },
  {
   "cell_type": "code",
   "execution_count": null,
   "id": "bbcdd20b",
   "metadata": {
    "id": "bbcdd20b"
   },
   "outputs": [],
   "source": []
  },
  {
   "cell_type": "markdown",
   "id": "7df00f47",
   "metadata": {
    "id": "7df00f47"
   },
   "source": [
    "Escribe aquí tus conclusiones. Frutas y productos orgánicos dominan la lista."
   ]
  },
  {
   "cell_type": "markdown",
   "id": "gross-theme",
   "metadata": {
    "id": "gross-theme"
   },
   "source": [
    "# [C] Difícil (deben completarse todos para aprobar)\n",
    "\n",
    "1. ¿Cuántos artículos suelen comprar las personas en un pedido? ¿Cómo es la distribución?\n",
    "2. ¿Cuáles son los 20 principales artículos que vuelven a pedirse con mayor frecuencia (muestra sus nombres e IDs de los productos)?\n",
    "3. Para cada producto, ¿cuál es la tasa de repetición del pedido (número de repeticiones de pedido/total de pedidos?\n",
    "4. Para cada cliente, ¿qué proporción de los productos que pidió ya los había pedido? Calcula la tasa de repetición de pedido para cada usuario en lugar de para cada producto.\n",
    "5. ¿Cuáles son los 20 principales artículos que la gente pone primero en sus carritos (muestra las IDs de los productos, sus nombres, y el número de veces en que fueron el primer artículo en añadirse al carrito)?"
   ]
  },
  {
   "cell_type": "markdown",
   "id": "romantic-deposit",
   "metadata": {
    "id": "romantic-deposit"
   },
   "source": [
    "### [C1] ¿Cuántos artículos compran normalmente las personas en un pedido? ¿Cómo es la distribución?"
   ]
  },
  {
   "cell_type": "code",
   "execution_count": 270,
   "id": "virtual-punch",
   "metadata": {
    "id": "virtual-punch"
   },
   "outputs": [
    {
     "name": "stdout",
     "output_type": "stream",
     "text": [
      "count    450046.000000\n",
      "mean         10.098983\n",
      "std           7.540206\n",
      "min           1.000000\n",
      "25%           5.000000\n",
      "50%           8.000000\n",
      "75%          14.000000\n",
      "max         127.000000\n",
      "dtype: float64\n"
     ]
    }
   ],
   "source": [
    "order_sizes = df_order_products.groupby('order_id').size()\n",
    "print(order_sizes.describe())"
   ]
  },
  {
   "cell_type": "code",
   "execution_count": 271,
   "id": "sensitive-breathing",
   "metadata": {
    "id": "sensitive-breathing"
   },
   "outputs": [
    {
     "data": {
      "image/png": "[encoded data removed]",
      "text/plain": [
       "<Figure size 1000x500 with 1 Axes>"
      ]
     },
     "metadata": {},
     "output_type": "display_data"
    }
   ],
   "source": [
    "import matplotlib.pyplot as plt\n",
    "\n",
    "# Histograma de la cantidad de artículos por pedido\n",
    "plt.figure(figsize=(10,5))\n",
    "plt.hist(order_sizes, bins=50, edgecolor='black')\n",
    "plt.xlabel('Número de artículos por pedido')\n",
    "plt.ylabel('Frecuencia')\n",
    "plt.title('Distribución del número de artículos por pedido')\n",
    "plt.yscale('log')  # Escala logarítmica para mejor visualización\n",
    "plt.show()"
   ]
  },
  {
   "cell_type": "code",
   "execution_count": null,
   "id": "completed-frank",
   "metadata": {
    "id": "completed-frank"
   },
   "outputs": [],
   "source": []
  },
  {
   "cell_type": "markdown",
   "id": "designed-mortality",
   "metadata": {
    "id": "designed-mortality"
   },
   "source": [
    "Escribe aquí tus conclusiones.Promedio de artículos por pedido: ~10.1 Mediana: 8 (el 50% de los pedidos tienen 8 artículos o menos). Máximo: 127 artículos en un solo pedido. La mayoría de los pedidos tienen menos de 20 artículos, pero hay algunos pedidos grandes.\n",
    "El histograma está en escala logarítmica, lo que ayuda a visualizar los pedidos con muchas compras.\n",
    "Hay una disminución exponencial, lo que indica que la mayoría de los pedidos contienen pocos artículos y solo un pequeño porcentaje tiene muchos.\n"
   ]
  },
  {
   "cell_type": "markdown",
   "id": "5e6b5537",
   "metadata": {
    "id": "5e6b5537"
   },
   "source": [
    "### [C2] ¿Cuáles son los 20 principales artículos que vuelven a pedirse con mayor frecuencia (muestra sus nombres e IDs de los productos)?"
   ]
  },
  {
   "cell_type": "code",
   "execution_count": 272,
   "id": "9374e55a",
   "metadata": {
    "id": "9374e55a"
   },
   "outputs": [
    {
     "name": "stdout",
     "output_type": "stream",
     "text": [
      "    product_id  reorder_count\n",
      "0        24852          55763\n",
      "1        13176          44450\n",
      "2        21137          28639\n",
      "3        21903          26233\n",
      "4        47209          23629\n",
      "5        47766          18743\n",
      "6        27845          16251\n",
      "7        47626          15044\n",
      "8        27966          14748\n",
      "9        16797          13945\n",
      "10       26209          13327\n",
      "11       22935          11145\n",
      "12       24964          10411\n",
      "13       45007          10076\n",
      "14       49683           9538\n",
      "15       28204           8989\n",
      "16        8277           8836\n",
      "17       39275           8799\n",
      "18        5876           8412\n",
      "19       49235           8389\n"
     ]
    }
   ],
   "source": [
    "df_reordered = df_order_products[df_order_products['reordered'] == 1]\n",
    "top_reordered = df_reordered['product_id'].value_counts().head(20).reset_index()\n",
    "top_reordered.columns = ['product_id', 'reorder_count']\n",
    "print(top_reordered)"
   ]
  },
  {
   "cell_type": "code",
   "execution_count": 273,
   "id": "possible-change",
   "metadata": {
    "id": "possible-change",
    "scrolled": true
   },
   "outputs": [
    {
     "name": "stdout",
     "output_type": "stream",
     "text": [
      "    product_id  reorder_count              product_name\n",
      "0        24852          55763                    BANANA\n",
      "1        13176          44450    BAG OF ORGANIC BANANAS\n",
      "2        21137          28639      ORGANIC STRAWBERRIES\n",
      "3        21903          26233      ORGANIC BABY SPINACH\n",
      "4        47209          23629      ORGANIC HASS AVOCADO\n",
      "5        47766          18743           ORGANIC AVOCADO\n",
      "6        27845          16251        ORGANIC WHOLE MILK\n",
      "7        47626          15044               LARGE LEMON\n",
      "8        27966          14748       ORGANIC RASPBERRIES\n",
      "9        16797          13945              STRAWBERRIES\n",
      "10       26209          13327                     LIMES\n",
      "11       22935          11145      ORGANIC YELLOW ONION\n",
      "12       24964          10411            ORGANIC GARLIC\n",
      "13       45007          10076          ORGANIC ZUCCHINI\n",
      "14       49683           9538            CUCUMBER KIRBY\n",
      "15       28204           8989        ORGANIC FUJI APPLE\n",
      "16        8277           8836  APPLE HONEYCRISP ORGANIC\n",
      "17       39275           8799       ORGANIC BLUEBERRIES\n",
      "18        5876           8412             ORGANIC LEMON\n",
      "19       49235           8389       ORGANIC HALF & HALF\n"
     ]
    }
   ],
   "source": [
    "top_reordered = top_reordered.merge(df_products[['product_id', 'product_name']], on='product_id')\n",
    "print(top_reordered)"
   ]
  },
  {
   "cell_type": "code",
   "execution_count": null,
   "id": "professional-surfing",
   "metadata": {
    "id": "professional-surfing",
    "scrolled": true
   },
   "outputs": [],
   "source": []
  },
  {
   "cell_type": "code",
   "execution_count": null,
   "id": "48dd3658",
   "metadata": {
    "id": "48dd3658"
   },
   "outputs": [],
   "source": []
  },
  {
   "cell_type": "markdown",
   "id": "80e70c74",
   "metadata": {
    "id": "80e70c74"
   },
   "source": [
    "Escribe aquí tus conclusiones.\n",
    "Los artículos más reordenados son frutas y verduras orgánicas, como plátanos, fresas, espinaca, aguacates y cebollas. La leche entera orgánica está entre los productos más reordenados, indicando que los lácteos son esenciales en la lista de compras frecuente."
   ]
  },
  {
   "cell_type": "markdown",
   "id": "9d312b14",
   "metadata": {
    "id": "9d312b14"
   },
   "source": [
    "### [C3] Para cada producto, ¿cuál es la proporción de las veces que se pide y que se vuelve a pedir?"
   ]
  },
  {
   "cell_type": "code",
   "execution_count": 279,
   "id": "8ae9f4b1",
   "metadata": {
    "id": "8ae9f4b1"
   },
   "outputs": [
    {
     "name": "stdout",
     "output_type": "stream",
     "text": [
      "       product_id  total_orders  reordered_count  reorder_ratio  repeat_rate  \\\n",
      "0           24274             2              2.0            1.0          1.0   \n",
      "1           22779             1              1.0            1.0          1.0   \n",
      "2           10122             1              1.0            1.0          1.0   \n",
      "3           12942             1              1.0            1.0          1.0   \n",
      "4           13001             1              1.0            1.0          1.0   \n",
      "...           ...           ...              ...            ...          ...   \n",
      "45568       35620             1              0.0            0.0          0.0   \n",
      "45569       34348             1              0.0            0.0          0.0   \n",
      "45570       11056             1              0.0            0.0          0.0   \n",
      "45571       18129             1              0.0            0.0          0.0   \n",
      "45572       32074             1              0.0            0.0          0.0   \n",
      "\n",
      "                                          product_name_x  \\\n",
      "0                       FAT FREE AMERICAN CHEESE SINGLES   \n",
      "1      BACK ON TRACT HIBISCUS CRANBERRY NATURALLY CAF...   \n",
      "2                              HOT & SPICY MENUDO PICOSO   \n",
      "3                                 CLASSIC LIME MARGARITA   \n",
      "4                                COUSCOUS- LEMON SPINACH   \n",
      "...                                                  ...   \n",
      "45568  POWERCORE COLOR PROTECTOR LAUNDRY DETERGENT 50...   \n",
      "45569           ORGANIC VEGETARIAN 3 BEAN CHIPOLTE CHILI   \n",
      "45570                                            SCHLOSS   \n",
      "45571                     FANCY MIXED CHINESE VEGETABLES   \n",
      "45572                      UNSCENTED SENSITIVE BODY WASH   \n",
      "\n",
      "                                          product_name_y  \n",
      "0                       FAT FREE AMERICAN CHEESE SINGLES  \n",
      "1      BACK ON TRACT HIBISCUS CRANBERRY NATURALLY CAF...  \n",
      "2                              HOT & SPICY MENUDO PICOSO  \n",
      "3                                 CLASSIC LIME MARGARITA  \n",
      "4                                COUSCOUS- LEMON SPINACH  \n",
      "...                                                  ...  \n",
      "45568  POWERCORE COLOR PROTECTOR LAUNDRY DETERGENT 50...  \n",
      "45569           ORGANIC VEGETARIAN 3 BEAN CHIPOLTE CHILI  \n",
      "45570                                            SCHLOSS  \n",
      "45571                     FANCY MIXED CHINESE VEGETABLES  \n",
      "45572                      UNSCENTED SENSITIVE BODY WASH  \n",
      "\n",
      "[45573 rows x 7 columns]\n"
     ]
    }
   ],
   "source": [
    "product_reorder_ratio['repeat_rate'] = product_reorder_ratio['reordered_count'] / product_reorder_ratio['total_orders']\n",
    "product_reorder_ratio = product_reorder_ratio.sort_values(by='repeat_rate', ascending=False)\n",
    "product_reorder_ratio = product_reorder_ratio.merge(df_products[['product_id', 'product_name']], on='product_id')\n",
    "print(product_reorder_ratio)"
   ]
  },
  {
   "cell_type": "code",
   "execution_count": null,
   "id": "103e7fe1",
   "metadata": {
    "id": "103e7fe1"
   },
   "outputs": [],
   "source": []
  },
  {
   "cell_type": "code",
   "execution_count": null,
   "id": "social-individual",
   "metadata": {
    "id": "social-individual"
   },
   "outputs": [],
   "source": []
  },
  {
   "cell_type": "markdown",
   "id": "I10dEIAyldcO",
   "metadata": {
    "id": "I10dEIAyldcO"
   },
   "source": [
    "Escribe aquí tus conclusiones:Algunos productos tienen una tasa de reorden del 100% (reorder_ratio = 1.0). Esto significa que cada vez que estos productos fueron pedidos, los clientes los volvieron a comprar en pedidos futuros. Ejemplo: Productos con total_orders = 2 y reordered_count = 2 tienen un ratio de 1.0.\n",
    "Hay productos con una tasa de reorden baja o nula (reorder_ratio = 0.0). Estos productos se han pedido, pero nunca han sido reordenados por los clientes. Puede deberse a que son productos de compra única o que no generan fidelidad.\n",
    "Existen productos con una gran cantidad de pedidos y con un ratio alto, lo que indica que los clientes los incluyen recurrentemente en sus compras. Aunque reorder_ratio y repeat_rate parecen similares, la tasa de repetición mide la fidelidad del producto a nivel de pedidos individuales, mientras que el ratio de reorden mide la proporción de veces que un producto ha sido reordenado en general."
   ]
  },
  {
   "cell_type": "markdown",
   "id": "subject-boxing",
   "metadata": {
    "id": "subject-boxing"
   },
   "source": [
    "### [C4] Para cada cliente, ¿qué proporción de sus productos ya los había pedido?"
   ]
  },
  {
   "cell_type": "code",
   "execution_count": 281,
   "id": "medical-couple",
   "metadata": {
    "id": "medical-couple",
    "scrolled": true
   },
   "outputs": [
    {
     "name": "stdout",
     "output_type": "stream",
     "text": [
      "        user_id  total_products  reordered_products  repeat_product_ratio\n",
      "0             2              26                 1.0              0.038462\n",
      "1             4               2                 0.0              0.000000\n",
      "2             5              12                 8.0              0.666667\n",
      "3             6               4                 0.0              0.000000\n",
      "4             7              14                13.0              0.928571\n",
      "...         ...             ...                 ...                   ...\n",
      "149621   206203              27                 6.0              0.222222\n",
      "149622   206206              21                15.0              0.714286\n",
      "149623   206207              46                41.0              0.891304\n",
      "149624   206208             125                87.0              0.696000\n",
      "149625   206209              25                 8.0              0.320000\n",
      "\n",
      "[149626 rows x 4 columns]\n"
     ]
    }
   ],
   "source": [
    "# Contar el total de productos pedidos por cada cliente\n",
    "total_products_per_user = df_order_products.merge(df_orders[['order_id', 'user_id']], on='order_id')\n",
    "total_products_per_user = total_products_per_user.groupby('user_id')['product_id'].count().reset_index()\n",
    "total_products_per_user.columns = ['user_id', 'total_products']\n",
    "\n",
    "# Contar el total de productos reordenados por cada cliente\n",
    "reordered_products_per_user = df_order_products[df_order_products['reordered'] == 1].merge(df_orders[['order_id', 'user_id']], on='order_id')\n",
    "reordered_products_per_user = reordered_products_per_user.groupby('user_id')['product_id'].count().reset_index()\n",
    "reordered_products_per_user.columns = ['user_id', 'reordered_products']\n",
    "\n",
    "# Unir ambas tablas\n",
    "user_reorder_ratio = total_products_per_user.merge(reordered_products_per_user, on='user_id', how='left')\n",
    "\n",
    "# Rellenar valores NaN en 'reordered_products' con 0 (para clientes que nunca reordenaron)\n",
    "user_reorder_ratio['reordered_products'].fillna(0, inplace=True)\n",
    "\n",
    "# Calcular la proporción de productos reordenados\n",
    "user_reorder_ratio['repeat_product_ratio'] = user_reorder_ratio['reordered_products'] / user_reorder_ratio['total_products']\n",
    "\n",
    "print(user_reorder_ratio)"
   ]
  },
  {
   "cell_type": "code",
   "execution_count": null,
   "id": "8892e4b4",
   "metadata": {
    "id": "8892e4b4"
   },
   "outputs": [],
   "source": []
  },
  {
   "cell_type": "markdown",
   "id": "BgJSvXDsleXz",
   "metadata": {
    "id": "BgJSvXDsleXz"
   },
   "source": [
    "Escribe aquí tus conclusiones. Hay clientes que casi siempre reordenan los mismos productos.Usuarios con repeat_product_ratio cercano a 1.0 indican que la mayoría de los productos que compran ya los habían pedido antes.\n",
    "Por ejemplo, el usuario con 13 productos en total y 12 reordenados tiene una tasa de 0.92, lo que sugiere un patrón de compra repetitivo y lealtad a ciertos productos.\n",
    "Existen clientes que casi nunca repiten productos. Usuarios con valores bajos, como repeat_product_ratio = 0.03, indican que la mayoría de sus compras son de productos nuevos.\n",
    "Esto sugiere que estos clientes pueden estar explorando productos o comprando artículos de baja recurrencia."
   ]
  },
  {
   "cell_type": "markdown",
   "id": "92d35137",
   "metadata": {
    "id": "92d35137"
   },
   "source": [
    "### [C5] ¿Cuáles son los 20 principales artículos que las personas ponen primero en sus carritos?"
   ]
  },
  {
   "cell_type": "code",
   "execution_count": 283,
   "id": "0ae57274",
   "metadata": {
    "id": "0ae57274",
    "scrolled": true
   },
   "outputs": [
    {
     "name": "stdout",
     "output_type": "stream",
     "text": [
      "    product_id  first_added_count                 product_name\n",
      "0        24852              15562                       BANANA\n",
      "1        13176              11026       BAG OF ORGANIC BANANAS\n",
      "2        27845               4363           ORGANIC WHOLE MILK\n",
      "3        21137               3946         ORGANIC STRAWBERRIES\n",
      "4        47209               3390         ORGANIC HASS AVOCADO\n",
      "5        21903               3336         ORGANIC BABY SPINACH\n",
      "6        47766               3044              ORGANIC AVOCADO\n",
      "7        19660               2336                 SPRING WATER\n",
      "8        16797               2308                 STRAWBERRIES\n",
      "9        27966               2024          ORGANIC RASPBERRIES\n",
      "10       44632               1914   SPARKLING WATER GRAPEFRUIT\n",
      "11       49235               1797          ORGANIC HALF & HALF\n",
      "12       47626               1737                  LARGE LEMON\n",
      "13         196               1733                         SODA\n",
      "14       38689               1397     ORGANIC REDUCED FAT MILK\n",
      "15       26209               1370                        LIMES\n",
      "16       12341               1340                HASS AVOCADOS\n",
      "17        5785               1310  ORGANIC REDUCED FAT 2% MILK\n",
      "18       27086               1309                  HALF & HALF\n",
      "19       22935               1246         ORGANIC YELLOW ONION\n"
     ]
    }
   ],
   "source": [
    "first_added_products = df_order_products[df_order_products['add_to_cart_order'] == 1]\n",
    "first_added_counts = first_added_products['product_id'].value_counts().reset_index()\n",
    "first_added_counts.columns = ['product_id', 'first_added_count']\n",
    "first_added_counts = first_added_counts.merge(df_products[['product_id', 'product_name']], on='product_id')\n",
    "top_first_added = first_added_counts.head(20)\n",
    "print(top_first_added)\n"
   ]
  },
  {
   "cell_type": "code",
   "execution_count": null,
   "id": "forty-netherlands",
   "metadata": {
    "id": "forty-netherlands",
    "scrolled": true
   },
   "outputs": [],
   "source": []
  },
  {
   "cell_type": "code",
   "execution_count": null,
   "id": "08e41ec2",
   "metadata": {
    "id": "08e41ec2"
   },
   "outputs": [],
   "source": []
  },
  {
   "cell_type": "markdown",
   "id": "28ce9872",
   "metadata": {
    "id": "28ce9872"
   },
   "source": [
    "Escribe aquí tus conclusiones. Con 15,562 veces, la BANANA lidera la lista, lo que sugiere que los clientes los consideran un producto esencial en sus compras. Los productos orgánicos dominan la lista. Lácteos y frutas encabezan la prioridad en las compras.Bebidas y agua con gas también aparecen en la lista."
   ]
  },
  {
   "cell_type": "markdown",
   "id": "9ff3a681",
   "metadata": {},
   "source": [
    "<div class=\"alert alert-block alert-success\">  \n",
    "<b>Comentario del revisor</b> <a class=\"tocSkip\"></a><br>  \n",
    "<b>Éxito</b> - Excelente análisis en esta sección. Has identificado patrones clave en la compra de productos y la fidelidad de los clientes de manera detallada. Las conclusiones están bien fundamentadas y reflejan un sólido manejo de los datos. Continúa aplicando este nivel de profundidad en tus análisis.  \n",
    "</div>"
   ]
  },
  {
   "cell_type": "markdown",
   "id": "uITbFCEoDosC",
   "metadata": {
    "id": "uITbFCEoDosC"
   },
   "source": [
    "### Conclusion general del proyecto:"
   ]
  },
  {
   "cell_type": "code",
   "execution_count": 284,
   "id": "Nk-4GS7mDwqY",
   "metadata": {
    "id": "Nk-4GS7mDwqY"
   },
   "outputs": [
    {
     "ename": "SyntaxError",
     "evalue": "invalid syntax (3523150607.py, line 1)",
     "output_type": "error",
     "traceback": [
      "\u001b[0;36m  Cell \u001b[0;32mIn[284], line 1\u001b[0;36m\u001b[0m\n\u001b[0;31m    Patrones de Compra: Puedes identificar tendencias en los pedidos, como los días y horas con mayor actividad o los productos más frecuentemente comprados.\u001b[0m\n\u001b[0m             ^\u001b[0m\n\u001b[0;31mSyntaxError\u001b[0m\u001b[0;31m:\u001b[0m invalid syntax\n"
     ]
    }
   ],
   "source": [
    "Patrones de Compra: Puedes identificar tendencias en los pedidos, como los días y horas con mayor actividad o los productos más frecuentemente comprados.\n",
    "Comportamiento del Cliente: Analizar cuántos clientes repiten compras, qué tan frecuente es la recompra de productos y si hay productos que tienden a ser añadidos al carrito en conjunto.\n",
    "Segmentación de Productos: Identificar los pasillos y departamentos con mayor demanda, lo que puede ayudar a mejorar la organización del inventario.\n",
    "Optimización del Reabastecimiento: Si los datos muestran que ciertos productos se reordenan con alta frecuencia, se pueden hacer recomendaciones a los clientes para facilitar la recompra.\n",
    "Estrategias de Marketing: Con base en los datos de comportamiento de los clientes, se pueden desarrollar campañas de fidelización y recomendaciones personalizadas.        "
   ]
  },
  {
   "cell_type": "markdown",
   "id": "79de16e4",
   "metadata": {},
   "source": [
    "# Comentario general del revisor "
   ]
  },
  {
   "cell_type": "markdown",
   "id": "857e13c6",
   "metadata": {},
   "source": [
    "  \n",
    "\n",
    "<div class=\"alert alert-block alert-success\">  \n",
    "<b>Comentario del revisor</b> <a class=\"tocSkip\"></a>  \n",
    "\n",
    "¡Felicidades Valentina! Tu proyecto está **aprobado**. Has demostrado un excelente manejo del preprocesamiento y análisis de datos, aplicando correctamente técnicas de limpieza, visualización e interpretación de resultados. A continuación, destaco los puntos positivos y algunas áreas interesantes para seguir investigando:  \n",
    "\n",
    "**Puntos Positivos:** \n",
    "    \n",
    "- **Limpieza de datos precisa:** Identificaste y corregiste valores ausentes y duplicados con un enfoque bien estructurado.  \n",
    "- **Visualización clara y efectiva:** Tus gráficos ayudan a comprender patrones clave en los pedidos.  \n",
    "- **Análisis detallado del comportamiento del cliente:** La exploración de productos reordenados y patrones de compra fue bien ejecutada.  \n",
    "- **Código bien organizado:** Implementaste cada paso de manera lógica, con explicaciones adecuadas para respaldar tus hallazgos.  \n",
    "\n",
    "**Áreas para Seguir Investigando:**  \n",
    "    \n",
    "- **Optimización de consultas:** Explora cómo mejorar la eficiencia del código para grandes volúmenes de datos.  \n",
    "- **Análisis de cohortes:** Identificar tendencias a lo largo del tiempo según el comportamiento de los clientes.  \n",
    "- **Modelado predictivo:** Implementar modelos de predicción para sugerir productos con alta probabilidad de recompra.  \n",
    "- **Segmentación de clientes:** Aplicar clustering para identificar perfiles de compradores y estrategias de personalización.  \n",
    "\n",
    "¡Sigue así, estás haciendo un gran trabajo!   \n",
    "</div>"
   ]
  },
  {
   "cell_type": "code",
   "execution_count": null,
   "id": "1f5e6c7d",
   "metadata": {},
   "outputs": [],
   "source": []
  }
 ],
 "metadata": {
  "ExecuteTimeLog": [
   {
    "duration": 2177,
    "start_time": "2025-03-12T17:58:43.182Z"
   },
   {
    "duration": 5,
    "start_time": "2025-03-12T18:00:22.744Z"
   },
   {
    "duration": 4,
    "start_time": "2025-03-12T18:00:55.776Z"
   },
   {
    "duration": 529,
    "start_time": "2025-03-12T18:07:55.327Z"
   },
   {
    "duration": 286,
    "start_time": "2025-03-12T18:08:44.399Z"
   },
   {
    "duration": 2,
    "start_time": "2025-03-12T18:08:52.811Z"
   },
   {
    "duration": 2486,
    "start_time": "2025-03-12T18:11:40.617Z"
   },
   {
    "duration": 2201,
    "start_time": "2025-03-12T18:15:12.761Z"
   },
   {
    "duration": 6,
    "start_time": "2025-03-12T18:15:53.273Z"
   },
   {
    "duration": 5,
    "start_time": "2025-03-12T18:16:16.597Z"
   },
   {
    "duration": 5,
    "start_time": "2025-03-12T18:16:40.279Z"
   },
   {
    "duration": 4,
    "start_time": "2025-03-12T18:17:02.512Z"
   },
   {
    "duration": 5,
    "start_time": "2025-03-12T18:17:25.538Z"
   },
   {
    "duration": 22,
    "start_time": "2025-03-12T18:23:14.403Z"
   },
   {
    "duration": 5,
    "start_time": "2025-03-12T18:23:44.924Z"
   },
   {
    "duration": 19,
    "start_time": "2025-03-12T18:24:03.850Z"
   },
   {
    "duration": 5,
    "start_time": "2025-03-12T18:25:59.377Z"
   },
   {
    "duration": 13,
    "start_time": "2025-03-12T20:55:28.487Z"
   },
   {
    "duration": 21,
    "start_time": "2025-03-12T20:56:29.181Z"
   },
   {
    "duration": 10,
    "start_time": "2025-03-12T20:57:03.243Z"
   },
   {
    "duration": 8,
    "start_time": "2025-03-12T20:57:22.718Z"
   },
   {
    "duration": 8,
    "start_time": "2025-03-12T20:57:39.655Z"
   },
   {
    "duration": 7,
    "start_time": "2025-03-12T20:57:52.386Z"
   },
   {
    "duration": 155,
    "start_time": "2025-03-13T16:32:21.436Z"
   },
   {
    "duration": 2701,
    "start_time": "2025-03-13T16:34:15.604Z"
   },
   {
    "duration": 562,
    "start_time": "2025-03-13T17:34:52.642Z"
   },
   {
    "duration": 398,
    "start_time": "2025-03-13T17:35:11.390Z"
   },
   {
    "duration": 400,
    "start_time": "2025-03-13T17:35:40.389Z"
   },
   {
    "duration": 471,
    "start_time": "2025-03-13T17:36:20.556Z"
   },
   {
    "duration": 514,
    "start_time": "2025-03-13T17:38:17.680Z"
   },
   {
    "duration": 318,
    "start_time": "2025-03-13T17:38:29.414Z"
   },
   {
    "duration": 20,
    "start_time": "2025-03-13T17:40:32.848Z"
   },
   {
    "duration": 13,
    "start_time": "2025-03-13T17:41:10.119Z"
   },
   {
    "duration": 13,
    "start_time": "2025-03-13T17:41:21.159Z"
   },
   {
    "duration": 22,
    "start_time": "2025-03-13T17:41:27.710Z"
   },
   {
    "duration": 274,
    "start_time": "2025-03-13T17:42:20.019Z"
   },
   {
    "duration": 54,
    "start_time": "2025-03-13T17:42:36.978Z"
   },
   {
    "duration": 11,
    "start_time": "2025-03-13T17:42:52.876Z"
   },
   {
    "duration": 11,
    "start_time": "2025-03-13T17:43:17.315Z"
   },
   {
    "duration": 2440,
    "start_time": "2025-03-13T17:43:45.488Z"
   },
   {
    "duration": 476,
    "start_time": "2025-03-13T17:45:06.733Z"
   },
   {
    "duration": 3,
    "start_time": "2025-03-13T17:55:38.909Z"
   },
   {
    "duration": 2122,
    "start_time": "2025-03-13T17:55:44.844Z"
   },
   {
    "duration": 296,
    "start_time": "2025-03-13T17:55:47.739Z"
   },
   {
    "duration": 35,
    "start_time": "2025-03-13T17:56:06.738Z"
   },
   {
    "duration": 10,
    "start_time": "2025-03-13T17:56:10.611Z"
   },
   {
    "duration": 10,
    "start_time": "2025-03-13T17:56:17.651Z"
   },
   {
    "duration": 2008,
    "start_time": "2025-03-13T17:56:22.865Z"
   },
   {
    "duration": 2,
    "start_time": "2025-03-13T18:11:04.346Z"
   },
   {
    "duration": 2164,
    "start_time": "2025-03-13T18:11:07.223Z"
   },
   {
    "duration": 275,
    "start_time": "2025-03-13T18:11:09.389Z"
   },
   {
    "duration": 42,
    "start_time": "2025-03-13T18:11:09.666Z"
   },
   {
    "duration": 9,
    "start_time": "2025-03-13T18:11:09.710Z"
   },
   {
    "duration": 10,
    "start_time": "2025-03-13T18:11:13.709Z"
   },
   {
    "duration": 1906,
    "start_time": "2025-03-13T18:11:38.185Z"
   },
   {
    "duration": 427,
    "start_time": "2025-03-13T18:13:14.240Z"
   },
   {
    "duration": 438,
    "start_time": "2025-03-13T18:18:21.211Z"
   },
   {
    "duration": 491,
    "start_time": "2025-03-13T18:20:11.462Z"
   },
   {
    "duration": 424,
    "start_time": "2025-03-13T18:20:24.489Z"
   },
   {
    "duration": 429,
    "start_time": "2025-03-13T18:20:47.002Z"
   },
   {
    "duration": 238,
    "start_time": "2025-03-13T18:30:20.648Z"
   },
   {
    "duration": 254,
    "start_time": "2025-03-13T18:50:58.028Z"
   },
   {
    "duration": 5,
    "start_time": "2025-03-13T18:56:09.980Z"
   },
   {
    "duration": 4,
    "start_time": "2025-03-13T18:56:20.244Z"
   },
   {
    "duration": 4,
    "start_time": "2025-03-13T18:57:07.571Z"
   },
   {
    "duration": 438,
    "start_time": "2025-03-13T18:57:13.707Z"
   },
   {
    "duration": 425,
    "start_time": "2025-03-13T18:57:39.810Z"
   },
   {
    "duration": 416,
    "start_time": "2025-03-13T18:57:57.315Z"
   },
   {
    "duration": 667,
    "start_time": "2025-03-13T19:07:31.457Z"
   },
   {
    "duration": 422,
    "start_time": "2025-03-13T19:19:33.140Z"
   },
   {
    "duration": 258,
    "start_time": "2025-03-13T19:25:01.147Z"
   },
   {
    "duration": 5,
    "start_time": "2025-03-13T19:41:40.129Z"
   },
   {
    "duration": 265,
    "start_time": "2025-03-13T19:41:57.879Z"
   },
   {
    "duration": 551,
    "start_time": "2025-03-13T19:42:20.027Z"
   },
   {
    "duration": 7,
    "start_time": "2025-03-13T19:45:33.497Z"
   },
   {
    "duration": 293,
    "start_time": "2025-03-13T19:45:43.278Z"
   },
   {
    "duration": 270,
    "start_time": "2025-03-13T19:53:27.180Z"
   },
   {
    "duration": 262,
    "start_time": "2025-03-13T19:54:04.652Z"
   },
   {
    "duration": 306,
    "start_time": "2025-03-13T19:58:06.803Z"
   },
   {
    "duration": 275,
    "start_time": "2025-03-13T19:58:29.728Z"
   },
   {
    "duration": 717,
    "start_time": "2025-03-13T20:02:01.018Z"
   },
   {
    "duration": 405,
    "start_time": "2025-03-13T20:03:29.017Z"
   },
   {
    "duration": 2,
    "start_time": "2025-03-13T20:03:51.243Z"
   },
   {
    "duration": 2189,
    "start_time": "2025-03-13T20:03:54.768Z"
   },
   {
    "duration": 285,
    "start_time": "2025-03-13T20:03:56.959Z"
   },
   {
    "duration": 37,
    "start_time": "2025-03-13T20:03:59.513Z"
   },
   {
    "duration": 10,
    "start_time": "2025-03-13T20:04:00.781Z"
   },
   {
    "duration": 9,
    "start_time": "2025-03-13T20:04:03.320Z"
   },
   {
    "duration": 1933,
    "start_time": "2025-03-13T20:04:05.604Z"
   },
   {
    "duration": 290,
    "start_time": "2025-03-13T21:23:24.736Z"
   },
   {
    "duration": 303,
    "start_time": "2025-03-13T21:23:39.185Z"
   },
   {
    "duration": 302,
    "start_time": "2025-03-13T21:29:55.993Z"
   },
   {
    "duration": 283,
    "start_time": "2025-03-13T21:42:53.831Z"
   },
   {
    "duration": 312,
    "start_time": "2025-03-13T21:44:05.024Z"
   },
   {
    "duration": 276,
    "start_time": "2025-03-13T21:44:35.323Z"
   },
   {
    "duration": 4,
    "start_time": "2025-03-13T21:45:45.725Z"
   },
   {
    "duration": 4,
    "start_time": "2025-03-13T21:46:03.705Z"
   },
   {
    "duration": 247,
    "start_time": "2025-03-13T21:46:18.601Z"
   },
   {
    "duration": 272,
    "start_time": "2025-03-13T21:46:55.231Z"
   },
   {
    "duration": 423,
    "start_time": "2025-03-13T21:47:45.842Z"
   },
   {
    "duration": 280,
    "start_time": "2025-03-13T21:50:14.359Z"
   },
   {
    "duration": 118,
    "start_time": "2025-03-13T21:52:55.267Z"
   },
   {
    "duration": 112,
    "start_time": "2025-03-13T21:53:40.396Z"
   },
   {
    "duration": 112,
    "start_time": "2025-03-13T21:54:06.707Z"
   },
   {
    "duration": 115,
    "start_time": "2025-03-13T21:54:57.128Z"
   },
   {
    "duration": 38,
    "start_time": "2025-03-13T21:55:25.236Z"
   },
   {
    "duration": 11,
    "start_time": "2025-03-13T21:55:32.509Z"
   },
   {
    "duration": 752,
    "start_time": "2025-03-13T21:55:38.835Z"
   },
   {
    "duration": 179,
    "start_time": "2025-03-13T21:56:10.878Z"
   },
   {
    "duration": 4,
    "start_time": "2025-03-13T21:56:27.589Z"
   },
   {
    "duration": 173,
    "start_time": "2025-03-13T21:56:34.386Z"
   },
   {
    "duration": 86,
    "start_time": "2025-03-13T22:30:56.873Z"
   },
   {
    "duration": 186,
    "start_time": "2025-03-13T22:33:54.354Z"
   },
   {
    "duration": 108,
    "start_time": "2025-03-13T22:35:31.523Z"
   },
   {
    "duration": 186,
    "start_time": "2025-03-13T22:40:23.427Z"
   },
   {
    "duration": 179,
    "start_time": "2025-03-13T22:41:01.910Z"
   },
   {
    "duration": 186,
    "start_time": "2025-03-13T22:43:19.897Z"
   },
   {
    "duration": 77,
    "start_time": "2025-03-13T22:44:15.677Z"
   },
   {
    "duration": 82,
    "start_time": "2025-03-13T22:44:47.475Z"
   },
   {
    "duration": 70,
    "start_time": "2025-03-13T22:45:39.527Z"
   },
   {
    "duration": 175,
    "start_time": "2025-03-13T22:46:33.639Z"
   },
   {
    "duration": 167,
    "start_time": "2025-03-13T22:46:38.571Z"
   },
   {
    "duration": 156,
    "start_time": "2025-03-13T22:49:54.062Z"
   },
   {
    "duration": 264,
    "start_time": "2025-03-13T22:58:49.384Z"
   },
   {
    "duration": 7,
    "start_time": "2025-03-13T23:01:03.653Z"
   },
   {
    "duration": 76,
    "start_time": "2025-03-13T23:01:47.933Z"
   },
   {
    "duration": 74,
    "start_time": "2025-03-13T23:02:00.951Z"
   },
   {
    "duration": 41,
    "start_time": "2025-03-13T23:02:59.804Z"
   },
   {
    "duration": 69,
    "start_time": "2025-03-13T23:04:29.625Z"
   },
   {
    "duration": 41,
    "start_time": "2025-03-13T23:04:47.813Z"
   },
   {
    "duration": 168,
    "start_time": "2025-03-13T23:05:12.625Z"
   },
   {
    "duration": 7,
    "start_time": "2025-03-13T23:05:36.724Z"
   },
   {
    "duration": 88,
    "start_time": "2025-03-13T23:06:19.670Z"
   },
   {
    "duration": 186,
    "start_time": "2025-03-13T23:06:52.073Z"
   },
   {
    "duration": 275,
    "start_time": "2025-03-13T23:07:27.448Z"
   },
   {
    "duration": 130,
    "start_time": "2025-03-13T23:09:54.821Z"
   },
   {
    "duration": 16,
    "start_time": "2025-03-13T23:10:57.405Z"
   },
   {
    "duration": 119,
    "start_time": "2025-03-13T23:11:23.327Z"
   },
   {
    "duration": 87,
    "start_time": "2025-03-13T23:12:14.055Z"
   },
   {
    "duration": 78,
    "start_time": "2025-03-13T23:13:09.036Z"
   },
   {
    "duration": 41,
    "start_time": "2025-03-13T23:15:35.109Z"
   },
   {
    "duration": 42,
    "start_time": "2025-03-13T23:22:37.141Z"
   },
   {
    "duration": 10,
    "start_time": "2025-03-13T23:28:48.401Z"
   },
   {
    "duration": 18,
    "start_time": "2025-03-13T23:56:58.138Z"
   },
   {
    "duration": 15,
    "start_time": "2025-03-13T23:57:06.639Z"
   },
   {
    "duration": 30,
    "start_time": "2025-03-14T00:03:19.382Z"
   },
   {
    "duration": 159,
    "start_time": "2025-03-14T00:24:10.979Z"
   },
   {
    "duration": 7,
    "start_time": "2025-03-14T00:25:59.911Z"
   },
   {
    "duration": 38,
    "start_time": "2025-03-14T00:26:59.212Z"
   },
   {
    "duration": 24,
    "start_time": "2025-03-14T00:27:39.844Z"
   },
   {
    "duration": 32,
    "start_time": "2025-03-14T00:28:17.793Z"
   },
   {
    "duration": 18,
    "start_time": "2025-03-14T00:31:21.862Z"
   },
   {
    "duration": 18,
    "start_time": "2025-03-14T00:33:21.391Z"
   },
   {
    "duration": 4,
    "start_time": "2025-03-14T00:34:12.291Z"
   },
   {
    "duration": 30,
    "start_time": "2025-03-14T00:34:46.659Z"
   },
   {
    "duration": 9,
    "start_time": "2025-03-14T01:44:39.070Z"
   },
   {
    "duration": 14,
    "start_time": "2025-03-14T01:48:22.935Z"
   },
   {
    "duration": 13,
    "start_time": "2025-03-14T01:48:42.609Z"
   },
   {
    "duration": 5,
    "start_time": "2025-03-14T01:52:04.648Z"
   },
   {
    "duration": 7,
    "start_time": "2025-03-14T01:53:20.580Z"
   },
   {
    "duration": 5,
    "start_time": "2025-03-14T01:53:39.037Z"
   },
   {
    "duration": 249,
    "start_time": "2025-03-14T02:17:14.623Z"
   },
   {
    "duration": 173,
    "start_time": "2025-03-14T02:21:48.949Z"
   },
   {
    "duration": 7,
    "start_time": "2025-03-14T02:32:18.382Z"
   },
   {
    "duration": 2288,
    "start_time": "2025-03-14T03:05:50.829Z"
   },
   {
    "duration": 973,
    "start_time": "2025-03-14T03:07:06.993Z"
   },
   {
    "duration": 848,
    "start_time": "2025-03-14T03:09:02.193Z"
   },
   {
    "duration": 110,
    "start_time": "2025-03-14T03:09:46.191Z"
   },
   {
    "duration": 38,
    "start_time": "2025-03-14T03:10:03.608Z"
   },
   {
    "duration": 10,
    "start_time": "2025-03-14T03:10:27.873Z"
   },
   {
    "duration": 11,
    "start_time": "2025-03-14T03:10:47.031Z"
   },
   {
    "duration": 742,
    "start_time": "2025-03-14T03:11:02.829Z"
   },
   {
    "duration": 2,
    "start_time": "2025-03-14T03:11:13.522Z"
   },
   {
    "duration": 849,
    "start_time": "2025-03-14T03:11:16.230Z"
   },
   {
    "duration": 106,
    "start_time": "2025-03-14T03:11:17.186Z"
   },
   {
    "duration": 38,
    "start_time": "2025-03-14T03:11:20.488Z"
   },
   {
    "duration": 50,
    "start_time": "2025-03-14T03:19:49.709Z"
   },
   {
    "duration": 49,
    "start_time": "2025-03-14T03:20:08.924Z"
   },
   {
    "duration": 42,
    "start_time": "2025-03-14T03:22:24.299Z"
   },
   {
    "duration": 9,
    "start_time": "2025-03-14T03:23:19.382Z"
   },
   {
    "duration": 10,
    "start_time": "2025-03-14T03:27:48.266Z"
   },
   {
    "duration": 12,
    "start_time": "2025-03-14T03:31:11.704Z"
   },
   {
    "duration": 12,
    "start_time": "2025-03-14T03:31:26.767Z"
   },
   {
    "duration": 11,
    "start_time": "2025-03-14T03:31:48.094Z"
   },
   {
    "duration": 13,
    "start_time": "2025-03-14T03:33:21.934Z"
   },
   {
    "duration": 9,
    "start_time": "2025-03-14T03:34:35.957Z"
   },
   {
    "duration": 38,
    "start_time": "2025-03-14T03:37:10.139Z"
   },
   {
    "duration": 44,
    "start_time": "2025-03-14T03:37:48.294Z"
   },
   {
    "duration": 7,
    "start_time": "2025-03-14T03:37:59.483Z"
   },
   {
    "duration": 15,
    "start_time": "2025-03-14T03:38:36.918Z"
   },
   {
    "duration": 24,
    "start_time": "2025-03-14T03:45:11.345Z"
   },
   {
    "duration": 7,
    "start_time": "2025-03-14T03:47:01.675Z"
   },
   {
    "duration": 21,
    "start_time": "2025-03-14T03:55:29.980Z"
   },
   {
    "duration": 6,
    "start_time": "2025-03-14T03:56:40.310Z"
   },
   {
    "duration": 5,
    "start_time": "2025-03-14T04:03:08.911Z"
   },
   {
    "duration": 5,
    "start_time": "2025-03-14T04:03:39.814Z"
   },
   {
    "duration": 4,
    "start_time": "2025-03-14T04:03:49.162Z"
   },
   {
    "duration": 4,
    "start_time": "2025-03-14T04:04:05.882Z"
   },
   {
    "duration": 3,
    "start_time": "2025-03-14T04:04:29.048Z"
   },
   {
    "duration": 4,
    "start_time": "2025-03-14T04:04:53.407Z"
   },
   {
    "duration": 8,
    "start_time": "2025-03-14T04:05:16.860Z"
   },
   {
    "duration": 9,
    "start_time": "2025-03-14T04:05:26.891Z"
   },
   {
    "duration": 11,
    "start_time": "2025-03-14T04:07:59.266Z"
   },
   {
    "duration": 9,
    "start_time": "2025-03-14T04:08:25.139Z"
   },
   {
    "duration": 12,
    "start_time": "2025-03-14T04:27:52.129Z"
   },
   {
    "duration": 9,
    "start_time": "2025-03-14T04:29:35.080Z"
   },
   {
    "duration": 8,
    "start_time": "2025-03-14T04:30:13.400Z"
   },
   {
    "duration": 8,
    "start_time": "2025-03-14T04:30:31.243Z"
   },
   {
    "duration": 82,
    "start_time": "2025-03-14T04:32:13.472Z"
   },
   {
    "duration": 157,
    "start_time": "2025-03-14T18:13:20.501Z"
   },
   {
    "duration": 1146,
    "start_time": "2025-03-14T18:14:04.924Z"
   },
   {
    "duration": 749,
    "start_time": "2025-03-14T18:20:35.835Z"
   },
   {
    "duration": 13,
    "start_time": "2025-03-14T18:21:04.253Z"
   },
   {
    "duration": 2,
    "start_time": "2025-03-14T18:22:43.491Z"
   },
   {
    "duration": 886,
    "start_time": "2025-03-14T18:22:44.744Z"
   },
   {
    "duration": 116,
    "start_time": "2025-03-14T18:22:47.402Z"
   },
   {
    "duration": 36,
    "start_time": "2025-03-14T18:22:55.877Z"
   },
   {
    "duration": 10,
    "start_time": "2025-03-14T18:23:00.829Z"
   },
   {
    "duration": 10,
    "start_time": "2025-03-14T18:23:03.923Z"
   },
   {
    "duration": 758,
    "start_time": "2025-03-14T18:23:05.809Z"
   },
   {
    "duration": 6,
    "start_time": "2025-03-14T18:36:52.166Z"
   },
   {
    "duration": 109,
    "start_time": "2025-03-14T18:37:15.047Z"
   },
   {
    "duration": 176,
    "start_time": "2025-03-14T18:42:53.841Z"
   },
   {
    "duration": 243,
    "start_time": "2025-03-14T18:43:44.977Z"
   },
   {
    "duration": 120,
    "start_time": "2025-03-14T18:57:52.651Z"
   },
   {
    "duration": 175,
    "start_time": "2025-03-14T19:00:13.242Z"
   },
   {
    "duration": 110,
    "start_time": "2025-03-14T19:02:19.544Z"
   },
   {
    "duration": 131,
    "start_time": "2025-03-14T19:02:48.607Z"
   },
   {
    "duration": 166,
    "start_time": "2025-03-14T19:04:08.843Z"
   },
   {
    "duration": 166,
    "start_time": "2025-03-14T19:10:18.951Z"
   },
   {
    "duration": 186,
    "start_time": "2025-03-14T19:11:41.684Z"
   },
   {
    "duration": 166,
    "start_time": "2025-03-14T19:12:43.927Z"
   },
   {
    "duration": 187,
    "start_time": "2025-03-14T19:15:51.577Z"
   },
   {
    "duration": 179,
    "start_time": "2025-03-14T19:19:42.539Z"
   },
   {
    "duration": 179,
    "start_time": "2025-03-14T19:21:47.413Z"
   },
   {
    "duration": 173,
    "start_time": "2025-03-14T19:22:25.638Z"
   },
   {
    "duration": 109,
    "start_time": "2025-03-14T19:22:48.245Z"
   },
   {
    "duration": 174,
    "start_time": "2025-03-14T19:24:13.596Z"
   },
   {
    "duration": 164,
    "start_time": "2025-03-14T19:24:40.675Z"
   },
   {
    "duration": 165,
    "start_time": "2025-03-14T19:25:02.320Z"
   },
   {
    "duration": 166,
    "start_time": "2025-03-14T19:26:06.973Z"
   },
   {
    "duration": 188,
    "start_time": "2025-03-14T19:28:16.513Z"
   },
   {
    "duration": 529,
    "start_time": "2025-03-14T19:28:41.112Z"
   },
   {
    "duration": 163,
    "start_time": "2025-03-14T19:28:55.816Z"
   },
   {
    "duration": 163,
    "start_time": "2025-03-14T19:30:18.766Z"
   },
   {
    "duration": 199,
    "start_time": "2025-03-14T19:31:11.668Z"
   },
   {
    "duration": 172,
    "start_time": "2025-03-14T19:44:38.322Z"
   },
   {
    "duration": 223,
    "start_time": "2025-03-14T19:45:39.668Z"
   },
   {
    "duration": 136,
    "start_time": "2025-03-14T19:46:43.056Z"
   },
   {
    "duration": 165,
    "start_time": "2025-03-14T19:50:13.183Z"
   },
   {
    "duration": 820,
    "start_time": "2025-03-14T19:56:02.139Z"
   },
   {
    "duration": 107,
    "start_time": "2025-03-14T19:56:04.011Z"
   },
   {
    "duration": 38,
    "start_time": "2025-03-14T19:56:06.579Z"
   },
   {
    "duration": 11,
    "start_time": "2025-03-14T19:56:08.355Z"
   },
   {
    "duration": 126,
    "start_time": "2025-03-14T20:28:44.596Z"
   },
   {
    "duration": 42,
    "start_time": "2025-03-14T20:29:17.397Z"
   },
   {
    "duration": 41,
    "start_time": "2025-03-14T20:29:54.825Z"
   },
   {
    "duration": 17,
    "start_time": "2025-03-14T20:30:16.216Z"
   },
   {
    "duration": 14,
    "start_time": "2025-03-14T20:30:47.522Z"
   },
   {
    "duration": 732,
    "start_time": "2025-03-14T20:31:14.931Z"
   },
   {
    "duration": 114,
    "start_time": "2025-03-14T20:34:03.337Z"
   },
   {
    "duration": 124,
    "start_time": "2025-03-14T20:34:23.394Z"
   },
   {
    "duration": 111,
    "start_time": "2025-03-14T20:38:53.587Z"
   },
   {
    "duration": 180,
    "start_time": "2025-03-14T20:39:16.362Z"
   },
   {
    "duration": 180,
    "start_time": "2025-03-14T20:40:37.297Z"
   },
   {
    "duration": 193,
    "start_time": "2025-03-14T20:41:46.407Z"
   },
   {
    "duration": 191,
    "start_time": "2025-03-14T20:43:26.724Z"
   },
   {
    "duration": 16,
    "start_time": "2025-03-14T20:44:38.181Z"
   },
   {
    "duration": 7,
    "start_time": "2025-03-14T20:45:33.940Z"
   },
   {
    "duration": 7,
    "start_time": "2025-03-14T20:46:14.071Z"
   },
   {
    "duration": 99,
    "start_time": "2025-03-14T20:50:10.460Z"
   },
   {
    "duration": 164,
    "start_time": "2025-03-14T20:50:18.965Z"
   },
   {
    "duration": 71,
    "start_time": "2025-03-14T20:54:23.809Z"
   },
   {
    "duration": 167,
    "start_time": "2025-03-14T21:16:11.961Z"
   },
   {
    "duration": 167,
    "start_time": "2025-03-14T21:16:17.719Z"
   },
   {
    "duration": 165,
    "start_time": "2025-03-14T21:16:38.934Z"
   },
   {
    "duration": 168,
    "start_time": "2025-03-14T21:17:41.582Z"
   },
   {
    "duration": 8,
    "start_time": "2025-03-14T21:17:50.027Z"
   },
   {
    "duration": 71,
    "start_time": "2025-03-14T21:19:10.685Z"
   },
   {
    "duration": 24,
    "start_time": "2025-03-14T21:33:27.538Z"
   },
   {
    "duration": 64,
    "start_time": "2025-03-14T22:03:14.312Z"
   },
   {
    "duration": 78,
    "start_time": "2025-03-14T22:04:25.432Z"
   },
   {
    "duration": 75,
    "start_time": "2025-03-14T22:04:51.149Z"
   },
   {
    "duration": 67,
    "start_time": "2025-03-14T22:05:10.337Z"
   },
   {
    "duration": 66,
    "start_time": "2025-03-14T22:22:35.810Z"
   },
   {
    "duration": 65,
    "start_time": "2025-03-14T22:22:46.790Z"
   },
   {
    "duration": 23,
    "start_time": "2025-03-14T22:22:53.691Z"
   },
   {
    "duration": 64,
    "start_time": "2025-03-14T22:23:54.691Z"
   },
   {
    "duration": 14,
    "start_time": "2025-03-14T22:25:23.493Z"
   },
   {
    "duration": 41,
    "start_time": "2025-03-14T22:41:47.802Z"
   },
   {
    "duration": 43,
    "start_time": "2025-03-14T22:48:34.265Z"
   },
   {
    "duration": 9,
    "start_time": "2025-03-14T22:54:54.323Z"
   },
   {
    "duration": 9,
    "start_time": "2025-03-14T22:58:19.521Z"
   },
   {
    "duration": 9,
    "start_time": "2025-03-14T23:05:22.282Z"
   },
   {
    "duration": 37,
    "start_time": "2025-03-14T23:05:54.285Z"
   },
   {
    "duration": 9,
    "start_time": "2025-03-14T23:06:22.853Z"
   },
   {
    "duration": 24,
    "start_time": "2025-03-14T23:11:28.661Z"
   },
   {
    "duration": 8,
    "start_time": "2025-03-15T00:07:36.004Z"
   },
   {
    "duration": 9,
    "start_time": "2025-03-15T00:07:55.875Z"
   },
   {
    "duration": 11,
    "start_time": "2025-03-15T00:08:19.601Z"
   },
   {
    "duration": 12,
    "start_time": "2025-03-15T00:13:10.134Z"
   },
   {
    "duration": 180,
    "start_time": "2025-03-15T01:01:06.362Z"
   },
   {
    "duration": 186,
    "start_time": "2025-03-15T01:01:56.911Z"
   },
   {
    "duration": 126,
    "start_time": "2025-03-15T01:02:21.517Z"
   },
   {
    "duration": 38,
    "start_time": "2025-03-15T01:02:46.962Z"
   },
   {
    "duration": 11,
    "start_time": "2025-03-15T01:02:52.129Z"
   },
   {
    "duration": 10,
    "start_time": "2025-03-15T01:03:00.866Z"
   },
   {
    "duration": 708,
    "start_time": "2025-03-15T01:03:06.169Z"
   },
   {
    "duration": 1811,
    "start_time": "2025-03-15T01:28:01.715Z"
   },
   {
    "duration": 773,
    "start_time": "2025-03-15T01:28:13.483Z"
   },
   {
    "duration": 11,
    "start_time": "2025-03-15T01:28:24.560Z"
   },
   {
    "duration": 11,
    "start_time": "2025-03-15T01:29:08.072Z"
   },
   {
    "duration": 16,
    "start_time": "2025-03-15T01:48:47.740Z"
   },
   {
    "duration": 8,
    "start_time": "2025-03-15T01:49:19.287Z"
   },
   {
    "duration": 8,
    "start_time": "2025-03-15T01:50:38.415Z"
   },
   {
    "duration": 6,
    "start_time": "2025-03-15T01:50:59.225Z"
   },
   {
    "duration": 8,
    "start_time": "2025-03-15T01:51:26.359Z"
   },
   {
    "duration": 4,
    "start_time": "2025-03-15T01:53:43.034Z"
   },
   {
    "duration": 8,
    "start_time": "2025-03-15T02:03:18.844Z"
   },
   {
    "duration": 4,
    "start_time": "2025-03-15T02:07:23.822Z"
   },
   {
    "duration": 5,
    "start_time": "2025-03-15T02:07:46.513Z"
   },
   {
    "duration": 8,
    "start_time": "2025-03-15T02:17:36.231Z"
   },
   {
    "duration": 41,
    "start_time": "2025-03-15T02:20:09.741Z"
   },
   {
    "duration": 15,
    "start_time": "2025-03-15T02:21:55.549Z"
   },
   {
    "duration": 4,
    "start_time": "2025-03-15T02:22:19.818Z"
   },
   {
    "duration": 4,
    "start_time": "2025-03-15T02:23:54.737Z"
   },
   {
    "duration": 671,
    "start_time": "2025-03-15T02:47:05.601Z"
   },
   {
    "duration": 781,
    "start_time": "2025-03-15T02:49:06.713Z"
   },
   {
    "duration": 796,
    "start_time": "2025-03-15T02:50:06.555Z"
   },
   {
    "duration": 1558,
    "start_time": "2025-03-15T02:51:36.797Z"
   },
   {
    "duration": 3,
    "start_time": "2025-03-15T02:53:30.917Z"
   },
   {
    "duration": 661,
    "start_time": "2025-03-15T02:53:37.238Z"
   },
   {
    "duration": 1554,
    "start_time": "2025-03-15T02:56:43.799Z"
   },
   {
    "duration": 1560,
    "start_time": "2025-03-15T02:57:07.343Z"
   },
   {
    "duration": 1542,
    "start_time": "2025-03-15T02:59:44.083Z"
   },
   {
    "duration": 676,
    "start_time": "2025-03-15T03:03:19.013Z"
   },
   {
    "duration": 699,
    "start_time": "2025-03-15T03:03:49.578Z"
   },
   {
    "duration": 1372,
    "start_time": "2025-03-15T03:04:51.958Z"
   },
   {
    "duration": 1398,
    "start_time": "2025-03-15T03:05:15.748Z"
   },
   {
    "duration": 1571,
    "start_time": "2025-03-15T03:06:20.542Z"
   },
   {
    "duration": 1571,
    "start_time": "2025-03-15T03:06:28.127Z"
   },
   {
    "duration": 671,
    "start_time": "2025-03-15T03:06:48.658Z"
   },
   {
    "duration": 680,
    "start_time": "2025-03-15T03:12:13.566Z"
   },
   {
    "duration": 1514,
    "start_time": "2025-03-15T03:24:55.957Z"
   },
   {
    "duration": 1423,
    "start_time": "2025-03-15T03:26:54.663Z"
   },
   {
    "duration": 1492,
    "start_time": "2025-03-15T03:36:34.616Z"
   },
   {
    "duration": 1474,
    "start_time": "2025-03-15T03:36:51.731Z"
   },
   {
    "duration": 1501,
    "start_time": "2025-03-15T03:37:30.615Z"
   },
   {
    "duration": 38,
    "start_time": "2025-03-15T03:49:00.912Z"
   },
   {
    "duration": 36,
    "start_time": "2025-03-15T03:55:02.534Z"
   },
   {
    "duration": 15,
    "start_time": "2025-03-15T04:08:50.121Z"
   },
   {
    "duration": 5,
    "start_time": "2025-03-15T04:10:17.977Z"
   },
   {
    "duration": 7,
    "start_time": "2025-03-15T04:15:24.744Z"
   },
   {
    "duration": 8,
    "start_time": "2025-03-15T04:25:37.420Z"
   },
   {
    "duration": 51,
    "start_time": "2025-03-15T05:07:58.112Z"
   },
   {
    "duration": 51,
    "start_time": "2025-03-15T05:10:25.059Z"
   },
   {
    "duration": 50,
    "start_time": "2025-03-15T05:10:47.904Z"
   },
   {
    "duration": 10,
    "start_time": "2025-03-15T05:26:59.140Z"
   },
   {
    "duration": 671,
    "start_time": "2025-03-15T05:42:48.365Z"
   },
   {
    "duration": 709,
    "start_time": "2025-03-15T05:45:56.097Z"
   },
   {
    "duration": 672,
    "start_time": "2025-03-15T05:46:09.417Z"
   },
   {
    "duration": 679,
    "start_time": "2025-03-15T05:47:57.891Z"
   },
   {
    "duration": 31,
    "start_time": "2025-03-15T05:54:00.175Z"
   },
   {
    "duration": 108,
    "start_time": "2025-03-15T06:00:11.550Z"
   },
   {
    "duration": 108,
    "start_time": "2025-03-15T06:05:14.093Z"
   },
   {
    "duration": 100,
    "start_time": "2025-03-15T06:05:20.908Z"
   },
   {
    "duration": 7,
    "start_time": "2025-03-15T06:10:33.350Z"
   },
   {
    "duration": 6,
    "start_time": "2025-03-15T06:15:56.923Z"
   },
   {
    "duration": 16,
    "start_time": "2025-03-15T06:17:01.230Z"
   },
   {
    "duration": 51,
    "start_time": "2025-03-15T06:17:56.366Z"
   },
   {
    "duration": 49,
    "start_time": "2025-03-15T06:18:19.525Z"
   },
   {
    "duration": 51,
    "start_time": "2025-03-15T06:18:32.892Z"
   },
   {
    "duration": 8,
    "start_time": "2025-03-15T06:20:05.733Z"
   },
   {
    "duration": 9,
    "start_time": "2025-03-15T06:20:30.754Z"
   },
   {
    "duration": 34,
    "start_time": "2025-03-15T06:20:52.593Z"
   },
   {
    "duration": 8,
    "start_time": "2025-03-15T06:21:10.924Z"
   },
   {
    "duration": 19,
    "start_time": "2025-03-15T06:22:30.744Z"
   },
   {
    "duration": 19,
    "start_time": "2025-03-15T06:22:58.273Z"
   },
   {
    "duration": 16,
    "start_time": "2025-03-15T06:23:53.428Z"
   },
   {
    "duration": 2,
    "start_time": "2025-03-15T06:31:26.386Z"
   },
   {
    "duration": 815,
    "start_time": "2025-03-15T06:31:34.457Z"
   },
   {
    "duration": 104,
    "start_time": "2025-03-15T06:31:43.553Z"
   },
   {
    "duration": 41,
    "start_time": "2025-03-15T06:31:46.524Z"
   },
   {
    "duration": 10,
    "start_time": "2025-03-15T06:31:49.304Z"
   },
   {
    "duration": 10,
    "start_time": "2025-03-15T06:31:51.494Z"
   },
   {
    "duration": 2,
    "start_time": "2025-03-15T06:32:00.539Z"
   },
   {
    "duration": 814,
    "start_time": "2025-03-15T06:32:01.963Z"
   },
   {
    "duration": 114,
    "start_time": "2025-03-15T06:32:13.561Z"
   },
   {
    "duration": 36,
    "start_time": "2025-03-15T06:32:24.687Z"
   },
   {
    "duration": 10,
    "start_time": "2025-03-15T06:32:31.009Z"
   },
   {
    "duration": 10,
    "start_time": "2025-03-15T06:33:00.173Z"
   },
   {
    "duration": 702,
    "start_time": "2025-03-15T06:33:14.343Z"
   },
   {
    "duration": 74,
    "start_time": "2025-03-15T06:51:06.593Z"
   },
   {
    "duration": 62,
    "start_time": "2025-03-15T06:58:59.624Z"
   },
   {
    "duration": 131,
    "start_time": "2025-03-15T07:03:02.518Z"
   },
   {
    "duration": 13,
    "start_time": "2025-03-15T07:06:17.940Z"
   },
   {
    "duration": 6,
    "start_time": "2025-03-15T07:06:49.448Z"
   },
   {
    "duration": 105,
    "start_time": "2025-03-15T07:14:09.603Z"
   },
   {
    "duration": 52,
    "start_time": "2025-03-15T07:17:02.547Z"
   },
   {
    "duration": 39,
    "start_time": "2025-03-15T07:20:10.751Z"
   },
   {
    "duration": 82,
    "start_time": "2025-03-15T07:25:06.505Z"
   },
   {
    "duration": 44,
    "start_time": "2025-03-15T07:26:05.139Z"
   },
   {
    "duration": 97,
    "start_time": "2025-03-15T07:32:07.975Z"
   },
   {
    "duration": 64,
    "start_time": "2025-03-15T07:32:40.413Z"
   },
   {
    "duration": 36,
    "start_time": "2025-03-15T07:32:55.169Z"
   },
   {
    "duration": 161,
    "start_time": "2025-03-16T01:36:12.780Z"
   },
   {
    "duration": 12,
    "start_time": "2025-03-16T01:37:37.516Z"
   },
   {
    "duration": 367,
    "start_time": "2025-03-16T01:38:15.551Z"
   },
   {
    "duration": 66,
    "start_time": "2025-03-16T01:38:35.511Z"
   },
   {
    "duration": 36,
    "start_time": "2025-03-16T01:38:45.884Z"
   },
   {
    "duration": 350,
    "start_time": "2025-03-16T01:39:26.035Z"
   },
   {
    "duration": 2,
    "start_time": "2025-03-16T01:39:34.470Z"
   },
   {
    "duration": 1009,
    "start_time": "2025-03-16T01:39:36.112Z"
   },
   {
    "duration": 123,
    "start_time": "2025-03-16T01:39:37.123Z"
   },
   {
    "duration": 41,
    "start_time": "2025-03-16T01:39:38.733Z"
   },
   {
    "duration": 10,
    "start_time": "2025-03-16T01:39:42.788Z"
   },
   {
    "duration": 11,
    "start_time": "2025-03-16T01:39:44.763Z"
   },
   {
    "duration": 757,
    "start_time": "2025-03-16T01:39:45.799Z"
   },
   {
    "duration": 247,
    "start_time": "2025-03-16T01:39:51.237Z"
   },
   {
    "duration": 12,
    "start_time": "2025-03-16T01:40:03.702Z"
   },
   {
    "duration": 241,
    "start_time": "2025-03-16T01:40:28.214Z"
   },
   {
    "duration": 7,
    "start_time": "2025-03-16T01:40:34.513Z"
   },
   {
    "duration": 45,
    "start_time": "2025-03-16T01:40:42.626Z"
   },
   {
    "duration": 73,
    "start_time": "2025-03-16T01:40:43.757Z"
   },
   {
    "duration": 45,
    "start_time": "2025-03-16T01:40:45.395Z"
   },
   {
    "duration": 47,
    "start_time": "2025-03-16T01:40:52.868Z"
   },
   {
    "duration": 9,
    "start_time": "2025-03-16T01:41:11.995Z"
   },
   {
    "duration": 44,
    "start_time": "2025-03-16T01:45:11.090Z"
   },
   {
    "duration": 69,
    "start_time": "2025-03-16T01:45:12.226Z"
   },
   {
    "duration": 3,
    "start_time": "2025-03-16T01:48:47.613Z"
   },
   {
    "duration": 833,
    "start_time": "2025-03-16T01:48:48.217Z"
   },
   {
    "duration": 109,
    "start_time": "2025-03-16T01:48:49.052Z"
   },
   {
    "duration": 38,
    "start_time": "2025-03-16T01:48:51.709Z"
   },
   {
    "duration": 10,
    "start_time": "2025-03-16T01:48:53.320Z"
   },
   {
    "duration": 10,
    "start_time": "2025-03-16T01:48:54.473Z"
   },
   {
    "duration": 712,
    "start_time": "2025-03-16T01:48:56.109Z"
   },
   {
    "duration": 142,
    "start_time": "2025-03-16T01:49:15.001Z"
   },
   {
    "duration": 106,
    "start_time": "2025-03-16T01:51:02.362Z"
   },
   {
    "duration": 7,
    "start_time": "2025-03-16T01:54:34.781Z"
   },
   {
    "duration": 109,
    "start_time": "2025-03-16T01:56:43.968Z"
   },
   {
    "duration": 36,
    "start_time": "2025-03-16T01:56:47.287Z"
   },
   {
    "duration": 10,
    "start_time": "2025-03-16T01:56:47.896Z"
   },
   {
    "duration": 10,
    "start_time": "2025-03-16T01:56:49.084Z"
   },
   {
    "duration": 732,
    "start_time": "2025-03-16T01:56:50.987Z"
   },
   {
    "duration": 36,
    "start_time": "2025-03-16T01:57:52.552Z"
   },
   {
    "duration": 44,
    "start_time": "2025-03-16T01:58:26.511Z"
   },
   {
    "duration": 13,
    "start_time": "2025-03-16T02:02:13.716Z"
   },
   {
    "duration": 4,
    "start_time": "2025-03-16T02:23:18.959Z"
   },
   {
    "duration": 4,
    "start_time": "2025-03-16T02:26:22.905Z"
   },
   {
    "duration": 4,
    "start_time": "2025-03-16T02:26:32.804Z"
   },
   {
    "duration": 4,
    "start_time": "2025-03-16T02:26:52.953Z"
   },
   {
    "duration": 19,
    "start_time": "2025-03-16T02:32:51.745Z"
   },
   {
    "duration": 19,
    "start_time": "2025-03-16T02:33:36.323Z"
   },
   {
    "duration": 19,
    "start_time": "2025-03-16T02:42:39.794Z"
   },
   {
    "duration": 8,
    "start_time": "2025-03-16T02:57:35.978Z"
   },
   {
    "duration": 389,
    "start_time": "2025-03-16T03:00:42.962Z"
   },
   {
    "duration": 8,
    "start_time": "2025-03-16T03:03:38.772Z"
   },
   {
    "duration": 15,
    "start_time": "2025-03-16T03:15:37.548Z"
   },
   {
    "duration": 28,
    "start_time": "2025-03-16T03:21:02.591Z"
   },
   {
    "duration": 28,
    "start_time": "2025-03-16T03:25:16.067Z"
   },
   {
    "duration": 4,
    "start_time": "2025-03-16T03:28:06.044Z"
   },
   {
    "duration": 8,
    "start_time": "2025-03-16T03:31:01.913Z"
   },
   {
    "duration": 19,
    "start_time": "2025-03-16T03:35:15.591Z"
   },
   {
    "duration": 8,
    "start_time": "2025-03-16T03:36:42.944Z"
   },
   {
    "duration": 12,
    "start_time": "2025-03-16T03:37:11.531Z"
   },
   {
    "duration": 9,
    "start_time": "2025-03-16T03:37:37.926Z"
   },
   {
    "duration": 11,
    "start_time": "2025-03-16T03:38:29.376Z"
   },
   {
    "duration": 12,
    "start_time": "2025-03-16T03:40:26.987Z"
   },
   {
    "duration": 11,
    "start_time": "2025-03-16T03:40:37.319Z"
   },
   {
    "duration": 8,
    "start_time": "2025-03-16T03:40:38.921Z"
   },
   {
    "duration": 24,
    "start_time": "2025-03-16T03:40:39.799Z"
   },
   {
    "duration": 8,
    "start_time": "2025-03-16T03:40:40.655Z"
   },
   {
    "duration": 74,
    "start_time": "2025-03-16T03:58:51.727Z"
   },
   {
    "duration": 7,
    "start_time": "2025-03-16T04:03:38.297Z"
   },
   {
    "duration": 72,
    "start_time": "2025-03-16T04:14:48.922Z"
   },
   {
    "duration": 14,
    "start_time": "2025-03-16T04:17:34.304Z"
   },
   {
    "duration": 122,
    "start_time": "2025-03-16T04:17:45.058Z"
   },
   {
    "duration": 85,
    "start_time": "2025-03-16T04:18:59.407Z"
   },
   {
    "duration": 79,
    "start_time": "2025-03-16T04:21:08.459Z"
   },
   {
    "duration": 96,
    "start_time": "2025-03-16T04:23:26.513Z"
   },
   {
    "duration": 76,
    "start_time": "2025-03-16T04:25:02.209Z"
   },
   {
    "duration": 74,
    "start_time": "2025-03-16T04:25:59.685Z"
   },
   {
    "duration": 78,
    "start_time": "2025-03-16T04:26:14.498Z"
   },
   {
    "duration": 86,
    "start_time": "2025-03-16T04:27:48.765Z"
   },
   {
    "duration": 35,
    "start_time": "2025-03-16T04:29:33.185Z"
   },
   {
    "duration": 37,
    "start_time": "2025-03-16T04:33:44.232Z"
   },
   {
    "duration": 3,
    "start_time": "2025-03-16T04:34:52.126Z"
   },
   {
    "duration": 36,
    "start_time": "2025-03-16T04:35:24.051Z"
   },
   {
    "duration": 74,
    "start_time": "2025-03-16T04:44:35.438Z"
   },
   {
    "duration": 4,
    "start_time": "2025-03-16T04:46:59.126Z"
   },
   {
    "duration": 5,
    "start_time": "2025-03-16T04:49:06.501Z"
   },
   {
    "duration": 12,
    "start_time": "2025-03-16T04:52:06.396Z"
   },
   {
    "duration": 4,
    "start_time": "2025-03-16T04:52:18.957Z"
   },
   {
    "duration": 11,
    "start_time": "2025-03-16T04:53:03.301Z"
   },
   {
    "duration": 4,
    "start_time": "2025-03-16T04:55:11.242Z"
   },
   {
    "duration": 813,
    "start_time": "2025-03-16T05:00:03.708Z"
   },
   {
    "duration": 714,
    "start_time": "2025-03-16T05:08:19.900Z"
   },
   {
    "duration": 730,
    "start_time": "2025-03-16T05:10:10.895Z"
   },
   {
    "duration": 8,
    "start_time": "2025-03-16T05:22:04.373Z"
   },
   {
    "duration": 3,
    "start_time": "2025-03-16T05:28:48.679Z"
   },
   {
    "duration": 4,
    "start_time": "2025-03-16T05:34:26.887Z"
   },
   {
    "duration": 6,
    "start_time": "2025-03-16T05:44:22.524Z"
   },
   {
    "duration": 7,
    "start_time": "2025-03-16T05:51:42.112Z"
   },
   {
    "duration": 9,
    "start_time": "2025-03-16T05:53:27.352Z"
   },
   {
    "duration": 9,
    "start_time": "2025-03-16T05:54:07.765Z"
   },
   {
    "duration": 8,
    "start_time": "2025-03-16T05:54:21.646Z"
   },
   {
    "duration": 16,
    "start_time": "2025-03-16T05:56:28.359Z"
   },
   {
    "duration": 9,
    "start_time": "2025-03-16T05:57:09.741Z"
   },
   {
    "duration": 15,
    "start_time": "2025-03-16T05:57:37.771Z"
   },
   {
    "duration": 11,
    "start_time": "2025-03-16T05:59:49.307Z"
   },
   {
    "duration": 11,
    "start_time": "2025-03-16T06:01:12.141Z"
   },
   {
    "duration": 15,
    "start_time": "2025-03-16T06:04:58.779Z"
   },
   {
    "duration": 12,
    "start_time": "2025-03-16T06:06:59.278Z"
   },
   {
    "duration": 11,
    "start_time": "2025-03-16T06:07:43.894Z"
   },
   {
    "duration": 16,
    "start_time": "2025-03-16T06:07:56.939Z"
   },
   {
    "duration": 15,
    "start_time": "2025-03-16T06:09:57.516Z"
   },
   {
    "duration": 11,
    "start_time": "2025-03-16T06:10:11.064Z"
   },
   {
    "duration": 3,
    "start_time": "2025-03-16T06:13:10.785Z"
   },
   {
    "duration": 4,
    "start_time": "2025-03-16T06:14:12.109Z"
   },
   {
    "duration": 11,
    "start_time": "2025-03-16T06:14:46.592Z"
   },
   {
    "duration": 41,
    "start_time": "2025-03-16T06:16:51.265Z"
   },
   {
    "duration": 18,
    "start_time": "2025-03-16T06:18:08.735Z"
   },
   {
    "duration": 6,
    "start_time": "2025-03-16T06:24:18.675Z"
   },
   {
    "duration": 200,
    "start_time": "2025-03-16T06:26:22.614Z"
   },
   {
    "duration": 57,
    "start_time": "2025-03-16T06:27:51.619Z"
   },
   {
    "duration": 57,
    "start_time": "2025-03-16T06:28:04.494Z"
   },
   {
    "duration": 7,
    "start_time": "2025-03-16T16:17:09.794Z"
   },
   {
    "duration": 5,
    "start_time": "2025-03-16T16:17:37.928Z"
   },
   {
    "duration": 7,
    "start_time": "2025-03-16T16:17:49.581Z"
   },
   {
    "duration": 3,
    "start_time": "2025-03-16T16:19:04.183Z"
   },
   {
    "duration": 801,
    "start_time": "2025-03-16T16:19:05.371Z"
   },
   {
    "duration": 106,
    "start_time": "2025-03-16T16:19:07.550Z"
   },
   {
    "duration": 37,
    "start_time": "2025-03-16T16:19:09.290Z"
   },
   {
    "duration": 11,
    "start_time": "2025-03-16T16:19:10.159Z"
   },
   {
    "duration": 10,
    "start_time": "2025-03-16T16:19:11.338Z"
   },
   {
    "duration": 697,
    "start_time": "2025-03-16T16:19:12.303Z"
   },
   {
    "duration": 80,
    "start_time": "2025-03-16T16:19:28.077Z"
   },
   {
    "duration": 8,
    "start_time": "2025-03-16T16:19:39.013Z"
   },
   {
    "duration": 77,
    "start_time": "2025-03-16T16:19:45.809Z"
   },
   {
    "duration": 71,
    "start_time": "2025-03-16T16:19:49.378Z"
   },
   {
    "duration": 39,
    "start_time": "2025-03-16T16:19:50.958Z"
   },
   {
    "duration": 14,
    "start_time": "2025-03-16T16:20:09.466Z"
   },
   {
    "duration": 12,
    "start_time": "2025-03-16T16:20:25.294Z"
   },
   {
    "duration": 9,
    "start_time": "2025-03-16T16:20:29.918Z"
   },
   {
    "duration": 25,
    "start_time": "2025-03-16T16:20:51.301Z"
   },
   {
    "duration": 9,
    "start_time": "2025-03-16T16:20:57.393Z"
   },
   {
    "duration": 5,
    "start_time": "2025-03-16T16:21:14.632Z"
   },
   {
    "duration": 5,
    "start_time": "2025-03-16T16:21:16.071Z"
   },
   {
    "duration": 5,
    "start_time": "2025-03-16T16:21:20.019Z"
   },
   {
    "duration": 5,
    "start_time": "2025-03-16T16:21:21.200Z"
   },
   {
    "duration": 754,
    "start_time": "2025-03-16T16:21:32.278Z"
   },
   {
    "duration": 656,
    "start_time": "2025-03-16T16:21:34.922Z"
   },
   {
    "duration": 8,
    "start_time": "2025-03-16T16:21:49.045Z"
   },
   {
    "duration": 4,
    "start_time": "2025-03-16T16:22:13.427Z"
   },
   {
    "duration": 3,
    "start_time": "2025-03-16T16:22:16.196Z"
   },
   {
    "duration": 7,
    "start_time": "2025-03-16T16:22:38.462Z"
   },
   {
    "duration": 6,
    "start_time": "2025-03-16T16:23:03.247Z"
   },
   {
    "duration": 23,
    "start_time": "2025-03-16T16:25:16.955Z"
   },
   {
    "duration": 7,
    "start_time": "2025-03-16T16:32:59.264Z"
   },
   {
    "duration": 29,
    "start_time": "2025-03-16T16:37:21.442Z"
   },
   {
    "duration": 3,
    "start_time": "2025-03-16T16:44:59.392Z"
   },
   {
    "duration": 37,
    "start_time": "2025-03-16T16:46:55.340Z"
   },
   {
    "duration": 39,
    "start_time": "2025-03-16T16:50:37.904Z"
   },
   {
    "duration": 9,
    "start_time": "2025-03-16T16:52:45.136Z"
   },
   {
    "duration": 3,
    "start_time": "2025-03-16T17:01:11.549Z"
   },
   {
    "duration": 11,
    "start_time": "2025-03-16T17:01:41.027Z"
   },
   {
    "duration": 9,
    "start_time": "2025-03-16T17:04:18.575Z"
   },
   {
    "duration": 23,
    "start_time": "2025-03-16T17:07:32.644Z"
   },
   {
    "duration": 24,
    "start_time": "2025-03-16T17:07:47.728Z"
   },
   {
    "duration": 8,
    "start_time": "2025-03-16T18:32:42.138Z"
   },
   {
    "duration": 7,
    "start_time": "2025-03-16T18:34:25.489Z"
   },
   {
    "duration": 7,
    "start_time": "2025-03-16T18:34:32.270Z"
   },
   {
    "duration": 15,
    "start_time": "2025-03-16T18:37:43.885Z"
   },
   {
    "duration": 13,
    "start_time": "2025-03-16T18:38:23.979Z"
   },
   {
    "duration": 8,
    "start_time": "2025-03-16T18:38:43.677Z"
   },
   {
    "duration": 209,
    "start_time": "2025-03-16T18:42:23.090Z"
   },
   {
    "duration": 3,
    "start_time": "2025-03-16T18:44:05.440Z"
   },
   {
    "duration": 831,
    "start_time": "2025-03-16T18:44:05.664Z"
   },
   {
    "duration": 118,
    "start_time": "2025-03-16T18:44:06.497Z"
   },
   {
    "duration": 38,
    "start_time": "2025-03-16T18:44:06.617Z"
   },
   {
    "duration": 19,
    "start_time": "2025-03-16T18:44:06.657Z"
   },
   {
    "duration": 10,
    "start_time": "2025-03-16T18:44:06.677Z"
   },
   {
    "duration": 709,
    "start_time": "2025-03-16T18:44:06.689Z"
   },
   {
    "duration": 71,
    "start_time": "2025-03-16T18:44:07.985Z"
   },
   {
    "duration": 7,
    "start_time": "2025-03-16T18:44:08.401Z"
   },
   {
    "duration": 77,
    "start_time": "2025-03-16T18:44:08.790Z"
   },
   {
    "duration": 72,
    "start_time": "2025-03-16T18:44:09.054Z"
   },
   {
    "duration": 38,
    "start_time": "2025-03-16T18:44:09.190Z"
   },
   {
    "duration": 13,
    "start_time": "2025-03-16T18:44:09.974Z"
   },
   {
    "duration": 11,
    "start_time": "2025-03-16T18:44:10.215Z"
   },
   {
    "duration": 28,
    "start_time": "2025-03-16T18:44:10.401Z"
   },
   {
    "duration": 8,
    "start_time": "2025-03-16T18:44:10.656Z"
   },
   {
    "duration": 4,
    "start_time": "2025-03-16T18:44:11.231Z"
   },
   {
    "duration": 5,
    "start_time": "2025-03-16T18:44:11.897Z"
   },
   {
    "duration": 4,
    "start_time": "2025-03-16T18:44:12.847Z"
   },
   {
    "duration": 4,
    "start_time": "2025-03-16T18:44:13.189Z"
   },
   {
    "duration": 858,
    "start_time": "2025-03-16T18:44:14.309Z"
   },
   {
    "duration": 767,
    "start_time": "2025-03-16T18:44:15.170Z"
   },
   {
    "duration": 8,
    "start_time": "2025-03-16T18:44:15.939Z"
   },
   {
    "duration": 4,
    "start_time": "2025-03-16T18:44:16.397Z"
   },
   {
    "duration": 9,
    "start_time": "2025-03-16T18:44:17.190Z"
   },
   {
    "duration": 8,
    "start_time": "2025-03-16T18:44:17.846Z"
   },
   {
    "duration": 21,
    "start_time": "2025-03-16T18:44:18.717Z"
   },
   {
    "duration": 8,
    "start_time": "2025-03-16T18:44:20.355Z"
   },
   {
    "duration": 7,
    "start_time": "2025-03-16T18:44:20.674Z"
   },
   {
    "duration": 9,
    "start_time": "2025-03-16T18:44:25.086Z"
   },
   {
    "duration": 31,
    "start_time": "2025-03-16T18:44:28.975Z"
   },
   {
    "duration": 7,
    "start_time": "2025-03-16T18:44:34.388Z"
   },
   {
    "duration": 25,
    "start_time": "2025-03-16T18:46:53.863Z"
   },
   {
    "duration": 22,
    "start_time": "2025-03-16T18:49:39.935Z"
   },
   {
    "duration": 244,
    "start_time": "2025-03-16T18:51:26.841Z"
   },
   {
    "duration": 20,
    "start_time": "2025-03-16T18:53:08.710Z"
   },
   {
    "duration": 239,
    "start_time": "2025-03-16T18:53:17.222Z"
   },
   {
    "duration": 51,
    "start_time": "2025-03-16T19:03:56.094Z"
   },
   {
    "duration": 17,
    "start_time": "2025-03-16T19:04:45.680Z"
   },
   {
    "duration": 7,
    "start_time": "2025-03-16T19:06:10.265Z"
   },
   {
    "duration": 20,
    "start_time": "2025-03-16T19:06:30.065Z"
   },
   {
    "duration": 2,
    "start_time": "2025-03-16T19:06:53.195Z"
   },
   {
    "duration": 783,
    "start_time": "2025-03-16T19:06:53.363Z"
   },
   {
    "duration": 108,
    "start_time": "2025-03-16T19:06:54.148Z"
   },
   {
    "duration": 44,
    "start_time": "2025-03-16T19:06:54.258Z"
   },
   {
    "duration": 9,
    "start_time": "2025-03-16T19:06:54.304Z"
   },
   {
    "duration": 9,
    "start_time": "2025-03-16T19:06:54.315Z"
   },
   {
    "duration": 681,
    "start_time": "2025-03-16T19:06:54.326Z"
   },
   {
    "duration": 73,
    "start_time": "2025-03-16T19:06:55.495Z"
   },
   {
    "duration": 8,
    "start_time": "2025-03-16T19:06:56.104Z"
   },
   {
    "duration": 74,
    "start_time": "2025-03-16T19:06:56.600Z"
   },
   {
    "duration": 71,
    "start_time": "2025-03-16T19:06:56.775Z"
   },
   {
    "duration": 41,
    "start_time": "2025-03-16T19:06:57.115Z"
   },
   {
    "duration": 16,
    "start_time": "2025-03-16T19:06:57.999Z"
   },
   {
    "duration": 9,
    "start_time": "2025-03-16T19:06:58.194Z"
   },
   {
    "duration": 26,
    "start_time": "2025-03-16T19:06:58.385Z"
   },
   {
    "duration": 10,
    "start_time": "2025-03-16T19:06:58.559Z"
   },
   {
    "duration": 5,
    "start_time": "2025-03-16T19:06:59.302Z"
   },
   {
    "duration": 5,
    "start_time": "2025-03-16T19:06:59.471Z"
   },
   {
    "duration": 6,
    "start_time": "2025-03-16T19:07:00.287Z"
   },
   {
    "duration": 4,
    "start_time": "2025-03-16T19:07:00.650Z"
   },
   {
    "duration": 770,
    "start_time": "2025-03-16T19:07:01.954Z"
   },
   {
    "duration": 662,
    "start_time": "2025-03-16T19:07:02.726Z"
   },
   {
    "duration": 11,
    "start_time": "2025-03-16T19:07:05.308Z"
   },
   {
    "duration": 4,
    "start_time": "2025-03-16T19:07:07.080Z"
   },
   {
    "duration": 4,
    "start_time": "2025-03-16T19:07:08.790Z"
   },
   {
    "duration": 8,
    "start_time": "2025-03-16T19:07:11.589Z"
   },
   {
    "duration": 22,
    "start_time": "2025-03-16T19:07:14.103Z"
   },
   {
    "duration": 8,
    "start_time": "2025-03-16T19:07:18.578Z"
   },
   {
    "duration": 5,
    "start_time": "2025-03-16T19:07:23.817Z"
   },
   {
    "duration": 9,
    "start_time": "2025-03-16T19:07:27.791Z"
   },
   {
    "duration": 53,
    "start_time": "2025-03-16T19:07:30.705Z"
   },
   {
    "duration": 6,
    "start_time": "2025-03-16T19:07:36.657Z"
   },
   {
    "duration": 231,
    "start_time": "2025-03-16T19:07:41.619Z"
   },
   {
    "duration": 93,
    "start_time": "2025-03-16T19:09:30.465Z"
   },
   {
    "duration": 36,
    "start_time": "2025-03-16T19:10:38.081Z"
   },
   {
    "duration": 36,
    "start_time": "2025-03-16T19:10:47.312Z"
   },
   {
    "duration": 7,
    "start_time": "2025-03-16T20:31:14.766Z"
   },
   {
    "duration": 3,
    "start_time": "2025-03-16T20:31:43.238Z"
   },
   {
    "duration": 4,
    "start_time": "2025-03-16T20:32:11.504Z"
   },
   {
    "duration": 7,
    "start_time": "2025-03-16T20:32:13.086Z"
   },
   {
    "duration": 2237,
    "start_time": "2025-03-16T20:39:41.265Z"
   },
   {
    "duration": 289,
    "start_time": "2025-03-16T20:41:34.649Z"
   },
   {
    "duration": 263,
    "start_time": "2025-03-16T20:41:55.166Z"
   },
   {
    "duration": 137,
    "start_time": "2025-03-16T20:45:27.158Z"
   },
   {
    "duration": 261,
    "start_time": "2025-03-16T20:53:06.988Z"
   },
   {
    "duration": 393,
    "start_time": "2025-03-16T20:55:29.095Z"
   },
   {
    "duration": 467,
    "start_time": "2025-03-18T15:38:49.116Z"
   },
   {
    "duration": 397,
    "start_time": "2025-03-18T15:40:57.262Z"
   },
   {
    "duration": 319,
    "start_time": "2025-03-18T15:45:59.840Z"
   },
   {
    "duration": 139,
    "start_time": "2025-03-18T15:54:42.249Z"
   },
   {
    "duration": 36,
    "start_time": "2025-03-18T15:59:18.302Z"
   },
   {
    "duration": 9,
    "start_time": "2025-03-18T15:59:39.525Z"
   },
   {
    "duration": 87,
    "start_time": "2025-03-18T16:15:45.443Z"
   },
   {
    "duration": 92,
    "start_time": "2025-03-18T16:16:30.314Z"
   },
   {
    "duration": 95,
    "start_time": "2025-03-18T16:18:32.200Z"
   },
   {
    "duration": 464,
    "start_time": "2025-03-18T16:19:44.908Z"
   },
   {
    "duration": 91,
    "start_time": "2025-03-18T16:19:51.897Z"
   },
   {
    "duration": 236,
    "start_time": "2025-03-18T16:36:38.271Z"
   },
   {
    "duration": 455,
    "start_time": "2025-03-18T16:37:08.896Z"
   },
   {
    "duration": 113,
    "start_time": "2025-03-18T16:44:37.216Z"
   },
   {
    "duration": 13,
    "start_time": "2025-03-18T16:44:40.831Z"
   },
   {
    "duration": 22,
    "start_time": "2025-03-18T17:00:12.243Z"
   },
   {
    "duration": 145,
    "start_time": "2025-03-18T17:00:57.985Z"
   },
   {
    "duration": 137,
    "start_time": "2025-03-18T17:00:59.875Z"
   },
   {
    "duration": 25,
    "start_time": "2025-03-18T17:01:01.479Z"
   },
   {
    "duration": 29,
    "start_time": "2025-03-18T17:10:41.093Z"
   },
   {
    "duration": 32,
    "start_time": "2025-03-18T17:11:51.145Z"
   },
   {
    "duration": 1624,
    "start_time": "2025-03-18T17:17:13.882Z"
   },
   {
    "duration": 1799,
    "start_time": "2025-03-18T17:18:03.240Z"
   },
   {
    "duration": 107,
    "start_time": "2025-03-18T17:22:51.890Z"
   },
   {
    "duration": 70,
    "start_time": "2025-03-18T17:23:14.819Z"
   },
   {
    "duration": 5,
    "start_time": "2025-03-18T17:32:54.290Z"
   }
  ],
  "colab": {
   "provenance": []
  },
  "kernelspec": {
   "display_name": "Python 3 (ipykernel)",
   "language": "python",
   "name": "python3"
  },
  "language_info": {
   "codemirror_mode": {
    "name": "ipython",
    "version": 3
   },
   "file_extension": ".py",
   "mimetype": "text/x-python",
   "name": "python",
   "nbconvert_exporter": "python",
   "pygments_lexer": "ipython3",
   "version": "3.9.19"
  },
  "toc": {
   "base_numbering": 1,
   "nav_menu": {},
   "number_sections": true,
   "sideBar": true,
   "skip_h1_title": true,
   "title_cell": "Table of Contents",
   "title_sidebar": "Contents",
   "toc_cell": false,
   "toc_position": {},
   "toc_section_display": true,
   "toc_window_display": false
  },
  "vscode": {
   "interpreter": {
    "hash": "01a7be9ec63e704a62cefc5fe7a4756944464ee731be31632bdf42a4cb4688cf"
   }
  }
 },
 "nbformat": 4,
 "nbformat_minor": 5
}
