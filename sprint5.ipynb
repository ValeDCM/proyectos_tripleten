{
 "cells": [
  {
   "cell_type": "markdown",
   "metadata": {},
   "source": [
    "¡Hola, Valentina!\n",
    "\n",
    "Mi nombre es Tonatiuh Cruz. Me complace revisar tu proyecto hoy.\n",
    "\n",
    "Al identificar cualquier error inicialmente, simplemente los destacaré. Te animo a localizar y abordar los problemas de forma independiente como parte de tu preparación para un rol como data-scientist. En un entorno profesional, tu líder de equipo seguiría un enfoque similar. Si encuentras la tarea desafiante, proporcionaré una pista más específica en la próxima iteración.\n",
    "\n",
    "Encontrarás mis comentarios a continuación - **por favor no los muevas, modifiques o elimines**.\n",
    "\n",
    "Puedes encontrar mis comentarios en cajas verdes, amarillas o rojas como esta:\n",
    "\n",
    "<div class=\"alert alert-block alert-success\">\n",
    "<b>Comentario del revisor</b> <a class=\"tocSkip\"></a>\n",
    "\n",
    "Éxito. Todo está hecho correctamente.\n",
    "</div>\n",
    "\n",
    "<div class=\"alert alert-block alert-warning\">\n",
    "<b>Comentario del revisor</b> <a class=\"tocSkip\"></a>\n",
    "\n",
    "Observaciones. Algunas recomendaciones.\n",
    "</div>\n",
    "\n",
    "<div class=\"alert alert-block alert-danger\">\n",
    "<b>Comentario del revisor</b> <a class=\"tocSkip\"></a>\n",
    "\n",
    "Necesita corrección. El bloque requiere algunas correcciones. El trabajo no puede ser aceptado con comentarios en rojo.\n",
    "</div>\n",
    "\n",
    "Puedes responderme utilizando esto:\n",
    "\n",
    "<div class=\"alert alert-block alert-info\">\n",
    "<b>Respuesta del estudiante.</b> <a class=\"tocSkip\"></a>\n",
    "    Gracias por los comentarios. He corregido los puntos señalados: redondeé correctamente los minutos y gigabytes en el cálculo del ingreso, eliminé los outliers antes de realizar las pruebas de hipótesis y convertí todas las fechas relevantes a formato datetime. Y varias cositas más. Quedo atenta a la segunda revisión."
   ]
  },
  {
   "cell_type": "markdown",
   "metadata": {},
   "source": [
    "<div class=\"alert alert-block alert-success\">\n",
    "<b>Resumen de la revisión 1</b> <a class=\"tocSkip\"></a>\n",
    "\n",
    "Hola Valentina! Has hecho un excelente trabajo con el proyecto, cada vez más cercas de convertirte en un cientifica de datos. Realizaste la carga de bases, su análisis inicial, sus ajustes, un análisis de algunos variables conmplementado con gráficas y el desarrollo de las pruebas d ehipótesis. Solamente te dejo algunos comentarios para complementar el análisis. \n",
    "\n",
    "Sigue con el excelente trabajo!\n",
    "</div>"
   ]
  },
  {
   "cell_type": "markdown",
   "metadata": {
    "id": "3rYiDeEH0q0f"
   },
   "source": [
    "# ¿Cuál es la mejor tarifa?\n",
    "\n",
    "Trabajas como analista para el operador de telecomunicaciones Megaline. La empresa ofrece a sus clientes dos tarifas de prepago, Surf y Ultimate. El departamento comercial quiere saber cuál de las tarifas genera más ingresos para poder ajustar el presupuesto de publicidad.\n",
    "\n",
    "Vas a realizar un análisis preliminar de las tarifas basado en una selección de clientes relativamente pequeña. Tendrás los datos de 500 clientes de Megaline: quiénes son los clientes, de dónde son, qué tarifa usan, así como la cantidad de llamadas que hicieron y los mensajes de texto que enviaron en 2018. Tu trabajo es analizar el comportamiento de los clientes y determinar qué tarifa de prepago genera más ingresos."
   ]
  },
  {
   "cell_type": "markdown",
   "metadata": {
    "id": "VNddPNRQ0q0w"
   },
   "source": [
    "Antes de empezar con el análisis, el objetivo de este proyecto es averiguar cuál de los dos planes prepago, Surf o Ultimate, genera más ingresos para Megaline. Para eso, voy a cargar y preparar los datos, calcular el uso mensual de cada cliente (llamadas, mensajes e internet), estimar los ingresos que generan y luego comparar los resultados entre planes. También voy a hacer algunas pruebas estadísticas para ver si las diferencias son significativas. Con todo esto, buscaré sacar conclusiones claras sobre qué tarifa es más rentable."
   ]
  },
  {
   "cell_type": "markdown",
   "metadata": {
    "id": "MQi4IPy70q0y"
   },
   "source": [
    "## Inicialización"
   ]
  },
  {
   "cell_type": "code",
   "execution_count": 224,
   "metadata": {
    "id": "MtYIuBxu0q0z"
   },
   "outputs": [],
   "source": [
    "import pandas as pd\n",
    "import numpy as np\n",
    "import matplotlib.pyplot as plt\n",
    "import math as m\n",
    "# Cargar todas las librerías"
   ]
  },
  {
   "cell_type": "markdown",
   "metadata": {},
   "source": [
    "<div class=\"alert alert-block alert-warning\">\n",
    "<b>Comentario revisor</b> <a class=\"tocSkip\"></a>\n",
    "\n",
    "\n",
    "Recomiendo cargar la libreria math. De esta manera, puedes realizar redondeos con otros métodos. \n",
    "</div>"
   ]
  },
  {
   "cell_type": "markdown",
   "metadata": {},
   "source": [
    "<div class=\"alert alert-block alert-success\">\n",
    "<b>Comentario revisor</b> <a class=\"tocSkip\"></a>\n",
    "\n",
    "\n",
    "Gran trabajo con el ajuste!"
   ]
  },
  {
   "cell_type": "markdown",
   "metadata": {
    "id": "4ysWWC5i0q00"
   },
   "source": [
    "## Cargar datos"
   ]
  },
  {
   "cell_type": "code",
   "execution_count": 225,
   "metadata": {
    "id": "CCqPW7rS0q01"
   },
   "outputs": [],
   "source": [
    "users = pd.read_csv('/datasets/megaline_users.csv')\n",
    "calls = pd.read_csv('/datasets/megaline_calls.csv')\n",
    "messages = pd.read_csv('/datasets/megaline_messages.csv')\n",
    "internet = pd.read_csv('/datasets/megaline_internet.csv')\n",
    "plans = pd.read_csv('/datasets/megaline_plans.csv')\n",
    "# Carga los archivos de datos en diferentes DataFrames"
   ]
  },
  {
   "cell_type": "markdown",
   "metadata": {
    "id": "69qqoJ3r0q01"
   },
   "source": [
    "## Preparar los datos"
   ]
  },
  {
   "cell_type": "markdown",
   "metadata": {
    "id": "ohBhimvH0q01"
   },
   "source": [
    "## Tarifas"
   ]
  },
  {
   "cell_type": "code",
   "execution_count": 226,
   "metadata": {
    "id": "GptqP3Q40q02",
    "scrolled": false
   },
   "outputs": [
    {
     "name": "stdout",
     "output_type": "stream",
     "text": [
      "<class 'pandas.core.frame.DataFrame'>\n",
      "RangeIndex: 2 entries, 0 to 1\n",
      "Data columns (total 8 columns):\n",
      " #   Column                 Non-Null Count  Dtype  \n",
      "---  ------                 --------------  -----  \n",
      " 0   messages_included      2 non-null      int64  \n",
      " 1   mb_per_month_included  2 non-null      int64  \n",
      " 2   minutes_included       2 non-null      int64  \n",
      " 3   usd_monthly_pay        2 non-null      int64  \n",
      " 4   usd_per_gb             2 non-null      int64  \n",
      " 5   usd_per_message        2 non-null      float64\n",
      " 6   usd_per_minute         2 non-null      float64\n",
      " 7   plan_name              2 non-null      object \n",
      "dtypes: float64(2), int64(5), object(1)\n",
      "memory usage: 256.0+ bytes\n",
      "None\n"
     ]
    },
    {
     "data": {
      "text/html": [
       "<div>\n",
       "<style scoped>\n",
       "    .dataframe tbody tr th:only-of-type {\n",
       "        vertical-align: middle;\n",
       "    }\n",
       "\n",
       "    .dataframe tbody tr th {\n",
       "        vertical-align: top;\n",
       "    }\n",
       "\n",
       "    .dataframe thead th {\n",
       "        text-align: right;\n",
       "    }\n",
       "</style>\n",
       "<table border=\"1\" class=\"dataframe\">\n",
       "  <thead>\n",
       "    <tr style=\"text-align: right;\">\n",
       "      <th></th>\n",
       "      <th>messages_included</th>\n",
       "      <th>mb_per_month_included</th>\n",
       "      <th>minutes_included</th>\n",
       "      <th>usd_monthly_pay</th>\n",
       "      <th>usd_per_gb</th>\n",
       "      <th>usd_per_message</th>\n",
       "      <th>usd_per_minute</th>\n",
       "    </tr>\n",
       "  </thead>\n",
       "  <tbody>\n",
       "    <tr>\n",
       "      <th>count</th>\n",
       "      <td>2.000000</td>\n",
       "      <td>2.000000</td>\n",
       "      <td>2.000000</td>\n",
       "      <td>2.000000</td>\n",
       "      <td>2.00000</td>\n",
       "      <td>2.000000</td>\n",
       "      <td>2.000000</td>\n",
       "    </tr>\n",
       "    <tr>\n",
       "      <th>mean</th>\n",
       "      <td>525.000000</td>\n",
       "      <td>23040.000000</td>\n",
       "      <td>1750.000000</td>\n",
       "      <td>45.000000</td>\n",
       "      <td>8.50000</td>\n",
       "      <td>0.020000</td>\n",
       "      <td>0.020000</td>\n",
       "    </tr>\n",
       "    <tr>\n",
       "      <th>std</th>\n",
       "      <td>671.751442</td>\n",
       "      <td>10861.160159</td>\n",
       "      <td>1767.766953</td>\n",
       "      <td>35.355339</td>\n",
       "      <td>2.12132</td>\n",
       "      <td>0.014142</td>\n",
       "      <td>0.014142</td>\n",
       "    </tr>\n",
       "    <tr>\n",
       "      <th>min</th>\n",
       "      <td>50.000000</td>\n",
       "      <td>15360.000000</td>\n",
       "      <td>500.000000</td>\n",
       "      <td>20.000000</td>\n",
       "      <td>7.00000</td>\n",
       "      <td>0.010000</td>\n",
       "      <td>0.010000</td>\n",
       "    </tr>\n",
       "    <tr>\n",
       "      <th>25%</th>\n",
       "      <td>287.500000</td>\n",
       "      <td>19200.000000</td>\n",
       "      <td>1125.000000</td>\n",
       "      <td>32.500000</td>\n",
       "      <td>7.75000</td>\n",
       "      <td>0.015000</td>\n",
       "      <td>0.015000</td>\n",
       "    </tr>\n",
       "    <tr>\n",
       "      <th>50%</th>\n",
       "      <td>525.000000</td>\n",
       "      <td>23040.000000</td>\n",
       "      <td>1750.000000</td>\n",
       "      <td>45.000000</td>\n",
       "      <td>8.50000</td>\n",
       "      <td>0.020000</td>\n",
       "      <td>0.020000</td>\n",
       "    </tr>\n",
       "    <tr>\n",
       "      <th>75%</th>\n",
       "      <td>762.500000</td>\n",
       "      <td>26880.000000</td>\n",
       "      <td>2375.000000</td>\n",
       "      <td>57.500000</td>\n",
       "      <td>9.25000</td>\n",
       "      <td>0.025000</td>\n",
       "      <td>0.025000</td>\n",
       "    </tr>\n",
       "    <tr>\n",
       "      <th>max</th>\n",
       "      <td>1000.000000</td>\n",
       "      <td>30720.000000</td>\n",
       "      <td>3000.000000</td>\n",
       "      <td>70.000000</td>\n",
       "      <td>10.00000</td>\n",
       "      <td>0.030000</td>\n",
       "      <td>0.030000</td>\n",
       "    </tr>\n",
       "  </tbody>\n",
       "</table>\n",
       "</div>"
      ],
      "text/plain": [
       "       messages_included  mb_per_month_included  minutes_included  \\\n",
       "count           2.000000               2.000000          2.000000   \n",
       "mean          525.000000           23040.000000       1750.000000   \n",
       "std           671.751442           10861.160159       1767.766953   \n",
       "min            50.000000           15360.000000        500.000000   \n",
       "25%           287.500000           19200.000000       1125.000000   \n",
       "50%           525.000000           23040.000000       1750.000000   \n",
       "75%           762.500000           26880.000000       2375.000000   \n",
       "max          1000.000000           30720.000000       3000.000000   \n",
       "\n",
       "       usd_monthly_pay  usd_per_gb  usd_per_message  usd_per_minute  \n",
       "count         2.000000     2.00000         2.000000        2.000000  \n",
       "mean         45.000000     8.50000         0.020000        0.020000  \n",
       "std          35.355339     2.12132         0.014142        0.014142  \n",
       "min          20.000000     7.00000         0.010000        0.010000  \n",
       "25%          32.500000     7.75000         0.015000        0.015000  \n",
       "50%          45.000000     8.50000         0.020000        0.020000  \n",
       "75%          57.500000     9.25000         0.025000        0.025000  \n",
       "max          70.000000    10.00000         0.030000        0.030000  "
      ]
     },
     "metadata": {},
     "output_type": "display_data"
    }
   ],
   "source": [
    "print(plans.info())\n",
    "display(plans.describe())\n",
    "# Imprime la información general/resumida sobre el DataFrame de las tarifas"
   ]
  },
  {
   "cell_type": "code",
   "execution_count": 227,
   "metadata": {
    "id": "64xzjwL70q02",
    "scrolled": true
   },
   "outputs": [
    {
     "data": {
      "text/html": [
       "<div>\n",
       "<style scoped>\n",
       "    .dataframe tbody tr th:only-of-type {\n",
       "        vertical-align: middle;\n",
       "    }\n",
       "\n",
       "    .dataframe tbody tr th {\n",
       "        vertical-align: top;\n",
       "    }\n",
       "\n",
       "    .dataframe thead th {\n",
       "        text-align: right;\n",
       "    }\n",
       "</style>\n",
       "<table border=\"1\" class=\"dataframe\">\n",
       "  <thead>\n",
       "    <tr style=\"text-align: right;\">\n",
       "      <th></th>\n",
       "      <th>messages_included</th>\n",
       "      <th>mb_per_month_included</th>\n",
       "      <th>minutes_included</th>\n",
       "      <th>usd_monthly_pay</th>\n",
       "      <th>usd_per_gb</th>\n",
       "      <th>usd_per_message</th>\n",
       "      <th>usd_per_minute</th>\n",
       "      <th>plan_name</th>\n",
       "    </tr>\n",
       "  </thead>\n",
       "  <tbody>\n",
       "    <tr>\n",
       "      <th>0</th>\n",
       "      <td>50</td>\n",
       "      <td>15360</td>\n",
       "      <td>500</td>\n",
       "      <td>20</td>\n",
       "      <td>10</td>\n",
       "      <td>0.03</td>\n",
       "      <td>0.03</td>\n",
       "      <td>surf</td>\n",
       "    </tr>\n",
       "    <tr>\n",
       "      <th>1</th>\n",
       "      <td>1000</td>\n",
       "      <td>30720</td>\n",
       "      <td>3000</td>\n",
       "      <td>70</td>\n",
       "      <td>7</td>\n",
       "      <td>0.01</td>\n",
       "      <td>0.01</td>\n",
       "      <td>ultimate</td>\n",
       "    </tr>\n",
       "  </tbody>\n",
       "</table>\n",
       "</div>"
      ],
      "text/plain": [
       "   messages_included  mb_per_month_included  minutes_included  \\\n",
       "0                 50                  15360               500   \n",
       "1               1000                  30720              3000   \n",
       "\n",
       "   usd_monthly_pay  usd_per_gb  usd_per_message  usd_per_minute plan_name  \n",
       "0               20          10             0.03            0.03      surf  \n",
       "1               70           7             0.01            0.01  ultimate  "
      ]
     },
     "metadata": {},
     "output_type": "display_data"
    }
   ],
   "source": [
    "display(plans.head())\n",
    "# Imprime una muestra de los datos para las tarifas"
   ]
  },
  {
   "cell_type": "markdown",
   "metadata": {
    "id": "mEc_3_hs0q02"
   },
   "source": [
    "El DataFrame plans contiene 2 registros y 8 columnas, todas con valores completos y sin datos nulos. La mayoría de las columnas son de tipo int64 o float64, lo cual es adecuado para datos numéricos, mientras que plan_name es de tipo object, correcto para nombres de planes. Al observar los datos, se nota que un plan incluye 1000 mensajes y el otro solo 50, los minutos incluidos varían entre 500 y 3000, y el costo mensual va de 20 a 70 USD. También hay diferencias en los costos por GB, por mensaje y por minuto. La columna mb_per_month_included muestra el uso en megabytes, pero sería más claro convertirlo a gigabytes para que sea coherente con usd_per_gb. Además, reorganizar las columnas podría hacer que la información se interprete más fácilmente."
   ]
  },
  {
   "cell_type": "markdown",
   "metadata": {
    "id": "R3C05i1l0q03"
   },
   "source": [
    "## Corregir datos"
   ]
  },
  {
   "cell_type": "code",
   "execution_count": 228,
   "metadata": {
    "id": "Y7SVmjGn0q03",
    "scrolled": false
   },
   "outputs": [
    {
     "data": {
      "text/html": [
       "<div>\n",
       "<style scoped>\n",
       "    .dataframe tbody tr th:only-of-type {\n",
       "        vertical-align: middle;\n",
       "    }\n",
       "\n",
       "    .dataframe tbody tr th {\n",
       "        vertical-align: top;\n",
       "    }\n",
       "\n",
       "    .dataframe thead th {\n",
       "        text-align: right;\n",
       "    }\n",
       "</style>\n",
       "<table border=\"1\" class=\"dataframe\">\n",
       "  <thead>\n",
       "    <tr style=\"text-align: right;\">\n",
       "      <th></th>\n",
       "      <th>messages_included</th>\n",
       "      <th>mb_per_month_included</th>\n",
       "      <th>minutes_included</th>\n",
       "      <th>usd_monthly_pay</th>\n",
       "      <th>usd_per_gb</th>\n",
       "      <th>usd_per_message</th>\n",
       "      <th>usd_per_minute</th>\n",
       "      <th>plan_name</th>\n",
       "      <th>gb_per_month_included</th>\n",
       "    </tr>\n",
       "  </thead>\n",
       "  <tbody>\n",
       "    <tr>\n",
       "      <th>0</th>\n",
       "      <td>50</td>\n",
       "      <td>15360</td>\n",
       "      <td>500</td>\n",
       "      <td>20</td>\n",
       "      <td>10</td>\n",
       "      <td>0.03</td>\n",
       "      <td>0.03</td>\n",
       "      <td>surf</td>\n",
       "      <td>15</td>\n",
       "    </tr>\n",
       "    <tr>\n",
       "      <th>1</th>\n",
       "      <td>1000</td>\n",
       "      <td>30720</td>\n",
       "      <td>3000</td>\n",
       "      <td>70</td>\n",
       "      <td>7</td>\n",
       "      <td>0.01</td>\n",
       "      <td>0.01</td>\n",
       "      <td>ultimate</td>\n",
       "      <td>30</td>\n",
       "    </tr>\n",
       "  </tbody>\n",
       "</table>\n",
       "</div>"
      ],
      "text/plain": [
       "   messages_included  mb_per_month_included  minutes_included  \\\n",
       "0                 50                  15360               500   \n",
       "1               1000                  30720              3000   \n",
       "\n",
       "   usd_monthly_pay  usd_per_gb  usd_per_message  usd_per_minute plan_name  \\\n",
       "0               20          10             0.03            0.03      surf   \n",
       "1               70           7             0.01            0.01  ultimate   \n",
       "\n",
       "   gb_per_month_included  \n",
       "0                     15  \n",
       "1                     30  "
      ]
     },
     "metadata": {},
     "output_type": "display_data"
    }
   ],
   "source": [
    "plans['gb_per_month_included'] = plans['mb_per_month_included'] // 1024\n",
    "display(plans.head())"
   ]
  },
  {
   "cell_type": "markdown",
   "metadata": {},
   "source": [
    "\n",
    "<div class=\"alert alert-block alert-success\">\n",
    "<b>Comentario del revisor</b> <a class=\"tocSkip\"></a>\n",
    "\n",
    "Muy buen trabajo!! Es correcto considerar que 1024 megabytes son 1 gigabytes.\n",
    "    \n",
    "</div>"
   ]
  },
  {
   "cell_type": "markdown",
   "metadata": {
    "id": "LJir7bml0q03"
   },
   "source": [
    "## Enriquecer los datos"
   ]
  },
  {
   "cell_type": "code",
   "execution_count": 229,
   "metadata": {
    "id": "gfcIEuXV0q04",
    "scrolled": true
   },
   "outputs": [
    {
     "data": {
      "text/html": [
       "<div>\n",
       "<style scoped>\n",
       "    .dataframe tbody tr th:only-of-type {\n",
       "        vertical-align: middle;\n",
       "    }\n",
       "\n",
       "    .dataframe tbody tr th {\n",
       "        vertical-align: top;\n",
       "    }\n",
       "\n",
       "    .dataframe thead th {\n",
       "        text-align: right;\n",
       "    }\n",
       "</style>\n",
       "<table border=\"1\" class=\"dataframe\">\n",
       "  <thead>\n",
       "    <tr style=\"text-align: right;\">\n",
       "      <th></th>\n",
       "      <th>plan_name</th>\n",
       "      <th>usd_monthly_pay</th>\n",
       "      <th>minutes_included</th>\n",
       "      <th>usd_per_minute</th>\n",
       "      <th>messages_included</th>\n",
       "      <th>usd_per_message</th>\n",
       "      <th>gb_per_month_included</th>\n",
       "      <th>usd_per_gb</th>\n",
       "    </tr>\n",
       "  </thead>\n",
       "  <tbody>\n",
       "    <tr>\n",
       "      <th>0</th>\n",
       "      <td>surf</td>\n",
       "      <td>20</td>\n",
       "      <td>500</td>\n",
       "      <td>0.03</td>\n",
       "      <td>50</td>\n",
       "      <td>0.03</td>\n",
       "      <td>15</td>\n",
       "      <td>10</td>\n",
       "    </tr>\n",
       "    <tr>\n",
       "      <th>1</th>\n",
       "      <td>ultimate</td>\n",
       "      <td>70</td>\n",
       "      <td>3000</td>\n",
       "      <td>0.01</td>\n",
       "      <td>1000</td>\n",
       "      <td>0.01</td>\n",
       "      <td>30</td>\n",
       "      <td>7</td>\n",
       "    </tr>\n",
       "  </tbody>\n",
       "</table>\n",
       "</div>"
      ],
      "text/plain": [
       "  plan_name  usd_monthly_pay  minutes_included  usd_per_minute  \\\n",
       "0      surf               20               500            0.03   \n",
       "1  ultimate               70              3000            0.01   \n",
       "\n",
       "   messages_included  usd_per_message  gb_per_month_included  usd_per_gb  \n",
       "0                 50             0.03                     15          10  \n",
       "1               1000             0.01                     30           7  "
      ]
     },
     "metadata": {},
     "output_type": "display_data"
    }
   ],
   "source": [
    "plans = plans[['plan_name','usd_monthly_pay','minutes_included','usd_per_minute','messages_included','usd_per_message','gb_per_month_included','usd_per_gb']]\n",
    "display(plans.head())\n"
   ]
  },
  {
   "cell_type": "markdown",
   "metadata": {
    "id": "1n2X6WXf0q04"
   },
   "source": [
    "## Usuarios/as"
   ]
  },
  {
   "cell_type": "code",
   "execution_count": 230,
   "metadata": {
    "id": "2NgjWFqx0q05"
   },
   "outputs": [
    {
     "name": "stdout",
     "output_type": "stream",
     "text": [
      "<class 'pandas.core.frame.DataFrame'>\n",
      "RangeIndex: 500 entries, 0 to 499\n",
      "Data columns (total 8 columns):\n",
      " #   Column      Non-Null Count  Dtype \n",
      "---  ------      --------------  ----- \n",
      " 0   user_id     500 non-null    int64 \n",
      " 1   first_name  500 non-null    object\n",
      " 2   last_name   500 non-null    object\n",
      " 3   age         500 non-null    int64 \n",
      " 4   city        500 non-null    object\n",
      " 5   reg_date    500 non-null    object\n",
      " 6   plan        500 non-null    object\n",
      " 7   churn_date  34 non-null     object\n",
      "dtypes: int64(2), object(6)\n",
      "memory usage: 31.4+ KB\n",
      "None\n"
     ]
    },
    {
     "data": {
      "text/html": [
       "<div>\n",
       "<style scoped>\n",
       "    .dataframe tbody tr th:only-of-type {\n",
       "        vertical-align: middle;\n",
       "    }\n",
       "\n",
       "    .dataframe tbody tr th {\n",
       "        vertical-align: top;\n",
       "    }\n",
       "\n",
       "    .dataframe thead th {\n",
       "        text-align: right;\n",
       "    }\n",
       "</style>\n",
       "<table border=\"1\" class=\"dataframe\">\n",
       "  <thead>\n",
       "    <tr style=\"text-align: right;\">\n",
       "      <th></th>\n",
       "      <th>user_id</th>\n",
       "      <th>age</th>\n",
       "    </tr>\n",
       "  </thead>\n",
       "  <tbody>\n",
       "    <tr>\n",
       "      <th>count</th>\n",
       "      <td>500.000000</td>\n",
       "      <td>500.000000</td>\n",
       "    </tr>\n",
       "    <tr>\n",
       "      <th>mean</th>\n",
       "      <td>1249.500000</td>\n",
       "      <td>45.486000</td>\n",
       "    </tr>\n",
       "    <tr>\n",
       "      <th>std</th>\n",
       "      <td>144.481833</td>\n",
       "      <td>16.972269</td>\n",
       "    </tr>\n",
       "    <tr>\n",
       "      <th>min</th>\n",
       "      <td>1000.000000</td>\n",
       "      <td>18.000000</td>\n",
       "    </tr>\n",
       "    <tr>\n",
       "      <th>25%</th>\n",
       "      <td>1124.750000</td>\n",
       "      <td>30.000000</td>\n",
       "    </tr>\n",
       "    <tr>\n",
       "      <th>50%</th>\n",
       "      <td>1249.500000</td>\n",
       "      <td>46.000000</td>\n",
       "    </tr>\n",
       "    <tr>\n",
       "      <th>75%</th>\n",
       "      <td>1374.250000</td>\n",
       "      <td>61.000000</td>\n",
       "    </tr>\n",
       "    <tr>\n",
       "      <th>max</th>\n",
       "      <td>1499.000000</td>\n",
       "      <td>75.000000</td>\n",
       "    </tr>\n",
       "  </tbody>\n",
       "</table>\n",
       "</div>"
      ],
      "text/plain": [
       "           user_id         age\n",
       "count   500.000000  500.000000\n",
       "mean   1249.500000   45.486000\n",
       "std     144.481833   16.972269\n",
       "min    1000.000000   18.000000\n",
       "25%    1124.750000   30.000000\n",
       "50%    1249.500000   46.000000\n",
       "75%    1374.250000   61.000000\n",
       "max    1499.000000   75.000000"
      ]
     },
     "metadata": {},
     "output_type": "display_data"
    }
   ],
   "source": [
    "print(users.info())\n",
    "display(users.describe())\n",
    "# Imprime la información general/resumida sobre el DataFrame de usuarios"
   ]
  },
  {
   "cell_type": "code",
   "execution_count": 231,
   "metadata": {
    "id": "1IN1L9uh0q05",
    "scrolled": true
   },
   "outputs": [
    {
     "data": {
      "text/html": [
       "<div>\n",
       "<style scoped>\n",
       "    .dataframe tbody tr th:only-of-type {\n",
       "        vertical-align: middle;\n",
       "    }\n",
       "\n",
       "    .dataframe tbody tr th {\n",
       "        vertical-align: top;\n",
       "    }\n",
       "\n",
       "    .dataframe thead th {\n",
       "        text-align: right;\n",
       "    }\n",
       "</style>\n",
       "<table border=\"1\" class=\"dataframe\">\n",
       "  <thead>\n",
       "    <tr style=\"text-align: right;\">\n",
       "      <th></th>\n",
       "      <th>user_id</th>\n",
       "      <th>first_name</th>\n",
       "      <th>last_name</th>\n",
       "      <th>age</th>\n",
       "      <th>city</th>\n",
       "      <th>reg_date</th>\n",
       "      <th>plan</th>\n",
       "      <th>churn_date</th>\n",
       "    </tr>\n",
       "  </thead>\n",
       "  <tbody>\n",
       "    <tr>\n",
       "      <th>0</th>\n",
       "      <td>1000</td>\n",
       "      <td>Anamaria</td>\n",
       "      <td>Bauer</td>\n",
       "      <td>45</td>\n",
       "      <td>Atlanta-Sandy Springs-Roswell, GA MSA</td>\n",
       "      <td>2018-12-24</td>\n",
       "      <td>ultimate</td>\n",
       "      <td>NaN</td>\n",
       "    </tr>\n",
       "    <tr>\n",
       "      <th>1</th>\n",
       "      <td>1001</td>\n",
       "      <td>Mickey</td>\n",
       "      <td>Wilkerson</td>\n",
       "      <td>28</td>\n",
       "      <td>Seattle-Tacoma-Bellevue, WA MSA</td>\n",
       "      <td>2018-08-13</td>\n",
       "      <td>surf</td>\n",
       "      <td>NaN</td>\n",
       "    </tr>\n",
       "    <tr>\n",
       "      <th>2</th>\n",
       "      <td>1002</td>\n",
       "      <td>Carlee</td>\n",
       "      <td>Hoffman</td>\n",
       "      <td>36</td>\n",
       "      <td>Las Vegas-Henderson-Paradise, NV MSA</td>\n",
       "      <td>2018-10-21</td>\n",
       "      <td>surf</td>\n",
       "      <td>NaN</td>\n",
       "    </tr>\n",
       "    <tr>\n",
       "      <th>3</th>\n",
       "      <td>1003</td>\n",
       "      <td>Reynaldo</td>\n",
       "      <td>Jenkins</td>\n",
       "      <td>52</td>\n",
       "      <td>Tulsa, OK MSA</td>\n",
       "      <td>2018-01-28</td>\n",
       "      <td>surf</td>\n",
       "      <td>NaN</td>\n",
       "    </tr>\n",
       "    <tr>\n",
       "      <th>4</th>\n",
       "      <td>1004</td>\n",
       "      <td>Leonila</td>\n",
       "      <td>Thompson</td>\n",
       "      <td>40</td>\n",
       "      <td>Seattle-Tacoma-Bellevue, WA MSA</td>\n",
       "      <td>2018-05-23</td>\n",
       "      <td>surf</td>\n",
       "      <td>NaN</td>\n",
       "    </tr>\n",
       "  </tbody>\n",
       "</table>\n",
       "</div>"
      ],
      "text/plain": [
       "   user_id first_name  last_name  age                                   city  \\\n",
       "0     1000   Anamaria      Bauer   45  Atlanta-Sandy Springs-Roswell, GA MSA   \n",
       "1     1001     Mickey  Wilkerson   28        Seattle-Tacoma-Bellevue, WA MSA   \n",
       "2     1002     Carlee    Hoffman   36   Las Vegas-Henderson-Paradise, NV MSA   \n",
       "3     1003   Reynaldo    Jenkins   52                          Tulsa, OK MSA   \n",
       "4     1004    Leonila   Thompson   40        Seattle-Tacoma-Bellevue, WA MSA   \n",
       "\n",
       "     reg_date      plan churn_date  \n",
       "0  2018-12-24  ultimate        NaN  \n",
       "1  2018-08-13      surf        NaN  \n",
       "2  2018-10-21      surf        NaN  \n",
       "3  2018-01-28      surf        NaN  \n",
       "4  2018-05-23      surf        NaN  "
      ]
     },
     "metadata": {},
     "output_type": "display_data"
    }
   ],
   "source": [
    "display(users.head())\n",
    "# Imprime una muestra de datos para usuarios"
   ]
  },
  {
   "cell_type": "markdown",
   "metadata": {
    "id": "dCZoUq4f0q06"
   },
   "source": [
    "El DataFrame users tiene 500 registros y 8 columnas, y en general los datos se ven bastante completos, excepto en la columna churn_date, que tiene muchos valores nulos —lo cual es lógico, ya que solo 34 usuarios han dejado el servicio. Las columnas como user_id y age están en el tipo correcto (int64), mientras que las demás son de tipo object, lo cual está bien para texto o fechas que aún no han sido convertidas. Las fechas (reg_date y churn_date) deberían transformarse a formato datetime para facilitar análisis posteriores. Calcular la antigüedad del cliente en días te permite ver cuánto tiempo ha estado el usuario con Megaline, ideal para analizar lealtad o comportamiento según antigüedad."
   ]
  },
  {
   "cell_type": "markdown",
   "metadata": {
    "id": "BX5FQh_I0q06"
   },
   "source": [
    "### Corregir los datos"
   ]
  },
  {
   "cell_type": "code",
   "execution_count": 232,
   "metadata": {
    "id": "yUqX-K0C0q07"
   },
   "outputs": [
    {
     "name": "stdout",
     "output_type": "stream",
     "text": [
      "<class 'pandas.core.frame.DataFrame'>\n",
      "RangeIndex: 500 entries, 0 to 499\n",
      "Data columns (total 8 columns):\n",
      " #   Column      Non-Null Count  Dtype         \n",
      "---  ------      --------------  -----         \n",
      " 0   user_id     500 non-null    int64         \n",
      " 1   first_name  500 non-null    object        \n",
      " 2   last_name   500 non-null    object        \n",
      " 3   age         500 non-null    int64         \n",
      " 4   city        500 non-null    object        \n",
      " 5   reg_date    500 non-null    datetime64[ns]\n",
      " 6   plan        500 non-null    object        \n",
      " 7   churn_date  34 non-null     datetime64[ns]\n",
      "dtypes: datetime64[ns](2), int64(2), object(4)\n",
      "memory usage: 31.4+ KB\n"
     ]
    },
    {
     "data": {
      "text/plain": [
       "None"
      ]
     },
     "metadata": {},
     "output_type": "display_data"
    }
   ],
   "source": [
    "users['reg_date'] = pd.to_datetime(users['reg_date'], format='%Y-%m-%d')\n",
    "users['churn_date'] = pd.to_datetime(users['churn_date'], format='%Y-%m-%d')\n",
    "display(users.info())"
   ]
  },
  {
   "cell_type": "markdown",
   "metadata": {},
   "source": [
    "\n",
    "<div class=\"alert alert-block alert-warning\">\n",
    "<b>Comentario Revisor</b> <a class=\"tocSkip\"></a>\n",
    "\n",
    "En todos los casos en los que cambiamos el tipo de variable a datetime, te recomiendo agregar el argumento \"format='%Y-%m-%d'\" dentro de la función to_datetime(). De esta manera, puedes asegurarte siempre de que el formato de la fecha que deseas cambiar sea el que necesitas.\n",
    "</div>"
   ]
  },
  {
   "cell_type": "markdown",
   "metadata": {
    "id": "ycwuARJp0q07"
   },
   "source": [
    "### Enriquecer los datos"
   ]
  },
  {
   "cell_type": "code",
   "execution_count": 233,
   "metadata": {
    "id": "iq0AaBS90q08",
    "scrolled": true
   },
   "outputs": [
    {
     "data": {
      "text/html": [
       "<div>\n",
       "<style scoped>\n",
       "    .dataframe tbody tr th:only-of-type {\n",
       "        vertical-align: middle;\n",
       "    }\n",
       "\n",
       "    .dataframe tbody tr th {\n",
       "        vertical-align: top;\n",
       "    }\n",
       "\n",
       "    .dataframe thead th {\n",
       "        text-align: right;\n",
       "    }\n",
       "</style>\n",
       "<table border=\"1\" class=\"dataframe\">\n",
       "  <thead>\n",
       "    <tr style=\"text-align: right;\">\n",
       "      <th></th>\n",
       "      <th>user_id</th>\n",
       "      <th>first_name</th>\n",
       "      <th>last_name</th>\n",
       "      <th>age</th>\n",
       "      <th>city</th>\n",
       "      <th>reg_date</th>\n",
       "      <th>plan</th>\n",
       "      <th>churn_date</th>\n",
       "      <th>tenure_days</th>\n",
       "    </tr>\n",
       "  </thead>\n",
       "  <tbody>\n",
       "    <tr>\n",
       "      <th>0</th>\n",
       "      <td>1000</td>\n",
       "      <td>Anamaria</td>\n",
       "      <td>Bauer</td>\n",
       "      <td>45</td>\n",
       "      <td>Atlanta-Sandy Springs-Roswell, GA MSA</td>\n",
       "      <td>2018-12-24</td>\n",
       "      <td>ultimate</td>\n",
       "      <td>NaT</td>\n",
       "      <td>7</td>\n",
       "    </tr>\n",
       "    <tr>\n",
       "      <th>1</th>\n",
       "      <td>1001</td>\n",
       "      <td>Mickey</td>\n",
       "      <td>Wilkerson</td>\n",
       "      <td>28</td>\n",
       "      <td>Seattle-Tacoma-Bellevue, WA MSA</td>\n",
       "      <td>2018-08-13</td>\n",
       "      <td>surf</td>\n",
       "      <td>NaT</td>\n",
       "      <td>140</td>\n",
       "    </tr>\n",
       "    <tr>\n",
       "      <th>2</th>\n",
       "      <td>1002</td>\n",
       "      <td>Carlee</td>\n",
       "      <td>Hoffman</td>\n",
       "      <td>36</td>\n",
       "      <td>Las Vegas-Henderson-Paradise, NV MSA</td>\n",
       "      <td>2018-10-21</td>\n",
       "      <td>surf</td>\n",
       "      <td>NaT</td>\n",
       "      <td>71</td>\n",
       "    </tr>\n",
       "    <tr>\n",
       "      <th>3</th>\n",
       "      <td>1003</td>\n",
       "      <td>Reynaldo</td>\n",
       "      <td>Jenkins</td>\n",
       "      <td>52</td>\n",
       "      <td>Tulsa, OK MSA</td>\n",
       "      <td>2018-01-28</td>\n",
       "      <td>surf</td>\n",
       "      <td>NaT</td>\n",
       "      <td>337</td>\n",
       "    </tr>\n",
       "    <tr>\n",
       "      <th>4</th>\n",
       "      <td>1004</td>\n",
       "      <td>Leonila</td>\n",
       "      <td>Thompson</td>\n",
       "      <td>40</td>\n",
       "      <td>Seattle-Tacoma-Bellevue, WA MSA</td>\n",
       "      <td>2018-05-23</td>\n",
       "      <td>surf</td>\n",
       "      <td>NaT</td>\n",
       "      <td>222</td>\n",
       "    </tr>\n",
       "  </tbody>\n",
       "</table>\n",
       "</div>"
      ],
      "text/plain": [
       "   user_id first_name  last_name  age                                   city  \\\n",
       "0     1000   Anamaria      Bauer   45  Atlanta-Sandy Springs-Roswell, GA MSA   \n",
       "1     1001     Mickey  Wilkerson   28        Seattle-Tacoma-Bellevue, WA MSA   \n",
       "2     1002     Carlee    Hoffman   36   Las Vegas-Henderson-Paradise, NV MSA   \n",
       "3     1003   Reynaldo    Jenkins   52                          Tulsa, OK MSA   \n",
       "4     1004    Leonila   Thompson   40        Seattle-Tacoma-Bellevue, WA MSA   \n",
       "\n",
       "    reg_date      plan churn_date  tenure_days  \n",
       "0 2018-12-24  ultimate        NaT            7  \n",
       "1 2018-08-13      surf        NaT          140  \n",
       "2 2018-10-21      surf        NaT           71  \n",
       "3 2018-01-28      surf        NaT          337  \n",
       "4 2018-05-23      surf        NaT          222  "
      ]
     },
     "metadata": {},
     "output_type": "display_data"
    }
   ],
   "source": [
    "users['tenure_days'] = (pd.to_datetime('2018-12-31') - users['reg_date']).dt.days\n",
    "display(users.head())"
   ]
  },
  {
   "cell_type": "markdown",
   "metadata": {
    "id": "o7MeKCid0q08"
   },
   "source": [
    "## Llamadas"
   ]
  },
  {
   "cell_type": "code",
   "execution_count": 234,
   "metadata": {
    "id": "6dDlnoDm0q08"
   },
   "outputs": [
    {
     "name": "stdout",
     "output_type": "stream",
     "text": [
      "<class 'pandas.core.frame.DataFrame'>\n",
      "RangeIndex: 137735 entries, 0 to 137734\n",
      "Data columns (total 4 columns):\n",
      " #   Column     Non-Null Count   Dtype  \n",
      "---  ------     --------------   -----  \n",
      " 0   id         137735 non-null  object \n",
      " 1   user_id    137735 non-null  int64  \n",
      " 2   call_date  137735 non-null  object \n",
      " 3   duration   137735 non-null  float64\n",
      "dtypes: float64(1), int64(1), object(2)\n",
      "memory usage: 4.2+ MB\n",
      "None\n"
     ]
    },
    {
     "data": {
      "text/html": [
       "<div>\n",
       "<style scoped>\n",
       "    .dataframe tbody tr th:only-of-type {\n",
       "        vertical-align: middle;\n",
       "    }\n",
       "\n",
       "    .dataframe tbody tr th {\n",
       "        vertical-align: top;\n",
       "    }\n",
       "\n",
       "    .dataframe thead th {\n",
       "        text-align: right;\n",
       "    }\n",
       "</style>\n",
       "<table border=\"1\" class=\"dataframe\">\n",
       "  <thead>\n",
       "    <tr style=\"text-align: right;\">\n",
       "      <th></th>\n",
       "      <th>user_id</th>\n",
       "      <th>duration</th>\n",
       "    </tr>\n",
       "  </thead>\n",
       "  <tbody>\n",
       "    <tr>\n",
       "      <th>count</th>\n",
       "      <td>137735.000000</td>\n",
       "      <td>137735.000000</td>\n",
       "    </tr>\n",
       "    <tr>\n",
       "      <th>mean</th>\n",
       "      <td>1247.658046</td>\n",
       "      <td>6.745927</td>\n",
       "    </tr>\n",
       "    <tr>\n",
       "      <th>std</th>\n",
       "      <td>139.416268</td>\n",
       "      <td>5.839241</td>\n",
       "    </tr>\n",
       "    <tr>\n",
       "      <th>min</th>\n",
       "      <td>1000.000000</td>\n",
       "      <td>0.000000</td>\n",
       "    </tr>\n",
       "    <tr>\n",
       "      <th>25%</th>\n",
       "      <td>1128.000000</td>\n",
       "      <td>1.290000</td>\n",
       "    </tr>\n",
       "    <tr>\n",
       "      <th>50%</th>\n",
       "      <td>1247.000000</td>\n",
       "      <td>5.980000</td>\n",
       "    </tr>\n",
       "    <tr>\n",
       "      <th>75%</th>\n",
       "      <td>1365.000000</td>\n",
       "      <td>10.690000</td>\n",
       "    </tr>\n",
       "    <tr>\n",
       "      <th>max</th>\n",
       "      <td>1499.000000</td>\n",
       "      <td>37.600000</td>\n",
       "    </tr>\n",
       "  </tbody>\n",
       "</table>\n",
       "</div>"
      ],
      "text/plain": [
       "             user_id       duration\n",
       "count  137735.000000  137735.000000\n",
       "mean     1247.658046       6.745927\n",
       "std       139.416268       5.839241\n",
       "min      1000.000000       0.000000\n",
       "25%      1128.000000       1.290000\n",
       "50%      1247.000000       5.980000\n",
       "75%      1365.000000      10.690000\n",
       "max      1499.000000      37.600000"
      ]
     },
     "metadata": {},
     "output_type": "display_data"
    }
   ],
   "source": [
    "print(calls.info())\n",
    "display(calls.describe())\n",
    "# Imprime la información general/resumida sobre el DataFrame de las llamadas"
   ]
  },
  {
   "cell_type": "code",
   "execution_count": 235,
   "metadata": {
    "id": "kuh1vlNB0q09"
   },
   "outputs": [
    {
     "data": {
      "text/html": [
       "<div>\n",
       "<style scoped>\n",
       "    .dataframe tbody tr th:only-of-type {\n",
       "        vertical-align: middle;\n",
       "    }\n",
       "\n",
       "    .dataframe tbody tr th {\n",
       "        vertical-align: top;\n",
       "    }\n",
       "\n",
       "    .dataframe thead th {\n",
       "        text-align: right;\n",
       "    }\n",
       "</style>\n",
       "<table border=\"1\" class=\"dataframe\">\n",
       "  <thead>\n",
       "    <tr style=\"text-align: right;\">\n",
       "      <th></th>\n",
       "      <th>id</th>\n",
       "      <th>user_id</th>\n",
       "      <th>call_date</th>\n",
       "      <th>duration</th>\n",
       "    </tr>\n",
       "  </thead>\n",
       "  <tbody>\n",
       "    <tr>\n",
       "      <th>0</th>\n",
       "      <td>1000_93</td>\n",
       "      <td>1000</td>\n",
       "      <td>2018-12-27</td>\n",
       "      <td>8.52</td>\n",
       "    </tr>\n",
       "    <tr>\n",
       "      <th>1</th>\n",
       "      <td>1000_145</td>\n",
       "      <td>1000</td>\n",
       "      <td>2018-12-27</td>\n",
       "      <td>13.66</td>\n",
       "    </tr>\n",
       "    <tr>\n",
       "      <th>2</th>\n",
       "      <td>1000_247</td>\n",
       "      <td>1000</td>\n",
       "      <td>2018-12-27</td>\n",
       "      <td>14.48</td>\n",
       "    </tr>\n",
       "    <tr>\n",
       "      <th>3</th>\n",
       "      <td>1000_309</td>\n",
       "      <td>1000</td>\n",
       "      <td>2018-12-28</td>\n",
       "      <td>5.76</td>\n",
       "    </tr>\n",
       "    <tr>\n",
       "      <th>4</th>\n",
       "      <td>1000_380</td>\n",
       "      <td>1000</td>\n",
       "      <td>2018-12-30</td>\n",
       "      <td>4.22</td>\n",
       "    </tr>\n",
       "  </tbody>\n",
       "</table>\n",
       "</div>"
      ],
      "text/plain": [
       "         id  user_id   call_date  duration\n",
       "0   1000_93     1000  2018-12-27      8.52\n",
       "1  1000_145     1000  2018-12-27     13.66\n",
       "2  1000_247     1000  2018-12-27     14.48\n",
       "3  1000_309     1000  2018-12-28      5.76\n",
       "4  1000_380     1000  2018-12-30      4.22"
      ]
     },
     "metadata": {},
     "output_type": "display_data"
    }
   ],
   "source": [
    "display(calls.head())\n",
    "# Imprime una muestra de datos para las llamadas"
   ]
  },
  {
   "cell_type": "markdown",
   "metadata": {
    "id": "DOAxYJSx0q09"
   },
   "source": [
    "En el DataFrame calls se observan 137,735 registros y 4 columnas, todas completas, sin valores nulos, lo cual es una buena señal. La columna duration está en tipo float64, adecuada para representar minutos de llamada, y no hay problemas de tipo en general. Sin embargo, la columna call_date todavía está en formato object, por lo que sería recomendable convertirla a datetime para facilitar análisis por fechas. También se observa que hay llamadas con duración cero, que podrían no ser útiles para el análisis y convendría filtrarlas. En resumen, los datos están en buen estado general, pero sería útil convertir las fechas. Crear una nueva columna month con el período mensual de cada llamada, usando .dt.to_period('M'). Esto me va a permitir agrupar fácilmente el uso por mes y usuario."
   ]
  },
  {
   "cell_type": "markdown",
   "metadata": {
    "id": "S7hzxmbX0q0-"
   },
   "source": [
    "### Corregir los datos"
   ]
  },
  {
   "cell_type": "code",
   "execution_count": 236,
   "metadata": {
    "id": "S2r8xA4f0q0-"
   },
   "outputs": [
    {
     "data": {
      "text/html": [
       "<div>\n",
       "<style scoped>\n",
       "    .dataframe tbody tr th:only-of-type {\n",
       "        vertical-align: middle;\n",
       "    }\n",
       "\n",
       "    .dataframe tbody tr th {\n",
       "        vertical-align: top;\n",
       "    }\n",
       "\n",
       "    .dataframe thead th {\n",
       "        text-align: right;\n",
       "    }\n",
       "</style>\n",
       "<table border=\"1\" class=\"dataframe\">\n",
       "  <thead>\n",
       "    <tr style=\"text-align: right;\">\n",
       "      <th></th>\n",
       "      <th>id</th>\n",
       "      <th>user_id</th>\n",
       "      <th>call_date</th>\n",
       "      <th>duration</th>\n",
       "    </tr>\n",
       "  </thead>\n",
       "  <tbody>\n",
       "    <tr>\n",
       "      <th>0</th>\n",
       "      <td>1000_93</td>\n",
       "      <td>1000</td>\n",
       "      <td>2018-12-27</td>\n",
       "      <td>8.52</td>\n",
       "    </tr>\n",
       "    <tr>\n",
       "      <th>1</th>\n",
       "      <td>1000_145</td>\n",
       "      <td>1000</td>\n",
       "      <td>2018-12-27</td>\n",
       "      <td>13.66</td>\n",
       "    </tr>\n",
       "    <tr>\n",
       "      <th>2</th>\n",
       "      <td>1000_247</td>\n",
       "      <td>1000</td>\n",
       "      <td>2018-12-27</td>\n",
       "      <td>14.48</td>\n",
       "    </tr>\n",
       "    <tr>\n",
       "      <th>3</th>\n",
       "      <td>1000_309</td>\n",
       "      <td>1000</td>\n",
       "      <td>2018-12-28</td>\n",
       "      <td>5.76</td>\n",
       "    </tr>\n",
       "    <tr>\n",
       "      <th>4</th>\n",
       "      <td>1000_380</td>\n",
       "      <td>1000</td>\n",
       "      <td>2018-12-30</td>\n",
       "      <td>4.22</td>\n",
       "    </tr>\n",
       "  </tbody>\n",
       "</table>\n",
       "</div>"
      ],
      "text/plain": [
       "         id  user_id  call_date  duration\n",
       "0   1000_93     1000 2018-12-27      8.52\n",
       "1  1000_145     1000 2018-12-27     13.66\n",
       "2  1000_247     1000 2018-12-27     14.48\n",
       "3  1000_309     1000 2018-12-28      5.76\n",
       "4  1000_380     1000 2018-12-30      4.22"
      ]
     },
     "metadata": {},
     "output_type": "display_data"
    }
   ],
   "source": [
    "calls['call_date'] = pd.to_datetime(calls['call_date'], format='%Y-%m-%d')\n",
    "display(calls.head())"
   ]
  },
  {
   "cell_type": "markdown",
   "metadata": {
    "id": "KrMgTrlG0q0_"
   },
   "source": [
    "### Enriquecer los datos"
   ]
  },
  {
   "cell_type": "code",
   "execution_count": 237,
   "metadata": {
    "id": "iZ1avpA_0q0_"
   },
   "outputs": [
    {
     "name": "stdout",
     "output_type": "stream",
     "text": [
      "Llamadas con duración 0: 26834\n"
     ]
    },
    {
     "data": {
      "text/html": [
       "<div>\n",
       "<style scoped>\n",
       "    .dataframe tbody tr th:only-of-type {\n",
       "        vertical-align: middle;\n",
       "    }\n",
       "\n",
       "    .dataframe tbody tr th {\n",
       "        vertical-align: top;\n",
       "    }\n",
       "\n",
       "    .dataframe thead th {\n",
       "        text-align: right;\n",
       "    }\n",
       "</style>\n",
       "<table border=\"1\" class=\"dataframe\">\n",
       "  <thead>\n",
       "    <tr style=\"text-align: right;\">\n",
       "      <th></th>\n",
       "      <th>id</th>\n",
       "      <th>user_id</th>\n",
       "      <th>call_date</th>\n",
       "      <th>duration</th>\n",
       "    </tr>\n",
       "  </thead>\n",
       "  <tbody>\n",
       "    <tr>\n",
       "      <th>19</th>\n",
       "      <td>1001_4</td>\n",
       "      <td>1001</td>\n",
       "      <td>2018-12-05</td>\n",
       "      <td>0.0</td>\n",
       "    </tr>\n",
       "    <tr>\n",
       "      <th>25</th>\n",
       "      <td>1001_13</td>\n",
       "      <td>1001</td>\n",
       "      <td>2018-12-24</td>\n",
       "      <td>0.0</td>\n",
       "    </tr>\n",
       "    <tr>\n",
       "      <th>31</th>\n",
       "      <td>1001_30</td>\n",
       "      <td>1001</td>\n",
       "      <td>2018-10-17</td>\n",
       "      <td>0.0</td>\n",
       "    </tr>\n",
       "    <tr>\n",
       "      <th>32</th>\n",
       "      <td>1001_31</td>\n",
       "      <td>1001</td>\n",
       "      <td>2018-11-03</td>\n",
       "      <td>0.0</td>\n",
       "    </tr>\n",
       "    <tr>\n",
       "      <th>34</th>\n",
       "      <td>1001_35</td>\n",
       "      <td>1001</td>\n",
       "      <td>2018-12-21</td>\n",
       "      <td>0.0</td>\n",
       "    </tr>\n",
       "  </tbody>\n",
       "</table>\n",
       "</div>"
      ],
      "text/plain": [
       "         id  user_id  call_date  duration\n",
       "19   1001_4     1001 2018-12-05       0.0\n",
       "25  1001_13     1001 2018-12-24       0.0\n",
       "31  1001_30     1001 2018-10-17       0.0\n",
       "32  1001_31     1001 2018-11-03       0.0\n",
       "34  1001_35     1001 2018-12-21       0.0"
      ]
     },
     "metadata": {},
     "output_type": "display_data"
    }
   ],
   "source": [
    "zero_duration_calls = calls[calls['duration'] == 0]\n",
    "print(f\"Llamadas con duración 0: {len(zero_duration_calls)}\")\n",
    "display(zero_duration_calls.head())"
   ]
  },
  {
   "cell_type": "code",
   "execution_count": 238,
   "metadata": {},
   "outputs": [
    {
     "name": "stdout",
     "output_type": "stream",
     "text": [
      "<class 'pandas.core.frame.DataFrame'>\n",
      "RangeIndex: 137735 entries, 0 to 137734\n",
      "Data columns (total 5 columns):\n",
      " #   Column     Non-Null Count   Dtype         \n",
      "---  ------     --------------   -----         \n",
      " 0   id         137735 non-null  object        \n",
      " 1   user_id    137735 non-null  int64         \n",
      " 2   call_date  137735 non-null  datetime64[ns]\n",
      " 3   duration   137735 non-null  float64       \n",
      " 4   month      137735 non-null  period[M]     \n",
      "dtypes: datetime64[ns](1), float64(1), int64(1), object(1), period[M](1)\n",
      "memory usage: 5.3+ MB\n"
     ]
    },
    {
     "data": {
      "text/plain": [
       "None"
      ]
     },
     "metadata": {},
     "output_type": "display_data"
    }
   ],
   "source": [
    "calls['month'] = calls['call_date'].dt.to_period('M')\n",
    "display(calls.info())"
   ]
  },
  {
   "cell_type": "markdown",
   "metadata": {
    "id": "DOAxYJSx0q09"
   },
   "source": [
    "Las llamadas con duración 0 podrían deberse a intentos fallidos en los que no se logró establecer la conexión o errores del sistema que registraron el evento pero no la duración real."
   ]
  },
  {
   "cell_type": "markdown",
   "metadata": {},
   "source": [
    "<div class=\"alert alert-block alert-warning\">\n",
    "<b>Comentario Revisor</b> <a class=\"tocSkip\"></a>\n",
    "\n",
    "Qué podríamos decir hasta el momento de las llamadas que tienen una duración de 0?\n",
    "</div>"
   ]
  },
  {
   "cell_type": "markdown",
   "metadata": {},
   "source": [
    "<div class=\"alert alert-block alert-success\">\n",
    "<b>Comentario revisor</b> <a class=\"tocSkip\"></a>\n",
    "\n",
    "\n",
    "Gran trabajo con el ajuste!"
   ]
  },
  {
   "cell_type": "markdown",
   "metadata": {
    "id": "mOUZSi180q0_"
   },
   "source": [
    "## Mensajes"
   ]
  },
  {
   "cell_type": "code",
   "execution_count": 239,
   "metadata": {
    "id": "R-bYJpdV0q1A"
   },
   "outputs": [
    {
     "name": "stdout",
     "output_type": "stream",
     "text": [
      "<class 'pandas.core.frame.DataFrame'>\n",
      "RangeIndex: 76051 entries, 0 to 76050\n",
      "Data columns (total 3 columns):\n",
      " #   Column        Non-Null Count  Dtype \n",
      "---  ------        --------------  ----- \n",
      " 0   id            76051 non-null  object\n",
      " 1   user_id       76051 non-null  int64 \n",
      " 2   message_date  76051 non-null  object\n",
      "dtypes: int64(1), object(2)\n",
      "memory usage: 1.7+ MB\n",
      "None\n"
     ]
    },
    {
     "data": {
      "text/html": [
       "<div>\n",
       "<style scoped>\n",
       "    .dataframe tbody tr th:only-of-type {\n",
       "        vertical-align: middle;\n",
       "    }\n",
       "\n",
       "    .dataframe tbody tr th {\n",
       "        vertical-align: top;\n",
       "    }\n",
       "\n",
       "    .dataframe thead th {\n",
       "        text-align: right;\n",
       "    }\n",
       "</style>\n",
       "<table border=\"1\" class=\"dataframe\">\n",
       "  <thead>\n",
       "    <tr style=\"text-align: right;\">\n",
       "      <th></th>\n",
       "      <th>user_id</th>\n",
       "    </tr>\n",
       "  </thead>\n",
       "  <tbody>\n",
       "    <tr>\n",
       "      <th>count</th>\n",
       "      <td>76051.000000</td>\n",
       "    </tr>\n",
       "    <tr>\n",
       "      <th>mean</th>\n",
       "      <td>1245.972768</td>\n",
       "    </tr>\n",
       "    <tr>\n",
       "      <th>std</th>\n",
       "      <td>139.843635</td>\n",
       "    </tr>\n",
       "    <tr>\n",
       "      <th>min</th>\n",
       "      <td>1000.000000</td>\n",
       "    </tr>\n",
       "    <tr>\n",
       "      <th>25%</th>\n",
       "      <td>1123.000000</td>\n",
       "    </tr>\n",
       "    <tr>\n",
       "      <th>50%</th>\n",
       "      <td>1251.000000</td>\n",
       "    </tr>\n",
       "    <tr>\n",
       "      <th>75%</th>\n",
       "      <td>1362.000000</td>\n",
       "    </tr>\n",
       "    <tr>\n",
       "      <th>max</th>\n",
       "      <td>1497.000000</td>\n",
       "    </tr>\n",
       "  </tbody>\n",
       "</table>\n",
       "</div>"
      ],
      "text/plain": [
       "            user_id\n",
       "count  76051.000000\n",
       "mean    1245.972768\n",
       "std      139.843635\n",
       "min     1000.000000\n",
       "25%     1123.000000\n",
       "50%     1251.000000\n",
       "75%     1362.000000\n",
       "max     1497.000000"
      ]
     },
     "metadata": {},
     "output_type": "display_data"
    }
   ],
   "source": [
    "print(messages.info())\n",
    "display(messages.describe())\n",
    "# Imprime la información general/resumida sobre el DataFrame de los mensajes"
   ]
  },
  {
   "cell_type": "code",
   "execution_count": 240,
   "metadata": {
    "id": "mCEl2iGE0q1A"
   },
   "outputs": [
    {
     "data": {
      "text/html": [
       "<div>\n",
       "<style scoped>\n",
       "    .dataframe tbody tr th:only-of-type {\n",
       "        vertical-align: middle;\n",
       "    }\n",
       "\n",
       "    .dataframe tbody tr th {\n",
       "        vertical-align: top;\n",
       "    }\n",
       "\n",
       "    .dataframe thead th {\n",
       "        text-align: right;\n",
       "    }\n",
       "</style>\n",
       "<table border=\"1\" class=\"dataframe\">\n",
       "  <thead>\n",
       "    <tr style=\"text-align: right;\">\n",
       "      <th></th>\n",
       "      <th>id</th>\n",
       "      <th>user_id</th>\n",
       "      <th>message_date</th>\n",
       "    </tr>\n",
       "  </thead>\n",
       "  <tbody>\n",
       "    <tr>\n",
       "      <th>0</th>\n",
       "      <td>1000_125</td>\n",
       "      <td>1000</td>\n",
       "      <td>2018-12-27</td>\n",
       "    </tr>\n",
       "    <tr>\n",
       "      <th>1</th>\n",
       "      <td>1000_160</td>\n",
       "      <td>1000</td>\n",
       "      <td>2018-12-31</td>\n",
       "    </tr>\n",
       "    <tr>\n",
       "      <th>2</th>\n",
       "      <td>1000_223</td>\n",
       "      <td>1000</td>\n",
       "      <td>2018-12-31</td>\n",
       "    </tr>\n",
       "    <tr>\n",
       "      <th>3</th>\n",
       "      <td>1000_251</td>\n",
       "      <td>1000</td>\n",
       "      <td>2018-12-27</td>\n",
       "    </tr>\n",
       "    <tr>\n",
       "      <th>4</th>\n",
       "      <td>1000_255</td>\n",
       "      <td>1000</td>\n",
       "      <td>2018-12-26</td>\n",
       "    </tr>\n",
       "  </tbody>\n",
       "</table>\n",
       "</div>"
      ],
      "text/plain": [
       "         id  user_id message_date\n",
       "0  1000_125     1000   2018-12-27\n",
       "1  1000_160     1000   2018-12-31\n",
       "2  1000_223     1000   2018-12-31\n",
       "3  1000_251     1000   2018-12-27\n",
       "4  1000_255     1000   2018-12-26"
      ]
     },
     "metadata": {},
     "output_type": "display_data"
    }
   ],
   "source": [
    "display(messages.head())\n",
    "# Imprime una muestra de datos para los mensajes"
   ]
  },
  {
   "cell_type": "markdown",
   "metadata": {
    "id": "04xDj7KH0q1A"
   },
   "source": [
    "El DataFrame messages contiene 76,051 registros y 3 columnas: id, user_id y message_date. Todos los valores están completos, lo cual es positivo. La columna user_id está correctamente en formato entero, pero tanto id como message_date están en tipo object. En particular, message_date debería convertirse a tipo datetime para facilitar análisis basados en fechas. El contenido general parece correcto, aunque, al igual que con el DataFrame de llamadas, no hay una columna que indique la cantidad de mensajes enviados, ya que cada fila representa un mensaje individual."
   ]
  },
  {
   "cell_type": "markdown",
   "metadata": {
    "id": "Sprfak900q1B"
   },
   "source": [
    "### Corregir los datos"
   ]
  },
  {
   "cell_type": "code",
   "execution_count": 241,
   "metadata": {
    "id": "vsllvkoa0q1B"
   },
   "outputs": [
    {
     "name": "stdout",
     "output_type": "stream",
     "text": [
      "<class 'pandas.core.frame.DataFrame'>\n",
      "RangeIndex: 76051 entries, 0 to 76050\n",
      "Data columns (total 3 columns):\n",
      " #   Column        Non-Null Count  Dtype         \n",
      "---  ------        --------------  -----         \n",
      " 0   id            76051 non-null  object        \n",
      " 1   user_id       76051 non-null  int64         \n",
      " 2   message_date  76051 non-null  datetime64[ns]\n",
      "dtypes: datetime64[ns](1), int64(1), object(1)\n",
      "memory usage: 1.7+ MB\n"
     ]
    },
    {
     "data": {
      "text/plain": [
       "None"
      ]
     },
     "metadata": {},
     "output_type": "display_data"
    }
   ],
   "source": [
    "messages['message_date'] = pd.to_datetime(messages['message_date'], format='%Y-%m-%d')\n",
    "display(messages.info())"
   ]
  },
  {
   "cell_type": "markdown",
   "metadata": {
    "id": "HvLid7iD0q1B"
   },
   "source": [
    "### Enriquecer los datos"
   ]
  },
  {
   "cell_type": "code",
   "execution_count": 242,
   "metadata": {
    "id": "zYEXZac10q1C",
    "scrolled": true
   },
   "outputs": [
    {
     "data": {
      "text/html": [
       "<div>\n",
       "<style scoped>\n",
       "    .dataframe tbody tr th:only-of-type {\n",
       "        vertical-align: middle;\n",
       "    }\n",
       "\n",
       "    .dataframe tbody tr th {\n",
       "        vertical-align: top;\n",
       "    }\n",
       "\n",
       "    .dataframe thead th {\n",
       "        text-align: right;\n",
       "    }\n",
       "</style>\n",
       "<table border=\"1\" class=\"dataframe\">\n",
       "  <thead>\n",
       "    <tr style=\"text-align: right;\">\n",
       "      <th></th>\n",
       "      <th>id</th>\n",
       "      <th>user_id</th>\n",
       "      <th>message_date</th>\n",
       "      <th>month</th>\n",
       "    </tr>\n",
       "  </thead>\n",
       "  <tbody>\n",
       "    <tr>\n",
       "      <th>0</th>\n",
       "      <td>1000_125</td>\n",
       "      <td>1000</td>\n",
       "      <td>2018-12-27</td>\n",
       "      <td>2018-12</td>\n",
       "    </tr>\n",
       "    <tr>\n",
       "      <th>1</th>\n",
       "      <td>1000_160</td>\n",
       "      <td>1000</td>\n",
       "      <td>2018-12-31</td>\n",
       "      <td>2018-12</td>\n",
       "    </tr>\n",
       "    <tr>\n",
       "      <th>2</th>\n",
       "      <td>1000_223</td>\n",
       "      <td>1000</td>\n",
       "      <td>2018-12-31</td>\n",
       "      <td>2018-12</td>\n",
       "    </tr>\n",
       "    <tr>\n",
       "      <th>3</th>\n",
       "      <td>1000_251</td>\n",
       "      <td>1000</td>\n",
       "      <td>2018-12-27</td>\n",
       "      <td>2018-12</td>\n",
       "    </tr>\n",
       "    <tr>\n",
       "      <th>4</th>\n",
       "      <td>1000_255</td>\n",
       "      <td>1000</td>\n",
       "      <td>2018-12-26</td>\n",
       "      <td>2018-12</td>\n",
       "    </tr>\n",
       "  </tbody>\n",
       "</table>\n",
       "</div>"
      ],
      "text/plain": [
       "         id  user_id message_date    month\n",
       "0  1000_125     1000   2018-12-27  2018-12\n",
       "1  1000_160     1000   2018-12-31  2018-12\n",
       "2  1000_223     1000   2018-12-31  2018-12\n",
       "3  1000_251     1000   2018-12-27  2018-12\n",
       "4  1000_255     1000   2018-12-26  2018-12"
      ]
     },
     "metadata": {},
     "output_type": "display_data"
    }
   ],
   "source": [
    "messages['month'] = messages['message_date'].dt.to_period('M')\n",
    "display(messages.head())"
   ]
  },
  {
   "cell_type": "markdown",
   "metadata": {
    "id": "bStkaxn40q1C"
   },
   "source": [
    "## Internet"
   ]
  },
  {
   "cell_type": "code",
   "execution_count": 243,
   "metadata": {
    "id": "e-Uz5qyn0q1C"
   },
   "outputs": [
    {
     "name": "stdout",
     "output_type": "stream",
     "text": [
      "<class 'pandas.core.frame.DataFrame'>\n",
      "RangeIndex: 104825 entries, 0 to 104824\n",
      "Data columns (total 4 columns):\n",
      " #   Column        Non-Null Count   Dtype  \n",
      "---  ------        --------------   -----  \n",
      " 0   id            104825 non-null  object \n",
      " 1   user_id       104825 non-null  int64  \n",
      " 2   session_date  104825 non-null  object \n",
      " 3   mb_used       104825 non-null  float64\n",
      "dtypes: float64(1), int64(1), object(2)\n",
      "memory usage: 3.2+ MB\n",
      "None\n"
     ]
    },
    {
     "data": {
      "text/html": [
       "<div>\n",
       "<style scoped>\n",
       "    .dataframe tbody tr th:only-of-type {\n",
       "        vertical-align: middle;\n",
       "    }\n",
       "\n",
       "    .dataframe tbody tr th {\n",
       "        vertical-align: top;\n",
       "    }\n",
       "\n",
       "    .dataframe thead th {\n",
       "        text-align: right;\n",
       "    }\n",
       "</style>\n",
       "<table border=\"1\" class=\"dataframe\">\n",
       "  <thead>\n",
       "    <tr style=\"text-align: right;\">\n",
       "      <th></th>\n",
       "      <th>user_id</th>\n",
       "      <th>mb_used</th>\n",
       "    </tr>\n",
       "  </thead>\n",
       "  <tbody>\n",
       "    <tr>\n",
       "      <th>count</th>\n",
       "      <td>104825.000000</td>\n",
       "      <td>104825.000000</td>\n",
       "    </tr>\n",
       "    <tr>\n",
       "      <th>mean</th>\n",
       "      <td>1242.496361</td>\n",
       "      <td>366.713701</td>\n",
       "    </tr>\n",
       "    <tr>\n",
       "      <th>std</th>\n",
       "      <td>142.053913</td>\n",
       "      <td>277.170542</td>\n",
       "    </tr>\n",
       "    <tr>\n",
       "      <th>min</th>\n",
       "      <td>1000.000000</td>\n",
       "      <td>0.000000</td>\n",
       "    </tr>\n",
       "    <tr>\n",
       "      <th>25%</th>\n",
       "      <td>1122.000000</td>\n",
       "      <td>136.080000</td>\n",
       "    </tr>\n",
       "    <tr>\n",
       "      <th>50%</th>\n",
       "      <td>1236.000000</td>\n",
       "      <td>343.980000</td>\n",
       "    </tr>\n",
       "    <tr>\n",
       "      <th>75%</th>\n",
       "      <td>1367.000000</td>\n",
       "      <td>554.610000</td>\n",
       "    </tr>\n",
       "    <tr>\n",
       "      <th>max</th>\n",
       "      <td>1499.000000</td>\n",
       "      <td>1693.470000</td>\n",
       "    </tr>\n",
       "  </tbody>\n",
       "</table>\n",
       "</div>"
      ],
      "text/plain": [
       "             user_id        mb_used\n",
       "count  104825.000000  104825.000000\n",
       "mean     1242.496361     366.713701\n",
       "std       142.053913     277.170542\n",
       "min      1000.000000       0.000000\n",
       "25%      1122.000000     136.080000\n",
       "50%      1236.000000     343.980000\n",
       "75%      1367.000000     554.610000\n",
       "max      1499.000000    1693.470000"
      ]
     },
     "metadata": {},
     "output_type": "display_data"
    }
   ],
   "source": [
    "print(internet.info())\n",
    "display(internet.describe())\n",
    "# Imprime la información general/resumida sobre el DataFrame de internet"
   ]
  },
  {
   "cell_type": "code",
   "execution_count": 244,
   "metadata": {
    "id": "9r3x_XLw0q1C"
   },
   "outputs": [
    {
     "data": {
      "text/html": [
       "<div>\n",
       "<style scoped>\n",
       "    .dataframe tbody tr th:only-of-type {\n",
       "        vertical-align: middle;\n",
       "    }\n",
       "\n",
       "    .dataframe tbody tr th {\n",
       "        vertical-align: top;\n",
       "    }\n",
       "\n",
       "    .dataframe thead th {\n",
       "        text-align: right;\n",
       "    }\n",
       "</style>\n",
       "<table border=\"1\" class=\"dataframe\">\n",
       "  <thead>\n",
       "    <tr style=\"text-align: right;\">\n",
       "      <th></th>\n",
       "      <th>id</th>\n",
       "      <th>user_id</th>\n",
       "      <th>session_date</th>\n",
       "      <th>mb_used</th>\n",
       "    </tr>\n",
       "  </thead>\n",
       "  <tbody>\n",
       "    <tr>\n",
       "      <th>0</th>\n",
       "      <td>1000_13</td>\n",
       "      <td>1000</td>\n",
       "      <td>2018-12-29</td>\n",
       "      <td>89.86</td>\n",
       "    </tr>\n",
       "    <tr>\n",
       "      <th>1</th>\n",
       "      <td>1000_204</td>\n",
       "      <td>1000</td>\n",
       "      <td>2018-12-31</td>\n",
       "      <td>0.00</td>\n",
       "    </tr>\n",
       "    <tr>\n",
       "      <th>2</th>\n",
       "      <td>1000_379</td>\n",
       "      <td>1000</td>\n",
       "      <td>2018-12-28</td>\n",
       "      <td>660.40</td>\n",
       "    </tr>\n",
       "    <tr>\n",
       "      <th>3</th>\n",
       "      <td>1000_413</td>\n",
       "      <td>1000</td>\n",
       "      <td>2018-12-26</td>\n",
       "      <td>270.99</td>\n",
       "    </tr>\n",
       "    <tr>\n",
       "      <th>4</th>\n",
       "      <td>1000_442</td>\n",
       "      <td>1000</td>\n",
       "      <td>2018-12-27</td>\n",
       "      <td>880.22</td>\n",
       "    </tr>\n",
       "  </tbody>\n",
       "</table>\n",
       "</div>"
      ],
      "text/plain": [
       "         id  user_id session_date  mb_used\n",
       "0   1000_13     1000   2018-12-29    89.86\n",
       "1  1000_204     1000   2018-12-31     0.00\n",
       "2  1000_379     1000   2018-12-28   660.40\n",
       "3  1000_413     1000   2018-12-26   270.99\n",
       "4  1000_442     1000   2018-12-27   880.22"
      ]
     },
     "metadata": {},
     "output_type": "display_data"
    }
   ],
   "source": [
    "display(internet.head())\n",
    "# Imprime una muestra de datos para el tráfico de internet"
   ]
  },
  {
   "cell_type": "markdown",
   "metadata": {
    "id": "EzOG5ik30q1D"
   },
   "source": [
    "El DataFrame internet contiene 104,825 registros y 4 columnas: id, user_id, session_date y mb_used. Todos los valores están completos, lo cual es una buena señal. La columna mb_used está correctamente en formato float64, ideal para representar el uso en megabytes. Sin embargo, session_date está en tipo object, por lo que sería conveniente convertirla a datetime para facilitar el análisis por fechas. Al igual que con llamadas y mensajes, cada fila representa una sesión individual, por lo que será necesario agrupar los datos por usuario y mes para obtener el consumo total mensual. También puede ser útil convertir los MB a GB para estar en línea con los precios del plan."
   ]
  },
  {
   "cell_type": "markdown",
   "metadata": {
    "id": "yA0tkPFg0q1D"
   },
   "source": [
    "### Corregir los datos"
   ]
  },
  {
   "cell_type": "code",
   "execution_count": 245,
   "metadata": {
    "id": "zVeanzdd0q1E"
   },
   "outputs": [
    {
     "name": "stdout",
     "output_type": "stream",
     "text": [
      "<class 'pandas.core.frame.DataFrame'>\n",
      "RangeIndex: 104825 entries, 0 to 104824\n",
      "Data columns (total 4 columns):\n",
      " #   Column        Non-Null Count   Dtype         \n",
      "---  ------        --------------   -----         \n",
      " 0   id            104825 non-null  object        \n",
      " 1   user_id       104825 non-null  int64         \n",
      " 2   session_date  104825 non-null  datetime64[ns]\n",
      " 3   mb_used       104825 non-null  float64       \n",
      "dtypes: datetime64[ns](1), float64(1), int64(1), object(1)\n",
      "memory usage: 3.2+ MB\n"
     ]
    },
    {
     "data": {
      "text/plain": [
       "None"
      ]
     },
     "metadata": {},
     "output_type": "display_data"
    }
   ],
   "source": [
    "internet['session_date'] = pd.to_datetime(internet['session_date'], format='%Y-%m-%d')\n",
    "display(internet.info())"
   ]
  },
  {
   "cell_type": "markdown",
   "metadata": {
    "id": "e8_mLF4a0q1E"
   },
   "source": [
    "### Enriquecer los datos"
   ]
  },
  {
   "cell_type": "code",
   "execution_count": 246,
   "metadata": {
    "id": "ESiYPIEK0q1E",
    "scrolled": true
   },
   "outputs": [
    {
     "name": "stdout",
     "output_type": "stream",
     "text": [
      "<class 'pandas.core.frame.DataFrame'>\n",
      "RangeIndex: 104825 entries, 0 to 104824\n",
      "Data columns (total 5 columns):\n",
      " #   Column        Non-Null Count   Dtype         \n",
      "---  ------        --------------   -----         \n",
      " 0   id            104825 non-null  object        \n",
      " 1   user_id       104825 non-null  int64         \n",
      " 2   session_date  104825 non-null  datetime64[ns]\n",
      " 3   mb_used       104825 non-null  float64       \n",
      " 4   month         104825 non-null  period[M]     \n",
      "dtypes: datetime64[ns](1), float64(1), int64(1), object(1), period[M](1)\n",
      "memory usage: 4.0+ MB\n"
     ]
    },
    {
     "data": {
      "text/plain": [
       "None"
      ]
     },
     "metadata": {},
     "output_type": "display_data"
    }
   ],
   "source": [
    "internet['month'] = internet['session_date'].dt.to_period('M')\n",
    "display(internet.info())"
   ]
  },
  {
   "cell_type": "markdown",
   "metadata": {
    "id": "3UA2cqIW0q1E"
   },
   "source": [
    "## Estudiar las condiciones de las tarifas"
   ]
  },
  {
   "cell_type": "code",
   "execution_count": 247,
   "metadata": {
    "id": "i409op8p0q1F",
    "scrolled": true
   },
   "outputs": [
    {
     "name": "stdout",
     "output_type": "stream",
     "text": [
      "🔹 Plan: Surf\n",
      "  - Mensajes incluidos: 50\n",
      "  - Minutos incluidos: 500\n",
      "  - GB incluidos: 15 GB\n",
      "  - Costo mensual: $20\n",
      "  - Costo por GB adicional: $10\n",
      "  - Costo por mensaje adicional: $0.03\n",
      "  - Costo por minuto adicional: $0.03\n",
      "--------------------------------------------------\n",
      "🔹 Plan: Ultimate\n",
      "  - Mensajes incluidos: 1000\n",
      "  - Minutos incluidos: 3000\n",
      "  - GB incluidos: 30 GB\n",
      "  - Costo mensual: $70\n",
      "  - Costo por GB adicional: $7\n",
      "  - Costo por mensaje adicional: $0.01\n",
      "  - Costo por minuto adicional: $0.01\n",
      "--------------------------------------------------\n"
     ]
    }
   ],
   "source": [
    "for index, row in plans.iterrows():\n",
    "    print(f\"🔹 Plan: {row['plan_name'].capitalize()}\")\n",
    "    print(f\"  - Mensajes incluidos: {row['messages_included']}\")\n",
    "    print(f\"  - Minutos incluidos: {row['minutes_included']}\")\n",
    "    print(f\"  - GB incluidos: {row['gb_per_month_included']} GB\")\n",
    "    print(f\"  - Costo mensual: ${row['usd_monthly_pay']}\")\n",
    "    print(f\"  - Costo por GB adicional: ${row['usd_per_gb']}\")\n",
    "    print(f\"  - Costo por mensaje adicional: ${row['usd_per_message']}\")\n",
    "    print(f\"  - Costo por minuto adicional: ${row['usd_per_minute']}\")\n",
    "    print(\"--------------------------------------------------\")\n",
    "    # Imprime las condiciones de la tarifa y asegúrate de que te quedan claras"
   ]
  },
  {
   "cell_type": "markdown",
   "metadata": {
    "id": "hMR1tP5d0q1F"
   },
   "source": [
    "## Agregar datos por usuario"
   ]
  },
  {
   "cell_type": "code",
   "execution_count": 248,
   "metadata": {
    "id": "A332cedB0q1G"
   },
   "outputs": [
    {
     "name": "stdout",
     "output_type": "stream",
     "text": [
      "<class 'pandas.core.frame.DataFrame'>\n",
      "RangeIndex: 2258 entries, 0 to 2257\n",
      "Data columns (total 4 columns):\n",
      " #   Column          Non-Null Count  Dtype    \n",
      "---  ------          --------------  -----    \n",
      " 0   user_id         2258 non-null   int64    \n",
      " 1   month           2258 non-null   period[M]\n",
      " 2   total_duration  2258 non-null   float64  \n",
      " 3   calls_count     2258 non-null   int64    \n",
      "dtypes: float64(1), int64(2), period[M](1)\n",
      "memory usage: 70.7 KB\n",
      "None\n"
     ]
    },
    {
     "data": {
      "text/html": [
       "<div>\n",
       "<style scoped>\n",
       "    .dataframe tbody tr th:only-of-type {\n",
       "        vertical-align: middle;\n",
       "    }\n",
       "\n",
       "    .dataframe tbody tr th {\n",
       "        vertical-align: top;\n",
       "    }\n",
       "\n",
       "    .dataframe thead th {\n",
       "        text-align: right;\n",
       "    }\n",
       "</style>\n",
       "<table border=\"1\" class=\"dataframe\">\n",
       "  <thead>\n",
       "    <tr style=\"text-align: right;\">\n",
       "      <th></th>\n",
       "      <th>user_id</th>\n",
       "      <th>month</th>\n",
       "      <th>total_duration</th>\n",
       "      <th>calls_count</th>\n",
       "    </tr>\n",
       "  </thead>\n",
       "  <tbody>\n",
       "    <tr>\n",
       "      <th>0</th>\n",
       "      <td>1000</td>\n",
       "      <td>2018-12</td>\n",
       "      <td>116.83</td>\n",
       "      <td>16</td>\n",
       "    </tr>\n",
       "    <tr>\n",
       "      <th>1</th>\n",
       "      <td>1001</td>\n",
       "      <td>2018-08</td>\n",
       "      <td>171.14</td>\n",
       "      <td>27</td>\n",
       "    </tr>\n",
       "    <tr>\n",
       "      <th>2</th>\n",
       "      <td>1001</td>\n",
       "      <td>2018-09</td>\n",
       "      <td>297.69</td>\n",
       "      <td>49</td>\n",
       "    </tr>\n",
       "    <tr>\n",
       "      <th>3</th>\n",
       "      <td>1001</td>\n",
       "      <td>2018-10</td>\n",
       "      <td>374.11</td>\n",
       "      <td>65</td>\n",
       "    </tr>\n",
       "    <tr>\n",
       "      <th>4</th>\n",
       "      <td>1001</td>\n",
       "      <td>2018-11</td>\n",
       "      <td>404.59</td>\n",
       "      <td>64</td>\n",
       "    </tr>\n",
       "  </tbody>\n",
       "</table>\n",
       "</div>"
      ],
      "text/plain": [
       "   user_id    month  total_duration  calls_count\n",
       "0     1000  2018-12          116.83           16\n",
       "1     1001  2018-08          171.14           27\n",
       "2     1001  2018-09          297.69           49\n",
       "3     1001  2018-10          374.11           65\n",
       "4     1001  2018-11          404.59           64"
      ]
     },
     "metadata": {},
     "output_type": "display_data"
    }
   ],
   "source": [
    "pivot_calls = calls.pivot_table(index=['user_id', 'month'], values=['duration'], aggfunc=['sum','count']).reset_index()\n",
    "pivot_calls.columns = ['user_id', 'month', 'total_duration', 'calls_count']\n",
    "print(pivot_calls.info())\n",
    "display(pivot_calls.head())\n",
    "# Calcula el número de llamadas hechas por cada usuario al mes. Guarda el resultado."
   ]
  },
  {
   "cell_type": "markdown",
   "metadata": {},
   "source": [
    "\n",
    "<div class=\"alert alert-block alert-warning\">\n",
    "\n",
    "<b>Comentario revisor</b> <a class=\"tocSkip\"></a>\n",
    "\n",
    "Si bien es correcta la forma de agrupar para sacar la duración de las llamadas por cada ususario, para proximas ocasiones puedes hacer uso de la siguiente forma:\n",
    "    \n",
    "    pivot_calls = calls.pivot_table(index=['user_id', 'month'],\n",
    "                                values=['duration'],\n",
    "                                aggfunc=['sum','count']).reset_index()\n",
    "\n",
    "</div>\n"
   ]
  },
  {
   "cell_type": "markdown",
   "metadata": {},
   "source": [
    "<div class=\"alert alert-block alert-success\">\n",
    "<b>Comentario revisor</b> <a class=\"tocSkip\"></a>\n",
    "\n",
    "\n",
    "Gran trabajo con el ajuste!"
   ]
  },
  {
   "cell_type": "code",
   "execution_count": 249,
   "metadata": {
    "id": "aw2cmuql0q1G",
    "scrolled": false
   },
   "outputs": [
    {
     "name": "stdout",
     "output_type": "stream",
     "text": [
      "<class 'pandas.core.frame.DataFrame'>\n",
      "RangeIndex: 2258 entries, 0 to 2257\n",
      "Data columns (total 3 columns):\n",
      " #   Column        Non-Null Count  Dtype    \n",
      "---  ------        --------------  -----    \n",
      " 0   user_id       2258 non-null   int64    \n",
      " 1   month         2258 non-null   period[M]\n",
      " 2   minutes_used  2258 non-null   float64  \n",
      "dtypes: float64(1), int64(1), period[M](1)\n",
      "memory usage: 53.0 KB\n",
      "None\n"
     ]
    },
    {
     "data": {
      "text/html": [
       "<div>\n",
       "<style scoped>\n",
       "    .dataframe tbody tr th:only-of-type {\n",
       "        vertical-align: middle;\n",
       "    }\n",
       "\n",
       "    .dataframe tbody tr th {\n",
       "        vertical-align: top;\n",
       "    }\n",
       "\n",
       "    .dataframe thead th {\n",
       "        text-align: right;\n",
       "    }\n",
       "</style>\n",
       "<table border=\"1\" class=\"dataframe\">\n",
       "  <thead>\n",
       "    <tr style=\"text-align: right;\">\n",
       "      <th></th>\n",
       "      <th>user_id</th>\n",
       "      <th>month</th>\n",
       "      <th>minutes_used</th>\n",
       "    </tr>\n",
       "  </thead>\n",
       "  <tbody>\n",
       "    <tr>\n",
       "      <th>0</th>\n",
       "      <td>1000</td>\n",
       "      <td>2018-12</td>\n",
       "      <td>116.83</td>\n",
       "    </tr>\n",
       "    <tr>\n",
       "      <th>1</th>\n",
       "      <td>1001</td>\n",
       "      <td>2018-08</td>\n",
       "      <td>171.14</td>\n",
       "    </tr>\n",
       "    <tr>\n",
       "      <th>2</th>\n",
       "      <td>1001</td>\n",
       "      <td>2018-09</td>\n",
       "      <td>297.69</td>\n",
       "    </tr>\n",
       "    <tr>\n",
       "      <th>3</th>\n",
       "      <td>1001</td>\n",
       "      <td>2018-10</td>\n",
       "      <td>374.11</td>\n",
       "    </tr>\n",
       "    <tr>\n",
       "      <th>4</th>\n",
       "      <td>1001</td>\n",
       "      <td>2018-11</td>\n",
       "      <td>404.59</td>\n",
       "    </tr>\n",
       "  </tbody>\n",
       "</table>\n",
       "</div>"
      ],
      "text/plain": [
       "   user_id    month  minutes_used\n",
       "0     1000  2018-12        116.83\n",
       "1     1001  2018-08        171.14\n",
       "2     1001  2018-09        297.69\n",
       "3     1001  2018-10        374.11\n",
       "4     1001  2018-11        404.59"
      ]
     },
     "metadata": {},
     "output_type": "display_data"
    }
   ],
   "source": [
    "minutes_summary = calls.pivot_table(index=['user_id', 'month'], values='duration', aggfunc='sum').reset_index()\n",
    "minutes_summary.rename(columns={'duration': 'minutes_used'}, inplace=True)\n",
    "print(minutes_summary.info())\n",
    "display(minutes_summary.head())\n",
    "# Calcula la cantidad de minutos usados por cada usuario al mes. Guarda el resultado."
   ]
  },
  {
   "cell_type": "code",
   "execution_count": 250,
   "metadata": {
    "id": "CcQvNHn60q1G",
    "scrolled": false
   },
   "outputs": [
    {
     "name": "stdout",
     "output_type": "stream",
     "text": [
      "<class 'pandas.core.frame.DataFrame'>\n",
      "RangeIndex: 1806 entries, 0 to 1805\n",
      "Data columns (total 3 columns):\n",
      " #   Column         Non-Null Count  Dtype    \n",
      "---  ------         --------------  -----    \n",
      " 0   user_id        1806 non-null   int64    \n",
      " 1   month          1806 non-null   period[M]\n",
      " 2   messages_sent  1806 non-null   int64    \n",
      "dtypes: int64(2), period[M](1)\n",
      "memory usage: 42.5 KB\n",
      "None\n"
     ]
    },
    {
     "data": {
      "text/html": [
       "<div>\n",
       "<style scoped>\n",
       "    .dataframe tbody tr th:only-of-type {\n",
       "        vertical-align: middle;\n",
       "    }\n",
       "\n",
       "    .dataframe tbody tr th {\n",
       "        vertical-align: top;\n",
       "    }\n",
       "\n",
       "    .dataframe thead th {\n",
       "        text-align: right;\n",
       "    }\n",
       "</style>\n",
       "<table border=\"1\" class=\"dataframe\">\n",
       "  <thead>\n",
       "    <tr style=\"text-align: right;\">\n",
       "      <th></th>\n",
       "      <th>user_id</th>\n",
       "      <th>month</th>\n",
       "      <th>messages_sent</th>\n",
       "    </tr>\n",
       "  </thead>\n",
       "  <tbody>\n",
       "    <tr>\n",
       "      <th>0</th>\n",
       "      <td>1000</td>\n",
       "      <td>2018-12</td>\n",
       "      <td>11</td>\n",
       "    </tr>\n",
       "    <tr>\n",
       "      <th>1</th>\n",
       "      <td>1001</td>\n",
       "      <td>2018-08</td>\n",
       "      <td>30</td>\n",
       "    </tr>\n",
       "    <tr>\n",
       "      <th>2</th>\n",
       "      <td>1001</td>\n",
       "      <td>2018-09</td>\n",
       "      <td>44</td>\n",
       "    </tr>\n",
       "    <tr>\n",
       "      <th>3</th>\n",
       "      <td>1001</td>\n",
       "      <td>2018-10</td>\n",
       "      <td>53</td>\n",
       "    </tr>\n",
       "    <tr>\n",
       "      <th>4</th>\n",
       "      <td>1001</td>\n",
       "      <td>2018-11</td>\n",
       "      <td>36</td>\n",
       "    </tr>\n",
       "  </tbody>\n",
       "</table>\n",
       "</div>"
      ],
      "text/plain": [
       "   user_id    month  messages_sent\n",
       "0     1000  2018-12             11\n",
       "1     1001  2018-08             30\n",
       "2     1001  2018-09             44\n",
       "3     1001  2018-10             53\n",
       "4     1001  2018-11             36"
      ]
     },
     "metadata": {},
     "output_type": "display_data"
    }
   ],
   "source": [
    "messages_summary = messages.pivot_table(index=['user_id', 'month'], values='message_date', aggfunc='count').reset_index()\n",
    "messages_summary.rename(columns={'message_date': 'messages_sent'}, inplace=True)\n",
    "print(messages_summary.info())\n",
    "display(messages_summary.head())\n",
    "# Calcula el número de mensajes enviados por cada usuario al mes. Guarda el resultado."
   ]
  },
  {
   "cell_type": "code",
   "execution_count": 251,
   "metadata": {
    "id": "H1AqN2eG0q1H"
   },
   "outputs": [
    {
     "name": "stdout",
     "output_type": "stream",
     "text": [
      "<class 'pandas.core.frame.DataFrame'>\n",
      "RangeIndex: 2277 entries, 0 to 2276\n",
      "Data columns (total 3 columns):\n",
      " #   Column         Non-Null Count  Dtype    \n",
      "---  ------         --------------  -----    \n",
      " 0   user_id        2277 non-null   int64    \n",
      " 1   month          2277 non-null   period[M]\n",
      " 2   mb_used_total  2277 non-null   float64  \n",
      "dtypes: float64(1), int64(1), period[M](1)\n",
      "memory usage: 53.5 KB\n",
      "None\n"
     ]
    },
    {
     "data": {
      "text/html": [
       "<div>\n",
       "<style scoped>\n",
       "    .dataframe tbody tr th:only-of-type {\n",
       "        vertical-align: middle;\n",
       "    }\n",
       "\n",
       "    .dataframe tbody tr th {\n",
       "        vertical-align: top;\n",
       "    }\n",
       "\n",
       "    .dataframe thead th {\n",
       "        text-align: right;\n",
       "    }\n",
       "</style>\n",
       "<table border=\"1\" class=\"dataframe\">\n",
       "  <thead>\n",
       "    <tr style=\"text-align: right;\">\n",
       "      <th></th>\n",
       "      <th>user_id</th>\n",
       "      <th>month</th>\n",
       "      <th>mb_used_total</th>\n",
       "    </tr>\n",
       "  </thead>\n",
       "  <tbody>\n",
       "    <tr>\n",
       "      <th>0</th>\n",
       "      <td>1000</td>\n",
       "      <td>2018-12</td>\n",
       "      <td>1901.47</td>\n",
       "    </tr>\n",
       "    <tr>\n",
       "      <th>1</th>\n",
       "      <td>1001</td>\n",
       "      <td>2018-08</td>\n",
       "      <td>6919.15</td>\n",
       "    </tr>\n",
       "    <tr>\n",
       "      <th>2</th>\n",
       "      <td>1001</td>\n",
       "      <td>2018-09</td>\n",
       "      <td>13314.82</td>\n",
       "    </tr>\n",
       "    <tr>\n",
       "      <th>3</th>\n",
       "      <td>1001</td>\n",
       "      <td>2018-10</td>\n",
       "      <td>22330.49</td>\n",
       "    </tr>\n",
       "    <tr>\n",
       "      <th>4</th>\n",
       "      <td>1001</td>\n",
       "      <td>2018-11</td>\n",
       "      <td>18504.30</td>\n",
       "    </tr>\n",
       "  </tbody>\n",
       "</table>\n",
       "</div>"
      ],
      "text/plain": [
       "   user_id    month  mb_used_total\n",
       "0     1000  2018-12        1901.47\n",
       "1     1001  2018-08        6919.15\n",
       "2     1001  2018-09       13314.82\n",
       "3     1001  2018-10       22330.49\n",
       "4     1001  2018-11       18504.30"
      ]
     },
     "metadata": {},
     "output_type": "display_data"
    }
   ],
   "source": [
    "internet_summary = internet.pivot_table(index=['user_id', 'month'], values='mb_used', aggfunc='sum').reset_index()\n",
    "internet_summary.rename(columns={'mb_used': 'mb_used_total'}, inplace=True)\n",
    "print(internet_summary.info())\n",
    "display(internet_summary.head())\n",
    "# Calcula el volumen del tráfico de Internet usado por cada usuario al mes. Guarda el resultado."
   ]
  },
  {
   "cell_type": "code",
   "execution_count": 252,
   "metadata": {
    "id": "FW99ykyf0q1H",
    "scrolled": false
   },
   "outputs": [
    {
     "data": {
      "text/html": [
       "<div>\n",
       "<style scoped>\n",
       "    .dataframe tbody tr th:only-of-type {\n",
       "        vertical-align: middle;\n",
       "    }\n",
       "\n",
       "    .dataframe tbody tr th {\n",
       "        vertical-align: top;\n",
       "    }\n",
       "\n",
       "    .dataframe thead th {\n",
       "        text-align: right;\n",
       "    }\n",
       "</style>\n",
       "<table border=\"1\" class=\"dataframe\">\n",
       "  <thead>\n",
       "    <tr style=\"text-align: right;\">\n",
       "      <th></th>\n",
       "      <th>user_id</th>\n",
       "      <th>month</th>\n",
       "      <th>total_duration</th>\n",
       "      <th>calls_count</th>\n",
       "      <th>minutes_used</th>\n",
       "      <th>messages_sent</th>\n",
       "      <th>mb_used_total</th>\n",
       "    </tr>\n",
       "  </thead>\n",
       "  <tbody>\n",
       "    <tr>\n",
       "      <th>0</th>\n",
       "      <td>1000</td>\n",
       "      <td>2018-12</td>\n",
       "      <td>116.83</td>\n",
       "      <td>16.0</td>\n",
       "      <td>116.83</td>\n",
       "      <td>11.0</td>\n",
       "      <td>1901.47</td>\n",
       "    </tr>\n",
       "    <tr>\n",
       "      <th>1</th>\n",
       "      <td>1001</td>\n",
       "      <td>2018-08</td>\n",
       "      <td>171.14</td>\n",
       "      <td>27.0</td>\n",
       "      <td>171.14</td>\n",
       "      <td>30.0</td>\n",
       "      <td>6919.15</td>\n",
       "    </tr>\n",
       "    <tr>\n",
       "      <th>2</th>\n",
       "      <td>1001</td>\n",
       "      <td>2018-09</td>\n",
       "      <td>297.69</td>\n",
       "      <td>49.0</td>\n",
       "      <td>297.69</td>\n",
       "      <td>44.0</td>\n",
       "      <td>13314.82</td>\n",
       "    </tr>\n",
       "    <tr>\n",
       "      <th>3</th>\n",
       "      <td>1001</td>\n",
       "      <td>2018-10</td>\n",
       "      <td>374.11</td>\n",
       "      <td>65.0</td>\n",
       "      <td>374.11</td>\n",
       "      <td>53.0</td>\n",
       "      <td>22330.49</td>\n",
       "    </tr>\n",
       "    <tr>\n",
       "      <th>4</th>\n",
       "      <td>1001</td>\n",
       "      <td>2018-11</td>\n",
       "      <td>404.59</td>\n",
       "      <td>64.0</td>\n",
       "      <td>404.59</td>\n",
       "      <td>36.0</td>\n",
       "      <td>18504.30</td>\n",
       "    </tr>\n",
       "  </tbody>\n",
       "</table>\n",
       "</div>"
      ],
      "text/plain": [
       "   user_id    month  total_duration  calls_count  minutes_used  messages_sent  \\\n",
       "0     1000  2018-12          116.83         16.0        116.83           11.0   \n",
       "1     1001  2018-08          171.14         27.0        171.14           30.0   \n",
       "2     1001  2018-09          297.69         49.0        297.69           44.0   \n",
       "3     1001  2018-10          374.11         65.0        374.11           53.0   \n",
       "4     1001  2018-11          404.59         64.0        404.59           36.0   \n",
       "\n",
       "   mb_used_total  \n",
       "0        1901.47  \n",
       "1        6919.15  \n",
       "2       13314.82  \n",
       "3       22330.49  \n",
       "4       18504.30  "
      ]
     },
     "metadata": {},
     "output_type": "display_data"
    }
   ],
   "source": [
    "monthly_summary = pivot_calls \\\n",
    "    .merge(minutes_summary, on=['user_id', 'month'], how='outer') \\\n",
    "    .merge(messages_summary, on=['user_id', 'month'], how='outer') \\\n",
    "    .merge(internet_summary, on=['user_id', 'month'], how='outer')\n",
    "display(monthly_summary.head())\n",
    "# Fusiona los datos de llamadas, minutos, mensajes e Internet con base en user_id y month"
   ]
  },
  {
   "cell_type": "code",
   "execution_count": 253,
   "metadata": {
    "id": "0dNOXHag0q1H",
    "scrolled": true
   },
   "outputs": [
    {
     "data": {
      "text/html": [
       "<div>\n",
       "<style scoped>\n",
       "    .dataframe tbody tr th:only-of-type {\n",
       "        vertical-align: middle;\n",
       "    }\n",
       "\n",
       "    .dataframe tbody tr th {\n",
       "        vertical-align: top;\n",
       "    }\n",
       "\n",
       "    .dataframe thead th {\n",
       "        text-align: right;\n",
       "    }\n",
       "</style>\n",
       "<table border=\"1\" class=\"dataframe\">\n",
       "  <thead>\n",
       "    <tr style=\"text-align: right;\">\n",
       "      <th></th>\n",
       "      <th>user_id</th>\n",
       "      <th>month</th>\n",
       "      <th>total_duration</th>\n",
       "      <th>calls_count</th>\n",
       "      <th>minutes_used</th>\n",
       "      <th>messages_sent</th>\n",
       "      <th>mb_used_total</th>\n",
       "      <th>plan</th>\n",
       "    </tr>\n",
       "  </thead>\n",
       "  <tbody>\n",
       "    <tr>\n",
       "      <th>0</th>\n",
       "      <td>1000</td>\n",
       "      <td>2018-12</td>\n",
       "      <td>116.83</td>\n",
       "      <td>16.0</td>\n",
       "      <td>116.83</td>\n",
       "      <td>11.0</td>\n",
       "      <td>1901.47</td>\n",
       "      <td>ultimate</td>\n",
       "    </tr>\n",
       "    <tr>\n",
       "      <th>1</th>\n",
       "      <td>1001</td>\n",
       "      <td>2018-08</td>\n",
       "      <td>171.14</td>\n",
       "      <td>27.0</td>\n",
       "      <td>171.14</td>\n",
       "      <td>30.0</td>\n",
       "      <td>6919.15</td>\n",
       "      <td>surf</td>\n",
       "    </tr>\n",
       "    <tr>\n",
       "      <th>2</th>\n",
       "      <td>1001</td>\n",
       "      <td>2018-09</td>\n",
       "      <td>297.69</td>\n",
       "      <td>49.0</td>\n",
       "      <td>297.69</td>\n",
       "      <td>44.0</td>\n",
       "      <td>13314.82</td>\n",
       "      <td>surf</td>\n",
       "    </tr>\n",
       "    <tr>\n",
       "      <th>3</th>\n",
       "      <td>1001</td>\n",
       "      <td>2018-10</td>\n",
       "      <td>374.11</td>\n",
       "      <td>65.0</td>\n",
       "      <td>374.11</td>\n",
       "      <td>53.0</td>\n",
       "      <td>22330.49</td>\n",
       "      <td>surf</td>\n",
       "    </tr>\n",
       "    <tr>\n",
       "      <th>4</th>\n",
       "      <td>1001</td>\n",
       "      <td>2018-11</td>\n",
       "      <td>404.59</td>\n",
       "      <td>64.0</td>\n",
       "      <td>404.59</td>\n",
       "      <td>36.0</td>\n",
       "      <td>18504.30</td>\n",
       "      <td>surf</td>\n",
       "    </tr>\n",
       "  </tbody>\n",
       "</table>\n",
       "</div>"
      ],
      "text/plain": [
       "   user_id    month  total_duration  calls_count  minutes_used  messages_sent  \\\n",
       "0     1000  2018-12          116.83         16.0        116.83           11.0   \n",
       "1     1001  2018-08          171.14         27.0        171.14           30.0   \n",
       "2     1001  2018-09          297.69         49.0        297.69           44.0   \n",
       "3     1001  2018-10          374.11         65.0        374.11           53.0   \n",
       "4     1001  2018-11          404.59         64.0        404.59           36.0   \n",
       "\n",
       "   mb_used_total      plan  \n",
       "0        1901.47  ultimate  \n",
       "1        6919.15      surf  \n",
       "2       13314.82      surf  \n",
       "3       22330.49      surf  \n",
       "4       18504.30      surf  "
      ]
     },
     "metadata": {},
     "output_type": "display_data"
    }
   ],
   "source": [
    "monthly_summary = monthly_summary.merge(users[['user_id', 'plan']], on='user_id', how='left')\n",
    "display(monthly_summary.head())\n",
    "\n",
    "# Añade la información de la tarifa"
   ]
  },
  {
   "cell_type": "code",
   "execution_count": null,
   "metadata": {},
   "outputs": [],
   "source": []
  },
  {
   "cell_type": "markdown",
   "metadata": {},
   "source": [
    "<div class=\"alert alert-block alert-success\">\n",
    "<b>Comentario del revisor</b> <a class=\"tocSkip\"></a>\n",
    "\n",
    "Muy buen trabajo!! el merge es correcto para unir todas las bases trabajadas.\n",
    "    \n",
    "</div>"
   ]
  },
  {
   "cell_type": "code",
   "execution_count": 254,
   "metadata": {
    "id": "5FGCf_c60q1I",
    "scrolled": false
   },
   "outputs": [],
   "source": [
    "def calculate_cost(row):\n",
    "    minutes_used = round(row.get('minutes_used', 0))\n",
    "    messages_sent = row.get('messages_sent', 0)\n",
    "    mb_used_total = row.get('mb_used_total', 0)\n",
    "\n",
    "    extra_minutes = max(0, minutes_used - row['minutes_included'])\n",
    "    extra_messages = max(0, messages_sent - row['messages_included'])\n",
    "    extra_gb = max(0, round(mb_used_total / 1024) - row['gb_per_month_included'])\n",
    "\n",
    "    extra_minutes_cost = extra_minutes * row['usd_per_minute']\n",
    "    extra_messages_cost = extra_messages * row['usd_per_message']\n",
    "    extra_gb_cost = extra_gb * row['usd_per_gb']\n",
    "\n",
    "    return round(row['usd_monthly_pay'] + extra_minutes_cost + extra_messages_cost + extra_gb_cost, 2)\n",
    "# Calcula el ingreso mensual para cada usuario"
   ]
  },
  {
   "cell_type": "markdown",
   "metadata": {},
   "source": [
    "<div class=\"alert alert-block alert-danger\">\n",
    "<b>Comentario revisor</b> <a class=\"tocSkip\"></a>\n",
    "\n",
    "\n",
    "Recuerda que para este punto, es necesario que ya tengamos los valores redondeados de la duración de las llamadas y redondear la transformación de megabytes a gigabytes. Esto cobra importancia dado que estamos calculando por cuanto se paso cada usuario, entonces el no redondear puede alterar este valor.\n",
    "</div>"
   ]
  },
  {
   "cell_type": "markdown",
   "metadata": {},
   "source": [
    "<div class=\"alert alert-block alert-success\">\n",
    "<b>Comentario revisor</b> <a class=\"tocSkip\"></a>\n",
    "\n",
    "\n",
    "Gran trabajo con el ajuste!"
   ]
  },
  {
   "cell_type": "markdown",
   "metadata": {
    "id": "-jtyHzJb0q1I"
   },
   "source": [
    "## Estudia el comportamiento de usuario"
   ]
  },
  {
   "cell_type": "markdown",
   "metadata": {
    "id": "vtW4CJEe0q1J"
   },
   "source": [
    "### Llamadas"
   ]
  },
  {
   "cell_type": "code",
   "execution_count": 255,
   "metadata": {
    "id": "Jf5v5--k0q1J",
    "scrolled": true
   },
   "outputs": [
    {
     "data": {
      "image/png": "[encoded data removed]",
      "text/plain": [
       "<Figure size 1200x600 with 1 Axes>"
      ]
     },
     "metadata": {},
     "output_type": "display_data"
    }
   ],
   "source": [
    "avg_duration = monthly_summary.groupby(['plan', 'month'])['minutes_used'].mean().reset_index()\n",
    "avg_duration.columns = ['plan', 'month', 'avg_minutes']\n",
    "surf_data = avg_duration[avg_duration['plan'] == 'surf']\n",
    "ultimate_data = avg_duration[avg_duration['plan'] == 'ultimate']\n",
    "months = sorted(avg_duration['month'].unique())\n",
    "plt.figure(figsize=(12, 6))\n",
    "bar_width = 0.4\n",
    "x = range(len(months))\n",
    "plt.bar([i - bar_width / 2 for i in x], surf_data['avg_minutes'], width=bar_width, label='Surf')\n",
    "plt.bar([i + bar_width / 2 for i in x], ultimate_data['avg_minutes'], width=bar_width, label='Ultimate')\n",
    "plt.xticks(ticks=x, labels=[str(m) for m in months], rotation=45)\n",
    "plt.xlabel('Mes')\n",
    "plt.ylabel('Duración promedio de llamadas (min)')\n",
    "plt.title('Duración promedio de llamadas por plan y mes')\n",
    "plt.legend()\n",
    "plt.tight_layout()\n",
    "plt.grid(axis='y')\n",
    "plt.show()\n",
    "# Compara la duración promedio de llamadas por cada plan y por cada mes. Traza un gráfico de barras para visualizarla."
   ]
  },
  {
   "cell_type": "code",
   "execution_count": 256,
   "metadata": {
    "id": "QoLqW1S_0q1J",
    "scrolled": true
   },
   "outputs": [
    {
     "data": {
      "image/png": "[encoded data removed]",
      "text/plain": [
       "<Figure size 1000x500 with 1 Axes>"
      ]
     },
     "metadata": {},
     "output_type": "display_data"
    }
   ],
   "source": [
    "surf = monthly_summary[monthly_summary['plan'] == 'surf']['minutes_used'].dropna()\n",
    "ultimate = monthly_summary[monthly_summary['plan'] == 'ultimate']['minutes_used'].dropna()\n",
    "plt.figure(figsize=(10, 5))\n",
    "\n",
    "plt.hist(surf, bins=50, alpha=0.6, label='Surf')\n",
    "plt.hist(ultimate, bins=50, alpha=0.6, label='Ultimate')\n",
    "\n",
    "plt.title('Distribución mensual de minutos usados por plan')\n",
    "plt.xlabel('Minutos usados')\n",
    "plt.ylabel('Cantidad de usuarios (meses)')\n",
    "plt.legend()\n",
    "plt.grid(True)\n",
    "plt.tight_layout()\n",
    "plt.show()\n",
    "# Compara el número de minutos mensuales que necesitan los usuarios de cada plan. Traza un histograma."
   ]
  },
  {
   "cell_type": "code",
   "execution_count": 257,
   "metadata": {
    "id": "oSndbAnt0q1K"
   },
   "outputs": [
    {
     "data": {
      "text/html": [
       "<div>\n",
       "<style scoped>\n",
       "    .dataframe tbody tr th:only-of-type {\n",
       "        vertical-align: middle;\n",
       "    }\n",
       "\n",
       "    .dataframe tbody tr th {\n",
       "        vertical-align: top;\n",
       "    }\n",
       "\n",
       "    .dataframe thead th {\n",
       "        text-align: right;\n",
       "    }\n",
       "</style>\n",
       "<table border=\"1\" class=\"dataframe\">\n",
       "  <thead>\n",
       "    <tr style=\"text-align: right;\">\n",
       "      <th></th>\n",
       "      <th>Plan</th>\n",
       "      <th>Media_duracion</th>\n",
       "      <th>Varianza_duracion</th>\n",
       "    </tr>\n",
       "  </thead>\n",
       "  <tbody>\n",
       "    <tr>\n",
       "      <th>0</th>\n",
       "      <td>surf</td>\n",
       "      <td>412.097890</td>\n",
       "      <td>47001.254231</td>\n",
       "    </tr>\n",
       "    <tr>\n",
       "      <th>1</th>\n",
       "      <td>ultimate</td>\n",
       "      <td>410.180954</td>\n",
       "      <td>50510.631705</td>\n",
       "    </tr>\n",
       "  </tbody>\n",
       "</table>\n",
       "</div>"
      ],
      "text/plain": [
       "       Plan  Media_duracion  Varianza_duracion\n",
       "0      surf      412.097890       47001.254231\n",
       "1  ultimate      410.180954       50510.631705"
      ]
     },
     "metadata": {},
     "output_type": "display_data"
    }
   ],
   "source": [
    "call_stats = monthly_summary.groupby('plan')['minutes_used'].agg(['mean', 'var']).reset_index()\n",
    "call_stats.columns = ['Plan', 'Media_duracion', 'Varianza_duracion']\n",
    "display(call_stats)\n",
    "# Calcula la media y la varianza de la duración mensual de llamadas."
   ]
  },
  {
   "cell_type": "code",
   "execution_count": 258,
   "metadata": {
    "id": "nZzoRUKc0q1K",
    "scrolled": true
   },
   "outputs": [
    {
     "data": {
      "image/png": "[encoded data removed]",
      "text/plain": [
       "<Figure size 600x500 with 1 Axes>"
      ]
     },
     "metadata": {},
     "output_type": "display_data"
    }
   ],
   "source": [
    "import matplotlib.pyplot as plt\n",
    "surf_minutes = monthly_summary[monthly_summary['plan'] == 'surf']['minutes_used'].dropna()\n",
    "ultimate_minutes = monthly_summary[monthly_summary['plan'] == 'ultimate']['minutes_used'].dropna()\n",
    "data = [surf_minutes, ultimate_minutes]\n",
    "labels = ['Surf', 'Ultimate']\n",
    "plt.figure(figsize=(6, 5))\n",
    "plt.boxplot(data, labels=labels)\n",
    "plt.title('Distribución de la duración mensual de llamadas por plan')\n",
    "plt.ylabel('Minutos usados por mes')\n",
    "plt.grid(True, axis='y')\n",
    "plt.show()\n",
    "\n",
    "# Traza un diagrama de caja para visualizar la distribución de la duración mensual de llamadas"
   ]
  },
  {
   "cell_type": "markdown",
   "metadata": {
    "id": "r627zBO50q1K"
   },
   "source": [
    "Los usuarios de ambos planes tienen una duración mensual de llamadas similar en promedio, pero su comportamiento presenta diferencias importantes. Los usuarios del plan Surf tienden a usar ligeramente más minutos y su distribución es más homogénea, con la mayoría concentrándose entre 300 y 500 minutos mensuales. En cambio, los usuarios del plan Ultimate muestran un uso más variable, con una mayor dispersión y presencia de valores atípicos, aunque en general utilizan menos minutos que los de Surf. Esto sugiere que, aunque el promedio sea parecido, los usuarios de Ultimate tienen un comportamiento menos predecible, mientras que los de Surf hacen un uso más constante del servicio de llamadas."
   ]
  },
  {
   "cell_type": "markdown",
   "metadata": {
    "id": "8idKy8Wh0q1L"
   },
   "source": [
    "### Mensajes"
   ]
  },
  {
   "cell_type": "code",
   "execution_count": 259,
   "metadata": {
    "id": "NXLxiTit0q1L",
    "scrolled": true
   },
   "outputs": [
    {
     "data": {
      "image/png": "[encoded data removed]",
      "text/plain": [
       "<Figure size 1200x600 with 1 Axes>"
      ]
     },
     "metadata": {},
     "output_type": "display_data"
    }
   ],
   "source": [
    "avg_messages = monthly_summary.groupby(['plan', 'month'])['messages_sent'].mean().reset_index()\n",
    "avg_messages.columns = ['plan', 'month', 'avg_messages']\n",
    "surf_msgs = avg_messages[avg_messages['plan'] == 'surf']\n",
    "ultimate_msgs = avg_messages[avg_messages['plan'] == 'ultimate']\n",
    "months = sorted(avg_messages['month'].unique())\n",
    "import matplotlib.pyplot as plt\n",
    "plt.figure(figsize=(12, 6))\n",
    "bar_width = 0.4\n",
    "x = range(len(months))\n",
    "plt.bar([i - bar_width / 2 for i in x], surf_msgs['avg_messages'], width=bar_width, label='Surf')\n",
    "plt.bar([i + bar_width / 2 for i in x], ultimate_msgs['avg_messages'], width=bar_width, label='Ultimate')\n",
    "plt.xticks(ticks=x, labels=[str(m) for m in months], rotation=45)\n",
    "plt.xlabel('Mes')\n",
    "plt.ylabel('Mensajes enviados en promedio')\n",
    "plt.title('Promedio de mensajes enviados por mes y plan')\n",
    "plt.legend()\n",
    "plt.grid(axis='y')\n",
    "plt.tight_layout()\n",
    "plt.show()\n",
    "# Comprara el número de mensajes que tienden a enviar cada mes los usuarios de cada plan"
   ]
  },
  {
   "cell_type": "code",
   "execution_count": 260,
   "metadata": {
    "id": "GRI_R7xF0q1L",
    "scrolled": true
   },
   "outputs": [
    {
     "data": {
      "image/png": "[encoded data removed]",
      "text/plain": [
       "<Figure size 1200x600 with 1 Axes>"
      ]
     },
     "metadata": {},
     "output_type": "display_data"
    }
   ],
   "source": [
    "avg_data = monthly_summary.groupby(['plan', 'month'])['mb_used_total'].mean().reset_index()\n",
    "avg_data.columns = ['plan', 'month', 'avg_mb']\n",
    "surf_data = avg_data[avg_data['plan'] == 'surf']\n",
    "ultimate_data = avg_data[avg_data['plan'] == 'ultimate']\n",
    "months = sorted(avg_data['month'].unique())\n",
    "import matplotlib.pyplot as plt\n",
    "plt.figure(figsize=(12, 6))\n",
    "bar_width = 0.4\n",
    "x = range(len(months))\n",
    "plt.bar([i - bar_width / 2 for i in x], surf_data['avg_mb'], width=bar_width, label='Surf')\n",
    "plt.bar([i + bar_width / 2 for i in x], ultimate_data['avg_mb'], width=bar_width, label='Ultimate')\n",
    "plt.xticks(ticks=x, labels=[str(m) for m in months], rotation=45)\n",
    "plt.xlabel('Mes')\n",
    "plt.ylabel('MB usados en promedio')\n",
    "plt.title('Promedio de tráfico de Internet por mes y plan')\n",
    "plt.legend()\n",
    "plt.grid(axis='y')\n",
    "plt.tight_layout()\n",
    "plt.show()\n",
    "# Compara la cantidad de tráfico de Internet consumido por usuarios por plan"
   ]
  },
  {
   "cell_type": "markdown",
   "metadata": {
    "id": "390SSL480q1M"
   },
   "source": [
    "Los usuarios del plan Ultimate tienden a enviar más mensajes por mes que los usuarios del plan Surf, y esta diferencia se mantiene de forma constante a lo largo del año. Mientras ambos grupos muestran un aumento progresivo en la cantidad de mensajes enviados, el plan Ultimate supera en promedio al plan Surf en cada mes, llegando a una diferencia de más de 10 mensajes en algunos periodos. Esto indica que el comportamiento de los usuarios sí varía según el plan contratado, siendo más activos en el envío de mensajes quienes cuentan con el plan Ultimate, posiblemente debido a que incluye una mayor cantidad de mensajes sin costo adicional."
   ]
  },
  {
   "cell_type": "markdown",
   "metadata": {
    "id": "42YSypXz0q1M"
   },
   "source": [
    "### Internet"
   ]
  },
  {
   "cell_type": "markdown",
   "metadata": {
    "id": "UN9zwuMP0q1N"
   },
   "source": [
    "Los usuarios del plan Ultimate consumen más tráfico de Internet en promedio que los del plan Surf, especialmente durante los primeros meses del año, donde la diferencia es más notable. A lo largo del año, ambos planes muestran un aumento progresivo en el uso de datos, pero Ultimate mantiene consistentemente un nivel más alto de consumo mensual. Esto sugiere que el comportamiento de los usuarios sí varía en función del plan contratado, siendo los de Ultimate más intensivos en el uso de internet, posiblemente debido a los beneficios incluidos en su plan que permiten un mayor volumen de navegación sin preocuparse por cargos adicionales."
   ]
  },
  {
   "cell_type": "markdown",
   "metadata": {
    "id": "tCijq3260q1N"
   },
   "source": [
    "## Ingreso"
   ]
  },
  {
   "cell_type": "code",
   "execution_count": 261,
   "metadata": {
    "id": "tz-dq_V00q1O",
    "scrolled": false
   },
   "outputs": [],
   "source": [
    "import numpy as np\n",
    "\n",
    "def calculate_cost(row):\n",
    "    # Uso real\n",
    "    minutes_used = np.nan_to_num(row.get('minutes_used', 0), nan=0.0)\n",
    "    messages_sent = np.nan_to_num(row.get('messages_sent', 0), nan=0.0)\n",
    "    mb_used_total = np.nan_to_num(row.get('mb_used_total', 0), nan=0.0)\n",
    "\n",
    "    # Límites del plan\n",
    "    minutes_included = np.nan_to_num(row.get('minutes_included', 0), nan=0.0)\n",
    "    messages_included = np.nan_to_num(row.get('messages_included', 0), nan=0.0)\n",
    "    gb_included = np.nan_to_num(row.get('gb_per_month_included', 0), nan=0.0)\n",
    "\n",
    "    # Precios\n",
    "    usd_per_minute = np.nan_to_num(row.get('usd_per_minute', 0), nan=0.0)\n",
    "    usd_per_message = np.nan_to_num(row.get('usd_per_message', 0), nan=0.0)\n",
    "    usd_per_gb = np.nan_to_num(row.get('usd_per_gb', 0), nan=0.0)\n",
    "    usd_monthly_pay = np.nan_to_num(row.get('usd_monthly_pay', 0), nan=0.0)\n",
    "\n",
    "    # Excesos\n",
    "    extra_minutes = max(0, round(minutes_used - minutes_included))\n",
    "    extra_messages = max(0, round(messages_sent - messages_included))\n",
    "    extra_gb = max(0, int(mb_used_total // 1024) - gb_included)\n",
    "\n",
    "    # Total\n",
    "    total = (\n",
    "        usd_monthly_pay +\n",
    "        extra_minutes * usd_per_minute +\n",
    "        extra_messages * usd_per_message +\n",
    "        extra_gb * usd_per_gb\n",
    "    )\n",
    "\n",
    "    return round(total, 2)"
   ]
  },
  {
   "cell_type": "code",
   "execution_count": 262,
   "metadata": {
    "scrolled": false
   },
   "outputs": [],
   "source": [
    "monthly_summary['monthly_revenue'] = monthly_summary.apply(calculate_cost, axis=1)"
   ]
  },
  {
   "cell_type": "code",
   "execution_count": 263,
   "metadata": {
    "id": "0Y1v8ZUz0q1P",
    "scrolled": true
   },
   "outputs": [
    {
     "data": {
      "text/html": [
       "<div>\n",
       "<style scoped>\n",
       "    .dataframe tbody tr th:only-of-type {\n",
       "        vertical-align: middle;\n",
       "    }\n",
       "\n",
       "    .dataframe tbody tr th {\n",
       "        vertical-align: top;\n",
       "    }\n",
       "\n",
       "    .dataframe thead th {\n",
       "        text-align: right;\n",
       "    }\n",
       "</style>\n",
       "<table border=\"1\" class=\"dataframe\">\n",
       "  <thead>\n",
       "    <tr style=\"text-align: right;\">\n",
       "      <th></th>\n",
       "      <th>count</th>\n",
       "      <th>mean</th>\n",
       "      <th>std</th>\n",
       "      <th>min</th>\n",
       "      <th>25%</th>\n",
       "      <th>50%</th>\n",
       "      <th>75%</th>\n",
       "      <th>max</th>\n",
       "    </tr>\n",
       "    <tr>\n",
       "      <th>plan</th>\n",
       "      <th></th>\n",
       "      <th></th>\n",
       "      <th></th>\n",
       "      <th></th>\n",
       "      <th></th>\n",
       "      <th></th>\n",
       "      <th></th>\n",
       "      <th></th>\n",
       "    </tr>\n",
       "  </thead>\n",
       "  <tbody>\n",
       "    <tr>\n",
       "      <th>surf</th>\n",
       "      <td>1573.0</td>\n",
       "      <td>0.0</td>\n",
       "      <td>0.0</td>\n",
       "      <td>0.0</td>\n",
       "      <td>0.0</td>\n",
       "      <td>0.0</td>\n",
       "      <td>0.0</td>\n",
       "      <td>0.0</td>\n",
       "    </tr>\n",
       "    <tr>\n",
       "      <th>ultimate</th>\n",
       "      <td>720.0</td>\n",
       "      <td>0.0</td>\n",
       "      <td>0.0</td>\n",
       "      <td>0.0</td>\n",
       "      <td>0.0</td>\n",
       "      <td>0.0</td>\n",
       "      <td>0.0</td>\n",
       "      <td>0.0</td>\n",
       "    </tr>\n",
       "  </tbody>\n",
       "</table>\n",
       "</div>"
      ],
      "text/plain": [
       "           count  mean  std  min  25%  50%  75%  max\n",
       "plan                                                \n",
       "surf      1573.0   0.0  0.0  0.0  0.0  0.0  0.0  0.0\n",
       "ultimate   720.0   0.0  0.0  0.0  0.0  0.0  0.0  0.0"
      ]
     },
     "metadata": {},
     "output_type": "display_data"
    }
   ],
   "source": [
    "revenue_stats = monthly_summary.groupby('plan')['monthly_revenue'].describe()\n",
    "display(revenue_stats)"
   ]
  },
  {
   "cell_type": "code",
   "execution_count": 264,
   "metadata": {
    "scrolled": true
   },
   "outputs": [
    {
     "data": {
      "text/html": [
       "<div>\n",
       "<style scoped>\n",
       "    .dataframe tbody tr th:only-of-type {\n",
       "        vertical-align: middle;\n",
       "    }\n",
       "\n",
       "    .dataframe tbody tr th {\n",
       "        vertical-align: top;\n",
       "    }\n",
       "\n",
       "    .dataframe thead th {\n",
       "        text-align: right;\n",
       "    }\n",
       "</style>\n",
       "<table border=\"1\" class=\"dataframe\">\n",
       "  <thead>\n",
       "    <tr style=\"text-align: right;\">\n",
       "      <th></th>\n",
       "      <th>plan</th>\n",
       "      <th>usd_monthly_pay</th>\n",
       "      <th>usd_per_minute</th>\n",
       "      <th>minutes_included</th>\n",
       "    </tr>\n",
       "  </thead>\n",
       "  <tbody>\n",
       "    <tr>\n",
       "      <th>0</th>\n",
       "      <td>ultimate</td>\n",
       "      <td>70</td>\n",
       "      <td>0.01</td>\n",
       "      <td>3000</td>\n",
       "    </tr>\n",
       "    <tr>\n",
       "      <th>1</th>\n",
       "      <td>surf</td>\n",
       "      <td>20</td>\n",
       "      <td>0.03</td>\n",
       "      <td>500</td>\n",
       "    </tr>\n",
       "    <tr>\n",
       "      <th>2</th>\n",
       "      <td>surf</td>\n",
       "      <td>20</td>\n",
       "      <td>0.03</td>\n",
       "      <td>500</td>\n",
       "    </tr>\n",
       "    <tr>\n",
       "      <th>3</th>\n",
       "      <td>surf</td>\n",
       "      <td>20</td>\n",
       "      <td>0.03</td>\n",
       "      <td>500</td>\n",
       "    </tr>\n",
       "    <tr>\n",
       "      <th>4</th>\n",
       "      <td>surf</td>\n",
       "      <td>20</td>\n",
       "      <td>0.03</td>\n",
       "      <td>500</td>\n",
       "    </tr>\n",
       "  </tbody>\n",
       "</table>\n",
       "</div>"
      ],
      "text/plain": [
       "       plan  usd_monthly_pay  usd_per_minute  minutes_included\n",
       "0  ultimate               70            0.01              3000\n",
       "1      surf               20            0.03               500\n",
       "2      surf               20            0.03               500\n",
       "3      surf               20            0.03               500\n",
       "4      surf               20            0.03               500"
      ]
     },
     "metadata": {},
     "output_type": "display_data"
    }
   ],
   "source": [
    "monthly_summary = monthly_summary.merge(plans, left_on='plan', right_on='plan_name', how='left')\n",
    "display(monthly_summary[['plan', 'usd_monthly_pay', 'usd_per_minute', 'minutes_included']].head())"
   ]
  },
  {
   "cell_type": "code",
   "execution_count": 265,
   "metadata": {},
   "outputs": [],
   "source": [
    "monthly_summary['monthly_revenue'] = monthly_summary.apply(calculate_cost, axis=1)"
   ]
  },
  {
   "cell_type": "code",
   "execution_count": 266,
   "metadata": {},
   "outputs": [
    {
     "data": {
      "text/html": [
       "<div>\n",
       "<style scoped>\n",
       "    .dataframe tbody tr th:only-of-type {\n",
       "        vertical-align: middle;\n",
       "    }\n",
       "\n",
       "    .dataframe tbody tr th {\n",
       "        vertical-align: top;\n",
       "    }\n",
       "\n",
       "    .dataframe thead th {\n",
       "        text-align: right;\n",
       "    }\n",
       "</style>\n",
       "<table border=\"1\" class=\"dataframe\">\n",
       "  <thead>\n",
       "    <tr style=\"text-align: right;\">\n",
       "      <th></th>\n",
       "      <th>count</th>\n",
       "      <th>mean</th>\n",
       "      <th>std</th>\n",
       "      <th>min</th>\n",
       "      <th>25%</th>\n",
       "      <th>50%</th>\n",
       "      <th>75%</th>\n",
       "      <th>max</th>\n",
       "    </tr>\n",
       "    <tr>\n",
       "      <th>plan</th>\n",
       "      <th></th>\n",
       "      <th></th>\n",
       "      <th></th>\n",
       "      <th></th>\n",
       "      <th></th>\n",
       "      <th></th>\n",
       "      <th></th>\n",
       "      <th></th>\n",
       "    </tr>\n",
       "  </thead>\n",
       "  <tbody>\n",
       "    <tr>\n",
       "      <th>surf</th>\n",
       "      <td>1573.0</td>\n",
       "      <td>54.535817</td>\n",
       "      <td>52.424711</td>\n",
       "      <td>20.0</td>\n",
       "      <td>20.0</td>\n",
       "      <td>30.93</td>\n",
       "      <td>70.0</td>\n",
       "      <td>578.63</td>\n",
       "    </tr>\n",
       "    <tr>\n",
       "      <th>ultimate</th>\n",
       "      <td>720.0</td>\n",
       "      <td>71.915278</td>\n",
       "      <td>10.094121</td>\n",
       "      <td>70.0</td>\n",
       "      <td>70.0</td>\n",
       "      <td>70.00</td>\n",
       "      <td>70.0</td>\n",
       "      <td>175.00</td>\n",
       "    </tr>\n",
       "  </tbody>\n",
       "</table>\n",
       "</div>"
      ],
      "text/plain": [
       "           count       mean        std   min   25%    50%   75%     max\n",
       "plan                                                                   \n",
       "surf      1573.0  54.535817  52.424711  20.0  20.0  30.93  70.0  578.63\n",
       "ultimate   720.0  71.915278  10.094121  70.0  70.0  70.00  70.0  175.00"
      ]
     },
     "metadata": {},
     "output_type": "display_data"
    }
   ],
   "source": [
    "revenue_stats = monthly_summary.groupby('plan')['monthly_revenue'].describe()\n",
    "display(revenue_stats)"
   ]
  },
  {
   "cell_type": "markdown",
   "metadata": {
    "id": "KAFidcXZ0q1P"
   },
   "source": [
    "El plan Ultimate genera mayores ingresos promedio por usuario mensual que el plan Surf (71.92 USD vs 54.54 USD). Además, los ingresos de Ultimate son mucho más estables, con una desviación estándar baja de 10 USD, lo que refleja su estructura de tarifa plana. En contraste, el plan Surf presenta una gran variabilidad desviación estándar de 52 USD, lo cual sugiere que algunos usuarios superan ampliamente los límites del plan, generando ingresos más altos en ciertos meses. Esto implica que Ultimate es más predecible en términos de ingreso, mientras que Surf puede ser más rentable en casos específicos pero con mayor incertidumbre."
   ]
  },
  {
   "cell_type": "markdown",
   "metadata": {},
   "source": [
    "<div class=\"alert alert-block alert-success\">\n",
    "<b>Comentario revisor</b> <a class=\"tocSkip\"></a>\n",
    "\n",
    " Muy buena prática la de usar distintos tipos de gráficas identificar algunos hallazgos y llegar a conclusiones. En este caso las gráficas de box-plots nos ayudan a identificar outiers que pueden sesgar nuestros resultados, especificamente las pruebas de hipótesis. Es por ello que con estás gráficas puedes complementar el análisis eliminando los valores atipicos. \n",
    "</div>"
   ]
  },
  {
   "cell_type": "markdown",
   "metadata": {
    "id": "ajJ7VKeI0q1Q"
   },
   "source": [
    "## Prueba las hipótesis estadísticas"
   ]
  },
  {
   "cell_type": "code",
   "execution_count": 267,
   "metadata": {
    "id": "nFoPNlPq0q1R"
   },
   "outputs": [
    {
     "name": "stdout",
     "output_type": "stream",
     "text": [
      "Estadístico t: -12.6460\n",
      "Valor p: 0.0000\n",
      "Rechazamos H0: Hay una diferencia significativa entre los ingresos promedio de los planes.\n"
     ]
    }
   ],
   "source": [
    "# Hipótesis:\n",
    "# H0: Los ingresos promedio de los planes Ultimate y Surf son iguales.\n",
    "# H1: Los ingresos promedio de los planes Ultimate y Surf son diferentes.\n",
    "\n",
    "# Nivel de significancia\n",
    "alpha = 0.05\n",
    "\n",
    "# Extraer los ingresos por plan\n",
    "surf = monthly_summary[monthly_summary['plan'] == 'surf']['monthly_revenue']\n",
    "ultimate = monthly_summary[monthly_summary['plan'] == 'ultimate']['monthly_revenue']\n",
    "\n",
    "# Realizar la prueba t de Welch (no asume varianzas iguales)\n",
    "from scipy import stats\n",
    "t_stat, p_value = stats.ttest_ind(surf, ultimate, equal_var=False)\n",
    "\n",
    "print(f'Estadístico t: {t_stat:.4f}')\n",
    "print(f'Valor p: {p_value:.4f}')\n",
    "\n",
    "# Evaluar resultado\n",
    "if p_value < alpha:\n",
    "    print(\"Rechazamos H0: Hay una diferencia significativa entre los ingresos promedio de los planes.\")\n",
    "else:\n",
    "    print(\"No se puede rechazar H0: No hay suficiente evidencia de una diferencia significativa.\")\n",
    "# Prueba las hipótesis"
   ]
  },
  {
   "cell_type": "code",
   "execution_count": 268,
   "metadata": {},
   "outputs": [],
   "source": [
    "monthly_summary = monthly_summary.merge(users[['user_id', 'city']], on='user_id', how='left')"
   ]
  },
  {
   "cell_type": "code",
   "execution_count": 269,
   "metadata": {
    "id": "Cqcj7wrZ0q1S",
    "scrolled": true
   },
   "outputs": [
    {
     "name": "stdout",
     "output_type": "stream",
     "text": [
      "Estadístico t: -0.9344\n",
      "Valor p: 0.3504\n",
      "No se puede rechazar H0: No hay suficiente evidencia de diferencia en el ingreso promedio.\n"
     ]
    }
   ],
   "source": [
    "# Hipótesis:\n",
    "# H0: El ingreso promedio de los usuarios del área NY-NJ es igual al de otras regiones.\n",
    "# H1: El ingreso promedio de los usuarios del área NY-NJ es diferente al de otras regiones.\n",
    "\n",
    "# Nivel de significancia\n",
    "alpha = 0.05\n",
    "\n",
    "# Crear dos grupos: NY-NJ vs otras regiones\n",
    "ny_nj = monthly_summary[monthly_summary['city'].str.contains('NY', case=False, na=False) | \n",
    "                        monthly_summary['city'].str.contains('NJ', case=False, na=False)]['monthly_revenue']\n",
    "\n",
    "otras = monthly_summary[~(monthly_summary['city'].str.contains('NY', case=False, na=False) | \n",
    "                          monthly_summary['city'].str.contains('NJ', case=False, na=False))]['monthly_revenue']\n",
    "\n",
    "# Prueba t de Welch\n",
    "from scipy import stats\n",
    "t_stat, p_value = stats.ttest_ind(ny_nj, otras, equal_var=False)\n",
    "\n",
    "print(f'Estadístico t: {t_stat:.4f}')\n",
    "print(f'Valor p: {p_value:.4f}')\n",
    "\n",
    "# Evaluación del resultado\n",
    "if p_value < alpha:\n",
    "    print(\"Rechazamos H0: Hay una diferencia significativa en el ingreso promedio entre NY-NJ y otras regiones.\")\n",
    "else:\n",
    "    print(\"No se puede rechazar H0: No hay suficiente evidencia de diferencia en el ingreso promedio.\")\n",
    "# Prueba las hipótesis"
   ]
  },
  {
   "cell_type": "markdown",
   "metadata": {},
   "source": [
    "<div class=\"alert alert-block alert-success\">\n",
    "<b>Comentario revisor</b> <a class=\"tocSkip\"></a>\n",
    "\n",
    "Gran trabajo desarrollando las pruebas de hipótesis."
   ]
  },
  {
   "cell_type": "markdown",
   "metadata": {
    "id": "bbTR8UQO0q1T"
   },
   "source": [
    "## Conclusión general"
   ]
  },
  {
   "cell_type": "markdown",
   "metadata": {
    "id": "EzOG5ik30q1D"
   },
   "source": [
    "El objetivo de este análisis fue determinar cuál de los dos planes de prepago, Surf o Ultimate, genera mayores ingresos para la empresa Megaline. Para ello, se cargaron y procesaron cinco bases de datos, se realizaron transformaciones relevantes (como convertir fechas, agrupar por usuario y mes, y calcular consumo mensual), y se estimaron los ingresos generados por cada cliente de acuerdo con las condiciones del plan contratado.\n",
    "\n",
    "Durante el análisis se observó que, aunque el plan Surf tiene un costo mensual más bajo, sus usuarios frecuentemente superan los límites incluidos, generando cargos adicionales y una mayor variabilidad en los ingresos. Por otro lado, el plan Ultimate ofrece un ingreso más estable y predecible, con una media mensual de 71.92 USD frente a 54.54 USD del plan Surf. Esta diferencia fue confirmada como estadísticamente significativa mediante una prueba de hipótesis.\n",
    "\n",
    "Además, se concluyó que el comportamiento de los usuarios varía según el plan, especialmente en el uso de mensajes e internet, siendo más intensivo en el plan Ultimate. Sin embargo, al analizar los ingresos por región, no se encontró evidencia estadísticamente significativa de diferencia entre los usuarios de NY-NJ y otras regiones.\n",
    "\n",
    "En resumen, el plan Ultimate es más rentable en términos de ingresos promedio y estabilidad, lo que sugiere que podría ser más conveniente para Megaline enfocar sus esfuerzos de marketing en promocionar este plan."
   ]
  },
  {
   "cell_type": "code",
   "execution_count": null,
   "metadata": {},
   "outputs": [],
   "source": []
  }
 ],
 "metadata": {
  "ExecuteTimeLog": [
   {
    "duration": 828,
    "start_time": "2021-11-16T09:21:11.304Z"
   },
   {
    "duration": 893,
    "start_time": "2021-11-16T09:21:17.728Z"
   },
   {
    "duration": 1150,
    "start_time": "2021-11-16T09:21:29.568Z"
   },
   {
    "duration": 3,
    "start_time": "2021-11-16T09:24:14.495Z"
   },
   {
    "duration": 120,
    "start_time": "2021-11-16T09:24:46.630Z"
   },
   {
    "duration": 3,
    "start_time": "2021-11-16T09:28:27.882Z"
   },
   {
    "duration": 4,
    "start_time": "2021-11-16T09:29:54.281Z"
   },
   {
    "duration": 3,
    "start_time": "2021-11-16T09:30:45.936Z"
   },
   {
    "duration": 4,
    "start_time": "2021-11-16T09:31:06.300Z"
   },
   {
    "duration": 113,
    "start_time": "2021-11-16T09:31:37.208Z"
   },
   {
    "duration": 143,
    "start_time": "2021-11-16T09:31:48.656Z"
   },
   {
    "duration": 98,
    "start_time": "2021-11-16T09:31:55.678Z"
   },
   {
    "duration": 3,
    "start_time": "2021-11-16T09:32:08.535Z"
   },
   {
    "duration": 111,
    "start_time": "2021-11-16T09:32:10.120Z"
   },
   {
    "duration": 3,
    "start_time": "2021-11-16T09:32:15.732Z"
   },
   {
    "duration": 4,
    "start_time": "2021-11-16T09:32:29.423Z"
   },
   {
    "duration": 3,
    "start_time": "2021-11-16T10:03:03.074Z"
   },
   {
    "duration": 3,
    "start_time": "2021-11-16T10:10:01.288Z"
   },
   {
    "duration": 3,
    "start_time": "2021-11-16T10:10:46.923Z"
   },
   {
    "duration": 121,
    "start_time": "2021-11-16T10:37:46.494Z"
   },
   {
    "duration": 125,
    "start_time": "2021-11-16T10:38:20.632Z"
   },
   {
    "duration": 112,
    "start_time": "2021-11-16T10:46:53.001Z"
   },
   {
    "duration": 110,
    "start_time": "2021-11-16T10:48:25.775Z"
   },
   {
    "duration": 3,
    "start_time": "2021-11-16T10:50:18.720Z"
   },
   {
    "duration": 4,
    "start_time": "2021-11-16T10:50:37.649Z"
   },
   {
    "duration": 2,
    "start_time": "2021-11-16T10:50:51.884Z"
   },
   {
    "duration": 3,
    "start_time": "2021-11-16T10:51:56.237Z"
   },
   {
    "duration": 101,
    "start_time": "2021-11-16T10:53:13.791Z"
   },
   {
    "duration": 3,
    "start_time": "2021-11-16T10:55:59.186Z"
   },
   {
    "duration": 3,
    "start_time": "2021-11-16T10:56:10.751Z"
   },
   {
    "duration": 3,
    "start_time": "2021-11-16T10:56:49.038Z"
   },
   {
    "duration": 3,
    "start_time": "2021-11-16T10:56:49.174Z"
   },
   {
    "duration": 4,
    "start_time": "2021-11-16T10:56:49.414Z"
   },
   {
    "duration": 3,
    "start_time": "2021-11-16T10:56:49.680Z"
   },
   {
    "duration": 3,
    "start_time": "2021-11-16T10:56:50.370Z"
   },
   {
    "duration": 114,
    "start_time": "2021-11-16T10:59:34.518Z"
   },
   {
    "duration": 3,
    "start_time": "2021-11-16T11:01:41.201Z"
   },
   {
    "duration": 116,
    "start_time": "2021-11-16T11:01:48.754Z"
   },
   {
    "duration": 3,
    "start_time": "2021-11-16T11:02:16.685Z"
   },
   {
    "duration": 3,
    "start_time": "2021-11-16T11:02:19.479Z"
   },
   {
    "duration": 3,
    "start_time": "2021-11-16T11:02:47.067Z"
   },
   {
    "duration": 3,
    "start_time": "2021-11-16T11:02:49.353Z"
   },
   {
    "duration": 3,
    "start_time": "2021-11-16T11:03:07.835Z"
   },
   {
    "duration": 3,
    "start_time": "2021-11-16T11:03:07.953Z"
   },
   {
    "duration": 112,
    "start_time": "2021-11-16T11:07:52.072Z"
   },
   {
    "duration": 187,
    "start_time": "2021-11-16T11:09:23.468Z"
   },
   {
    "duration": 4,
    "start_time": "2021-11-16T11:10:01.455Z"
   },
   {
    "duration": 3,
    "start_time": "2021-11-16T11:10:05.069Z"
   },
   {
    "duration": 4,
    "start_time": "2021-11-16T11:10:13.376Z"
   },
   {
    "duration": 3,
    "start_time": "2021-11-16T11:10:14.434Z"
   },
   {
    "duration": 3,
    "start_time": "2021-11-16T11:10:22.853Z"
   },
   {
    "duration": 4,
    "start_time": "2021-11-16T11:27:29.279Z"
   },
   {
    "duration": 4,
    "start_time": "2021-11-16T11:29:08.919Z"
   },
   {
    "duration": 118,
    "start_time": "2021-11-16T11:29:46.703Z"
   },
   {
    "duration": 437,
    "start_time": "2021-11-16T11:36:02.181Z"
   },
   {
    "duration": 157,
    "start_time": "2021-11-16T11:36:14.388Z"
   },
   {
    "duration": 207,
    "start_time": "2021-11-16T11:47:15.898Z"
   },
   {
    "duration": 3,
    "start_time": "2021-11-16T11:53:52.092Z"
   },
   {
    "duration": 3,
    "start_time": "2021-11-16T11:53:52.236Z"
   },
   {
    "duration": 3,
    "start_time": "2021-11-16T11:59:12.005Z"
   },
   {
    "duration": 112,
    "start_time": "2021-11-16T12:00:33.446Z"
   },
   {
    "duration": 3,
    "start_time": "2021-11-16T12:02:14.453Z"
   },
   {
    "duration": 3,
    "start_time": "2021-11-16T12:02:39.512Z"
   },
   {
    "duration": 106,
    "start_time": "2021-11-16T12:03:03.460Z"
   },
   {
    "duration": 3,
    "start_time": "2021-11-17T20:37:21.139Z"
   },
   {
    "duration": 3,
    "start_time": "2021-11-17T20:37:22.229Z"
   },
   {
    "duration": 3,
    "start_time": "2021-11-17T20:38:38.806Z"
   },
   {
    "duration": 3,
    "start_time": "2021-11-17T20:38:41.958Z"
   },
   {
    "duration": 3,
    "start_time": "2021-11-17T20:43:46.551Z"
   },
   {
    "duration": 4,
    "start_time": "2021-11-17T20:58:21.835Z"
   },
   {
    "duration": 3,
    "start_time": "2021-11-17T20:59:21.872Z"
   },
   {
    "duration": 4,
    "start_time": "2021-11-17T20:59:45.352Z"
   },
   {
    "duration": 4,
    "start_time": "2021-11-17T20:59:49.646Z"
   },
   {
    "duration": 159,
    "start_time": "2021-11-17T21:02:26.949Z"
   },
   {
    "duration": 3,
    "start_time": "2021-11-17T21:03:53.461Z"
   },
   {
    "duration": 3,
    "start_time": "2021-11-17T21:03:53.694Z"
   },
   {
    "duration": 3,
    "start_time": "2021-11-17T21:05:28.145Z"
   },
   {
    "duration": 116,
    "start_time": "2021-11-17T21:05:57.787Z"
   },
   {
    "duration": 3,
    "start_time": "2021-11-17T21:06:37.993Z"
   },
   {
    "duration": 3,
    "start_time": "2021-11-17T21:06:38.261Z"
   },
   {
    "duration": 3,
    "start_time": "2021-11-17T21:11:54.358Z"
   },
   {
    "duration": 3,
    "start_time": "2021-11-17T21:12:43.846Z"
   },
   {
    "duration": 4,
    "start_time": "2021-11-17T21:13:08.773Z"
   },
   {
    "duration": 3,
    "start_time": "2021-11-17T21:14:44.441Z"
   },
   {
    "duration": 3,
    "start_time": "2021-11-17T21:15:42.059Z"
   },
   {
    "duration": 4,
    "start_time": "2021-11-17T21:15:51.995Z"
   },
   {
    "duration": 3,
    "start_time": "2021-11-17T21:15:53.923Z"
   },
   {
    "duration": 3,
    "start_time": "2021-11-17T21:15:55.282Z"
   },
   {
    "duration": 3,
    "start_time": "2021-11-17T21:16:28.492Z"
   },
   {
    "duration": 3,
    "start_time": "2021-11-17T21:16:32.603Z"
   },
   {
    "duration": 3,
    "start_time": "2021-11-17T21:17:06.941Z"
   },
   {
    "duration": 98,
    "start_time": "2021-11-17T21:18:05.733Z"
   },
   {
    "duration": 4,
    "start_time": "2021-11-17T21:21:35.255Z"
   },
   {
    "duration": 3,
    "start_time": "2021-11-17T21:21:37.804Z"
   },
   {
    "duration": 4,
    "start_time": "2021-11-17T21:23:06.071Z"
   },
   {
    "duration": 3,
    "start_time": "2021-11-17T21:23:24.799Z"
   },
   {
    "duration": 3,
    "start_time": "2021-11-17T21:23:32.591Z"
   },
   {
    "duration": 98,
    "start_time": "2021-11-17T21:28:31.559Z"
   },
   {
    "duration": 3,
    "start_time": "2021-11-17T21:28:45.448Z"
   },
   {
    "duration": 3,
    "start_time": "2021-11-17T21:29:17.303Z"
   },
   {
    "duration": 3,
    "start_time": "2021-11-17T21:29:29.617Z"
   },
   {
    "duration": 3,
    "start_time": "2021-11-17T21:29:32.681Z"
   },
   {
    "duration": 3,
    "start_time": "2021-11-17T21:36:11.474Z"
   },
   {
    "duration": 3,
    "start_time": "2021-11-17T21:36:14.791Z"
   },
   {
    "duration": 3,
    "start_time": "2021-11-17T21:36:53.943Z"
   },
   {
    "duration": 3,
    "start_time": "2021-11-17T21:36:56.165Z"
   },
   {
    "duration": 4,
    "start_time": "2021-11-17T21:37:16.590Z"
   },
   {
    "duration": 3,
    "start_time": "2021-11-17T21:37:22.702Z"
   },
   {
    "duration": 4,
    "start_time": "2021-11-17T21:38:03.479Z"
   },
   {
    "duration": 3,
    "start_time": "2021-11-17T21:38:08.601Z"
   },
   {
    "duration": 3,
    "start_time": "2021-11-17T21:38:12.928Z"
   },
   {
    "duration": 3,
    "start_time": "2021-11-17T21:38:48.896Z"
   },
   {
    "duration": 2,
    "start_time": "2021-11-17T21:38:49.171Z"
   },
   {
    "duration": 4,
    "start_time": "2021-11-17T21:39:57.889Z"
   },
   {
    "duration": 3,
    "start_time": "2021-11-17T21:39:58.057Z"
   },
   {
    "duration": 3,
    "start_time": "2021-11-17T21:41:20.108Z"
   },
   {
    "duration": 3,
    "start_time": "2021-11-17T21:41:20.629Z"
   },
   {
    "duration": 3,
    "start_time": "2021-11-17T21:42:49.136Z"
   },
   {
    "duration": 3,
    "start_time": "2021-11-17T21:43:15.137Z"
   },
   {
    "duration": 4,
    "start_time": "2021-11-17T21:43:16.766Z"
   },
   {
    "duration": 4,
    "start_time": "2021-11-17T21:43:31.711Z"
   },
   {
    "duration": 3,
    "start_time": "2021-11-17T21:43:36.312Z"
   },
   {
    "duration": 4,
    "start_time": "2021-11-17T21:45:08.825Z"
   },
   {
    "duration": 4,
    "start_time": "2021-11-17T21:45:10.119Z"
   },
   {
    "duration": 4,
    "start_time": "2021-11-17T21:45:13.748Z"
   },
   {
    "duration": 3,
    "start_time": "2021-11-17T21:45:22.219Z"
   },
   {
    "duration": 3,
    "start_time": "2021-11-17T21:45:33.412Z"
   },
   {
    "duration": 2,
    "start_time": "2021-11-17T21:46:01.885Z"
   },
   {
    "duration": 3,
    "start_time": "2021-11-17T21:46:03.628Z"
   },
   {
    "duration": 107,
    "start_time": "2021-11-17T21:47:32.512Z"
   },
   {
    "duration": 103,
    "start_time": "2021-11-17T21:50:36.243Z"
   },
   {
    "duration": 3,
    "start_time": "2021-11-18T06:28:31.440Z"
   },
   {
    "duration": 3,
    "start_time": "2021-11-18T06:29:00.168Z"
   },
   {
    "duration": 3,
    "start_time": "2021-11-18T06:31:27.008Z"
   },
   {
    "duration": 2,
    "start_time": "2021-11-18T06:35:34.288Z"
   },
   {
    "duration": 2,
    "start_time": "2021-11-18T06:38:04.527Z"
   },
   {
    "duration": 159,
    "start_time": "2025-03-20T02:01:44.486Z"
   },
   {
    "duration": 6,
    "start_time": "2025-03-20T02:01:55.455Z"
   },
   {
    "duration": 2238,
    "start_time": "2025-03-20T02:02:11.410Z"
   },
   {
    "duration": 384,
    "start_time": "2025-03-20T02:02:29.517Z"
   },
   {
    "duration": 254,
    "start_time": "2025-03-20T02:02:45.929Z"
   },
   {
    "duration": 28,
    "start_time": "2025-03-20T02:06:50.800Z"
   },
   {
    "duration": 9,
    "start_time": "2025-03-20T02:08:42.847Z"
   },
   {
    "duration": 21,
    "start_time": "2025-03-20T02:08:45.545Z"
   },
   {
    "duration": 238,
    "start_time": "2025-03-20T02:14:15.728Z"
   },
   {
    "duration": 29,
    "start_time": "2025-03-20T02:16:31.879Z"
   },
   {
    "duration": 7,
    "start_time": "2025-03-20T02:17:42.134Z"
   },
   {
    "duration": 282,
    "start_time": "2025-03-20T19:39:58.242Z"
   },
   {
    "duration": 3930,
    "start_time": "2025-03-20T19:40:10.393Z"
   },
   {
    "duration": 497,
    "start_time": "2025-03-20T19:40:14.330Z"
   },
   {
    "duration": 73,
    "start_time": "2025-03-20T19:40:15.512Z"
   },
   {
    "duration": 30,
    "start_time": "2025-03-20T19:40:18.344Z"
   },
   {
    "duration": 4,
    "start_time": "2025-03-20T19:40:24.416Z"
   },
   {
    "duration": 3,
    "start_time": "2025-03-20T19:43:01.899Z"
   },
   {
    "duration": 10,
    "start_time": "2025-03-20T19:43:47.583Z"
   },
   {
    "duration": 28,
    "start_time": "2025-03-20T19:44:40.960Z"
   },
   {
    "duration": 14,
    "start_time": "2025-03-20T19:47:57.444Z"
   },
   {
    "duration": 8,
    "start_time": "2025-03-20T19:50:14.398Z"
   },
   {
    "duration": 8,
    "start_time": "2025-03-20T19:57:44.201Z"
   },
   {
    "duration": 4,
    "start_time": "2025-03-20T20:22:12.463Z"
   },
   {
    "duration": 329,
    "start_time": "2025-03-20T20:22:13.581Z"
   },
   {
    "duration": 34,
    "start_time": "2025-03-20T20:22:23.244Z"
   },
   {
    "duration": 11,
    "start_time": "2025-03-20T20:22:27.205Z"
   },
   {
    "duration": 1436,
    "start_time": "2025-03-20T20:26:39.063Z"
   },
   {
    "duration": 67,
    "start_time": "2025-03-20T20:32:38.516Z"
   },
   {
    "duration": 65,
    "start_time": "2025-03-20T20:33:27.593Z"
   },
   {
    "duration": 227,
    "start_time": "2025-03-20T20:33:37.592Z"
   },
   {
    "duration": 64,
    "start_time": "2025-03-20T20:34:04.959Z"
   },
   {
    "duration": 49,
    "start_time": "2025-03-20T20:34:22.709Z"
   },
   {
    "duration": 170,
    "start_time": "2025-03-20T20:35:45.051Z"
   },
   {
    "duration": 3,
    "start_time": "2025-03-20T20:35:55.305Z"
   },
   {
    "duration": 401,
    "start_time": "2025-03-20T20:35:57.194Z"
   },
   {
    "duration": 72,
    "start_time": "2025-03-20T20:36:01.506Z"
   },
   {
    "duration": 8,
    "start_time": "2025-03-20T20:36:05.816Z"
   },
   {
    "duration": 53,
    "start_time": "2025-03-20T20:36:09.372Z"
   },
   {
    "duration": 64,
    "start_time": "2025-03-20T20:36:13.030Z"
   },
   {
    "duration": 25,
    "start_time": "2025-03-20T20:37:54.192Z"
   },
   {
    "duration": 8,
    "start_time": "2025-03-20T20:41:28.350Z"
   },
   {
    "duration": 46,
    "start_time": "2025-03-20T20:52:32.908Z"
   },
   {
    "duration": 24,
    "start_time": "2025-03-20T20:52:46.762Z"
   },
   {
    "duration": 38,
    "start_time": "2025-03-20T20:53:09.968Z"
   },
   {
    "duration": 100,
    "start_time": "2025-03-20T20:53:29.180Z"
   },
   {
    "duration": 22,
    "start_time": "2025-03-20T20:53:40.368Z"
   },
   {
    "duration": 5,
    "start_time": "2025-03-20T20:54:32.643Z"
   },
   {
    "duration": 376,
    "start_time": "2025-03-20T20:54:33.962Z"
   },
   {
    "duration": 41,
    "start_time": "2025-03-20T20:54:35.852Z"
   },
   {
    "duration": 27,
    "start_time": "2025-03-20T20:54:37.055Z"
   },
   {
    "duration": 83,
    "start_time": "2025-03-20T20:54:42.300Z"
   },
   {
    "duration": 2,
    "start_time": "2025-03-20T20:54:45.300Z"
   },
   {
    "duration": 3,
    "start_time": "2025-03-20T20:54:57.499Z"
   },
   {
    "duration": 41,
    "start_time": "2025-03-20T20:57:05.482Z"
   },
   {
    "duration": 28,
    "start_time": "2025-03-20T20:57:24.226Z"
   },
   {
    "duration": 39,
    "start_time": "2025-03-20T20:57:36.680Z"
   },
   {
    "duration": 3,
    "start_time": "2025-03-20T20:57:39.880Z"
   },
   {
    "duration": 52,
    "start_time": "2025-03-20T20:57:54.044Z"
   },
   {
    "duration": 29,
    "start_time": "2025-03-20T20:57:58.425Z"
   },
   {
    "duration": 27,
    "start_time": "2025-03-20T20:58:14.951Z"
   },
   {
    "duration": 7,
    "start_time": "2025-03-21T00:09:32.839Z"
   },
   {
    "duration": 661,
    "start_time": "2025-03-21T00:09:35.060Z"
   },
   {
    "duration": 47,
    "start_time": "2025-03-21T00:09:43.159Z"
   },
   {
    "duration": 9,
    "start_time": "2025-03-21T00:09:46.211Z"
   },
   {
    "duration": 28,
    "start_time": "2025-03-21T00:10:04.492Z"
   },
   {
    "duration": 11,
    "start_time": "2025-03-21T00:10:13.101Z"
   },
   {
    "duration": 20,
    "start_time": "2025-03-21T01:00:32.468Z"
   },
   {
    "duration": 18,
    "start_time": "2025-03-21T01:00:50.636Z"
   },
   {
    "duration": 17,
    "start_time": "2025-03-21T01:33:10.580Z"
   },
   {
    "duration": 35,
    "start_time": "2025-03-21T01:33:24.366Z"
   },
   {
    "duration": 11,
    "start_time": "2025-03-21T01:36:17.036Z"
   },
   {
    "duration": 34,
    "start_time": "2025-03-21T01:39:27.552Z"
   },
   {
    "duration": 614,
    "start_time": "2025-03-21T01:42:01.732Z"
   },
   {
    "duration": 4,
    "start_time": "2025-03-21T01:42:08.052Z"
   },
   {
    "duration": 343,
    "start_time": "2025-03-21T01:42:08.764Z"
   },
   {
    "duration": 25,
    "start_time": "2025-03-21T01:42:09.580Z"
   },
   {
    "duration": 22,
    "start_time": "2025-03-21T01:42:09.759Z"
   },
   {
    "duration": 35,
    "start_time": "2025-03-21T01:42:12.864Z"
   },
   {
    "duration": 18,
    "start_time": "2025-03-21T01:42:13.760Z"
   },
   {
    "duration": 185,
    "start_time": "2025-03-21T01:42:24.113Z"
   },
   {
    "duration": 184,
    "start_time": "2025-03-21T01:42:47.324Z"
   },
   {
    "duration": 10,
    "start_time": "2025-03-21T01:47:18.755Z"
   },
   {
    "duration": 3,
    "start_time": "2025-03-21T01:47:27.643Z"
   },
   {
    "duration": 369,
    "start_time": "2025-03-21T01:47:28.735Z"
   },
   {
    "duration": 27,
    "start_time": "2025-03-21T01:47:34.307Z"
   },
   {
    "duration": 7,
    "start_time": "2025-03-21T01:47:35.286Z"
   },
   {
    "duration": 40,
    "start_time": "2025-03-21T01:47:46.951Z"
   },
   {
    "duration": 14,
    "start_time": "2025-03-21T01:47:49.367Z"
   },
   {
    "duration": 258,
    "start_time": "2025-03-21T01:59:36.859Z"
   },
   {
    "duration": 4,
    "start_time": "2025-03-21T02:09:53.493Z"
   },
   {
    "duration": 3,
    "start_time": "2025-03-21T02:10:34.151Z"
   },
   {
    "duration": 354,
    "start_time": "2025-03-21T02:10:36.229Z"
   },
   {
    "duration": 10,
    "start_time": "2025-03-21T02:24:14.611Z"
   },
   {
    "duration": 7,
    "start_time": "2025-03-21T02:24:43.007Z"
   },
   {
    "duration": 34,
    "start_time": "2025-03-21T02:32:37.047Z"
   },
   {
    "duration": 5,
    "start_time": "2025-03-21T02:32:45.784Z"
   },
   {
    "duration": 9,
    "start_time": "2025-03-21T02:42:58.989Z"
   },
   {
    "duration": 6,
    "start_time": "2025-03-21T02:43:01.399Z"
   },
   {
    "duration": 24,
    "start_time": "2025-03-21T02:50:06.526Z"
   },
   {
    "duration": 20,
    "start_time": "2025-03-21T02:56:23.280Z"
   },
   {
    "duration": 16,
    "start_time": "2025-03-21T03:11:30.854Z"
   },
   {
    "duration": 8,
    "start_time": "2025-03-21T03:12:20.394Z"
   },
   {
    "duration": 2098,
    "start_time": "2025-03-21T14:53:17.466Z"
   },
   {
    "duration": 206,
    "start_time": "2025-03-21T14:53:19.567Z"
   },
   {
    "duration": 10,
    "start_time": "2025-03-21T14:53:19.774Z"
   },
   {
    "duration": 5,
    "start_time": "2025-03-21T14:53:19.786Z"
   },
   {
    "duration": 10,
    "start_time": "2025-03-21T14:53:21.648Z"
   },
   {
    "duration": 9,
    "start_time": "2025-03-21T14:53:22.903Z"
   },
   {
    "duration": 6,
    "start_time": "2025-03-21T14:53:23.813Z"
   },
   {
    "duration": 11,
    "start_time": "2025-03-21T14:53:27.656Z"
   },
   {
    "duration": 11,
    "start_time": "2025-03-21T14:53:35.265Z"
   },
   {
    "duration": 16,
    "start_time": "2025-03-21T14:53:39.512Z"
   },
   {
    "duration": 4,
    "start_time": "2025-03-21T14:53:41.725Z"
   },
   {
    "duration": 12,
    "start_time": "2025-03-21T14:55:44.180Z"
   },
   {
    "duration": 11,
    "start_time": "2025-03-21T14:55:52.103Z"
   },
   {
    "duration": 16,
    "start_time": "2025-03-21T14:55:54.305Z"
   },
   {
    "duration": 5,
    "start_time": "2025-03-21T14:55:55.002Z"
   },
   {
    "duration": 26,
    "start_time": "2025-03-21T15:05:57.605Z"
   },
   {
    "duration": 6,
    "start_time": "2025-03-21T15:06:00.025Z"
   },
   {
    "duration": 13,
    "start_time": "2025-03-21T15:17:02.505Z"
   },
   {
    "duration": 4,
    "start_time": "2025-03-21T15:17:04.412Z"
   },
   {
    "duration": 11,
    "start_time": "2025-03-21T15:26:45.129Z"
   },
   {
    "duration": 513,
    "start_time": "2025-03-21T15:26:48.591Z"
   },
   {
    "duration": 21,
    "start_time": "2025-03-21T15:31:53.481Z"
   },
   {
    "duration": 11,
    "start_time": "2025-03-21T15:34:35.033Z"
   },
   {
    "duration": 13,
    "start_time": "2025-03-21T15:37:06.855Z"
   },
   {
    "duration": 12,
    "start_time": "2025-03-21T15:37:33.362Z"
   },
   {
    "duration": 23,
    "start_time": "2025-03-21T15:38:35.459Z"
   },
   {
    "duration": 14,
    "start_time": "2025-03-21T15:38:55.710Z"
   },
   {
    "duration": 12,
    "start_time": "2025-03-21T15:40:19.009Z"
   },
   {
    "duration": 13,
    "start_time": "2025-03-21T15:42:35.358Z"
   },
   {
    "duration": 5,
    "start_time": "2025-03-21T15:42:38.078Z"
   },
   {
    "duration": 15,
    "start_time": "2025-03-21T15:47:54.724Z"
   },
   {
    "duration": 18,
    "start_time": "2025-03-21T15:49:00.477Z"
   },
   {
    "duration": 19,
    "start_time": "2025-03-21T15:55:40.098Z"
   },
   {
    "duration": 19,
    "start_time": "2025-03-21T15:55:52.697Z"
   },
   {
    "duration": 17,
    "start_time": "2025-03-21T15:56:07.038Z"
   },
   {
    "duration": 20,
    "start_time": "2025-03-21T15:56:33.107Z"
   },
   {
    "duration": 16,
    "start_time": "2025-03-21T15:56:56.108Z"
   },
   {
    "duration": 7,
    "start_time": "2025-03-21T15:57:25.442Z"
   },
   {
    "duration": 5,
    "start_time": "2025-03-21T15:57:46.909Z"
   },
   {
    "duration": 2,
    "start_time": "2025-03-21T16:12:54.791Z"
   },
   {
    "duration": 155,
    "start_time": "2025-03-21T16:12:55.758Z"
   },
   {
    "duration": 10,
    "start_time": "2025-03-21T16:12:57.678Z"
   },
   {
    "duration": 5,
    "start_time": "2025-03-21T16:12:58.671Z"
   },
   {
    "duration": 8,
    "start_time": "2025-03-21T16:13:16.414Z"
   },
   {
    "duration": 9,
    "start_time": "2025-03-21T16:13:23.295Z"
   },
   {
    "duration": 6,
    "start_time": "2025-03-21T16:13:27.568Z"
   },
   {
    "duration": 13,
    "start_time": "2025-03-21T16:13:34.903Z"
   },
   {
    "duration": 11,
    "start_time": "2025-03-21T16:13:43.724Z"
   },
   {
    "duration": 10,
    "start_time": "2025-03-21T16:14:00.198Z"
   },
   {
    "duration": 14,
    "start_time": "2025-03-21T16:14:05.602Z"
   },
   {
    "duration": 16,
    "start_time": "2025-03-21T16:14:27.393Z"
   },
   {
    "duration": 5,
    "start_time": "2025-03-21T16:14:29.113Z"
   },
   {
    "duration": 25,
    "start_time": "2025-03-21T16:15:01.180Z"
   },
   {
    "duration": 13,
    "start_time": "2025-03-21T16:15:08.835Z"
   },
   {
    "duration": 12,
    "start_time": "2025-03-21T16:15:15.169Z"
   },
   {
    "duration": 5,
    "start_time": "2025-03-21T16:15:16.697Z"
   },
   {
    "duration": 15,
    "start_time": "2025-03-21T16:15:23.273Z"
   },
   {
    "duration": 18,
    "start_time": "2025-03-21T16:15:44.573Z"
   },
   {
    "duration": 10,
    "start_time": "2025-03-21T16:16:21.632Z"
   },
   {
    "duration": 10,
    "start_time": "2025-03-21T16:16:58.718Z"
   },
   {
    "duration": 15,
    "start_time": "2025-03-21T16:17:14.807Z"
   },
   {
    "duration": 5,
    "start_time": "2025-03-21T16:17:17.970Z"
   },
   {
    "duration": 22,
    "start_time": "2025-03-21T16:17:57.634Z"
   },
   {
    "duration": 20,
    "start_time": "2025-03-21T16:18:11.091Z"
   },
   {
    "duration": 24,
    "start_time": "2025-03-21T16:26:21.578Z"
   },
   {
    "duration": 18,
    "start_time": "2025-03-21T16:26:52.447Z"
   },
   {
    "duration": 26,
    "start_time": "2025-03-21T16:27:29.093Z"
   },
   {
    "duration": 5,
    "start_time": "2025-03-21T16:28:07.915Z"
   },
   {
    "duration": 27,
    "start_time": "2025-03-21T16:28:38.583Z"
   },
   {
    "duration": 9,
    "start_time": "2025-03-21T16:29:07.442Z"
   },
   {
    "duration": 26,
    "start_time": "2025-03-21T16:29:23.583Z"
   },
   {
    "duration": 25,
    "start_time": "2025-03-21T16:29:35.388Z"
   },
   {
    "duration": 7,
    "start_time": "2025-03-21T16:29:39.868Z"
   },
   {
    "duration": 2,
    "start_time": "2025-03-21T16:37:12.561Z"
   },
   {
    "duration": 151,
    "start_time": "2025-03-21T16:37:16.069Z"
   },
   {
    "duration": 25,
    "start_time": "2025-03-21T16:37:22.487Z"
   },
   {
    "duration": 7,
    "start_time": "2025-03-21T16:37:27.681Z"
   },
   {
    "duration": 273,
    "start_time": "2025-03-21T16:51:25.878Z"
   },
   {
    "duration": 9,
    "start_time": "2025-03-21T16:51:32.255Z"
   },
   {
    "duration": 10,
    "start_time": "2025-03-21T16:51:51.080Z"
   },
   {
    "duration": 2,
    "start_time": "2025-03-21T16:52:54.573Z"
   },
   {
    "duration": 169,
    "start_time": "2025-03-21T16:52:58.263Z"
   },
   {
    "duration": 23,
    "start_time": "2025-03-21T16:53:02.411Z"
   },
   {
    "duration": 7,
    "start_time": "2025-03-21T16:53:06.357Z"
   },
   {
    "duration": 9,
    "start_time": "2025-03-21T16:59:02.842Z"
   },
   {
    "duration": 207,
    "start_time": "2025-03-21T17:04:28.797Z"
   },
   {
    "duration": 39,
    "start_time": "2025-03-21T17:05:13.085Z"
   },
   {
    "duration": 2,
    "start_time": "2025-03-21T17:05:20.016Z"
   },
   {
    "duration": 172,
    "start_time": "2025-03-21T17:05:21.792Z"
   },
   {
    "duration": 25,
    "start_time": "2025-03-21T17:05:23.825Z"
   },
   {
    "duration": 7,
    "start_time": "2025-03-21T17:05:26.204Z"
   },
   {
    "duration": 9,
    "start_time": "2025-03-21T17:05:58.472Z"
   },
   {
    "duration": 9,
    "start_time": "2025-03-21T17:06:41.638Z"
   },
   {
    "duration": 2105,
    "start_time": "2025-03-24T16:01:01.237Z"
   },
   {
    "duration": 227,
    "start_time": "2025-03-24T16:01:05.015Z"
   },
   {
    "duration": 30,
    "start_time": "2025-03-24T16:01:10.877Z"
   },
   {
    "duration": 8,
    "start_time": "2025-03-24T16:01:14.633Z"
   },
   {
    "duration": 10,
    "start_time": "2025-03-24T16:01:24.065Z"
   },
   {
    "duration": 9,
    "start_time": "2025-03-24T16:01:27.019Z"
   },
   {
    "duration": 22,
    "start_time": "2025-03-24T16:02:53.233Z"
   },
   {
    "duration": 5,
    "start_time": "2025-03-24T16:03:33.307Z"
   },
   {
    "duration": 11,
    "start_time": "2025-03-24T16:12:54.459Z"
   },
   {
    "duration": 11,
    "start_time": "2025-03-24T16:12:57.523Z"
   },
   {
    "duration": 28,
    "start_time": "2025-03-24T16:15:06.146Z"
   },
   {
    "duration": 26,
    "start_time": "2025-03-24T16:15:59.613Z"
   },
   {
    "duration": 5,
    "start_time": "2025-03-24T16:16:05.308Z"
   },
   {
    "duration": 28,
    "start_time": "2025-03-24T16:36:05.733Z"
   },
   {
    "duration": 16,
    "start_time": "2025-03-24T16:36:09.823Z"
   },
   {
    "duration": 18,
    "start_time": "2025-03-24T16:49:31.043Z"
   },
   {
    "duration": 6,
    "start_time": "2025-03-24T16:49:42.968Z"
   },
   {
    "duration": 18,
    "start_time": "2025-03-24T16:53:50.175Z"
   },
   {
    "duration": 14,
    "start_time": "2025-03-24T16:53:54.914Z"
   },
   {
    "duration": 25,
    "start_time": "2025-03-24T16:56:28.515Z"
   },
   {
    "duration": 5,
    "start_time": "2025-03-24T16:56:40.280Z"
   },
   {
    "duration": 23,
    "start_time": "2025-03-24T16:59:09.712Z"
   },
   {
    "duration": 21,
    "start_time": "2025-03-24T16:59:13.485Z"
   },
   {
    "duration": 5,
    "start_time": "2025-03-24T18:01:23.301Z"
   },
   {
    "duration": 24,
    "start_time": "2025-03-24T18:15:06.819Z"
   },
   {
    "duration": 96,
    "start_time": "2025-03-24T18:24:29.832Z"
   },
   {
    "duration": 29,
    "start_time": "2025-03-24T18:25:14.478Z"
   },
   {
    "duration": 12,
    "start_time": "2025-03-24T18:36:39.430Z"
   },
   {
    "duration": 12,
    "start_time": "2025-03-24T18:36:58.876Z"
   },
   {
    "duration": 2,
    "start_time": "2025-03-24T18:37:50.152Z"
   },
   {
    "duration": 159,
    "start_time": "2025-03-24T18:37:51.055Z"
   },
   {
    "duration": 33,
    "start_time": "2025-03-24T18:37:51.826Z"
   },
   {
    "duration": 7,
    "start_time": "2025-03-24T18:37:52.144Z"
   },
   {
    "duration": 11,
    "start_time": "2025-03-24T18:37:52.979Z"
   },
   {
    "duration": 8,
    "start_time": "2025-03-24T18:37:53.556Z"
   },
   {
    "duration": 19,
    "start_time": "2025-03-24T18:37:54.048Z"
   },
   {
    "duration": 6,
    "start_time": "2025-03-24T18:37:54.268Z"
   },
   {
    "duration": 14,
    "start_time": "2025-03-24T18:37:55.416Z"
   },
   {
    "duration": 10,
    "start_time": "2025-03-24T18:37:57.984Z"
   },
   {
    "duration": 28,
    "start_time": "2025-03-24T18:37:59.196Z"
   },
   {
    "duration": 5,
    "start_time": "2025-03-24T18:37:59.786Z"
   },
   {
    "duration": 30,
    "start_time": "2025-03-24T18:38:02.570Z"
   },
   {
    "duration": 14,
    "start_time": "2025-03-24T18:38:04.471Z"
   },
   {
    "duration": 18,
    "start_time": "2025-03-24T18:38:06.163Z"
   },
   {
    "duration": 4,
    "start_time": "2025-03-24T18:38:06.774Z"
   },
   {
    "duration": 18,
    "start_time": "2025-03-24T18:38:09.086Z"
   },
   {
    "duration": 11,
    "start_time": "2025-03-24T18:38:11.501Z"
   },
   {
    "duration": 25,
    "start_time": "2025-03-24T18:38:12.670Z"
   },
   {
    "duration": 5,
    "start_time": "2025-03-24T18:38:13.378Z"
   },
   {
    "duration": 22,
    "start_time": "2025-03-24T18:38:17.045Z"
   },
   {
    "duration": 19,
    "start_time": "2025-03-24T18:38:20.242Z"
   },
   {
    "duration": 4,
    "start_time": "2025-03-24T18:38:29.477Z"
   },
   {
    "duration": 23,
    "start_time": "2025-03-24T19:26:08.088Z"
   },
   {
    "duration": 32,
    "start_time": "2025-03-24T19:26:59.824Z"
   },
   {
    "duration": 37,
    "start_time": "2025-03-24T19:27:37.413Z"
   },
   {
    "duration": 41,
    "start_time": "2025-03-24T19:29:48.904Z"
   },
   {
    "duration": 44,
    "start_time": "2025-03-24T19:30:04.275Z"
   },
   {
    "duration": 46,
    "start_time": "2025-03-24T19:30:11.032Z"
   },
   {
    "duration": 34,
    "start_time": "2025-03-24T19:30:35.503Z"
   },
   {
    "duration": 317,
    "start_time": "2025-03-24T19:32:36.370Z"
   },
   {
    "duration": 8,
    "start_time": "2025-03-24T19:38:10.214Z"
   },
   {
    "duration": 5,
    "start_time": "2025-03-24T19:38:43.851Z"
   },
   {
    "duration": 575,
    "start_time": "2025-03-24T19:40:01.664Z"
   },
   {
    "duration": 44,
    "start_time": "2025-03-24T19:44:16.170Z"
   },
   {
    "duration": 53,
    "start_time": "2025-03-24T19:44:59.794Z"
   },
   {
    "duration": 58,
    "start_time": "2025-03-24T19:49:12.627Z"
   },
   {
    "duration": 2,
    "start_time": "2025-03-24T19:49:33.110Z"
   },
   {
    "duration": 156,
    "start_time": "2025-03-24T19:49:33.798Z"
   },
   {
    "duration": 25,
    "start_time": "2025-03-24T19:49:34.873Z"
   },
   {
    "duration": 7,
    "start_time": "2025-03-24T19:49:35.054Z"
   },
   {
    "duration": 10,
    "start_time": "2025-03-24T19:49:35.854Z"
   },
   {
    "duration": 10,
    "start_time": "2025-03-24T19:49:36.382Z"
   },
   {
    "duration": 16,
    "start_time": "2025-03-24T19:49:36.795Z"
   },
   {
    "duration": 6,
    "start_time": "2025-03-24T19:49:36.989Z"
   },
   {
    "duration": 15,
    "start_time": "2025-03-24T19:49:37.899Z"
   },
   {
    "duration": 11,
    "start_time": "2025-03-24T19:49:38.718Z"
   },
   {
    "duration": 29,
    "start_time": "2025-03-24T19:49:39.429Z"
   },
   {
    "duration": 5,
    "start_time": "2025-03-24T19:49:39.657Z"
   },
   {
    "duration": 26,
    "start_time": "2025-03-24T19:49:40.957Z"
   },
   {
    "duration": 15,
    "start_time": "2025-03-24T19:49:41.597Z"
   },
   {
    "duration": 18,
    "start_time": "2025-03-24T19:49:42.578Z"
   },
   {
    "duration": 4,
    "start_time": "2025-03-24T19:49:43.296Z"
   },
   {
    "duration": 19,
    "start_time": "2025-03-24T19:49:46.299Z"
   },
   {
    "duration": 11,
    "start_time": "2025-03-24T19:49:49.179Z"
   },
   {
    "duration": 26,
    "start_time": "2025-03-24T19:49:53.409Z"
   },
   {
    "duration": 5,
    "start_time": "2025-03-24T19:49:54.283Z"
   },
   {
    "duration": 21,
    "start_time": "2025-03-24T19:49:58.840Z"
   },
   {
    "duration": 20,
    "start_time": "2025-03-24T19:50:02.872Z"
   },
   {
    "duration": 5,
    "start_time": "2025-03-24T19:50:07.503Z"
   },
   {
    "duration": 109,
    "start_time": "2025-03-24T19:50:12.068Z"
   },
   {
    "duration": 57,
    "start_time": "2025-03-24T19:50:14.686Z"
   },
   {
    "duration": 51,
    "start_time": "2025-03-24T19:51:08.383Z"
   },
   {
    "duration": 3,
    "start_time": "2025-03-24T19:51:17.333Z"
   },
   {
    "duration": 144,
    "start_time": "2025-03-24T19:51:18.044Z"
   },
   {
    "duration": 24,
    "start_time": "2025-03-24T19:51:18.809Z"
   },
   {
    "duration": 9,
    "start_time": "2025-03-24T19:51:19.027Z"
   },
   {
    "duration": 10,
    "start_time": "2025-03-24T19:51:19.773Z"
   },
   {
    "duration": 9,
    "start_time": "2025-03-24T19:51:20.341Z"
   },
   {
    "duration": 16,
    "start_time": "2025-03-24T19:51:20.685Z"
   },
   {
    "duration": 5,
    "start_time": "2025-03-24T19:51:20.873Z"
   },
   {
    "duration": 12,
    "start_time": "2025-03-24T19:51:21.630Z"
   },
   {
    "duration": 11,
    "start_time": "2025-03-24T19:51:22.189Z"
   },
   {
    "duration": 28,
    "start_time": "2025-03-24T19:51:22.580Z"
   },
   {
    "duration": 4,
    "start_time": "2025-03-24T19:51:22.859Z"
   },
   {
    "duration": 25,
    "start_time": "2025-03-24T19:51:23.533Z"
   },
   {
    "duration": 13,
    "start_time": "2025-03-24T19:51:24.148Z"
   },
   {
    "duration": 18,
    "start_time": "2025-03-24T19:51:24.536Z"
   },
   {
    "duration": 4,
    "start_time": "2025-03-24T19:51:24.749Z"
   },
   {
    "duration": 18,
    "start_time": "2025-03-24T19:51:25.746Z"
   },
   {
    "duration": 11,
    "start_time": "2025-03-24T19:51:26.517Z"
   },
   {
    "duration": 24,
    "start_time": "2025-03-24T19:51:26.932Z"
   },
   {
    "duration": 4,
    "start_time": "2025-03-24T19:51:27.141Z"
   },
   {
    "duration": 22,
    "start_time": "2025-03-24T19:51:28.220Z"
   },
   {
    "duration": 20,
    "start_time": "2025-03-24T19:51:31.161Z"
   },
   {
    "duration": 5,
    "start_time": "2025-03-24T19:51:35.408Z"
   },
   {
    "duration": 36,
    "start_time": "2025-03-24T19:51:38.332Z"
   },
   {
    "duration": 37,
    "start_time": "2025-03-24T19:51:56.914Z"
   },
   {
    "duration": 3,
    "start_time": "2025-03-24T20:13:22.494Z"
   },
   {
    "duration": 159,
    "start_time": "2025-03-24T20:13:23.092Z"
   },
   {
    "duration": 25,
    "start_time": "2025-03-24T20:13:23.980Z"
   },
   {
    "duration": 7,
    "start_time": "2025-03-24T20:13:24.221Z"
   },
   {
    "duration": 9,
    "start_time": "2025-03-24T20:13:24.992Z"
   },
   {
    "duration": 9,
    "start_time": "2025-03-24T20:13:25.699Z"
   },
   {
    "duration": 16,
    "start_time": "2025-03-24T20:13:26.588Z"
   },
   {
    "duration": 9,
    "start_time": "2025-03-24T20:13:26.797Z"
   },
   {
    "duration": 12,
    "start_time": "2025-03-24T20:13:27.673Z"
   },
   {
    "duration": 12,
    "start_time": "2025-03-24T20:13:28.283Z"
   },
   {
    "duration": 27,
    "start_time": "2025-03-24T20:13:28.760Z"
   },
   {
    "duration": 5,
    "start_time": "2025-03-24T20:13:29.276Z"
   },
   {
    "duration": 25,
    "start_time": "2025-03-24T20:13:30.428Z"
   },
   {
    "duration": 3,
    "start_time": "2025-03-24T20:13:57.432Z"
   },
   {
    "duration": 166,
    "start_time": "2025-03-24T20:13:57.868Z"
   },
   {
    "duration": 26,
    "start_time": "2025-03-24T20:13:59.015Z"
   },
   {
    "duration": 8,
    "start_time": "2025-03-24T20:13:59.193Z"
   },
   {
    "duration": 10,
    "start_time": "2025-03-24T20:14:00.084Z"
   },
   {
    "duration": 8,
    "start_time": "2025-03-24T20:14:00.697Z"
   },
   {
    "duration": 16,
    "start_time": "2025-03-24T20:14:01.301Z"
   },
   {
    "duration": 5,
    "start_time": "2025-03-24T20:14:01.645Z"
   },
   {
    "duration": 12,
    "start_time": "2025-03-24T20:14:02.755Z"
   },
   {
    "duration": 12,
    "start_time": "2025-03-24T20:14:04.105Z"
   },
   {
    "duration": 29,
    "start_time": "2025-03-24T20:14:04.987Z"
   },
   {
    "duration": 5,
    "start_time": "2025-03-24T20:14:05.227Z"
   },
   {
    "duration": 25,
    "start_time": "2025-03-24T20:14:06.129Z"
   },
   {
    "duration": 13,
    "start_time": "2025-03-24T20:14:06.985Z"
   },
   {
    "duration": 19,
    "start_time": "2025-03-24T20:14:07.483Z"
   },
   {
    "duration": 4,
    "start_time": "2025-03-24T20:14:07.668Z"
   },
   {
    "duration": 18,
    "start_time": "2025-03-24T20:14:08.700Z"
   },
   {
    "duration": 10,
    "start_time": "2025-03-24T20:14:09.364Z"
   },
   {
    "duration": 25,
    "start_time": "2025-03-24T20:14:09.791Z"
   },
   {
    "duration": 4,
    "start_time": "2025-03-24T20:14:10.034Z"
   },
   {
    "duration": 21,
    "start_time": "2025-03-24T20:14:12.416Z"
   },
   {
    "duration": 18,
    "start_time": "2025-03-24T20:14:13.031Z"
   },
   {
    "duration": 5,
    "start_time": "2025-03-24T20:14:18.196Z"
   },
   {
    "duration": 37,
    "start_time": "2025-03-24T20:48:48.156Z"
   },
   {
    "duration": 20,
    "start_time": "2025-03-24T22:00:38.992Z"
   },
   {
    "duration": 2,
    "start_time": "2025-03-24T22:01:21.326Z"
   },
   {
    "duration": 158,
    "start_time": "2025-03-24T22:01:21.720Z"
   },
   {
    "duration": 28,
    "start_time": "2025-03-24T22:01:22.489Z"
   },
   {
    "duration": 8,
    "start_time": "2025-03-24T22:01:22.622Z"
   },
   {
    "duration": 10,
    "start_time": "2025-03-24T22:01:23.425Z"
   },
   {
    "duration": 10,
    "start_time": "2025-03-24T22:01:24.041Z"
   },
   {
    "duration": 16,
    "start_time": "2025-03-24T22:01:24.446Z"
   },
   {
    "duration": 6,
    "start_time": "2025-03-24T22:01:24.621Z"
   },
   {
    "duration": 14,
    "start_time": "2025-03-24T22:01:25.432Z"
   },
   {
    "duration": 12,
    "start_time": "2025-03-24T22:01:26.089Z"
   },
   {
    "duration": 29,
    "start_time": "2025-03-24T22:01:26.494Z"
   },
   {
    "duration": 5,
    "start_time": "2025-03-24T22:01:26.734Z"
   },
   {
    "duration": 26,
    "start_time": "2025-03-24T22:01:27.653Z"
   },
   {
    "duration": 13,
    "start_time": "2025-03-24T22:01:28.135Z"
   },
   {
    "duration": 20,
    "start_time": "2025-03-24T22:01:28.619Z"
   },
   {
    "duration": 4,
    "start_time": "2025-03-24T22:01:28.743Z"
   },
   {
    "duration": 19,
    "start_time": "2025-03-24T22:01:29.580Z"
   },
   {
    "duration": 13,
    "start_time": "2025-03-24T22:01:30.271Z"
   },
   {
    "duration": 27,
    "start_time": "2025-03-24T22:01:30.981Z"
   },
   {
    "duration": 5,
    "start_time": "2025-03-24T22:01:31.276Z"
   },
   {
    "duration": 21,
    "start_time": "2025-03-24T22:01:34.566Z"
   },
   {
    "duration": 19,
    "start_time": "2025-03-24T22:01:36.183Z"
   },
   {
    "duration": 4,
    "start_time": "2025-03-24T22:01:38.162Z"
   },
   {
    "duration": 39,
    "start_time": "2025-03-24T22:01:42.257Z"
   },
   {
    "duration": 28,
    "start_time": "2025-03-24T22:01:43.787Z"
   },
   {
    "duration": 13,
    "start_time": "2025-03-24T22:07:05.756Z"
   },
   {
    "duration": 15,
    "start_time": "2025-03-24T22:12:28.981Z"
   },
   {
    "duration": 2,
    "start_time": "2025-03-25T19:25:59.111Z"
   },
   {
    "duration": 165,
    "start_time": "2025-03-25T19:27:20.755Z"
   },
   {
    "duration": 35,
    "start_time": "2025-03-25T19:29:12.551Z"
   },
   {
    "duration": 5,
    "start_time": "2025-03-25T19:30:56.899Z"
   },
   {
    "duration": 6,
    "start_time": "2025-03-25T19:31:44.820Z"
   },
   {
    "duration": 25,
    "start_time": "2025-03-25T19:40:14.031Z"
   },
   {
    "duration": 5,
    "start_time": "2025-03-25T19:40:18.258Z"
   },
   {
    "duration": 17,
    "start_time": "2025-03-25T19:40:31.629Z"
   },
   {
    "duration": 6,
    "start_time": "2025-03-25T19:40:33.074Z"
   },
   {
    "duration": 3,
    "start_time": "2025-03-25T19:47:29.786Z"
   },
   {
    "duration": 262,
    "start_time": "2025-03-25T19:47:30.991Z"
   },
   {
    "duration": 28,
    "start_time": "2025-03-25T19:47:33.685Z"
   },
   {
    "duration": 5,
    "start_time": "2025-03-25T19:47:35.960Z"
   },
   {
    "duration": 18,
    "start_time": "2025-03-25T19:47:48.713Z"
   },
   {
    "duration": 7,
    "start_time": "2025-03-25T19:47:52.483Z"
   },
   {
    "duration": 23,
    "start_time": "2025-03-25T19:47:59.316Z"
   },
   {
    "duration": 45,
    "start_time": "2025-03-25T19:48:15.921Z"
   },
   {
    "duration": 5,
    "start_time": "2025-03-25T19:48:26.086Z"
   },
   {
    "duration": 8,
    "start_time": "2025-03-25T19:48:55.305Z"
   },
   {
    "duration": 39,
    "start_time": "2025-03-25T19:51:39.586Z"
   },
   {
    "duration": 19,
    "start_time": "2025-03-25T19:53:40.674Z"
   },
   {
    "duration": 31,
    "start_time": "2025-03-25T19:54:35.377Z"
   },
   {
    "duration": 5,
    "start_time": "2025-03-25T19:54:41.554Z"
   },
   {
    "duration": 31,
    "start_time": "2025-03-25T20:20:32.181Z"
   },
   {
    "duration": 527,
    "start_time": "2025-03-25T20:24:55.402Z"
   },
   {
    "duration": 14,
    "start_time": "2025-03-25T20:27:32.549Z"
   },
   {
    "duration": 3,
    "start_time": "2025-03-25T20:27:39.073Z"
   },
   {
    "duration": 168,
    "start_time": "2025-03-25T20:27:41.581Z"
   },
   {
    "duration": 29,
    "start_time": "2025-03-25T20:27:44.538Z"
   },
   {
    "duration": 6,
    "start_time": "2025-03-25T20:27:49.492Z"
   },
   {
    "duration": 13,
    "start_time": "2025-03-25T20:28:20.799Z"
   },
   {
    "duration": 7,
    "start_time": "2025-03-25T20:28:36.194Z"
   },
   {
    "duration": 9,
    "start_time": "2025-03-25T20:33:28.789Z"
   },
   {
    "duration": 9,
    "start_time": "2025-03-25T20:33:40.008Z"
   },
   {
    "duration": 21,
    "start_time": "2025-03-25T20:33:41.729Z"
   },
   {
    "duration": 6,
    "start_time": "2025-03-25T20:33:42.252Z"
   },
   {
    "duration": 13,
    "start_time": "2025-03-25T20:33:44.212Z"
   },
   {
    "duration": 29,
    "start_time": "2025-03-25T20:33:45.967Z"
   },
   {
    "duration": 5,
    "start_time": "2025-03-25T20:33:46.655Z"
   },
   {
    "duration": 43,
    "start_time": "2025-03-25T20:33:49.106Z"
   },
   {
    "duration": 24,
    "start_time": "2025-03-25T20:33:53.091Z"
   },
   {
    "duration": 6,
    "start_time": "2025-03-25T20:33:54.175Z"
   },
   {
    "duration": 25,
    "start_time": "2025-03-25T20:34:03.461Z"
   },
   {
    "duration": 35,
    "start_time": "2025-03-25T20:34:09.955Z"
   },
   {
    "duration": 7,
    "start_time": "2025-03-25T20:34:11.027Z"
   },
   {
    "duration": 33,
    "start_time": "2025-03-25T20:34:15.057Z"
   },
   {
    "duration": 5,
    "start_time": "2025-03-25T20:34:24.149Z"
   },
   {
    "duration": 48,
    "start_time": "2025-03-25T20:40:45.113Z"
   },
   {
    "duration": 2,
    "start_time": "2025-03-25T20:42:50.958Z"
   },
   {
    "duration": 233,
    "start_time": "2025-03-25T20:42:51.388Z"
   },
   {
    "duration": 39,
    "start_time": "2025-03-25T20:42:52.121Z"
   },
   {
    "duration": 11,
    "start_time": "2025-03-25T20:42:52.333Z"
   },
   {
    "duration": 10,
    "start_time": "2025-03-25T20:42:53.064Z"
   },
   {
    "duration": 17,
    "start_time": "2025-03-25T20:42:53.693Z"
   },
   {
    "duration": 19,
    "start_time": "2025-03-25T20:42:54.069Z"
   },
   {
    "duration": 6,
    "start_time": "2025-03-25T20:42:54.277Z"
   },
   {
    "duration": 15,
    "start_time": "2025-03-25T20:42:55.088Z"
   },
   {
    "duration": 43,
    "start_time": "2025-03-25T20:42:56.145Z"
   },
   {
    "duration": 7,
    "start_time": "2025-03-25T20:42:56.359Z"
   },
   {
    "duration": 42,
    "start_time": "2025-03-25T20:42:57.834Z"
   },
   {
    "duration": 27,
    "start_time": "2025-03-25T20:42:59.329Z"
   },
   {
    "duration": 5,
    "start_time": "2025-03-25T20:42:59.545Z"
   },
   {
    "duration": 27,
    "start_time": "2025-03-25T20:43:00.398Z"
   },
   {
    "duration": 40,
    "start_time": "2025-03-25T20:43:02.242Z"
   },
   {
    "duration": 5,
    "start_time": "2025-03-25T20:43:02.738Z"
   },
   {
    "duration": 34,
    "start_time": "2025-03-25T20:43:05.494Z"
   },
   {
    "duration": 5,
    "start_time": "2025-03-25T20:43:12.761Z"
   },
   {
    "duration": 52,
    "start_time": "2025-03-25T20:43:34.518Z"
   },
   {
    "duration": 42,
    "start_time": "2025-03-25T20:47:59.704Z"
   },
   {
    "duration": 2,
    "start_time": "2025-03-25T20:48:19.699Z"
   },
   {
    "duration": 167,
    "start_time": "2025-03-25T20:48:20.148Z"
   },
   {
    "duration": 26,
    "start_time": "2025-03-25T20:48:20.929Z"
   },
   {
    "duration": 7,
    "start_time": "2025-03-25T20:48:21.161Z"
   },
   {
    "duration": 16,
    "start_time": "2025-03-25T20:48:21.886Z"
   },
   {
    "duration": 11,
    "start_time": "2025-03-25T20:48:22.442Z"
   },
   {
    "duration": 18,
    "start_time": "2025-03-25T20:48:22.827Z"
   },
   {
    "duration": 5,
    "start_time": "2025-03-25T20:48:23.043Z"
   },
   {
    "duration": 16,
    "start_time": "2025-03-25T20:48:23.824Z"
   },
   {
    "duration": 32,
    "start_time": "2025-03-25T20:48:24.789Z"
   },
   {
    "duration": 6,
    "start_time": "2025-03-25T20:48:24.993Z"
   },
   {
    "duration": 27,
    "start_time": "2025-03-25T20:48:25.788Z"
   },
   {
    "duration": 20,
    "start_time": "2025-03-25T20:48:26.808Z"
   },
   {
    "duration": 5,
    "start_time": "2025-03-25T20:48:27.011Z"
   },
   {
    "duration": 23,
    "start_time": "2025-03-25T20:48:27.814Z"
   },
   {
    "duration": 27,
    "start_time": "2025-03-25T20:48:28.877Z"
   },
   {
    "duration": 7,
    "start_time": "2025-03-25T20:48:29.022Z"
   },
   {
    "duration": 34,
    "start_time": "2025-03-25T20:48:29.858Z"
   },
   {
    "duration": 5,
    "start_time": "2025-03-25T20:48:32.751Z"
   },
   {
    "duration": 43,
    "start_time": "2025-03-25T20:48:37.106Z"
   },
   {
    "duration": 26,
    "start_time": "2025-03-25T20:48:38.286Z"
   },
   {
    "duration": 3,
    "start_time": "2025-03-25T20:53:11.839Z"
   },
   {
    "duration": 175,
    "start_time": "2025-03-25T20:53:12.861Z"
   },
   {
    "duration": 26,
    "start_time": "2025-03-25T20:53:14.328Z"
   },
   {
    "duration": 5,
    "start_time": "2025-03-25T20:53:14.571Z"
   },
   {
    "duration": 10,
    "start_time": "2025-03-25T20:53:16.434Z"
   },
   {
    "duration": 11,
    "start_time": "2025-03-25T20:53:18.795Z"
   },
   {
    "duration": 19,
    "start_time": "2025-03-25T20:53:21.588Z"
   },
   {
    "duration": 9,
    "start_time": "2025-03-25T20:53:23.081Z"
   },
   {
    "duration": 12,
    "start_time": "2025-03-25T20:53:26.101Z"
   },
   {
    "duration": 33,
    "start_time": "2025-03-25T20:53:34.008Z"
   },
   {
    "duration": 7,
    "start_time": "2025-03-25T20:53:38.425Z"
   },
   {
    "duration": 27,
    "start_time": "2025-03-25T20:53:41.702Z"
   },
   {
    "duration": 10,
    "start_time": "2025-03-25T20:53:46.309Z"
   },
   {
    "duration": 2,
    "start_time": "2025-03-25T22:04:41.980Z"
   },
   {
    "duration": 149,
    "start_time": "2025-03-25T22:04:42.352Z"
   },
   {
    "duration": 30,
    "start_time": "2025-03-25T22:04:43.144Z"
   },
   {
    "duration": 5,
    "start_time": "2025-03-25T22:04:43.343Z"
   },
   {
    "duration": 7,
    "start_time": "2025-03-25T22:04:44.089Z"
   },
   {
    "duration": 9,
    "start_time": "2025-03-25T22:04:44.729Z"
   },
   {
    "duration": 16,
    "start_time": "2025-03-25T22:04:45.265Z"
   },
   {
    "duration": 6,
    "start_time": "2025-03-25T22:04:45.639Z"
   },
   {
    "duration": 11,
    "start_time": "2025-03-25T22:04:46.781Z"
   },
   {
    "duration": 29,
    "start_time": "2025-03-25T22:04:49.379Z"
   },
   {
    "duration": 5,
    "start_time": "2025-03-25T22:04:49.987Z"
   },
   {
    "duration": 25,
    "start_time": "2025-03-25T22:04:52.799Z"
   },
   {
    "duration": 19,
    "start_time": "2025-03-25T22:04:57.161Z"
   },
   {
    "duration": 20,
    "start_time": "2025-03-25T22:15:32.109Z"
   },
   {
    "duration": 4,
    "start_time": "2025-03-25T22:15:36.154Z"
   },
   {
    "duration": 18,
    "start_time": "2025-03-25T22:15:42.413Z"
   },
   {
    "duration": 15,
    "start_time": "2025-03-25T22:16:37.799Z"
   },
   {
    "duration": 26,
    "start_time": "2025-03-25T22:18:04.997Z"
   },
   {
    "duration": 5,
    "start_time": "2025-03-25T22:18:07.614Z"
   },
   {
    "duration": 22,
    "start_time": "2025-03-25T22:18:13.408Z"
   },
   {
    "duration": 5,
    "start_time": "2025-03-25T22:19:00.960Z"
   },
   {
    "duration": 31,
    "start_time": "2025-03-25T22:19:04.357Z"
   },
   {
    "duration": 25,
    "start_time": "2025-03-25T22:19:14.992Z"
   },
   {
    "duration": 13,
    "start_time": "2025-03-25T22:19:21.587Z"
   },
   {
    "duration": 6,
    "start_time": "2025-03-25T22:19:33.524Z"
   },
   {
    "duration": 3,
    "start_time": "2025-03-25T22:20:04.682Z"
   },
   {
    "duration": 152,
    "start_time": "2025-03-25T22:20:05.064Z"
   },
   {
    "duration": 26,
    "start_time": "2025-03-25T22:20:05.798Z"
   },
   {
    "duration": 5,
    "start_time": "2025-03-25T22:20:05.961Z"
   },
   {
    "duration": 6,
    "start_time": "2025-03-25T22:20:06.768Z"
   },
   {
    "duration": 9,
    "start_time": "2025-03-25T22:20:07.337Z"
   },
   {
    "duration": 16,
    "start_time": "2025-03-25T22:20:07.775Z"
   },
   {
    "duration": 5,
    "start_time": "2025-03-25T22:20:07.988Z"
   },
   {
    "duration": 12,
    "start_time": "2025-03-25T22:20:08.809Z"
   },
   {
    "duration": 27,
    "start_time": "2025-03-25T22:20:10.116Z"
   },
   {
    "duration": 5,
    "start_time": "2025-03-25T22:20:10.334Z"
   },
   {
    "duration": 26,
    "start_time": "2025-03-25T22:20:11.156Z"
   },
   {
    "duration": 19,
    "start_time": "2025-03-25T22:20:11.790Z"
   },
   {
    "duration": 18,
    "start_time": "2025-03-25T22:20:12.261Z"
   },
   {
    "duration": 4,
    "start_time": "2025-03-25T22:20:12.484Z"
   },
   {
    "duration": 18,
    "start_time": "2025-03-25T22:20:20.673Z"
   },
   {
    "duration": 15,
    "start_time": "2025-03-25T22:20:22.341Z"
   },
   {
    "duration": 25,
    "start_time": "2025-03-25T22:20:22.773Z"
   },
   {
    "duration": 5,
    "start_time": "2025-03-25T22:20:23.194Z"
   },
   {
    "duration": 22,
    "start_time": "2025-03-25T22:20:32.658Z"
   },
   {
    "duration": 5,
    "start_time": "2025-03-25T22:20:35.969Z"
   },
   {
    "duration": 34,
    "start_time": "2025-03-25T22:20:46.333Z"
   },
   {
    "duration": 26,
    "start_time": "2025-03-25T22:20:48.759Z"
   },
   {
    "duration": 11,
    "start_time": "2025-03-25T22:20:54.456Z"
   },
   {
    "duration": 3,
    "start_time": "2025-03-25T22:22:46.804Z"
   },
   {
    "duration": 164,
    "start_time": "2025-03-25T22:22:47.164Z"
   },
   {
    "duration": 29,
    "start_time": "2025-03-25T22:22:47.905Z"
   },
   {
    "duration": 5,
    "start_time": "2025-03-25T22:22:48.079Z"
   },
   {
    "duration": 6,
    "start_time": "2025-03-25T22:22:48.843Z"
   },
   {
    "duration": 9,
    "start_time": "2025-03-25T22:22:49.440Z"
   },
   {
    "duration": 17,
    "start_time": "2025-03-25T22:22:49.857Z"
   },
   {
    "duration": 6,
    "start_time": "2025-03-25T22:22:50.063Z"
   },
   {
    "duration": 12,
    "start_time": "2025-03-25T22:22:50.826Z"
   },
   {
    "duration": 28,
    "start_time": "2025-03-25T22:22:51.853Z"
   },
   {
    "duration": 5,
    "start_time": "2025-03-25T22:22:52.041Z"
   },
   {
    "duration": 27,
    "start_time": "2025-03-25T22:22:52.840Z"
   },
   {
    "duration": 19,
    "start_time": "2025-03-25T22:22:53.463Z"
   },
   {
    "duration": 19,
    "start_time": "2025-03-25T22:22:53.871Z"
   },
   {
    "duration": 4,
    "start_time": "2025-03-25T22:22:54.072Z"
   },
   {
    "duration": 18,
    "start_time": "2025-03-25T22:22:54.921Z"
   },
   {
    "duration": 14,
    "start_time": "2025-03-25T22:22:55.538Z"
   },
   {
    "duration": 25,
    "start_time": "2025-03-25T22:22:55.971Z"
   },
   {
    "duration": 5,
    "start_time": "2025-03-25T22:22:56.236Z"
   },
   {
    "duration": 22,
    "start_time": "2025-03-25T22:22:57.151Z"
   },
   {
    "duration": 5,
    "start_time": "2025-03-25T22:22:59.827Z"
   },
   {
    "duration": 36,
    "start_time": "2025-03-25T22:23:00.720Z"
   },
   {
    "duration": 27,
    "start_time": "2025-03-25T22:23:01.746Z"
   },
   {
    "duration": 18,
    "start_time": "2025-03-25T22:23:02.618Z"
   },
   {
    "duration": 24,
    "start_time": "2025-03-25T22:23:23.618Z"
   },
   {
    "duration": 27,
    "start_time": "2025-03-25T22:23:31.530Z"
   },
   {
    "duration": 2,
    "start_time": "2025-03-25T22:25:47.819Z"
   },
   {
    "duration": 150,
    "start_time": "2025-03-25T22:25:48.346Z"
   },
   {
    "duration": 23,
    "start_time": "2025-03-25T22:25:49.640Z"
   },
   {
    "duration": 5,
    "start_time": "2025-03-25T22:25:49.886Z"
   },
   {
    "duration": 6,
    "start_time": "2025-03-25T22:25:50.566Z"
   },
   {
    "duration": 8,
    "start_time": "2025-03-25T22:25:51.114Z"
   },
   {
    "duration": 17,
    "start_time": "2025-03-25T22:25:51.679Z"
   },
   {
    "duration": 5,
    "start_time": "2025-03-25T22:25:51.852Z"
   },
   {
    "duration": 13,
    "start_time": "2025-03-25T22:25:52.593Z"
   },
   {
    "duration": 28,
    "start_time": "2025-03-25T22:25:53.556Z"
   },
   {
    "duration": 4,
    "start_time": "2025-03-25T22:25:53.720Z"
   },
   {
    "duration": 26,
    "start_time": "2025-03-25T22:25:54.506Z"
   },
   {
    "duration": 19,
    "start_time": "2025-03-25T22:25:55.073Z"
   },
   {
    "duration": 18,
    "start_time": "2025-03-25T22:25:55.460Z"
   },
   {
    "duration": 4,
    "start_time": "2025-03-25T22:25:55.686Z"
   },
   {
    "duration": 19,
    "start_time": "2025-03-25T22:25:56.445Z"
   },
   {
    "duration": 15,
    "start_time": "2025-03-25T22:25:57.108Z"
   },
   {
    "duration": 34,
    "start_time": "2025-03-25T22:25:57.475Z"
   },
   {
    "duration": 4,
    "start_time": "2025-03-25T22:25:57.694Z"
   },
   {
    "duration": 21,
    "start_time": "2025-03-25T22:25:58.722Z"
   },
   {
    "duration": 5,
    "start_time": "2025-03-25T22:26:00.815Z"
   },
   {
    "duration": 32,
    "start_time": "2025-03-25T22:26:02.461Z"
   },
   {
    "duration": 28,
    "start_time": "2025-03-25T22:26:03.449Z"
   },
   {
    "duration": 16,
    "start_time": "2025-03-25T22:26:05.122Z"
   },
   {
    "duration": 15,
    "start_time": "2025-03-25T22:30:45.184Z"
   },
   {
    "duration": 3,
    "start_time": "2025-03-25T22:31:03.291Z"
   },
   {
    "duration": 154,
    "start_time": "2025-03-25T22:31:03.672Z"
   },
   {
    "duration": 25,
    "start_time": "2025-03-25T22:31:04.624Z"
   },
   {
    "duration": 5,
    "start_time": "2025-03-25T22:31:04.798Z"
   },
   {
    "duration": 7,
    "start_time": "2025-03-25T22:31:05.564Z"
   },
   {
    "duration": 9,
    "start_time": "2025-03-25T22:31:06.224Z"
   },
   {
    "duration": 18,
    "start_time": "2025-03-25T22:31:06.659Z"
   },
   {
    "duration": 5,
    "start_time": "2025-03-25T22:31:06.878Z"
   },
   {
    "duration": 12,
    "start_time": "2025-03-25T22:31:07.805Z"
   },
   {
    "duration": 27,
    "start_time": "2025-03-25T22:31:10.985Z"
   },
   {
    "duration": 6,
    "start_time": "2025-03-25T22:31:11.458Z"
   },
   {
    "duration": 25,
    "start_time": "2025-03-25T22:31:13.708Z"
   },
   {
    "duration": 19,
    "start_time": "2025-03-25T22:31:15.341Z"
   },
   {
    "duration": 19,
    "start_time": "2025-03-25T22:31:20.231Z"
   },
   {
    "duration": 4,
    "start_time": "2025-03-25T22:31:21.129Z"
   },
   {
    "duration": 18,
    "start_time": "2025-03-25T22:31:23.201Z"
   },
   {
    "duration": 15,
    "start_time": "2025-03-25T22:31:24.204Z"
   },
   {
    "duration": 24,
    "start_time": "2025-03-25T22:31:25.042Z"
   },
   {
    "duration": 8,
    "start_time": "2025-03-25T22:31:25.491Z"
   },
   {
    "duration": 22,
    "start_time": "2025-03-25T22:31:28.307Z"
   },
   {
    "duration": 17,
    "start_time": "2025-03-25T22:31:39.650Z"
   },
   {
    "duration": 4,
    "start_time": "2025-03-25T22:31:42.148Z"
   },
   {
    "duration": 33,
    "start_time": "2025-03-25T22:31:43.156Z"
   },
   {
    "duration": 27,
    "start_time": "2025-03-25T22:31:43.992Z"
   },
   {
    "duration": 17,
    "start_time": "2025-03-25T22:31:44.858Z"
   },
   {
    "duration": 21,
    "start_time": "2025-03-25T22:34:23.614Z"
   },
   {
    "duration": 16,
    "start_time": "2025-03-25T22:39:15.999Z"
   },
   {
    "duration": 14,
    "start_time": "2025-03-25T22:52:01.908Z"
   },
   {
    "duration": 21,
    "start_time": "2025-03-25T22:52:15.625Z"
   },
   {
    "duration": 308,
    "start_time": "2025-03-25T23:08:26.536Z"
   },
   {
    "duration": 32,
    "start_time": "2025-03-25T23:09:55.259Z"
   },
   {
    "duration": 14,
    "start_time": "2025-03-25T23:14:41.140Z"
   },
   {
    "duration": 116,
    "start_time": "2025-03-25T23:40:51.995Z"
   },
   {
    "duration": 69,
    "start_time": "2025-03-26T00:22:02.741Z"
   },
   {
    "duration": 231,
    "start_time": "2025-03-26T00:39:12.764Z"
   },
   {
    "duration": 2,
    "start_time": "2025-03-26T00:39:39.553Z"
   },
   {
    "duration": 156,
    "start_time": "2025-03-26T00:39:46.402Z"
   },
   {
    "duration": 26,
    "start_time": "2025-03-26T00:39:47.381Z"
   },
   {
    "duration": 5,
    "start_time": "2025-03-26T00:39:47.550Z"
   },
   {
    "duration": 7,
    "start_time": "2025-03-26T00:39:48.420Z"
   },
   {
    "duration": 9,
    "start_time": "2025-03-26T00:39:49.042Z"
   },
   {
    "duration": 17,
    "start_time": "2025-03-26T00:39:49.409Z"
   },
   {
    "duration": 5,
    "start_time": "2025-03-26T00:39:49.592Z"
   },
   {
    "duration": 11,
    "start_time": "2025-03-26T00:39:50.375Z"
   },
   {
    "duration": 27,
    "start_time": "2025-03-26T00:39:51.375Z"
   },
   {
    "duration": 5,
    "start_time": "2025-03-26T00:39:51.596Z"
   },
   {
    "duration": 26,
    "start_time": "2025-03-26T00:39:52.353Z"
   },
   {
    "duration": 18,
    "start_time": "2025-03-26T00:39:52.960Z"
   },
   {
    "duration": 24,
    "start_time": "2025-03-26T00:39:53.390Z"
   },
   {
    "duration": 4,
    "start_time": "2025-03-26T00:39:53.560Z"
   },
   {
    "duration": 18,
    "start_time": "2025-03-26T00:39:54.359Z"
   },
   {
    "duration": 17,
    "start_time": "2025-03-26T00:39:54.957Z"
   },
   {
    "duration": 28,
    "start_time": "2025-03-26T00:39:55.382Z"
   },
   {
    "duration": 7,
    "start_time": "2025-03-26T00:39:55.597Z"
   },
   {
    "duration": 22,
    "start_time": "2025-03-26T00:39:56.462Z"
   },
   {
    "duration": 18,
    "start_time": "2025-03-26T00:39:57.107Z"
   },
   {
    "duration": 5,
    "start_time": "2025-03-26T00:39:57.709Z"
   },
   {
    "duration": 53,
    "start_time": "2025-03-26T00:39:58.283Z"
   },
   {
    "duration": 28,
    "start_time": "2025-03-26T00:39:58.533Z"
   },
   {
    "duration": 16,
    "start_time": "2025-03-26T00:39:58.757Z"
   },
   {
    "duration": 21,
    "start_time": "2025-03-26T00:39:59.004Z"
   },
   {
    "duration": 17,
    "start_time": "2025-03-26T00:39:59.622Z"
   },
   {
    "duration": 20,
    "start_time": "2025-03-26T00:40:00.078Z"
   },
   {
    "duration": 69,
    "start_time": "2025-03-26T00:40:00.904Z"
   },
   {
    "duration": 27,
    "start_time": "2025-03-26T00:40:03.784Z"
   },
   {
    "duration": 23,
    "start_time": "2025-03-26T00:48:13.463Z"
   },
   {
    "duration": 2,
    "start_time": "2025-03-26T00:53:08.670Z"
   },
   {
    "duration": 158,
    "start_time": "2025-03-26T00:53:09.964Z"
   },
   {
    "duration": 26,
    "start_time": "2025-03-26T00:53:11.129Z"
   },
   {
    "duration": 5,
    "start_time": "2025-03-26T00:53:11.282Z"
   },
   {
    "duration": 7,
    "start_time": "2025-03-26T00:53:12.316Z"
   },
   {
    "duration": 10,
    "start_time": "2025-03-26T00:53:13.160Z"
   },
   {
    "duration": 18,
    "start_time": "2025-03-26T00:53:13.626Z"
   },
   {
    "duration": 6,
    "start_time": "2025-03-26T00:53:13.798Z"
   },
   {
    "duration": 13,
    "start_time": "2025-03-26T00:53:14.554Z"
   },
   {
    "duration": 29,
    "start_time": "2025-03-26T00:53:15.501Z"
   },
   {
    "duration": 5,
    "start_time": "2025-03-26T00:53:15.675Z"
   },
   {
    "duration": 27,
    "start_time": "2025-03-26T00:53:16.489Z"
   },
   {
    "duration": 20,
    "start_time": "2025-03-26T00:53:17.132Z"
   },
   {
    "duration": 18,
    "start_time": "2025-03-26T00:53:17.543Z"
   },
   {
    "duration": 6,
    "start_time": "2025-03-26T00:53:17.753Z"
   },
   {
    "duration": 20,
    "start_time": "2025-03-26T00:53:18.595Z"
   },
   {
    "duration": 16,
    "start_time": "2025-03-26T00:53:19.212Z"
   },
   {
    "duration": 26,
    "start_time": "2025-03-26T00:53:19.703Z"
   },
   {
    "duration": 5,
    "start_time": "2025-03-26T00:53:19.957Z"
   },
   {
    "duration": 23,
    "start_time": "2025-03-26T00:53:21.089Z"
   },
   {
    "duration": 21,
    "start_time": "2025-03-26T00:53:22.391Z"
   },
   {
    "duration": 4,
    "start_time": "2025-03-26T00:53:29.785Z"
   },
   {
    "duration": 32,
    "start_time": "2025-03-26T00:53:33.656Z"
   },
   {
    "duration": 27,
    "start_time": "2025-03-26T00:53:34.655Z"
   },
   {
    "duration": 16,
    "start_time": "2025-03-26T00:53:35.332Z"
   },
   {
    "duration": 21,
    "start_time": "2025-03-26T00:53:38.430Z"
   },
   {
    "duration": 21,
    "start_time": "2025-03-26T00:53:41.726Z"
   },
   {
    "duration": 19,
    "start_time": "2025-03-26T00:53:46.016Z"
   },
   {
    "duration": 67,
    "start_time": "2025-03-26T00:53:50.115Z"
   },
   {
    "duration": 2,
    "start_time": "2025-03-26T00:54:03.213Z"
   },
   {
    "duration": 14,
    "start_time": "2025-03-26T01:44:53.117Z"
   },
   {
    "duration": 377,
    "start_time": "2025-03-26T02:14:02.884Z"
   },
   {
    "duration": 70,
    "start_time": "2025-03-26T02:17:31.105Z"
   },
   {
    "duration": 2,
    "start_time": "2025-03-26T02:20:42.457Z"
   },
   {
    "duration": 155,
    "start_time": "2025-03-26T02:20:42.811Z"
   },
   {
    "duration": 26,
    "start_time": "2025-03-26T02:20:43.576Z"
   },
   {
    "duration": 5,
    "start_time": "2025-03-26T02:20:43.735Z"
   },
   {
    "duration": 6,
    "start_time": "2025-03-26T02:20:44.530Z"
   },
   {
    "duration": 10,
    "start_time": "2025-03-26T02:20:45.138Z"
   },
   {
    "duration": 16,
    "start_time": "2025-03-26T02:20:45.532Z"
   },
   {
    "duration": 6,
    "start_time": "2025-03-26T02:20:45.744Z"
   },
   {
    "duration": 12,
    "start_time": "2025-03-26T02:20:46.745Z"
   },
   {
    "duration": 29,
    "start_time": "2025-03-26T02:20:48.236Z"
   },
   {
    "duration": 4,
    "start_time": "2025-03-26T02:20:48.267Z"
   },
   {
    "duration": 27,
    "start_time": "2025-03-26T02:20:49.127Z"
   },
   {
    "duration": 19,
    "start_time": "2025-03-26T02:20:49.903Z"
   },
   {
    "duration": 18,
    "start_time": "2025-03-26T02:20:50.307Z"
   },
   {
    "duration": 5,
    "start_time": "2025-03-26T02:20:50.551Z"
   },
   {
    "duration": 20,
    "start_time": "2025-03-26T02:20:51.443Z"
   },
   {
    "duration": 15,
    "start_time": "2025-03-26T02:20:52.176Z"
   },
   {
    "duration": 25,
    "start_time": "2025-03-26T02:20:52.959Z"
   },
   {
    "duration": 5,
    "start_time": "2025-03-26T02:20:53.161Z"
   },
   {
    "duration": 22,
    "start_time": "2025-03-26T02:20:54.183Z"
   },
   {
    "duration": 18,
    "start_time": "2025-03-26T02:20:55.059Z"
   },
   {
    "duration": 4,
    "start_time": "2025-03-26T02:20:55.963Z"
   },
   {
    "duration": 31,
    "start_time": "2025-03-26T02:20:56.614Z"
   },
   {
    "duration": 25,
    "start_time": "2025-03-26T02:20:58.524Z"
   },
   {
    "duration": 16,
    "start_time": "2025-03-26T02:21:01.020Z"
   },
   {
    "duration": 21,
    "start_time": "2025-03-26T02:21:03.563Z"
   },
   {
    "duration": 19,
    "start_time": "2025-03-26T02:21:07.631Z"
   },
   {
    "duration": 22,
    "start_time": "2025-03-26T02:21:08.828Z"
   },
   {
    "duration": 68,
    "start_time": "2025-03-26T02:21:16.057Z"
   },
   {
    "duration": 352,
    "start_time": "2025-03-26T02:21:21.180Z"
   },
   {
    "duration": 51,
    "start_time": "2025-03-26T02:21:42.284Z"
   },
   {
    "duration": 348,
    "start_time": "2025-03-26T02:23:16.300Z"
   },
   {
    "duration": 5,
    "start_time": "2025-03-26T02:25:22.963Z"
   },
   {
    "duration": 104,
    "start_time": "2025-03-26T02:26:37.393Z"
   },
   {
    "duration": 9,
    "start_time": "2025-03-26T02:29:46.526Z"
   },
   {
    "duration": 110,
    "start_time": "2025-03-26T02:31:22.275Z"
   },
   {
    "duration": 131,
    "start_time": "2025-03-26T02:33:18.713Z"
   },
   {
    "duration": 2173,
    "start_time": "2025-03-26T15:09:01.828Z"
   },
   {
    "duration": 220,
    "start_time": "2025-03-26T15:09:06.557Z"
   },
   {
    "duration": 28,
    "start_time": "2025-03-26T15:34:56.053Z"
   },
   {
    "duration": 5,
    "start_time": "2025-03-26T15:34:56.273Z"
   },
   {
    "duration": 12,
    "start_time": "2025-03-26T15:34:57.010Z"
   },
   {
    "duration": 9,
    "start_time": "2025-03-26T15:34:57.582Z"
   },
   {
    "duration": 16,
    "start_time": "2025-03-26T15:34:57.983Z"
   },
   {
    "duration": 6,
    "start_time": "2025-03-26T15:34:58.136Z"
   },
   {
    "duration": 12,
    "start_time": "2025-03-26T15:34:58.857Z"
   },
   {
    "duration": 29,
    "start_time": "2025-03-26T15:34:59.851Z"
   },
   {
    "duration": 4,
    "start_time": "2025-03-26T15:35:00.062Z"
   },
   {
    "duration": 27,
    "start_time": "2025-03-26T15:35:00.873Z"
   },
   {
    "duration": 20,
    "start_time": "2025-03-26T15:35:01.478Z"
   },
   {
    "duration": 19,
    "start_time": "2025-03-26T15:35:01.887Z"
   },
   {
    "duration": 4,
    "start_time": "2025-03-26T15:35:02.072Z"
   },
   {
    "duration": 18,
    "start_time": "2025-03-26T15:35:02.894Z"
   },
   {
    "duration": 14,
    "start_time": "2025-03-26T15:35:03.550Z"
   },
   {
    "duration": 25,
    "start_time": "2025-03-26T15:35:03.995Z"
   },
   {
    "duration": 4,
    "start_time": "2025-03-26T15:35:04.188Z"
   },
   {
    "duration": 21,
    "start_time": "2025-03-26T15:35:05.146Z"
   },
   {
    "duration": 17,
    "start_time": "2025-03-26T15:35:05.751Z"
   },
   {
    "duration": 4,
    "start_time": "2025-03-26T15:35:06.390Z"
   },
   {
    "duration": 38,
    "start_time": "2025-03-26T15:35:06.824Z"
   },
   {
    "duration": 25,
    "start_time": "2025-03-26T15:35:07.048Z"
   },
   {
    "duration": 15,
    "start_time": "2025-03-26T15:35:07.305Z"
   },
   {
    "duration": 19,
    "start_time": "2025-03-26T15:35:07.519Z"
   },
   {
    "duration": 17,
    "start_time": "2025-03-26T15:35:08.060Z"
   },
   {
    "duration": 24,
    "start_time": "2025-03-26T15:35:08.295Z"
   },
   {
    "duration": 70,
    "start_time": "2025-03-26T15:35:09.142Z"
   },
   {
    "duration": 390,
    "start_time": "2025-03-26T15:35:11.760Z"
   },
   {
    "duration": 364,
    "start_time": "2025-03-26T15:35:12.400Z"
   },
   {
    "duration": 5,
    "start_time": "2025-03-26T15:35:14.278Z"
   },
   {
    "duration": 98,
    "start_time": "2025-03-26T15:35:15.083Z"
   },
   {
    "duration": 108,
    "start_time": "2025-03-26T15:35:21.368Z"
   },
   {
    "duration": 106,
    "start_time": "2025-03-26T15:35:23.612Z"
   },
   {
    "duration": 14,
    "start_time": "2025-03-26T15:35:39.157Z"
   },
   {
    "duration": 9,
    "start_time": "2025-03-26T17:06:45.428Z"
   },
   {
    "duration": 12,
    "start_time": "2025-03-26T17:10:10.083Z"
   },
   {
    "duration": 3,
    "start_time": "2025-03-26T18:03:58.188Z"
   },
   {
    "duration": 171,
    "start_time": "2025-03-26T18:04:01.948Z"
   },
   {
    "duration": 34,
    "start_time": "2025-03-26T18:06:10.451Z"
   },
   {
    "duration": 5,
    "start_time": "2025-03-26T18:06:19.232Z"
   },
   {
    "duration": 7,
    "start_time": "2025-03-26T18:17:05.530Z"
   },
   {
    "duration": 2,
    "start_time": "2025-03-26T18:17:51.794Z"
   },
   {
    "duration": 157,
    "start_time": "2025-03-26T18:17:53.467Z"
   },
   {
    "duration": 24,
    "start_time": "2025-03-26T18:17:56.056Z"
   },
   {
    "duration": 9,
    "start_time": "2025-03-26T18:18:03.479Z"
   },
   {
    "duration": 10,
    "start_time": "2025-03-26T18:18:20.522Z"
   },
   {
    "duration": 9,
    "start_time": "2025-03-26T18:18:28.543Z"
   },
   {
    "duration": 17,
    "start_time": "2025-03-26T18:19:45.523Z"
   },
   {
    "duration": 8,
    "start_time": "2025-03-26T18:19:49.050Z"
   },
   {
    "duration": 12,
    "start_time": "2025-03-26T18:26:25.279Z"
   },
   {
    "duration": 13,
    "start_time": "2025-03-26T18:35:06.385Z"
   },
   {
    "duration": 29,
    "start_time": "2025-03-26T18:40:14.891Z"
   },
   {
    "duration": 7,
    "start_time": "2025-03-26T18:40:16.634Z"
   },
   {
    "duration": 25,
    "start_time": "2025-03-26T18:46:17.055Z"
   },
   {
    "duration": 19,
    "start_time": "2025-03-26T18:46:19.275Z"
   },
   {
    "duration": 23,
    "start_time": "2025-03-26T18:57:25.439Z"
   },
   {
    "duration": 6,
    "start_time": "2025-03-26T18:57:26.878Z"
   },
   {
    "duration": 18,
    "start_time": "2025-03-26T19:08:32.671Z"
   },
   {
    "duration": 15,
    "start_time": "2025-03-26T19:08:35.503Z"
   },
   {
    "duration": 11,
    "start_time": "2025-03-26T19:09:25.149Z"
   },
   {
    "duration": 26,
    "start_time": "2025-03-26T19:09:48.095Z"
   },
   {
    "duration": 6,
    "start_time": "2025-03-26T19:09:49.012Z"
   },
   {
    "duration": 7,
    "start_time": "2025-03-26T19:10:01.341Z"
   },
   {
    "duration": 22,
    "start_time": "2025-03-26T19:41:59.492Z"
   },
   {
    "duration": 16,
    "start_time": "2025-03-26T19:42:01.111Z"
   },
   {
    "duration": 4,
    "start_time": "2025-03-26T19:46:43.692Z"
   },
   {
    "duration": 33,
    "start_time": "2025-03-26T19:47:13.710Z"
   },
   {
    "duration": 28,
    "start_time": "2025-03-26T19:47:58.631Z"
   },
   {
    "duration": 19,
    "start_time": "2025-03-26T19:55:50.094Z"
   },
   {
    "duration": 22,
    "start_time": "2025-03-26T19:55:54.576Z"
   },
   {
    "duration": 15,
    "start_time": "2025-03-26T20:02:39.637Z"
   },
   {
    "duration": 14,
    "start_time": "2025-03-26T20:06:30.662Z"
   },
   {
    "duration": 587,
    "start_time": "2025-03-26T20:16:48.120Z"
   },
   {
    "duration": 30,
    "start_time": "2025-03-26T20:18:42.850Z"
   },
   {
    "duration": 13,
    "start_time": "2025-03-26T20:18:55.376Z"
   },
   {
    "duration": 47,
    "start_time": "2025-03-26T20:19:03.436Z"
   },
   {
    "duration": 45,
    "start_time": "2025-03-26T20:21:00.543Z"
   },
   {
    "duration": 3,
    "start_time": "2025-03-26T20:22:22.629Z"
   },
   {
    "duration": 179,
    "start_time": "2025-03-26T20:22:23.050Z"
   },
   {
    "duration": 24,
    "start_time": "2025-03-26T20:22:23.630Z"
   },
   {
    "duration": 6,
    "start_time": "2025-03-26T20:22:23.866Z"
   },
   {
    "duration": 9,
    "start_time": "2025-03-26T20:22:24.550Z"
   },
   {
    "duration": 8,
    "start_time": "2025-03-26T20:22:24.973Z"
   },
   {
    "duration": 18,
    "start_time": "2025-03-26T20:22:25.398Z"
   },
   {
    "duration": 7,
    "start_time": "2025-03-26T20:22:25.588Z"
   },
   {
    "duration": 12,
    "start_time": "2025-03-26T20:22:26.142Z"
   },
   {
    "duration": 10,
    "start_time": "2025-03-26T20:22:26.775Z"
   },
   {
    "duration": 28,
    "start_time": "2025-03-26T20:22:27.164Z"
   },
   {
    "duration": 6,
    "start_time": "2025-03-26T20:22:27.343Z"
   },
   {
    "duration": 25,
    "start_time": "2025-03-26T20:22:27.906Z"
   },
   {
    "duration": 20,
    "start_time": "2025-03-26T20:22:28.313Z"
   },
   {
    "duration": 18,
    "start_time": "2025-03-26T20:22:28.675Z"
   },
   {
    "duration": 5,
    "start_time": "2025-03-26T20:22:28.915Z"
   },
   {
    "duration": 19,
    "start_time": "2025-03-26T20:22:29.479Z"
   },
   {
    "duration": 11,
    "start_time": "2025-03-26T20:22:29.958Z"
   },
   {
    "duration": 31,
    "start_time": "2025-03-26T20:22:30.392Z"
   },
   {
    "duration": 6,
    "start_time": "2025-03-26T20:22:30.609Z"
   },
   {
    "duration": 22,
    "start_time": "2025-03-26T20:22:31.286Z"
   },
   {
    "duration": 17,
    "start_time": "2025-03-26T20:22:31.752Z"
   },
   {
    "duration": 5,
    "start_time": "2025-03-26T20:22:32.441Z"
   },
   {
    "duration": 34,
    "start_time": "2025-03-26T20:22:33.888Z"
   },
   {
    "duration": 27,
    "start_time": "2025-03-26T20:22:34.595Z"
   },
   {
    "duration": 18,
    "start_time": "2025-03-26T20:22:35.370Z"
   },
   {
    "duration": 23,
    "start_time": "2025-03-26T20:22:35.896Z"
   },
   {
    "duration": 15,
    "start_time": "2025-03-26T20:22:36.788Z"
   },
   {
    "duration": 12,
    "start_time": "2025-03-26T20:22:42.380Z"
   },
   {
    "duration": 58,
    "start_time": "2025-03-26T20:22:50.296Z"
   },
   {
    "duration": 179,
    "start_time": "2025-03-26T20:30:53.530Z"
   },
   {
    "duration": 36,
    "start_time": "2025-03-26T20:31:25.380Z"
   },
   {
    "duration": 2,
    "start_time": "2025-03-26T20:31:54.290Z"
   },
   {
    "duration": 155,
    "start_time": "2025-03-26T20:31:54.650Z"
   },
   {
    "duration": 25,
    "start_time": "2025-03-26T20:31:55.198Z"
   },
   {
    "duration": 7,
    "start_time": "2025-03-26T20:31:55.363Z"
   },
   {
    "duration": 9,
    "start_time": "2025-03-26T20:31:55.903Z"
   },
   {
    "duration": 8,
    "start_time": "2025-03-26T20:31:56.273Z"
   },
   {
    "duration": 15,
    "start_time": "2025-03-26T20:31:56.664Z"
   },
   {
    "duration": 8,
    "start_time": "2025-03-26T20:31:56.863Z"
   },
   {
    "duration": 11,
    "start_time": "2025-03-26T20:31:57.416Z"
   },
   {
    "duration": 12,
    "start_time": "2025-03-26T20:31:57.787Z"
   },
   {
    "duration": 27,
    "start_time": "2025-03-26T20:31:58.176Z"
   },
   {
    "duration": 7,
    "start_time": "2025-03-26T20:31:58.368Z"
   },
   {
    "duration": 26,
    "start_time": "2025-03-26T20:31:58.928Z"
   },
   {
    "duration": 18,
    "start_time": "2025-03-26T20:31:59.336Z"
   },
   {
    "duration": 18,
    "start_time": "2025-03-26T20:31:59.764Z"
   },
   {
    "duration": 7,
    "start_time": "2025-03-26T20:31:59.958Z"
   },
   {
    "duration": 18,
    "start_time": "2025-03-26T20:32:00.620Z"
   },
   {
    "duration": 12,
    "start_time": "2025-03-26T20:32:01.020Z"
   },
   {
    "duration": 25,
    "start_time": "2025-03-26T20:32:01.444Z"
   },
   {
    "duration": 7,
    "start_time": "2025-03-26T20:32:01.648Z"
   },
   {
    "duration": 21,
    "start_time": "2025-03-26T20:32:02.375Z"
   },
   {
    "duration": 17,
    "start_time": "2025-03-26T20:32:02.936Z"
   },
   {
    "duration": 4,
    "start_time": "2025-03-26T20:32:03.864Z"
   },
   {
    "duration": 38,
    "start_time": "2025-03-26T20:32:04.716Z"
   },
   {
    "duration": 29,
    "start_time": "2025-03-26T20:32:05.419Z"
   },
   {
    "duration": 19,
    "start_time": "2025-03-26T20:32:06.176Z"
   },
   {
    "duration": 22,
    "start_time": "2025-03-26T20:32:06.827Z"
   },
   {
    "duration": 16,
    "start_time": "2025-03-26T20:32:10.874Z"
   },
   {
    "duration": 12,
    "start_time": "2025-03-26T20:32:21.669Z"
   },
   {
    "duration": 33,
    "start_time": "2025-03-26T20:33:49.395Z"
   },
   {
    "duration": 3,
    "start_time": "2025-03-26T20:34:37.166Z"
   },
   {
    "duration": 3,
    "start_time": "2025-03-26T20:41:43.860Z"
   },
   {
    "duration": 165,
    "start_time": "2025-03-26T20:41:44.502Z"
   },
   {
    "duration": 24,
    "start_time": "2025-03-26T20:41:45.052Z"
   },
   {
    "duration": 7,
    "start_time": "2025-03-26T20:41:45.244Z"
   },
   {
    "duration": 9,
    "start_time": "2025-03-26T20:41:45.821Z"
   },
   {
    "duration": 10,
    "start_time": "2025-03-26T20:41:46.205Z"
   },
   {
    "duration": 17,
    "start_time": "2025-03-26T20:41:46.621Z"
   },
   {
    "duration": 7,
    "start_time": "2025-03-26T20:41:46.822Z"
   },
   {
    "duration": 11,
    "start_time": "2025-03-26T20:41:47.383Z"
   },
   {
    "duration": 12,
    "start_time": "2025-03-26T20:41:47.755Z"
   },
   {
    "duration": 27,
    "start_time": "2025-03-26T20:41:48.146Z"
   },
   {
    "duration": 8,
    "start_time": "2025-03-26T20:41:48.338Z"
   },
   {
    "duration": 24,
    "start_time": "2025-03-26T20:41:48.933Z"
   },
   {
    "duration": 19,
    "start_time": "2025-03-26T20:41:49.356Z"
   },
   {
    "duration": 22,
    "start_time": "2025-03-26T20:41:49.740Z"
   },
   {
    "duration": 7,
    "start_time": "2025-03-26T20:41:49.949Z"
   },
   {
    "duration": 18,
    "start_time": "2025-03-26T20:41:50.769Z"
   },
   {
    "duration": 13,
    "start_time": "2025-03-26T20:41:51.181Z"
   },
   {
    "duration": 25,
    "start_time": "2025-03-26T20:41:51.641Z"
   },
   {
    "duration": 6,
    "start_time": "2025-03-26T20:41:51.906Z"
   },
   {
    "duration": 21,
    "start_time": "2025-03-26T20:41:52.765Z"
   },
   {
    "duration": 17,
    "start_time": "2025-03-26T20:41:53.851Z"
   },
   {
    "duration": 4,
    "start_time": "2025-03-26T20:41:59.204Z"
   },
   {
    "duration": 35,
    "start_time": "2025-03-26T20:42:05.290Z"
   },
   {
    "duration": 28,
    "start_time": "2025-03-26T20:42:07.872Z"
   },
   {
    "duration": 18,
    "start_time": "2025-03-26T20:42:10.169Z"
   },
   {
    "duration": 23,
    "start_time": "2025-03-26T20:42:12.003Z"
   },
   {
    "duration": 15,
    "start_time": "2025-03-26T20:42:14.632Z"
   },
   {
    "duration": 19,
    "start_time": "2025-03-26T20:42:17.719Z"
   },
   {
    "duration": 35,
    "start_time": "2025-03-26T20:43:01.361Z"
   },
   {
    "duration": 2,
    "start_time": "2025-03-26T20:43:21.721Z"
   },
   {
    "duration": 155,
    "start_time": "2025-03-26T20:43:22.093Z"
   },
   {
    "duration": 25,
    "start_time": "2025-03-26T20:43:22.637Z"
   },
   {
    "duration": 7,
    "start_time": "2025-03-26T20:43:22.834Z"
   },
   {
    "duration": 8,
    "start_time": "2025-03-26T20:43:23.416Z"
   },
   {
    "duration": 9,
    "start_time": "2025-03-26T20:43:23.869Z"
   },
   {
    "duration": 17,
    "start_time": "2025-03-26T20:43:24.223Z"
   },
   {
    "duration": 8,
    "start_time": "2025-03-26T20:43:24.575Z"
   },
   {
    "duration": 13,
    "start_time": "2025-03-26T20:43:25.188Z"
   },
   {
    "duration": 10,
    "start_time": "2025-03-26T20:43:25.566Z"
   },
   {
    "duration": 28,
    "start_time": "2025-03-26T20:43:25.952Z"
   },
   {
    "duration": 7,
    "start_time": "2025-03-26T20:43:26.163Z"
   },
   {
    "duration": 25,
    "start_time": "2025-03-26T20:43:26.713Z"
   },
   {
    "duration": 19,
    "start_time": "2025-03-26T20:43:27.183Z"
   },
   {
    "duration": 18,
    "start_time": "2025-03-26T20:43:27.505Z"
   },
   {
    "duration": 7,
    "start_time": "2025-03-26T20:43:27.704Z"
   },
   {
    "duration": 18,
    "start_time": "2025-03-26T20:43:28.340Z"
   },
   {
    "duration": 10,
    "start_time": "2025-03-26T20:43:28.757Z"
   },
   {
    "duration": 27,
    "start_time": "2025-03-26T20:43:29.164Z"
   },
   {
    "duration": 6,
    "start_time": "2025-03-26T20:43:29.360Z"
   },
   {
    "duration": 21,
    "start_time": "2025-03-26T20:43:29.978Z"
   },
   {
    "duration": 17,
    "start_time": "2025-03-26T20:43:30.372Z"
   },
   {
    "duration": 5,
    "start_time": "2025-03-26T20:43:30.861Z"
   },
   {
    "duration": 35,
    "start_time": "2025-03-26T20:43:32.762Z"
   },
   {
    "duration": 27,
    "start_time": "2025-03-26T20:43:33.655Z"
   },
   {
    "duration": 19,
    "start_time": "2025-03-26T20:43:34.448Z"
   },
   {
    "duration": 24,
    "start_time": "2025-03-26T20:43:35.793Z"
   },
   {
    "duration": 16,
    "start_time": "2025-03-26T20:43:41.119Z"
   },
   {
    "duration": 12,
    "start_time": "2025-03-26T20:43:42.388Z"
   },
   {
    "duration": 4,
    "start_time": "2025-03-26T20:43:43.685Z"
   },
   {
    "duration": 31,
    "start_time": "2025-03-26T20:47:05.176Z"
   },
   {
    "duration": 3,
    "start_time": "2025-03-26T20:48:30.195Z"
   },
   {
    "duration": 152,
    "start_time": "2025-03-26T20:48:30.755Z"
   },
   {
    "duration": 23,
    "start_time": "2025-03-26T20:48:31.311Z"
   },
   {
    "duration": 7,
    "start_time": "2025-03-26T20:48:31.523Z"
   },
   {
    "duration": 8,
    "start_time": "2025-03-26T20:48:32.113Z"
   },
   {
    "duration": 8,
    "start_time": "2025-03-26T20:48:32.535Z"
   },
   {
    "duration": 17,
    "start_time": "2025-03-26T20:48:32.982Z"
   },
   {
    "duration": 8,
    "start_time": "2025-03-26T20:48:33.247Z"
   },
   {
    "duration": 11,
    "start_time": "2025-03-26T20:48:34.820Z"
   },
   {
    "duration": 12,
    "start_time": "2025-03-26T20:48:35.414Z"
   },
   {
    "duration": 28,
    "start_time": "2025-03-26T20:48:35.830Z"
   },
   {
    "duration": 6,
    "start_time": "2025-03-26T20:48:35.972Z"
   },
   {
    "duration": 26,
    "start_time": "2025-03-26T20:48:37.008Z"
   },
   {
    "duration": 20,
    "start_time": "2025-03-26T20:48:39.662Z"
   },
   {
    "duration": 18,
    "start_time": "2025-03-26T20:48:40.747Z"
   },
   {
    "duration": 6,
    "start_time": "2025-03-26T20:48:41.267Z"
   },
   {
    "duration": 18,
    "start_time": "2025-03-26T20:48:52.526Z"
   },
   {
    "duration": 12,
    "start_time": "2025-03-26T20:48:53.271Z"
   },
   {
    "duration": 24,
    "start_time": "2025-03-26T20:48:53.704Z"
   },
   {
    "duration": 7,
    "start_time": "2025-03-26T20:48:53.972Z"
   },
   {
    "duration": 30,
    "start_time": "2025-03-26T20:48:56.075Z"
   },
   {
    "duration": 18,
    "start_time": "2025-03-26T20:48:57.098Z"
   },
   {
    "duration": 5,
    "start_time": "2025-03-26T20:49:01.006Z"
   },
   {
    "duration": 36,
    "start_time": "2025-03-26T20:49:02.109Z"
   },
   {
    "duration": 27,
    "start_time": "2025-03-26T20:49:02.321Z"
   },
   {
    "duration": 18,
    "start_time": "2025-03-26T20:49:02.518Z"
   },
   {
    "duration": 23,
    "start_time": "2025-03-26T20:49:02.697Z"
   },
   {
    "duration": 16,
    "start_time": "2025-03-26T20:49:06.489Z"
   },
   {
    "duration": 13,
    "start_time": "2025-03-26T20:49:09.120Z"
   },
   {
    "duration": 214,
    "start_time": "2025-03-26T20:49:12.190Z"
   },
   {
    "duration": 4,
    "start_time": "2025-03-26T20:49:45.025Z"
   },
   {
    "duration": 73,
    "start_time": "2025-03-26T20:49:57.352Z"
   },
   {
    "duration": 37,
    "start_time": "2025-03-26T20:55:00.392Z"
   },
   {
    "duration": 4,
    "start_time": "2025-03-26T20:56:05.682Z"
   },
   {
    "duration": 6,
    "start_time": "2025-03-26T20:56:47.354Z"
   },
   {
    "duration": 65,
    "start_time": "2025-03-26T20:58:54.304Z"
   },
   {
    "duration": 3,
    "start_time": "2025-03-26T21:00:48.590Z"
   },
   {
    "duration": 156,
    "start_time": "2025-03-26T21:00:48.894Z"
   },
   {
    "duration": 29,
    "start_time": "2025-03-26T21:00:49.493Z"
   },
   {
    "duration": 7,
    "start_time": "2025-03-26T21:00:49.655Z"
   },
   {
    "duration": 8,
    "start_time": "2025-03-26T21:00:50.193Z"
   },
   {
    "duration": 9,
    "start_time": "2025-03-26T21:00:50.581Z"
   },
   {
    "duration": 16,
    "start_time": "2025-03-26T21:00:50.981Z"
   },
   {
    "duration": 8,
    "start_time": "2025-03-26T21:00:51.157Z"
   },
   {
    "duration": 11,
    "start_time": "2025-03-26T21:15:54.094Z"
   },
   {
    "duration": 12,
    "start_time": "2025-03-26T21:15:55.616Z"
   },
   {
    "duration": 27,
    "start_time": "2025-03-26T21:15:56.824Z"
   },
   {
    "duration": 7,
    "start_time": "2025-03-26T21:15:57.928Z"
   },
   {
    "duration": 26,
    "start_time": "2025-03-26T21:15:59.161Z"
   },
   {
    "duration": 24,
    "start_time": "2025-03-26T21:15:59.552Z"
   },
   {
    "duration": 18,
    "start_time": "2025-03-26T21:15:59.997Z"
   },
   {
    "duration": 7,
    "start_time": "2025-03-26T21:16:00.132Z"
   },
   {
    "duration": 19,
    "start_time": "2025-03-26T21:16:00.693Z"
   },
   {
    "duration": 10,
    "start_time": "2025-03-26T21:16:01.081Z"
   },
   {
    "duration": 25,
    "start_time": "2025-03-26T21:16:01.476Z"
   },
   {
    "duration": 6,
    "start_time": "2025-03-26T21:16:01.674Z"
   },
   {
    "duration": 21,
    "start_time": "2025-03-26T21:16:02.285Z"
   },
   {
    "duration": 17,
    "start_time": "2025-03-26T21:16:02.722Z"
   },
   {
    "duration": 4,
    "start_time": "2025-03-26T21:16:03.165Z"
   },
   {
    "duration": 34,
    "start_time": "2025-03-26T21:16:03.805Z"
   },
   {
    "duration": 27,
    "start_time": "2025-03-26T21:16:04.205Z"
   },
   {
    "duration": 19,
    "start_time": "2025-03-26T21:16:04.651Z"
   },
   {
    "duration": 24,
    "start_time": "2025-03-26T21:16:05.120Z"
   },
   {
    "duration": 15,
    "start_time": "2025-03-26T21:16:05.997Z"
   },
   {
    "duration": 12,
    "start_time": "2025-03-26T21:16:12.293Z"
   },
   {
    "duration": 7,
    "start_time": "2025-03-26T21:16:16.022Z"
   },
   {
    "duration": 65,
    "start_time": "2025-03-26T21:16:20.629Z"
   },
   {
    "duration": 3,
    "start_time": "2025-03-26T21:21:29.022Z"
   },
   {
    "duration": 150,
    "start_time": "2025-03-26T21:21:34.659Z"
   },
   {
    "duration": 29,
    "start_time": "2025-03-26T21:21:35.915Z"
   },
   {
    "duration": 7,
    "start_time": "2025-03-26T21:21:36.382Z"
   },
   {
    "duration": 9,
    "start_time": "2025-03-26T21:21:37.268Z"
   },
   {
    "duration": 8,
    "start_time": "2025-03-26T21:21:38.832Z"
   },
   {
    "duration": 16,
    "start_time": "2025-03-26T21:21:40.373Z"
   },
   {
    "duration": 9,
    "start_time": "2025-03-26T21:21:41.731Z"
   },
   {
    "duration": 13,
    "start_time": "2025-03-26T21:21:43.643Z"
   },
   {
    "duration": 11,
    "start_time": "2025-03-26T21:21:45.238Z"
   },
   {
    "duration": 36,
    "start_time": "2025-03-26T21:21:45.700Z"
   },
   {
    "duration": 9,
    "start_time": "2025-03-26T21:21:45.930Z"
   },
   {
    "duration": 39,
    "start_time": "2025-03-26T21:21:46.800Z"
   },
   {
    "duration": 22,
    "start_time": "2025-03-26T21:21:47.235Z"
   },
   {
    "duration": 19,
    "start_time": "2025-03-26T21:21:48.054Z"
   },
   {
    "duration": 6,
    "start_time": "2025-03-26T21:21:48.769Z"
   },
   {
    "duration": 23,
    "start_time": "2025-03-26T21:21:50.614Z"
   },
   {
    "duration": 12,
    "start_time": "2025-03-26T21:21:51.696Z"
   },
   {
    "duration": 25,
    "start_time": "2025-03-26T21:21:53.003Z"
   },
   {
    "duration": 8,
    "start_time": "2025-03-26T21:21:53.218Z"
   },
   {
    "duration": 22,
    "start_time": "2025-03-26T21:21:54.175Z"
   },
   {
    "duration": 17,
    "start_time": "2025-03-26T21:21:54.642Z"
   },
   {
    "duration": 4,
    "start_time": "2025-03-26T21:21:55.519Z"
   },
   {
    "duration": 47,
    "start_time": "2025-03-26T21:21:56.543Z"
   },
   {
    "duration": 28,
    "start_time": "2025-03-26T21:21:56.980Z"
   },
   {
    "duration": 24,
    "start_time": "2025-03-26T21:21:57.620Z"
   },
   {
    "duration": 28,
    "start_time": "2025-03-26T21:21:58.023Z"
   },
   {
    "duration": 16,
    "start_time": "2025-03-26T21:21:58.478Z"
   },
   {
    "duration": 13,
    "start_time": "2025-03-26T21:21:58.871Z"
   },
   {
    "duration": 6,
    "start_time": "2025-03-26T21:21:59.359Z"
   },
   {
    "duration": 80,
    "start_time": "2025-03-26T21:22:07.544Z"
   },
   {
    "duration": 51,
    "start_time": "2025-03-26T21:44:59.413Z"
   },
   {
    "duration": 324,
    "start_time": "2025-03-26T21:56:56.125Z"
   },
   {
    "duration": 57,
    "start_time": "2025-03-26T21:57:02.361Z"
   },
   {
    "duration": 43,
    "start_time": "2025-03-26T21:57:33.084Z"
   },
   {
    "duration": 317,
    "start_time": "2025-03-26T22:00:13.064Z"
   },
   {
    "duration": 319,
    "start_time": "2025-03-26T22:01:20.639Z"
   },
   {
    "duration": 120,
    "start_time": "2025-03-26T22:01:21.028Z"
   },
   {
    "duration": 39,
    "start_time": "2025-03-26T22:01:21.204Z"
   },
   {
    "duration": 116,
    "start_time": "2025-03-26T22:01:21.672Z"
   },
   {
    "duration": 110,
    "start_time": "2025-03-26T22:01:21.841Z"
   },
   {
    "duration": 2,
    "start_time": "2025-03-26T22:01:36.499Z"
   },
   {
    "duration": 165,
    "start_time": "2025-03-26T22:01:36.868Z"
   },
   {
    "duration": 24,
    "start_time": "2025-03-26T22:01:37.479Z"
   },
   {
    "duration": 8,
    "start_time": "2025-03-26T22:01:37.676Z"
   },
   {
    "duration": 8,
    "start_time": "2025-03-26T22:01:38.286Z"
   },
   {
    "duration": 10,
    "start_time": "2025-03-26T22:01:38.655Z"
   },
   {
    "duration": 18,
    "start_time": "2025-03-26T22:01:39.058Z"
   },
   {
    "duration": 9,
    "start_time": "2025-03-26T22:01:39.222Z"
   },
   {
    "duration": 12,
    "start_time": "2025-03-26T22:01:39.986Z"
   },
   {
    "duration": 10,
    "start_time": "2025-03-26T22:01:40.389Z"
   },
   {
    "duration": 28,
    "start_time": "2025-03-26T22:01:40.778Z"
   },
   {
    "duration": 6,
    "start_time": "2025-03-26T22:01:40.962Z"
   },
   {
    "duration": 26,
    "start_time": "2025-03-26T22:01:41.582Z"
   },
   {
    "duration": 20,
    "start_time": "2025-03-26T22:01:42.013Z"
   },
   {
    "duration": 19,
    "start_time": "2025-03-26T22:01:42.354Z"
   },
   {
    "duration": 6,
    "start_time": "2025-03-26T22:01:42.593Z"
   },
   {
    "duration": 19,
    "start_time": "2025-03-26T22:01:43.159Z"
   },
   {
    "duration": 11,
    "start_time": "2025-03-26T22:01:43.550Z"
   },
   {
    "duration": 25,
    "start_time": "2025-03-26T22:01:43.938Z"
   },
   {
    "duration": 6,
    "start_time": "2025-03-26T22:01:44.121Z"
   },
   {
    "duration": 21,
    "start_time": "2025-03-26T22:01:44.714Z"
   },
   {
    "duration": 17,
    "start_time": "2025-03-26T22:01:45.160Z"
   },
   {
    "duration": 5,
    "start_time": "2025-03-26T22:01:45.606Z"
   },
   {
    "duration": 34,
    "start_time": "2025-03-26T22:01:46.199Z"
   },
   {
    "duration": 27,
    "start_time": "2025-03-26T22:01:46.383Z"
   },
   {
    "duration": 18,
    "start_time": "2025-03-26T22:01:46.583Z"
   },
   {
    "duration": 23,
    "start_time": "2025-03-26T22:01:47.295Z"
   },
   {
    "duration": 15,
    "start_time": "2025-03-26T22:01:47.506Z"
   },
   {
    "duration": 13,
    "start_time": "2025-03-26T22:01:47.888Z"
   },
   {
    "duration": 8,
    "start_time": "2025-03-26T22:01:48.382Z"
   },
   {
    "duration": 70,
    "start_time": "2025-03-26T22:01:48.868Z"
   },
   {
    "duration": 61,
    "start_time": "2025-03-26T22:01:49.863Z"
   },
   {
    "duration": 349,
    "start_time": "2025-03-26T22:01:52.375Z"
   },
   {
    "duration": 362,
    "start_time": "2025-03-26T22:01:57.893Z"
   },
   {
    "duration": 9,
    "start_time": "2025-03-26T22:04:39.018Z"
   },
   {
    "duration": 231,
    "start_time": "2025-03-26T22:08:05.480Z"
   },
   {
    "duration": 317,
    "start_time": "2025-03-26T22:12:21.574Z"
   },
   {
    "duration": 366,
    "start_time": "2025-03-26T22:14:04.683Z"
   },
   {
    "duration": 12,
    "start_time": "2025-03-26T22:25:27.446Z"
   },
   {
    "duration": 247,
    "start_time": "2025-03-26T22:25:54.823Z"
   },
   {
    "duration": 10,
    "start_time": "2025-03-26T22:42:21.330Z"
   },
   {
    "duration": 9,
    "start_time": "2025-03-26T22:43:49.143Z"
   },
   {
    "duration": 9,
    "start_time": "2025-03-26T22:53:54.197Z"
   },
   {
    "duration": 10,
    "start_time": "2025-03-26T23:06:59.246Z"
   },
   {
    "duration": 2744,
    "start_time": "2025-03-27T01:59:20.734Z"
   },
   {
    "duration": 252,
    "start_time": "2025-03-27T01:59:27.881Z"
   },
   {
    "duration": 28,
    "start_time": "2025-03-27T01:59:29.428Z"
   },
   {
    "duration": 8,
    "start_time": "2025-03-27T01:59:29.820Z"
   },
   {
    "duration": 10,
    "start_time": "2025-03-27T01:59:31.282Z"
   },
   {
    "duration": 12,
    "start_time": "2025-03-27T01:59:32.316Z"
   },
   {
    "duration": 20,
    "start_time": "2025-03-27T01:59:33.354Z"
   },
   {
    "duration": 9,
    "start_time": "2025-03-27T01:59:33.862Z"
   },
   {
    "duration": 14,
    "start_time": "2025-03-27T01:59:35.296Z"
   },
   {
    "duration": 15,
    "start_time": "2025-03-27T01:59:36.322Z"
   },
   {
    "duration": 35,
    "start_time": "2025-03-27T01:59:37.485Z"
   },
   {
    "duration": 6,
    "start_time": "2025-03-27T01:59:37.990Z"
   },
   {
    "duration": 32,
    "start_time": "2025-03-27T01:59:43.146Z"
   },
   {
    "duration": 22,
    "start_time": "2025-03-27T01:59:43.846Z"
   },
   {
    "duration": 20,
    "start_time": "2025-03-27T01:59:44.962Z"
   },
   {
    "duration": 8,
    "start_time": "2025-03-27T01:59:45.622Z"
   },
   {
    "duration": 21,
    "start_time": "2025-03-27T01:59:47.534Z"
   },
   {
    "duration": 16,
    "start_time": "2025-03-27T01:59:48.844Z"
   },
   {
    "duration": 31,
    "start_time": "2025-03-27T01:59:49.999Z"
   },
   {
    "duration": 11,
    "start_time": "2025-03-27T01:59:50.408Z"
   },
   {
    "duration": 34,
    "start_time": "2025-03-27T01:59:52.166Z"
   },
   {
    "duration": 19,
    "start_time": "2025-03-27T01:59:52.990Z"
   },
   {
    "duration": 14,
    "start_time": "2025-03-27T01:59:53.746Z"
   },
   {
    "duration": 72,
    "start_time": "2025-03-27T01:59:54.613Z"
   },
   {
    "duration": 41,
    "start_time": "2025-03-27T01:59:55.024Z"
   },
   {
    "duration": 26,
    "start_time": "2025-03-27T01:59:55.637Z"
   },
   {
    "duration": 23,
    "start_time": "2025-03-27T01:59:56.173Z"
   },
   {
    "duration": 15,
    "start_time": "2025-03-27T01:59:56.680Z"
   },
   {
    "duration": 15,
    "start_time": "2025-03-27T01:59:57.246Z"
   },
   {
    "duration": 6,
    "start_time": "2025-03-27T01:59:57.762Z"
   },
   {
    "duration": 80,
    "start_time": "2025-03-27T01:59:58.329Z"
   },
   {
    "duration": 64,
    "start_time": "2025-03-27T01:59:59.635Z"
   },
   {
    "duration": 385,
    "start_time": "2025-03-27T02:00:01.179Z"
   },
   {
    "duration": 350,
    "start_time": "2025-03-27T02:00:01.895Z"
   },
   {
    "duration": 11,
    "start_time": "2025-03-27T02:00:02.639Z"
   },
   {
    "duration": 279,
    "start_time": "2025-03-27T02:00:03.383Z"
   },
   {
    "duration": 384,
    "start_time": "2025-03-27T02:00:05.368Z"
   },
   {
    "duration": 367,
    "start_time": "2025-03-27T02:00:05.889Z"
   },
   {
    "duration": 13,
    "start_time": "2025-03-27T02:00:08.592Z"
   },
   {
    "duration": 272,
    "start_time": "2025-03-27T02:00:09.704Z"
   },
   {
    "duration": 11,
    "start_time": "2025-03-27T02:00:14.137Z"
   },
   {
    "duration": 10,
    "start_time": "2025-03-27T02:00:15.713Z"
   },
   {
    "duration": 6,
    "start_time": "2025-03-27T19:45:04.378Z"
   },
   {
    "duration": 2216,
    "start_time": "2025-03-27T19:47:46.911Z"
   },
   {
    "duration": 224,
    "start_time": "2025-03-27T19:47:56.007Z"
   },
   {
    "duration": 28,
    "start_time": "2025-03-27T19:48:01.333Z"
   },
   {
    "duration": 7,
    "start_time": "2025-03-27T19:48:04.906Z"
   },
   {
    "duration": 10,
    "start_time": "2025-03-27T19:48:06.908Z"
   },
   {
    "duration": 9,
    "start_time": "2025-03-27T19:48:15.903Z"
   },
   {
    "duration": 17,
    "start_time": "2025-03-27T19:48:20.037Z"
   },
   {
    "duration": 9,
    "start_time": "2025-03-27T19:48:20.976Z"
   },
   {
    "duration": 13,
    "start_time": "2025-03-27T19:51:35.944Z"
   },
   {
    "duration": 6,
    "start_time": "2025-03-27T19:52:25.395Z"
   },
   {
    "duration": 2,
    "start_time": "2025-03-27T19:53:02.202Z"
   },
   {
    "duration": 159,
    "start_time": "2025-03-27T19:53:03.655Z"
   },
   {
    "duration": 31,
    "start_time": "2025-03-27T19:53:04.971Z"
   },
   {
    "duration": 8,
    "start_time": "2025-03-27T19:53:05.499Z"
   },
   {
    "duration": 8,
    "start_time": "2025-03-27T19:53:07.436Z"
   },
   {
    "duration": 9,
    "start_time": "2025-03-27T19:53:09.107Z"
   },
   {
    "duration": 17,
    "start_time": "2025-03-27T19:53:15.029Z"
   },
   {
    "duration": 8,
    "start_time": "2025-03-27T19:53:16.122Z"
   },
   {
    "duration": 12,
    "start_time": "2025-03-27T19:53:21.892Z"
   },
   {
    "duration": 10,
    "start_time": "2025-03-27T19:53:31.404Z"
   },
   {
    "duration": 30,
    "start_time": "2025-03-27T19:53:32.772Z"
   },
   {
    "duration": 9,
    "start_time": "2025-03-27T19:53:36.507Z"
   },
   {
    "duration": 26,
    "start_time": "2025-03-27T19:53:39.632Z"
   },
   {
    "duration": 22,
    "start_time": "2025-03-27T19:59:47.427Z"
   },
   {
    "duration": 15,
    "start_time": "2025-03-27T20:00:13.209Z"
   },
   {
    "duration": 53,
    "start_time": "2025-03-27T20:01:16.960Z"
   },
   {
    "duration": 29,
    "start_time": "2025-03-27T20:01:34.703Z"
   },
   {
    "duration": 12,
    "start_time": "2025-03-27T20:03:01.310Z"
   },
   {
    "duration": 20,
    "start_time": "2025-03-27T20:03:05.281Z"
   },
   {
    "duration": 19,
    "start_time": "2025-03-27T20:10:47.351Z"
   },
   {
    "duration": 17,
    "start_time": "2025-03-27T20:11:07.212Z"
   },
   {
    "duration": 13,
    "start_time": "2025-03-27T20:11:21.757Z"
   },
   {
    "duration": 25,
    "start_time": "2025-03-27T20:11:23.143Z"
   },
   {
    "duration": 7,
    "start_time": "2025-03-27T20:11:26.765Z"
   },
   {
    "duration": 22,
    "start_time": "2025-03-27T20:11:38.280Z"
   },
   {
    "duration": 16,
    "start_time": "2025-03-27T20:18:25.989Z"
   },
   {
    "duration": 5,
    "start_time": "2025-03-27T20:18:28.677Z"
   },
   {
    "duration": 40,
    "start_time": "2025-03-27T20:18:31.051Z"
   },
   {
    "duration": 39,
    "start_time": "2025-03-27T20:24:17.354Z"
   },
   {
    "duration": 18,
    "start_time": "2025-03-27T20:52:46.773Z"
   },
   {
    "duration": 19,
    "start_time": "2025-03-27T20:54:09.119Z"
   },
   {
    "duration": 17,
    "start_time": "2025-03-27T20:55:51.068Z"
   },
   {
    "duration": 15,
    "start_time": "2025-03-27T21:01:52.822Z"
   },
   {
    "duration": 16,
    "start_time": "2025-03-27T21:02:20.369Z"
   },
   {
    "duration": 33,
    "start_time": "2025-03-27T21:03:03.131Z"
   },
   {
    "duration": 37,
    "start_time": "2025-03-27T21:04:13.329Z"
   },
   {
    "duration": 24,
    "start_time": "2025-03-27T21:06:11.760Z"
   },
   {
    "duration": 24,
    "start_time": "2025-03-27T21:06:51.600Z"
   },
   {
    "duration": 19,
    "start_time": "2025-03-27T21:07:45.682Z"
   },
   {
    "duration": 20,
    "start_time": "2025-03-27T21:10:38.984Z"
   },
   {
    "duration": 535,
    "start_time": "2025-03-27T21:13:37.454Z"
   },
   {
    "duration": 3,
    "start_time": "2025-03-27T21:15:26.632Z"
   },
   {
    "duration": 18,
    "start_time": "2025-03-27T21:16:57.419Z"
   },
   {
    "duration": 4,
    "start_time": "2025-03-27T21:17:41.770Z"
   },
   {
    "duration": 18,
    "start_time": "2025-03-27T21:17:46.477Z"
   },
   {
    "duration": 3,
    "start_time": "2025-03-27T21:18:41.075Z"
   },
   {
    "duration": 170,
    "start_time": "2025-03-27T21:18:41.661Z"
   },
   {
    "duration": 26,
    "start_time": "2025-03-27T21:18:42.135Z"
   },
   {
    "duration": 8,
    "start_time": "2025-03-27T21:18:42.335Z"
   },
   {
    "duration": 8,
    "start_time": "2025-03-27T21:18:42.900Z"
   },
   {
    "duration": 9,
    "start_time": "2025-03-27T21:18:43.436Z"
   },
   {
    "duration": 17,
    "start_time": "2025-03-27T21:18:43.861Z"
   },
   {
    "duration": 10,
    "start_time": "2025-03-27T21:18:44.008Z"
   },
   {
    "duration": 14,
    "start_time": "2025-03-27T21:18:44.580Z"
   },
   {
    "duration": 12,
    "start_time": "2025-03-27T21:18:45.146Z"
   },
   {
    "duration": 29,
    "start_time": "2025-03-27T21:18:45.529Z"
   },
   {
    "duration": 9,
    "start_time": "2025-03-27T21:18:45.735Z"
   },
   {
    "duration": 22,
    "start_time": "2025-03-27T21:18:46.425Z"
   },
   {
    "duration": 18,
    "start_time": "2025-03-27T21:18:46.929Z"
   },
   {
    "duration": 24,
    "start_time": "2025-03-27T21:18:47.108Z"
   },
   {
    "duration": 21,
    "start_time": "2025-03-27T21:18:48.050Z"
   },
   {
    "duration": 7,
    "start_time": "2025-03-27T21:18:48.280Z"
   },
   {
    "duration": 26,
    "start_time": "2025-03-27T21:18:49.103Z"
   },
   {
    "duration": 12,
    "start_time": "2025-03-27T21:18:49.877Z"
   },
   {
    "duration": 27,
    "start_time": "2025-03-27T21:18:50.571Z"
   },
   {
    "duration": 8,
    "start_time": "2025-03-27T21:18:50.768Z"
   },
   {
    "duration": 24,
    "start_time": "2025-03-27T21:18:51.574Z"
   },
   {
    "duration": 23,
    "start_time": "2025-03-27T21:18:52.379Z"
   },
   {
    "duration": 6,
    "start_time": "2025-03-27T21:18:53.328Z"
   },
   {
    "duration": 51,
    "start_time": "2025-03-27T21:18:54.644Z"
   },
   {
    "duration": 25,
    "start_time": "2025-03-27T21:18:57.649Z"
   },
   {
    "duration": 28,
    "start_time": "2025-03-27T21:18:58.333Z"
   },
   {
    "duration": 29,
    "start_time": "2025-03-27T21:18:59.204Z"
   },
   {
    "duration": 18,
    "start_time": "2025-03-27T21:19:00.041Z"
   },
   {
    "duration": 14,
    "start_time": "2025-03-27T21:19:01.970Z"
   },
   {
    "duration": 4,
    "start_time": "2025-03-27T21:19:10.309Z"
   },
   {
    "duration": 382,
    "start_time": "2025-03-27T21:39:26.439Z"
   },
   {
    "duration": 7,
    "start_time": "2025-03-27T21:41:29.005Z"
   },
   {
    "duration": 156,
    "start_time": "2025-03-27T21:41:29.528Z"
   },
   {
    "duration": 33,
    "start_time": "2025-03-27T21:41:30.008Z"
   },
   {
    "duration": 9,
    "start_time": "2025-03-27T21:41:30.193Z"
   },
   {
    "duration": 9,
    "start_time": "2025-03-27T21:41:30.770Z"
   },
   {
    "duration": 11,
    "start_time": "2025-03-27T21:41:31.315Z"
   },
   {
    "duration": 19,
    "start_time": "2025-03-27T21:41:31.690Z"
   },
   {
    "duration": 10,
    "start_time": "2025-03-27T21:41:31.944Z"
   },
   {
    "duration": 13,
    "start_time": "2025-03-27T21:41:32.456Z"
   },
   {
    "duration": 10,
    "start_time": "2025-03-27T21:41:33.272Z"
   },
   {
    "duration": 41,
    "start_time": "2025-03-27T21:41:33.797Z"
   },
   {
    "duration": 6,
    "start_time": "2025-03-27T21:41:34.357Z"
   },
   {
    "duration": 25,
    "start_time": "2025-03-27T21:41:35.390Z"
   },
   {
    "duration": 15,
    "start_time": "2025-03-27T21:41:35.917Z"
   },
   {
    "duration": 22,
    "start_time": "2025-03-27T21:41:36.147Z"
   },
   {
    "duration": 26,
    "start_time": "2025-03-27T21:41:37.110Z"
   },
   {
    "duration": 12,
    "start_time": "2025-03-27T21:41:37.319Z"
   },
   {
    "duration": 28,
    "start_time": "2025-03-27T21:41:38.413Z"
   },
   {
    "duration": 12,
    "start_time": "2025-03-27T21:41:39.096Z"
   },
   {
    "duration": 39,
    "start_time": "2025-03-27T21:41:39.681Z"
   },
   {
    "duration": 8,
    "start_time": "2025-03-27T21:41:40.053Z"
   },
   {
    "duration": 22,
    "start_time": "2025-03-27T21:41:40.964Z"
   },
   {
    "duration": 19,
    "start_time": "2025-03-27T21:41:41.447Z"
   },
   {
    "duration": 4,
    "start_time": "2025-03-27T21:41:42.169Z"
   },
   {
    "duration": 43,
    "start_time": "2025-03-27T21:41:42.840Z"
   },
   {
    "duration": 33,
    "start_time": "2025-03-27T21:41:44.224Z"
   },
   {
    "duration": 29,
    "start_time": "2025-03-27T21:41:45.106Z"
   },
   {
    "duration": 31,
    "start_time": "2025-03-27T21:41:45.903Z"
   },
   {
    "duration": 17,
    "start_time": "2025-03-27T21:41:46.359Z"
   },
   {
    "duration": 14,
    "start_time": "2025-03-27T21:41:48.574Z"
   },
   {
    "duration": 4,
    "start_time": "2025-03-27T21:41:53.663Z"
   },
   {
    "duration": 368,
    "start_time": "2025-03-27T21:42:01.230Z"
   },
   {
    "duration": 378,
    "start_time": "2025-03-27T21:43:07.597Z"
   },
   {
    "duration": 12,
    "start_time": "2025-03-27T21:44:06.198Z"
   },
   {
    "duration": 128,
    "start_time": "2025-03-27T21:45:19.418Z"
   },
   {
    "duration": 356,
    "start_time": "2025-03-27T21:57:11.941Z"
   },
   {
    "duration": 305,
    "start_time": "2025-03-27T22:01:24.917Z"
   },
   {
    "duration": 244,
    "start_time": "2025-03-27T22:11:40.628Z"
   },
   {
    "duration": 122,
    "start_time": "2025-03-27T22:13:28.757Z"
   },
   {
    "duration": 6,
    "start_time": "2025-03-27T22:14:07.545Z"
   },
   {
    "duration": 153,
    "start_time": "2025-03-27T22:14:08.190Z"
   },
   {
    "duration": 29,
    "start_time": "2025-03-27T22:14:08.716Z"
   },
   {
    "duration": 7,
    "start_time": "2025-03-27T22:14:08.862Z"
   },
   {
    "duration": 10,
    "start_time": "2025-03-27T22:14:09.443Z"
   },
   {
    "duration": 13,
    "start_time": "2025-03-27T22:14:10.009Z"
   },
   {
    "duration": 22,
    "start_time": "2025-03-27T22:14:10.403Z"
   },
   {
    "duration": 8,
    "start_time": "2025-03-27T22:14:10.565Z"
   },
   {
    "duration": 15,
    "start_time": "2025-03-27T22:14:11.142Z"
   },
   {
    "duration": 12,
    "start_time": "2025-03-27T22:14:11.701Z"
   },
   {
    "duration": 28,
    "start_time": "2025-03-27T22:14:12.173Z"
   },
   {
    "duration": 7,
    "start_time": "2025-03-27T22:14:12.370Z"
   },
   {
    "duration": 31,
    "start_time": "2025-03-27T22:14:12.826Z"
   },
   {
    "duration": 25,
    "start_time": "2025-03-27T22:14:13.214Z"
   },
   {
    "duration": 34,
    "start_time": "2025-03-27T22:14:13.415Z"
   },
   {
    "duration": 26,
    "start_time": "2025-03-27T22:14:14.339Z"
   },
   {
    "duration": 7,
    "start_time": "2025-03-27T22:14:14.560Z"
   },
   {
    "duration": 24,
    "start_time": "2025-03-27T22:14:15.200Z"
   },
   {
    "duration": 14,
    "start_time": "2025-03-27T22:14:15.534Z"
   },
   {
    "duration": 30,
    "start_time": "2025-03-27T22:14:15.950Z"
   },
   {
    "duration": 11,
    "start_time": "2025-03-27T22:14:16.074Z"
   },
   {
    "duration": 24,
    "start_time": "2025-03-27T22:14:16.966Z"
   },
   {
    "duration": 21,
    "start_time": "2025-03-27T22:14:17.444Z"
   },
   {
    "duration": 5,
    "start_time": "2025-03-27T22:14:17.956Z"
   },
   {
    "duration": 42,
    "start_time": "2025-03-27T22:14:18.848Z"
   },
   {
    "duration": 35,
    "start_time": "2025-03-27T22:14:19.808Z"
   },
   {
    "duration": 25,
    "start_time": "2025-03-27T22:14:20.402Z"
   },
   {
    "duration": 23,
    "start_time": "2025-03-27T22:14:20.788Z"
   },
   {
    "duration": 18,
    "start_time": "2025-03-27T22:14:21.163Z"
   },
   {
    "duration": 16,
    "start_time": "2025-03-27T22:14:21.535Z"
   },
   {
    "duration": 5,
    "start_time": "2025-03-27T22:14:23.416Z"
   },
   {
    "duration": 346,
    "start_time": "2025-03-27T22:14:28.087Z"
   },
   {
    "duration": 379,
    "start_time": "2025-03-27T22:14:28.782Z"
   },
   {
    "duration": 10,
    "start_time": "2025-03-27T22:14:30.110Z"
   },
   {
    "duration": 107,
    "start_time": "2025-03-27T22:14:31.552Z"
   },
   {
    "duration": 350,
    "start_time": "2025-03-27T22:14:38.013Z"
   },
   {
    "duration": 356,
    "start_time": "2025-03-27T22:14:40.897Z"
   },
   {
    "duration": 7,
    "start_time": "2025-03-27T22:16:20.320Z"
   },
   {
    "duration": 83,
    "start_time": "2025-03-27T22:16:22.580Z"
   },
   {
    "duration": 6,
    "start_time": "2025-03-27T22:17:48.510Z"
   },
   {
    "duration": 147,
    "start_time": "2025-03-27T22:18:03.732Z"
   },
   {
    "duration": 5,
    "start_time": "2025-03-27T22:18:07.402Z"
   },
   {
    "duration": 70,
    "start_time": "2025-03-27T22:18:09.245Z"
   },
   {
    "duration": 2,
    "start_time": "2025-03-27T22:18:28.261Z"
   },
   {
    "duration": 165,
    "start_time": "2025-03-27T22:18:28.752Z"
   },
   {
    "duration": 24,
    "start_time": "2025-03-27T22:18:29.326Z"
   },
   {
    "duration": 7,
    "start_time": "2025-03-27T22:18:29.532Z"
   },
   {
    "duration": 8,
    "start_time": "2025-03-27T22:18:30.055Z"
   },
   {
    "duration": 8,
    "start_time": "2025-03-27T22:18:30.581Z"
   },
   {
    "duration": 17,
    "start_time": "2025-03-27T22:18:30.910Z"
   },
   {
    "duration": 8,
    "start_time": "2025-03-27T22:18:31.084Z"
   },
   {
    "duration": 18,
    "start_time": "2025-03-27T22:18:31.640Z"
   },
   {
    "duration": 10,
    "start_time": "2025-03-27T22:18:32.206Z"
   },
   {
    "duration": 39,
    "start_time": "2025-03-27T22:18:32.583Z"
   },
   {
    "duration": 9,
    "start_time": "2025-03-27T22:18:32.809Z"
   },
   {
    "duration": 22,
    "start_time": "2025-03-27T22:18:33.614Z"
   },
   {
    "duration": 13,
    "start_time": "2025-03-27T22:18:34.031Z"
   },
   {
    "duration": 21,
    "start_time": "2025-03-27T22:18:34.238Z"
   },
   {
    "duration": 18,
    "start_time": "2025-03-27T22:18:35.060Z"
   },
   {
    "duration": 10,
    "start_time": "2025-03-27T22:18:35.270Z"
   },
   {
    "duration": 19,
    "start_time": "2025-03-27T22:18:35.976Z"
   },
   {
    "duration": 15,
    "start_time": "2025-03-27T22:18:36.540Z"
   },
   {
    "duration": 33,
    "start_time": "2025-03-27T22:18:37.014Z"
   },
   {
    "duration": 8,
    "start_time": "2025-03-27T22:18:37.262Z"
   },
   {
    "duration": 28,
    "start_time": "2025-03-27T22:18:38.075Z"
   },
   {
    "duration": 20,
    "start_time": "2025-03-27T22:18:38.458Z"
   },
   {
    "duration": 5,
    "start_time": "2025-03-27T22:18:39.086Z"
   },
   {
    "duration": 41,
    "start_time": "2025-03-27T22:18:39.500Z"
   },
   {
    "duration": 33,
    "start_time": "2025-03-27T22:18:40.343Z"
   },
   {
    "duration": 21,
    "start_time": "2025-03-27T22:18:40.527Z"
   },
   {
    "duration": 32,
    "start_time": "2025-03-27T22:18:40.706Z"
   },
   {
    "duration": 19,
    "start_time": "2025-03-27T22:18:40.892Z"
   },
   {
    "duration": 16,
    "start_time": "2025-03-27T22:18:41.101Z"
   },
   {
    "duration": 4,
    "start_time": "2025-03-27T22:18:42.107Z"
   },
   {
    "duration": 353,
    "start_time": "2025-03-27T22:18:42.860Z"
   },
   {
    "duration": 401,
    "start_time": "2025-03-27T22:18:43.215Z"
   },
   {
    "duration": 10,
    "start_time": "2025-03-27T22:18:43.618Z"
   },
   {
    "duration": 101,
    "start_time": "2025-03-27T22:18:44.574Z"
   },
   {
    "duration": 298,
    "start_time": "2025-03-27T22:18:46.726Z"
   },
   {
    "duration": 327,
    "start_time": "2025-03-27T22:18:48.257Z"
   },
   {
    "duration": 6,
    "start_time": "2025-03-27T22:19:23.030Z"
   },
   {
    "duration": 50,
    "start_time": "2025-03-27T22:19:41.902Z"
   },
   {
    "duration": 4,
    "start_time": "2025-03-27T22:21:00.413Z"
   },
   {
    "duration": 48,
    "start_time": "2025-03-27T22:21:07.400Z"
   },
   {
    "duration": 5,
    "start_time": "2025-03-27T22:22:20.258Z"
   },
   {
    "duration": 52,
    "start_time": "2025-03-27T22:22:22.570Z"
   },
   {
    "duration": 6,
    "start_time": "2025-03-27T22:23:37.789Z"
   },
   {
    "duration": 217,
    "start_time": "2025-03-27T22:23:39.241Z"
   },
   {
    "duration": 17,
    "start_time": "2025-03-27T22:25:24.143Z"
   },
   {
    "duration": 13,
    "start_time": "2025-03-27T22:27:43.679Z"
   },
   {
    "duration": 300,
    "start_time": "2025-03-27T22:28:47.292Z"
   },
   {
    "duration": 15,
    "start_time": "2025-03-27T22:28:48.491Z"
   },
   {
    "duration": 396,
    "start_time": "2025-03-27T22:38:43.056Z"
   },
   {
    "duration": 252,
    "start_time": "2025-03-27T22:40:03.984Z"
   },
   {
    "duration": 10,
    "start_time": "2025-03-27T22:41:17.141Z"
   },
   {
    "duration": 21,
    "start_time": "2025-03-27T22:41:21.472Z"
   },
   {
    "duration": 3,
    "start_time": "2025-03-27T22:44:34.724Z"
   },
   {
    "duration": 161,
    "start_time": "2025-03-27T22:44:35.292Z"
   },
   {
    "duration": 25,
    "start_time": "2025-03-27T22:44:35.911Z"
   },
   {
    "duration": 8,
    "start_time": "2025-03-27T22:44:36.113Z"
   },
   {
    "duration": 8,
    "start_time": "2025-03-27T22:44:36.726Z"
   },
   {
    "duration": 9,
    "start_time": "2025-03-27T22:44:37.326Z"
   },
   {
    "duration": 17,
    "start_time": "2025-03-27T22:44:37.690Z"
   },
   {
    "duration": 7,
    "start_time": "2025-03-27T22:44:37.855Z"
   },
   {
    "duration": 12,
    "start_time": "2025-03-27T22:44:38.626Z"
   },
   {
    "duration": 10,
    "start_time": "2025-03-27T22:44:39.115Z"
   },
   {
    "duration": 28,
    "start_time": "2025-03-27T22:44:39.516Z"
   },
   {
    "duration": 9,
    "start_time": "2025-03-27T22:44:39.706Z"
   },
   {
    "duration": 19,
    "start_time": "2025-03-27T22:44:40.357Z"
   },
   {
    "duration": 11,
    "start_time": "2025-03-27T22:44:40.745Z"
   },
   {
    "duration": 21,
    "start_time": "2025-03-27T22:44:40.955Z"
   },
   {
    "duration": 18,
    "start_time": "2025-03-27T22:44:42.115Z"
   },
   {
    "duration": 6,
    "start_time": "2025-03-27T22:44:42.309Z"
   },
   {
    "duration": 21,
    "start_time": "2025-03-27T22:44:42.925Z"
   },
   {
    "duration": 11,
    "start_time": "2025-03-27T22:44:43.342Z"
   },
   {
    "duration": 26,
    "start_time": "2025-03-27T22:44:43.713Z"
   },
   {
    "duration": 7,
    "start_time": "2025-03-27T22:44:43.964Z"
   },
   {
    "duration": 22,
    "start_time": "2025-03-27T22:44:44.588Z"
   },
   {
    "duration": 19,
    "start_time": "2025-03-27T22:44:45.067Z"
   },
   {
    "duration": 5,
    "start_time": "2025-03-27T22:44:45.458Z"
   },
   {
    "duration": 40,
    "start_time": "2025-03-27T22:44:45.919Z"
   },
   {
    "duration": 25,
    "start_time": "2025-03-27T22:44:46.401Z"
   },
   {
    "duration": 18,
    "start_time": "2025-03-27T22:44:46.623Z"
   },
   {
    "duration": 21,
    "start_time": "2025-03-27T22:44:46.833Z"
   },
   {
    "duration": 17,
    "start_time": "2025-03-27T22:44:47.082Z"
   },
   {
    "duration": 14,
    "start_time": "2025-03-27T22:44:47.926Z"
   },
   {
    "duration": 4,
    "start_time": "2025-03-27T22:44:48.834Z"
   },
   {
    "duration": 312,
    "start_time": "2025-03-27T22:44:49.858Z"
   },
   {
    "duration": 466,
    "start_time": "2025-03-27T22:44:50.285Z"
   },
   {
    "duration": 9,
    "start_time": "2025-03-27T22:44:50.753Z"
   },
   {
    "duration": 99,
    "start_time": "2025-03-27T22:44:50.776Z"
   },
   {
    "duration": 309,
    "start_time": "2025-03-27T22:44:51.650Z"
   },
   {
    "duration": 317,
    "start_time": "2025-03-27T22:44:51.996Z"
   },
   {
    "duration": 6,
    "start_time": "2025-03-27T22:44:53.665Z"
   },
   {
    "duration": 217,
    "start_time": "2025-03-27T22:44:54.300Z"
   },
   {
    "duration": 15,
    "start_time": "2025-03-27T22:44:54.786Z"
   },
   {
    "duration": 12,
    "start_time": "2025-03-27T22:44:55.573Z"
   },
   {
    "duration": 296,
    "start_time": "2025-03-27T22:44:56.656Z"
   },
   {
    "duration": 17,
    "start_time": "2025-03-27T22:44:57.379Z"
   },
   {
    "duration": 8,
    "start_time": "2025-03-27T22:45:00.405Z"
   },
   {
    "duration": 8,
    "start_time": "2025-03-27T22:45:04.953Z"
   },
   {
    "duration": 15,
    "start_time": "2025-03-27T22:45:06.142Z"
   },
   {
    "duration": 5,
    "start_time": "2025-03-27T22:52:52.950Z"
   },
   {
    "duration": 4,
    "start_time": "2025-03-27T22:53:24.517Z"
   }
  ],
  "colab": {
   "provenance": []
  },
  "kernelspec": {
   "display_name": "Python 3 (ipykernel)",
   "language": "python",
   "name": "python3"
  },
  "language_info": {
   "codemirror_mode": {
    "name": "ipython",
    "version": 3
   },
   "file_extension": ".py",
   "mimetype": "text/x-python",
   "name": "python",
   "nbconvert_exporter": "python",
   "pygments_lexer": "ipython3",
   "version": "3.9.19"
  },
  "toc": {
   "base_numbering": 1,
   "nav_menu": {},
   "number_sections": true,
   "sideBar": true,
   "skip_h1_title": false,
   "title_cell": "Table of Contents",
   "title_sidebar": "Contents",
   "toc_cell": false,
   "toc_position": {
    "height": "calc(100% - 180px)",
    "left": "10px",
    "top": "150px",
    "width": "227.125px"
   },
   "toc_section_display": true,
   "toc_window_display": true
  }
 },
 "nbformat": 4,
 "nbformat_minor": 1
}
